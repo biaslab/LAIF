{
 "cells": [
  {
   "attachments": {},
   "cell_type": "markdown",
   "metadata": {},
   "source": [
    "# T-Maze Goal Learning"
   ]
  },
  {
   "cell_type": "code",
   "execution_count": null,
   "metadata": {},
   "outputs": [],
   "source": [
    "using Pkg\n",
    "Pkg.activate(\"..\")\n",
    "Pkg.instantiate()"
   ]
  },
  {
   "cell_type": "code",
   "execution_count": null,
   "metadata": {},
   "outputs": [],
   "source": [
    "using RxInfer, LinearAlgebra, Plots"
   ]
  },
  {
   "attachments": {},
   "cell_type": "markdown",
   "metadata": {},
   "source": [
    "## Generalized Agent"
   ]
  },
  {
   "cell_type": "code",
   "execution_count": null,
   "metadata": {},
   "outputs": [],
   "source": [
    "include(\"../goal_observation.jl\")\n",
    "\n",
    "# Define the generative model\n",
    "@model function t_maze_generalized(A, C_s, D, x)\n",
    "    u = datavar(Matrix{Int64}, 2) # Policy for evaluations\n",
    "    z = randomvar(2) # Latent states\n",
    "    c = randomvar(2) # Goal priors\n",
    "\n",
    "    z_0 ~ Categorical(D) # State prior\n",
    "\n",
    "    z_k_min = z_0\n",
    "    for k=1:2\n",
    "        z[k] ~ Transition(z_k_min, u[k])\n",
    "        c[k] ~ GoalObservation(z[k], A) where {\n",
    "            meta=GeneralizedMeta(x[k]), \n",
    "            pipeline=GeneralizedPipeline(vague(Categorical,8))} # With breaker message\n",
    "        c[k] ~ Dirichlet(C_s[k])\n",
    "\n",
    "        z_k_min = z[k] # Reset for next slice\n",
    "    end\n",
    "end\n",
    "\n",
    "# Define constraints on the variational density\n",
    "@constraints function structured()\n",
    "    q(z_0, z, c) = q(z_0, z)q(c)\n",
    "end"
   ]
  },
  {
   "attachments": {},
   "cell_type": "markdown",
   "metadata": {},
   "source": [
    "## Generalized Simulation"
   ]
  },
  {
   "cell_type": "code",
   "execution_count": null,
   "metadata": {},
   "outputs": [],
   "source": [
    "# Define experimental setting\n",
    "α = 0.9 # Reward probability\n",
    "S = 10 # Number of trials\n",
    "seed = 666 # Randomizer seed\n",
    "\n",
    "include(\"helpers.jl\")\n",
    "include(\"environment.jl\")\n",
    "include(\"goal_agent.jl\")\n",
    "\n",
    "(A, B, C, D) = constructABCD(α, 0.0)\n",
    "C_0 = constructGoalPriors() # Construct prior statistics for C's\n",
    "\n",
    "rs = generateGoalSequence(seed, S) # Sets random seed and returns reproducible goal sequence\n",
    "(reset, execute, observe) = initializeWorld(A, B, C, D, rs) # Let there be a world\n",
    "(infer, act) = initializeGoalAgent(A, B, C_0, D, # Let there be a constrained agent\n",
    "                                   t_maze_model=t_maze_generalized)\n",
    "\n",
    "# Step through the experimental protocol\n",
    "Cs = Vector{Vector}(undef, S) # Posterior statistics for C's\n",
    "Gs = [Vector{Matrix}(undef, 3) for s=1:S] # Free energy values per time\n",
    "as = [Vector{Int64}(undef, 2) for s=1:S] # Actions per time\n",
    "os = [Vector{Vector}(undef, 2) for s=1:S] # Observations (one-hot) per time\n",
    "for s = 1:S\n",
    "    reset(s) # Reset world\n",
    "    for t=1:2\n",
    "        (Gs[s][t], _) = infer(t, as[s], os[s])\n",
    "             as[s][t] = act(t, Gs[s][t])\n",
    "                        execute(as[s][t])\n",
    "             os[s][t] = observe()\n",
    "    end\n",
    "    (Gs[s][3], Cs[s]) = infer(3, as[s], os[s]) # Learn at t=3\n",
    "end\n",
    ";"
   ]
  },
  {
   "attachments": {},
   "cell_type": "markdown",
   "metadata": {},
   "source": [
    "## Results"
   ]
  },
  {
   "cell_type": "code",
   "execution_count": null,
   "metadata": {},
   "outputs": [],
   "source": [
    "include(\"visualizations.jl\")\n",
    "plotLearnedGoals(C_0, C, Gs, S)\n",
    "savefig(\"figures/GFE_C\")"
   ]
  }
 ],
 "metadata": {
  "kernelspec": {
   "display_name": "Julia 1.8.2",
   "language": "julia",
   "name": "julia-1.8"
  },
  "language_info": {
   "file_extension": ".jl",
   "mimetype": "application/julia",
   "name": "julia",
   "version": "1.8.2"
  }
 },
 "nbformat": 4,
 "nbformat_minor": 2
}
