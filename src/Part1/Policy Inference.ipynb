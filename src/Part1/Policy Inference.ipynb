{
 "cells": [
  {
   "cell_type": "code",
   "execution_count": null,
   "id": "d06d6350",
   "metadata": {},
   "outputs": [
    {
     "name": "stderr",
     "output_type": "stream",
     "text": [
      "\u001b[32m\u001b[1m  Activating\u001b[22m\u001b[39m project at `~/biaslab/repos/EpistemicMessagePassing`\n"
     ]
    }
   ],
   "source": [
    "using Pkg;Pkg.activate(\"../..\");Pkg.instantiate();\n",
    "using RxInfer,ReactiveMP,GraphPPL,Rocket, LinearAlgebra, Distributions, Random\n",
    "Random.seed!(666)"
   ]
  },
  {
   "cell_type": "code",
   "execution_count": null,
   "id": "5d731951",
   "metadata": {},
   "outputs": [],
   "source": [
    "# Load all the helpers\n",
    "include(\"transition_mixture/transition_mixture.jl\")\n",
    "include(\"transition_mixture/marginals.jl\")\n",
    "include(\"transition_mixture/in.jl\")\n",
    "include(\"transition_mixture/out.jl\")\n",
    "include(\"transition_mixture/switch.jl\")\n",
    "include(\"goal_observation.jl\")\n",
    "include(\"helpers.jl\")"
   ]
  },
  {
   "cell_type": "code",
   "execution_count": null,
   "id": "21614a0c",
   "metadata": {},
   "outputs": [],
   "source": [
    "# We need to make pointmass constraints for discrete vars by hand\n",
    "import RxInfer.default_point_mass_form_constraint_optimizer\n",
    "import RxInfer.PointMassFormConstraint\n",
    "\n",
    "function default_point_mass_form_constraint_optimizer(\n",
    "    ::Type{Univariate},\n",
    "    ::Type{Discrete},\n",
    "    constraint::PointMassFormConstraint,\n",
    "    distribution\n",
    ")\n",
    "\n",
    "    out = zeros( length(probvec(distribution)))\n",
    "    out[argmax(probvec(distribution))] = 1.\n",
    "\n",
    "    PointMass(out)\n",
    "end"
   ]
  },
  {
   "cell_type": "code",
   "execution_count": null,
   "id": "349bef1c",
   "metadata": {},
   "outputs": [],
   "source": [
    "# Create the model\n",
    "@model function t_maze(A,D,B1,B2,B3,B4,T)\n",
    "\n",
    "    z_0 ~ Categorical(D)\n",
    "\n",
    "    z = randomvar(T)\n",
    "    switch = randomvar(T)\n",
    "\n",
    "    c = datavar(Vector{Float64}, T)\n",
    "    z_prev = z_0\n",
    "\n",
    "    for t in 1:T\n",
    "        switch[t] ~ Categorical(fill(1. /4. ,4))\n",
    "        z[t] ~ TransitionMixture(z_prev,switch[t], B1,B2,B3,B4)\n",
    "        c[t] ~ GoalObservation(z[t], A) where {pipeline = GeneralizedPipeline(vague(Categorical, 8)) }\n",
    "        z_prev = z[t]\n",
    "    end\n",
    "end;"
   ]
  },
  {
   "cell_type": "code",
   "execution_count": null,
   "id": "b2dd120e",
   "metadata": {},
   "outputs": [],
   "source": [
    "#Pointmass constraints\n",
    "@constraints function pointmass_q()\n",
    "    q(switch) :: PointMass\n",
    "end\n",
    "\n",
    "# Node constraints\n",
    "@meta function t_maze_meta()\n",
    "    GoalObservation(c,z) -> GeneralizedMeta()\n",
    "end"
   ]
  },
  {
   "cell_type": "code",
   "execution_count": null,
   "id": "c8bcefdb",
   "metadata": {},
   "outputs": [],
   "source": [
    "# Configure experiment\n",
    "T =2; # Planning horizon\n",
    "its = 10; #Number of inference iterations to run\n",
    "initmarginals = ( z = [Categorical(fill(1. /8. ,8)) for t in 1:T], ) # Initial marginals\n",
    "\n",
    "A,B,C,D = constructABCD(0.9,[2.0 for t in 1:T],T); # Generate the matrices we need"
   ]
  },
  {
   "cell_type": "code",
   "execution_count": null,
   "id": "81d60bfc",
   "metadata": {},
   "outputs": [],
   "source": [
    "# Run inference\n",
    "result = inference(model = t_maze(A,D,B[1],B[2],B[3],B[4],T),\n",
    "                   data= (c = C,),\n",
    "                   initmarginals = initmarginals,\n",
    "                   meta= t_maze_meta(),\n",
    "                   iterations=its,\n",
    "                  )"
   ]
  },
  {
   "cell_type": "code",
   "execution_count": null,
   "id": "0402c5c4",
   "metadata": {},
   "outputs": [],
   "source": [
    "# Inspect results\n",
    "println(\"Posterior controls as T=1, \", probvec.(result.posteriors[:switch][end][1]), \"\\n\")\n",
    "println(\"Posterior controls as T=2, \", probvec.(result.posteriors[:switch][end][2]))\n"
   ]
  },
  {
   "cell_type": "code",
   "execution_count": null,
   "id": "5ccd8f1b",
   "metadata": {},
   "outputs": [],
   "source": [
    "# Repeat experiments with pointmass constraints\n",
    "result = inference(model = t_maze(A,D,B[1],B[2],B[3],B[4],T),\n",
    "                   data= (c = C,),\n",
    "                   initmarginals = initmarginals,\n",
    "                   meta= t_maze_meta(),\n",
    "                   constraints=pointmass_q(),\n",
    "                   iterations=its,\n",
    "                  )\n",
    "\n",
    "println(\"Posterior controls as T=1, \",probvec(result.posteriors[:switch][end][1]), \"\\n\")\n",
    "println(\"Posterior controls as T=2, \",probvec(result.posteriors[:switch][end][2]), \"\\n\")"
   ]
  }
 ],
 "metadata": {
  "kernelspec": {
   "display_name": "Julia 1.8.5",
   "language": "julia",
   "name": "julia-1.8"
  },
  "language_info": {
   "file_extension": ".jl",
   "mimetype": "application/julia",
   "name": "julia",
   "version": "1.8.5"
  }
 },
 "nbformat": 4,
 "nbformat_minor": 5
}
