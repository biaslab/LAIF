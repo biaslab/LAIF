{
 "cells": [
  {
   "cell_type": "code",
   "execution_count": 1,
   "metadata": {},
   "outputs": [
    {
     "name": "stderr",
     "output_type": "stream",
     "text": [
      "\u001b[32m\u001b[1m  Activating\u001b[22m\u001b[39m project at `c:\\Simulations\\EpistemicMessagePassing\\src\\Part2\\Rx`\n"
     ]
    }
   ],
   "source": [
    "using Pkg\n",
    "Pkg.activate(\".\")\n",
    "# Pkg.instantiate()"
   ]
  },
  {
   "cell_type": "code",
   "execution_count": 2,
   "metadata": {},
   "outputs": [],
   "source": [
    "using RxInfer, LinearAlgebra\n",
    "\n",
    "# T-maze layout\n",
    "# [2| |3]\n",
    "#   | |\n",
    "#   |1|\n",
    "#   |4|"
   ]
  },
  {
   "cell_type": "code",
   "execution_count": 3,
   "metadata": {},
   "outputs": [
    {
     "data": {
      "text/plain": [
       "structured (generic function with 1 method)"
      ]
     },
     "execution_count": 3,
     "metadata": {},
     "output_type": "execute_result"
    }
   ],
   "source": [
    "include(\"goal_observation.jl\")\n",
    "\n",
    "# Define the generative model\n",
    "@model function t_maze(A_s, D_s, t)\n",
    "    u = datavar(Matrix{Int64}, 2) # Policy for evaluations\n",
    "    z = randomvar(2) # Latent states\n",
    "    c = datavar(Vector{Float64}, 2) # Goal prior statistics\n",
    "\n",
    "    z_0 ~ Categorical(D_s) # State prior\n",
    "    A ~ MatrixDirichlet(A_s) # Observation matrix prior\n",
    "\n",
    "    z_k_min = z_0\n",
    "    for k=1:2\n",
    "        z[k] ~ Transition(z_k_min, u[k])\n",
    "        c[k] ~ GoalObservation(z[k], A) where {\n",
    "            meta=BetheMeta(), \n",
    "            pipeline=BethePipeline()}\n",
    "\n",
    "        z_k_min = z[k] # Reset for next slice\n",
    "    end\n",
    "end\n",
    "\n",
    "# Define constraints on the variational density\n",
    "@constraints function structured()\n",
    "    q(z_0, z, A) = q(z_0, z)q(A)\n",
    "end"
   ]
  },
  {
   "cell_type": "code",
   "execution_count": 4,
   "metadata": {},
   "outputs": [],
   "source": [
    "# Define experimental setting\n",
    "α = 0.9; c = 2.0 # Reward probability and utility\n",
    "S = 100 # Number of trials\n",
    "seed = 1234 # Randomizer seed\n",
    "\n",
    "include(\"helpers.jl\")\n",
    "include(\"environment.jl\")\n",
    "include(\"agent.jl\")\n",
    "\n",
    "(A, B, C, D) = constructABCD(α, c)\n",
    "(A_0, D_0) = constructPriors() # Construct prior statistics for A and D\n",
    ";"
   ]
  },
  {
   "cell_type": "code",
   "execution_count": 5,
   "metadata": {},
   "outputs": [
    {
     "data": {
      "text/plain": [
       "infer (generic function with 1 method)"
      ]
     },
     "execution_count": 5,
     "metadata": {},
     "output_type": "execute_result"
    }
   ],
   "source": [
    "function infer(pol)\n",
    "    data = (u = B[[pol...]],\n",
    "            c = [C, C])\n",
    "\n",
    "    initmarginals = (A   = MatrixDirichlet(asym(A_0)),\n",
    "                     z_0 = Categorical(asym(8)),\n",
    "                     z   = [Categorical(asym(8)),\n",
    "                            Categorical(asym(8))])\n",
    "\n",
    "    return inference(model         = t_maze(A_0, D_0, 1),\n",
    "                     constraints   = structured(), \n",
    "                     data          = data,\n",
    "                     initmarginals = initmarginals,\n",
    "                     iterations    = 50,\n",
    "                     free_energy   = true)\n",
    "end\n"
   ]
  },
  {
   "cell_type": "code",
   "execution_count": 6,
   "metadata": {},
   "outputs": [
    {
     "data": {
      "text/plain": [
       "Inference results:\n",
       "  Posteriors       | available for (A, z_0, z)\n",
       "  Free Energy:     | Real[13.7652, 10.6717, 9.85415, 9.21749, 8.9837, 8.98158, 8.98158, 8.98158, 8.98158, 8.98158  …  8.98158, 8.98158, 8.98158, 8.98158, 8.98158, 8.98158, 8.98158, 8.98158, 8.98158, 8.98158]\n"
      ]
     },
     "execution_count": 6,
     "metadata": {},
     "output_type": "execute_result"
    }
   ],
   "source": [
    "infer((2,4))"
   ]
  },
  {
   "cell_type": "code",
   "execution_count": null,
   "metadata": {},
   "outputs": [],
   "source": []
  }
 ],
 "metadata": {
  "kernelspec": {
   "display_name": "Julia 1.8.2",
   "language": "julia",
   "name": "julia-1.8"
  },
  "language_info": {
   "file_extension": ".jl",
   "mimetype": "application/julia",
   "name": "julia",
   "version": "1.8.2"
  },
  "orig_nbformat": 4
 },
 "nbformat": 4,
 "nbformat_minor": 2
}
