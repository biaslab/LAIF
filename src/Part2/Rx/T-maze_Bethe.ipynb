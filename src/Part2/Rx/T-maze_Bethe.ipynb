{
 "cells": [
  {
   "attachments": {},
   "cell_type": "markdown",
   "metadata": {},
   "source": [
    "# T-Maze Perception-Action Cycle with Bethe FE"
   ]
  },
  {
   "cell_type": "code",
   "execution_count": null,
   "metadata": {},
   "outputs": [],
   "source": [
    "using Pkg\n",
    "Pkg.activate(\".\")\n",
    "# Pkg.instantiate()"
   ]
  },
  {
   "cell_type": "code",
   "execution_count": null,
   "metadata": {},
   "outputs": [],
   "source": [
    "using RxInfer, LinearAlgebra, Plots"
   ]
  },
  {
   "attachments": {},
   "cell_type": "markdown",
   "metadata": {},
   "source": [
    "## Agent"
   ]
  },
  {
   "cell_type": "code",
   "execution_count": null,
   "metadata": {},
   "outputs": [],
   "source": [
    "include(\"goal_observation.jl\")\n",
    "\n",
    "# Define the generative model\n",
    "@model function t_maze(A_s, D_s, x)\n",
    "    u = datavar(Matrix{Int64}, 2) # Policy for evaluations\n",
    "    z = randomvar(2) # Latent states\n",
    "    c = datavar(Vector{Float64}, 2) # Goal prior statistics\n",
    "\n",
    "    z_0 ~ Categorical(D_s) # State prior\n",
    "    A ~ MatrixDirichlet(A_s) # Observation matrix prior\n",
    "\n",
    "    z_k_min = z_0\n",
    "    for k=1:2\n",
    "        z[k] ~ Transition(z_k_min, u[k])\n",
    "        c[k] ~ GoalObservation(z[k], A) where {\n",
    "            meta=BetheMeta(x[k]), \n",
    "            pipeline=BethePipeline()}\n",
    "\n",
    "        z_k_min = z[k] # Reset for next slice\n",
    "    end\n",
    "end\n",
    "\n",
    "# Define constraints on the variational density\n",
    "@constraints function structured(approximate::Bool)\n",
    "    q(z_0, z, A) = q(z_0, z)q(A)\n",
    "    # Sampling approximation for A not needed for Bethe\n",
    "end"
   ]
  },
  {
   "attachments": {},
   "cell_type": "markdown",
   "metadata": {},
   "source": [
    "## Simulation"
   ]
  },
  {
   "cell_type": "code",
   "execution_count": null,
   "metadata": {},
   "outputs": [],
   "source": [
    "# Define experimental setting\n",
    "α = 0.9; c = 2.0 # Reward probability and utility\n",
    "S = 100 # Number of trials\n",
    "seed = 666 # Randomizer seed\n",
    "\n",
    "include(\"helpers.jl\")\n",
    "include(\"environment.jl\")\n",
    "include(\"agent.jl\")\n",
    "\n",
    "(A, B, C, D) = constructABCD(α, c)\n",
    "(A_0, D_0) = constructPriors() # Construct prior statistics for A and D\n",
    "\n",
    "rs = generateGoalSequence(seed, S) # Sets random seed and returns reproducible goal sequence\n",
    "(reset, execute, observe) = initializeWorld(A, B, C, D, rs) # Let there be a world\n",
    "(infer, act) = initializeAgent(A_0, B, C, D_0) # Let there be a constrained agent\n",
    "\n",
    "# Step through the experimental protocol\n",
    "As = Vector{Matrix}(undef, S) # Posterior statistics for A\n",
    "Gs = [Vector{Matrix}(undef, 3) for s=1:S] # Free energy values per time\n",
    "as = [Vector{Int64}(undef, 2) for s=1:S] # Actions per time\n",
    "os = [Vector{Vector}(undef, 2) for s=1:S] # Observations (one-hot) per time\n",
    "for s = 1:S\n",
    "    reset(s) # Reset world\n",
    "    for t=1:2\n",
    "        (Gs[s][t], _) = infer(t, as[s], os[s])\n",
    "             as[s][t] = act(t, Gs[s][t])\n",
    "                        execute(as[s][t])\n",
    "             os[s][t] = observe()\n",
    "    end\n",
    "    (Gs[s][3], As[s]) = infer(3, as[s], os[s]) # Learn at t=3\n",
    "end\n",
    ";"
   ]
  },
  {
   "attachments": {},
   "cell_type": "markdown",
   "metadata": {},
   "source": [
    "## Results"
   ]
  },
  {
   "cell_type": "code",
   "execution_count": null,
   "metadata": {},
   "outputs": [],
   "source": [
    "include(\"visualizations.jl\")\n",
    "plotObservationStatistics(As[S], A_0)\n",
    "savefig(\"figures/BFE_A\")"
   ]
  },
  {
   "cell_type": "code",
   "execution_count": null,
   "metadata": {},
   "outputs": [],
   "source": [
    "include(\"visualizations.jl\")\n",
    "plotFreeEnergyMinimum(Gs, os, legend=13, ylim=(5,25))\n",
    "savefig(\"figures/BFE_FE.png\")"
   ]
  }
 ],
 "metadata": {
  "kernelspec": {
   "display_name": "Julia 1.8.2",
   "language": "julia",
   "name": "julia-1.8"
  },
  "language_info": {
   "file_extension": ".jl",
   "mimetype": "application/julia",
   "name": "julia",
   "version": "1.8.2"
  },
  "orig_nbformat": 4
 },
 "nbformat": 4,
 "nbformat_minor": 2
}
