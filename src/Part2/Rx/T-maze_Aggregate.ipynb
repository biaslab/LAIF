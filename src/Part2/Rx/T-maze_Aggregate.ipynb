{
 "cells": [
  {
   "attachments": {},
   "cell_type": "markdown",
   "metadata": {},
   "source": [
    "# T-Maze Aggregate Simulations with Generalized FE"
   ]
  },
  {
   "cell_type": "code",
   "execution_count": null,
   "metadata": {},
   "outputs": [],
   "source": [
    "using Pkg\n",
    "Pkg.activate(\".\")\n",
    "# Pkg.instantiate()"
   ]
  },
  {
   "cell_type": "code",
   "execution_count": null,
   "metadata": {},
   "outputs": [],
   "source": [
    "using RxInfer, LinearAlgebra, ProgressMeter, Plots"
   ]
  },
  {
   "attachments": {},
   "cell_type": "markdown",
   "metadata": {},
   "source": [
    "## Agent"
   ]
  },
  {
   "cell_type": "code",
   "execution_count": null,
   "metadata": {},
   "outputs": [],
   "source": [
    "include(\"goal_observation.jl\")\n",
    "\n",
    "# Define the generative model\n",
    "@model function t_maze(A_s, D_s, x)\n",
    "    u = datavar(Matrix{Int64}, 2) # Policy for evaluations\n",
    "    z = randomvar(2) # Latent states\n",
    "    c = datavar(Vector{Float64}, 2) # Goal prior statistics\n",
    "\n",
    "    z_0 ~ Categorical(D_s) # State prior\n",
    "    A ~ MatrixDirichlet(A_s) # Observation matrix prior\n",
    "\n",
    "    z_k_min = z_0\n",
    "    for k=1:2\n",
    "        z[k] ~ Transition(z_k_min, u[k])\n",
    "        c[k] ~ GoalObservation(z[k], A) where {\n",
    "            meta=GeneralizedMeta(x[k]), \n",
    "            pipeline=GeneralizedPipeline(vague(Categorical,8))} # With breaker message\n",
    "\n",
    "        z_k_min = z[k] # Reset for next slice\n",
    "    end\n",
    "end\n",
    "\n",
    "# Define constraints on the variational density\n",
    "@constraints function structured(approximate::Bool)\n",
    "    q(z_0, z, A) = q(z_0, z)q(A)\n",
    "    if approximate # Sampling approximation on A required for t<3\n",
    "        q(A) :: SampleList(20)\n",
    "    end\n",
    "end"
   ]
  },
  {
   "attachments": {},
   "cell_type": "markdown",
   "metadata": {},
   "source": [
    "## Simulation"
   ]
  },
  {
   "cell_type": "code",
   "execution_count": null,
   "metadata": {},
   "outputs": [],
   "source": [
    "# Define experimental setting\n",
    "α = 0.9; c = 2.0 # Reward probability and utility\n",
    "R = 100 # Number of runs\n",
    "S = 30 # Number of trials\n",
    "seed = 666 # Randomizer seed\n",
    "\n",
    "include(\"helpers.jl\")\n",
    "include(\"visualizations.jl\")\n",
    "include(\"environment.jl\")\n",
    "include(\"agent.jl\")\n",
    "\n",
    "(A, B, C, D) = constructABCD(α, c)\n",
    "(A_0, D_0) = constructPriors() # Construct prior statistics for A and D\n",
    "\n",
    "wins = [Vector{Float64}(undef, S) for ri=1:R]\n",
    "params = Vector{Matrix}(undef, R)\n",
    "\n",
    "@showprogress for r=1:R\n",
    "    rs = generateGoalSequence(S) # Returns random goal sequence\n",
    "    (reset, execute, observe) = initializeWorld(A, B, C, D, rs) # Let there be a world\n",
    "    (infer, act) = initializeAgent(A_0, B, C, D_0) # Let there be a constrained agent\n",
    "\n",
    "    # Step through the experimental protocol\n",
    "    As = Vector{Matrix}(undef, S) # Posterior statistics for A\n",
    "    Gs = [Vector{Matrix}(undef, 3) for s=1:S] # Free energy values per time\n",
    "    as = [Vector{Int64}(undef, 2) for s=1:S] # Actions per time\n",
    "    os = [Vector{Vector}(undef, 2) for s=1:S] # Observations (one-hot) per time\n",
    "    for s = 1:S\n",
    "        reset(s) # Reset world\n",
    "        for t=1:2\n",
    "            (Gs[s][t], _) = infer(t, as[s], os[s])\n",
    "                as[s][t] = act(t, Gs[s][t])\n",
    "                            execute(as[s][t])\n",
    "                os[s][t] = observe()\n",
    "        end\n",
    "        (Gs[s][3], As[s]) = infer(3, as[s], os[s]) # Learn at t=3\n",
    "    end\n",
    "    wins[r] = extractWins(os)\n",
    "    params[r] = deepcopy(As[end])\n",
    "end\n",
    ";"
   ]
  },
  {
   "cell_type": "code",
   "execution_count": null,
   "metadata": {},
   "outputs": [],
   "source": [
    "using FileIO, JLD2\n",
    "FileIO.save(\"figures/wins_$(R)_$(S).jld2\",\"wins\",wins,\"params\",params,\"R\",R,\"S\",S)"
   ]
  },
  {
   "attachments": {},
   "cell_type": "markdown",
   "metadata": {},
   "source": [
    "## Results"
   ]
  },
  {
   "cell_type": "code",
   "execution_count": null,
   "metadata": {},
   "outputs": [],
   "source": [
    "# Load data from file\n",
    "using FileIO, JLD2, Plots, Statistics, Distributions\n",
    "\n",
    "pairs = FileIO.load(\"figures/wins_100_30.jld2\")\n",
    "wins = pairs[\"wins\"]\n",
    "params = pairs[\"params\"]\n",
    "R = pairs[\"R\"]\n",
    "S = pairs[\"S\"]\n",
    ";"
   ]
  },
  {
   "cell_type": "code",
   "execution_count": null,
   "metadata": {},
   "outputs": [],
   "source": [
    "win_counts = Int64.(sum.(wins))\n",
    "f_ideal = pdf.(Binomial(S, 0.9), 1:S).*R\n",
    "\n",
    "# Plot histogram for number of wins per run\n",
    "histogram(win_counts, bins=-1:1:S, \n",
    "          dpi=300,\n",
    "          size=(400,250),\n",
    "          color=:gray, \n",
    "          label=false, \n",
    "          xlabel=\"Wins per Run\", \n",
    "          ylabel=\"Run Count\",\n",
    "          legend=120,\n",
    "          xticks=((0:10:30).-0.5, 0:10:30))\n",
    "\n",
    "plot!((1:S).-0.5, f_ideal, linestyle=:dash, lw=2, color=:black, label=false)\n",
    "\n",
    "savefig(\"figures/GFE_hist.png\")"
   ]
  },
  {
   "cell_type": "code",
   "execution_count": null,
   "metadata": {},
   "outputs": [],
   "source": [
    "m = mean(wins)\n",
    "\n",
    "# Plot average wins per trial\n",
    "plot(1:S, m, ylim=(0,1),\n",
    "     dpi=300,\n",
    "     size=(400,250),\n",
    "     color=:black, \n",
    "     lw=2, \n",
    "     label=false, \n",
    "     xlabel=\"Simulation Trial (s)\", \n",
    "     ylabel=\"Win Average\")\n",
    "plot!(1:S, 0.9.*ones(S), color=:black, linestyle=:dash, lw=2, label=false, legend=0)\n",
    "\n",
    "savefig(\"figures/GFE_wins.png\")"
   ]
  }
 ],
 "metadata": {
  "kernelspec": {
   "display_name": "Julia 1.8.2",
   "language": "julia",
   "name": "julia-1.8"
  },
  "language_info": {
   "file_extension": ".jl",
   "mimetype": "application/julia",
   "name": "julia",
   "version": "1.8.2"
  }
 },
 "nbformat": 4,
 "nbformat_minor": 2
}
