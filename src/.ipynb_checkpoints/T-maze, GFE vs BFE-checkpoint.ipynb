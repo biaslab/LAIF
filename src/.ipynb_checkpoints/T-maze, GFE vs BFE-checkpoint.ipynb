{
 "cells": [
  {
   "cell_type": "markdown",
   "id": "afb7d8a4",
   "metadata": {},
   "source": [
    "# Load packages #"
   ]
  },
  {
   "cell_type": "code",
   "execution_count": 1,
   "id": "e58f4cc1",
   "metadata": {},
   "outputs": [
    {
     "name": "stderr",
     "output_type": "stream",
     "text": [
      "\u001b[32m\u001b[1m  Activating\u001b[22m\u001b[39m project at `~/biaslab/repos/EpistemicMessagePassing`\n"
     ]
    },
    {
     "data": {
      "text/plain": [
       "constructABCD (generic function with 1 method)"
      ]
     },
     "execution_count": 1,
     "metadata": {},
     "output_type": "execute_result"
    }
   ],
   "source": [
    "using Pkg; Pkg.activate(\"..\"); Pkg.instantiate()\n",
    "using RxInfer,Distributions,Random,LinearAlgebra,OhMyREPL, ReactiveMP\n",
    "enable_autocomplete_brackets(false);colorscheme!(\"GruvboxDark\");\n",
    "\n",
    "# TODO: Structure is correct now but the results are fucked\n",
    "# include(\"GFECategorical.jl\")\n",
    "include(\"GFECategorical2.jl\")\n",
    "include(\"helpers.jl\")"
   ]
  },
  {
   "cell_type": "markdown",
   "id": "48546e8a",
   "metadata": {},
   "source": [
    "# Construct the model #"
   ]
  },
  {
   "cell_type": "code",
   "execution_count": null,
   "id": "2a33db20",
   "metadata": {},
   "outputs": [],
   "source": [
    "\n",
    "# Rule is missing from RxInfer\n",
    "@rule Transition(:in, Marginalisation) (q_out::Any, q_a::Any) = begin\n",
    "    a = clamp.(exp.(mean(log, q_a)' * probvec(q_out)), tiny, Inf)\n",
    "    return Categorical(a ./ sum(a))\n",
    "end\n",
    "\n",
    "# Model for the T-maze experiment \n",
    "@model function t_maze(A,B,C,T, pipeline = nothing)\n",
    "\n",
    "    D_0 = datavar(Vector{Float64})\n",
    "    z_0 ~ Categorical(D_0)\n",
    "    # We use datavar here since x~ Pointmass is not a thing\n",
    "    x = datavar(Vector{Float64},T)\n",
    "    z = randomvar(T)\n",
    "    w = randomvar(T)\n",
    "\n",
    "    # Requires changes in the ReactiveMP core, `@meta` does not support pipelines (yet)\n",
    "    pipeline = something(pipeline, ReactiveMP.DefaultFunctionalDependencies())\n",
    "\n",
    "    z_prev = z_0\n",
    "\n",
    "    for t in 1:T\n",
    "        z[t] ~ Transition(z_prev, B[t])\n",
    "        w[t] ~ Transition(z[t], A) where { pipeline = pipeline }\n",
    "        w[t] ~ Categorical(x[t])\n",
    "        z_prev = z[t]\n",
    "    end\n",
    "end;\n",
    "\n",
    "# Edge Constraints\n",
    "@constraints [ warn = false ] function gfeconstraints()\n",
    "    q(x, z, w, A) = q(x)q(w)q(z)q(A)\n",
    "    q(w) :: PSubstitutionProduct\n",
    "end\n",
    "\n",
    "# Node constraints\n",
    "@meta function gfemeta()\n",
    "    Transition(z, w) -> PSubstitutionMeta()\n",
    "    Categorical(x, w) -> PSubstitutionMeta()\n",
    "end\n",
    "\n",
    "@constraints [ warn = false ] function bfeconstraints()\n",
    "    q(x, z, w, A) = q(x)q(w)q(z)q(A)\n",
    "end\n",
    "\n",
    "# Custom pipeline\n",
    "gfepipeline = GFEPipeline((2,))\n"
   ]
  },
  {
   "cell_type": "markdown",
   "id": "48c11b1f",
   "metadata": {},
   "source": [
    "# Set up priors and configure experiment"
   ]
  },
  {
   "cell_type": "code",
   "execution_count": 11,
   "id": "274cd6d5",
   "metadata": {},
   "outputs": [],
   "source": [
    "# Get required matrices\n",
    "A,B,C,D = constructABCD(0.9,[2.,2.],2);\n",
    "\n",
    "# Number of inference iterations\n",
    "its = 5\n",
    "\n",
    "# Planning horizon\n",
    "T = 2\n",
    "\n",
    "# Choose functional\n",
    "gfe_setup = (\n",
    "    pipeline = gfepipeline,\n",
    "    constraints = gfeconstraints(),\n",
    "    meta = gfemeta()\n",
    ")\n",
    "\n",
    "bfe_setup = (\n",
    "    pipeline = nothing,\n",
    "    constraints = bfeconstraints(),\n",
    "    meta = nothing\n",
    ")\n",
    "\n",
    "\n",
    "# Initialise marginals and messages\n",
    "\n",
    "initmarginals = (\n",
    "                 z = [Categorical(fill(1/8,8)) for t in 1:T],\n",
    "                );\n",
    "\n",
    "initmessages = (\n",
    "                 z = [Categorical(fill(1/8,8)) for t in 1:T],\n",
    "             );\n",
    "\n",
    "\n",
    "# Select between GFE and BFE experiments\n",
    "current_setup = gfe_setup"
   ]
  },
  {
   "cell_type": "markdown",
   "id": "76519931",
   "metadata": {},
   "source": [
    "# Run experiment"
   ]
  },
  {
   "cell_type": "code",
   "execution_count": 13,
   "id": "40ebf728",
   "metadata": {},
   "outputs": [],
   "source": [
    "F = zeros(4,4);\n",
    "for i in 1:4\n",
    "    for j in 1:4\n",
    "        Bs = (B[i],B[j])\n",
    "        global result = inference(model = t_maze(A,Bs,C,T, current_setup[:pipeline]),\n",
    "                           data= (D_0 = D, x = C),\n",
    "                           initmarginals = initmarginals,\n",
    "                           initmessages = initmessages,\n",
    "                           constraints = current_setup[:constraints],\n",
    "                           meta = current_setup[:meta],\n",
    "                           free_energy=true,\n",
    "                           # addons = (AddonMemory(),),\n",
    "                           iterations = its)\n",
    "        F[i,j] = result.free_energy[end] / log(2)\n",
    "    end\n",
    "end"
   ]
  },
  {
   "cell_type": "code",
   "execution_count": 14,
   "id": "79bfd471",
   "metadata": {},
   "outputs": [
    {
     "data": {
      "text/plain": [
       "4×4 Matrix{Float64}:\n",
       " 10.5033   8.97439  8.97439  9.50325\n",
       "  8.97439  8.97439  8.97439  8.97439\n",
       "  8.97439  8.97439  8.97439  8.97439\n",
       "  9.50325  8.30292  8.30292  8.50325"
      ]
     },
     "execution_count": 14,
     "metadata": {},
     "output_type": "execute_result"
    }
   ],
   "source": [
    "# Print results\n",
    "F"
   ]
  }
 ],
 "metadata": {
  "kernelspec": {
   "display_name": "Julia 1.8.5",
   "language": "julia",
   "name": "julia-1.8"
  },
  "language_info": {
   "file_extension": ".jl",
   "mimetype": "application/julia",
   "name": "julia",
   "version": "1.8.5"
  }
 },
 "nbformat": 4,
 "nbformat_minor": 5
}
