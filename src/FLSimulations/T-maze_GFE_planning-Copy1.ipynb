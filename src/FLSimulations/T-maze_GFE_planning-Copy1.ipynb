{
 "cells": [
  {
   "cell_type": "markdown",
   "metadata": {},
   "source": [
    "# T-Maze Interactive Simulation\n",
    "\n",
    "This notebook executes the action-perception loop for a discrete SSM."
   ]
  },
  {
   "cell_type": "code",
   "execution_count": 1,
   "metadata": {},
   "outputs": [
    {
     "name": "stderr",
     "output_type": "stream",
     "text": [
      "\u001b[32m\u001b[1m  Activating\u001b[22m\u001b[39m project at `~/biaslab/repos/EpistemicMessagePassing`\n"
     ]
    }
   ],
   "source": [
    "using Pkg\n",
    "Pkg.activate(\"../..\")\n",
    "# Pkg.instantiate()"
   ]
  },
  {
   "cell_type": "code",
   "execution_count": 2,
   "metadata": {},
   "outputs": [
    {
     "name": "stderr",
     "output_type": "stream",
     "text": [
      "┌ Info: Precompiling Plots [91a5bcdd-55d7-5caf-9e0b-520d859cae80]\n",
      "└ @ Base loading.jl:1664\n"
     ]
    }
   ],
   "source": [
    "using LinearAlgebra\n",
    "using ForneyLab\n",
    "using Plots\n",
    "using ForwardDiff: hessian\n",
    "using Random\n",
    "# using ProgressMeter\n",
    "\n",
    "# T-maze layout\n",
    "# [2| |3]\n",
    "#   | |\n",
    "#   |1|\n",
    "#   |4|\n",
    "\n",
    "include(\"factor_nodes/discrete_observation.jl\")\n",
    "include(\"update_rules/discrete_observation.jl\")\n",
    ";"
   ]
  },
  {
   "cell_type": "markdown",
   "metadata": {},
   "source": [
    "# Generative Model"
   ]
  },
  {
   "cell_type": "code",
   "execution_count": 3,
   "metadata": {},
   "outputs": [],
   "source": [
    "fg = FactorGraph()\n",
    "\n",
    "u = Vector{Variable}(undef, 2)\n",
    "x = Vector{Variable}(undef, 2)\n",
    "y = Vector{Variable}(undef, 2)\n",
    "\n",
    "@RV x_0 ~ Categorical(placeholder(:D_s, dims=(8,)))\n",
    "\n",
    "x_k_min = x_0\n",
    "for k=1:2\n",
    "    @RV u[k]\n",
    "    @RV x[k] ~ Transition(x_k_min, u[k])\n",
    "    placeholder(u[k], :u, index=k, dims=(8,8))\n",
    "    @RV y[k] ~ DiscreteObservation{Generalized}(x[k], \n",
    "                   placeholder(:A, dims=(16,8), var_id=:A_*k),\n",
    "                   placeholder(:C, dims=(16,), var_id=:C_*k),\n",
    "                   n_factors=8)\n",
    "    \n",
    "    x_k_min = x[k] # For next slice\n",
    "end\n",
    ";"
   ]
  },
  {
   "cell_type": "markdown",
   "metadata": {},
   "source": [
    "# Algorithm"
   ]
  },
  {
   "cell_type": "code",
   "execution_count": 4,
   "metadata": {},
   "outputs": [],
   "source": [
    "q = PosteriorFactorization(y, [x_0; x], ids=[:Y, :X])\n",
    "algo = messagePassingAlgorithm(q, free_energy=true)\n",
    "code = algorithmSourceCode(algo, free_energy=true)\n",
    "initX() = Array{Message}(undef, 9) # Predefine\n",
    "eval(Meta.parse(code)) # Overwrites initX for Generalized constraint\n",
    ";"
   ]
  },
  {
   "cell_type": "code",
   "execution_count": 5,
   "metadata": {},
   "outputs": [
    {
     "name": "stdout",
     "output_type": "stream",
     "text": [
      "begin\n",
      "\n",
      "function stepY!(data::Dict, marginals::Dict=Dict(), messages::Vector{Message}=Array{Message}(undef, 2))\n",
      "\n",
      "messages[1] = ruleVBDiscreteObservationGeneralizedY(marginals[:y_2], marginals[:x_2], Distribution(MatrixVariate, PointMass, m=data[:A]), Distribution(Multivariate, PointMass, m=data[:C]))\n",
      "messages[2] = ruleVBDiscreteObservationGeneralizedY(marginals[:y_1], marginals[:x_1], Distribution(MatrixVariate, PointMass, m=data[:A]), Distribution(Multivariate, PointMass, m=data[:C]))\n",
      "\n",
      "marginals[:y_1] = messages[2].dist\n",
      "marginals[:y_2] = messages[1].dist\n",
      "\n",
      "return marginals\n",
      "\n",
      "end\n",
      "\n",
      "function initX()\n",
      "\n",
      "messages = Array{Message}(undef, 10)\n",
      "\n",
      "messages[5] = Message(vague(Categorical, (8,)))\n",
      "messages[8] = Message(vague(Categorical, (8,)))\n",
      "\n",
      "return messages\n",
      "\n",
      "end\n",
      "\n",
      "function stepX!(data::Dict, marginals::Dict=Dict(), messages::Vector{Message}=Array{Message}(undef, 10))\n",
      "\n",
      "messages[1] = ruleVBDiscreteObservationGeneralizedS(marginals[:y_1], messages[8], marginals[:x_1], Distribution(MatrixVariate, PointMass, m=data[:A]), Distribution(Multivariate, PointMass, m=data[:C]))\n",
      "messages[2] = ruleVBCategoricalOut(nothing, Distribution(Multivariate, PointMass, m=data[:D_s]))\n",
      "messages[3] = ruleSVBTransitionOutVCD(nothing, messages[2], Distribution(MatrixVariate, PointMass, m=data[:u][1]))\n",
      "messages[4] = ruleSPEqualityCategorical(messages[3], messages[1], nothing)\n",
      "messages[5] = ruleSVBTransitionOutVCD(nothing, messages[4], Distribution(MatrixVariate, PointMass, m=data[:u][2]))\n",
      "messages[6] = ruleVBDiscreteObservationGeneralizedS(marginals[:y_2], messages[5], marginals[:x_2], Distribution(MatrixVariate, PointMass, m=data[:A]), Distribution(Multivariate, PointMass, m=data[:C]))\n",
      "messages[7] = ruleSVBTransitionIn1CVD(messages[6], nothing, Distribution(MatrixVariate, PointMass, m=data[:u][2]))\n",
      "messages[8] = ruleSPEqualityCategorical(messages[3], nothing, messages[7])\n",
      "messages[9] = ruleSPEqualityCategorical(nothing, messages[1], messages[7])\n",
      "messages[10] = ruleSVBTransitionIn1CVD(messages[9], nothing, Distribution(MatrixVariate, PointMass, m=data[:u][1]))\n",
      "\n",
      "marginals[:x_0] = messages[2].dist * messages[10].dist\n",
      "marginals[:x_1] = messages[3].dist * messages[9].dist\n",
      "marginals[:x_2] = messages[5].dist * messages[6].dist\n",
      "marginals[:x_1_x_0] = ruleMTransitionCCD(messages[9], messages[2], Distribution(MatrixVariate, PointMass, m=data[:u][1]))\n",
      "marginals[:x_2_x_1] = ruleMTransitionCCD(messages[6], messages[4], Distribution(MatrixVariate, PointMass, m=data[:u][2]))\n",
      "\n",
      "return marginals\n",
      "\n",
      "end\n",
      "\n",
      "function freeEnergy(data::Dict, marginals::Dict)\n",
      "\n",
      "F = 0.0\n",
      "\n",
      "F += averageEnergy(Categorical, marginals[:x_0], Distribution(Multivariate, PointMass, m=data[:D_s]))\n",
      "F += averageEnergy(DiscreteObservation{Generalized}, marginals[:y_1], marginals[:x_1], Distribution(MatrixVariate, PointMass, m=data[:A]), Distribution(Multivariate, PointMass, m=data[:C]))\n",
      "F += averageEnergy(DiscreteObservation{Generalized}, marginals[:y_2], marginals[:x_2], Distribution(MatrixVariate, PointMass, m=data[:A]), Distribution(Multivariate, PointMass, m=data[:C]))\n",
      "F += averageEnergy(Transition, marginals[:x_1_x_0], Distribution(MatrixVariate, PointMass, m=data[:u][1]))\n",
      "F += averageEnergy(Transition, marginals[:x_2_x_1], Distribution(MatrixVariate, PointMass, m=data[:u][2]))\n",
      "\n",
      "F -= -1*differentialEntropy(marginals[:x_1])\n",
      "F -= differentialEntropy(marginals[:x_1_x_0])\n",
      "F -= differentialEntropy(marginals[:x_2_x_1])\n",
      "F -= differentialEntropy(marginals[:y_1])\n",
      "F -= differentialEntropy(marginals[:y_2])\n",
      "\n",
      "return F\n",
      "\n",
      "end\n",
      "\n",
      "end # block\n"
     ]
    }
   ],
   "source": [
    " println(code)"
   ]
  },
  {
   "cell_type": "markdown",
   "metadata": {},
   "source": [
    "## Action-Perception Loop"
   ]
  },
  {
   "cell_type": "code",
   "execution_count": 6,
   "metadata": {},
   "outputs": [],
   "source": [
    "using Random"
   ]
  },
  {
   "cell_type": "code",
   "execution_count": 7,
   "metadata": {},
   "outputs": [
    {
     "data": {
      "text/plain": [
       "10-element Vector{Message}:\n",
       " #undef\n",
       " #undef\n",
       " #undef\n",
       " #undef\n",
       "    Message: Cat(p=[0.12, 0.12, 0.12, 0.12, 0.12, 0.12, 0.12, 0.12])\n",
       "\n",
       " #undef\n",
       " #undef\n",
       "    Message: Cat(p=[0.12, 0.12, 0.12, 0.12, 0.12, 0.12, 0.12, 0.12])\n",
       "\n",
       " #undef\n",
       " #undef"
      ]
     },
     "execution_count": 7,
     "metadata": {},
     "output_type": "execute_result"
    }
   ],
   "source": [
    "α = 0.9; c = 2.0 # Reward probability and utility\n",
    "S = 100 # Number of trials\n",
    "#Random.seed! = 1234 # Randomizer seed\n",
    "n_its = 2\n",
    "\n",
    "include(\"helpers.jl\")\n",
    "include(\"environment.jl\")\n",
    "include(\"agent.jl\")\n",
    "\n",
    "(A, B, C, D) = constructABCD(α, c)\n",
    "(A_0, D_0) = constructPriors() # Construct prior statistics for A and D\n",
    "\n",
    "pol = (4,2)\n",
    "\n",
    "data = Dict(:u   => [B[pol[1]], B[pol[2]]],\n",
    "            :A   => A,\n",
    "            :C   => C,\n",
    "            :D_s => D_0)\n",
    "\n",
    "marginals = Dict{Symbol, ProbabilityDistribution}(\n",
    "    :x_0 => ProbabilityDistribution(Univariate, Categorical, p=asym(8)),\n",
    "    :x_1 => ProbabilityDistribution(Univariate, Categorical, p=asym(8)),\n",
    "    :x_2 => ProbabilityDistribution(Univariate, Categorical, p=asym(8)))\n",
    "\n",
    "# Define unobserved marginals\n",
    "marginals[:y_1] = Distribution(Univariate, Categorical, p=asym(16))\n",
    "marginals[:y_2] = Distribution(Univariate, Categorical, p=asym(16))\n",
    "\n",
    "messages = initX()\n",
    "    "
   ]
  },
  {
   "cell_type": "code",
   "execution_count": 8,
   "metadata": {},
   "outputs": [
    {
     "data": {
      "text/plain": [
       "10-element Vector{Message}:\n",
       " #undef\n",
       " #undef\n",
       " #undef\n",
       " #undef\n",
       "    Message: Cat(p=[0.12, 0.12, 0.12, 0.12, 0.12, 0.12, 0.12, 0.12])\n",
       "\n",
       " #undef\n",
       " #undef\n",
       "    Message: Cat(p=[0.12, 0.12, 0.12, 0.12, 0.12, 0.12, 0.12, 0.12])\n",
       "\n",
       " #undef\n",
       " #undef"
      ]
     },
     "execution_count": 8,
     "metadata": {},
     "output_type": "execute_result"
    }
   ],
   "source": [
    "messages"
   ]
  },
  {
   "cell_type": "code",
   "execution_count": 9,
   "metadata": {},
   "outputs": [
    {
     "data": {
      "text/plain": [
       "Cat(p=[0.12, 0.13, 0.12, 0.13, 0.12, 0.13, 0.12, 0.13])\n"
      ]
     },
     "execution_count": 9,
     "metadata": {},
     "output_type": "execute_result"
    }
   ],
   "source": [
    "marginals[:x_1]"
   ]
  },
  {
   "cell_type": "code",
   "execution_count": 10,
   "metadata": {},
   "outputs": [
    {
     "name": "stdout",
     "output_type": "stream",
     "text": [
      "I am s: [0.12495467054373983, 0.1250391498095245, 0.12498303608121678, 0.125020440663928, 0.12495084030691886, 0.12503471572404107, 0.12498898937670185, 0.125028157493929]\n",
      "I am d: [0.125, 0.125, 0.125, 0.125, 0.125, 0.125, 0.125, 0.125]\n",
      "I am logC: [-3.6401503832058357, -3.6401503832058357, -1.6401503832058357, -5.640150383205836, -3.6401503832058357, -3.6401503832058357, -1.6401503832058357, -5.640150383205836, -3.6401503832058357, -3.6401503832058357, -1.6401503832058357, -5.640150383205836, -3.6401503832058357, -3.6401503832058357, -1.6401503832058357, -5.640150383205836]\n",
      "\n",
      "\n",
      "I am s: [0.12504255892118632, 0.1250385202617946, 0.12495147331513475, 0.12497140322074698, 0.12498560589413055, 0.1250287813804603, 0.12498240849744119, 0.12499924850910524]\n",
      "I am d: [1.7437724210137946e-11, 1.7437724210137946e-11, 0.49999999998056205, 0.49999999998056205, 9.999999999930004e-13, 9.999999999930004e-13, 9.999999999930004e-13, 9.999999999930004e-13]\n",
      "I am logC: [-3.6401503832058357, -3.6401503832058357, -1.6401503832058357, -5.640150383205836, -3.6401503832058357, -3.6401503832058357, -1.6401503832058357, -5.640150383205836, -3.6401503832058357, -3.6401503832058357, -1.6401503832058357, -5.640150383205836, -3.6401503832058357, -3.6401503832058357, -1.6401503832058357, -5.640150383205836]\n",
      "\n",
      "\n"
     ]
    },
    {
     "data": {
      "text/plain": [
       "8.461620404516369"
      ]
     },
     "execution_count": 10,
     "metadata": {},
     "output_type": "execute_result"
    }
   ],
   "source": [
    "Gis = zeros(n_its)\n",
    "\n",
    "\n",
    "stepX!(data, marginals, messages)\n",
    "stepY!(data, marginals)\n",
    "freeEnergy(data, marginals)/log(2)"
   ]
  },
  {
   "cell_type": "code",
   "execution_count": 11,
   "metadata": {},
   "outputs": [
    {
     "data": {
      "text/plain": [
       "Cat(p=[1.18e-11, 1.18e-11, 1.18e-11, 1.18e-11, 1.18e-11, 1.18e-11, 0.89, 0.11])\n"
      ]
     },
     "execution_count": 11,
     "metadata": {},
     "output_type": "execute_result"
    }
   ],
   "source": [
    "marginals[:x_1]"
   ]
  },
  {
   "cell_type": "code",
   "execution_count": 12,
   "metadata": {},
   "outputs": [
    {
     "data": {
      "text/plain": [
       "10-element Vector{Message}:\n",
       " Message: Cat(p=[0.09, 0.09, 0.26, 0.03, 0.03, 0.26, 0.12, 0.12])\n",
       "\n",
       " Message: Cat(p=[0.50, 0.50, 1.00e-12, 1.00e-12, 1.00e-12, 1.00e-12, 1.00e-12, 1.00e-12])\n",
       "\n",
       " Message: Cat(p=[3.00e-12, 3.00e-12, 1.00e-12, 1.00e-12, 1.00e-12, 1.00e-12, 0.50, 0.50])\n",
       "\n",
       " Message: Cat(p=[8.22e-12, 8.22e-12, 8.22e-12, 8.22e-12, 8.22e-12, 8.22e-12, 0.50, 0.50])\n",
       "\n",
       " Message: Cat(p=[1.74e-11, 1.74e-11, 0.50, 0.50, 1.00e-12, 1.00e-12, 1.00e-12, 1.00e-12])\n",
       "\n",
       " Message: Cat(p=[0.22, 0.22, 0.22, 0.03, 0.02, 0.16, 0.07, 0.07])\n",
       "\n",
       " Message: Cat(p=[0.16, 0.02, 0.16, 0.16, 0.16, 0.16, 0.16, 0.02])\n",
       "\n",
       " Message: Cat(p=[1.10e-11, 1.10e-11, 1.10e-11, 1.10e-11, 1.10e-11, 1.10e-11, 0.89, 0.11])\n",
       "\n",
       " Message: Cat(p=[0.11, 0.01, 0.31, 0.04, 0.04, 0.31, 0.15, 0.02])\n",
       "\n",
       " Message: Cat(p=[0.26, 0.03, 0.18, 0.02, 0.18, 0.02, 0.26, 0.03])\n"
      ]
     },
     "execution_count": 12,
     "metadata": {},
     "output_type": "execute_result"
    }
   ],
   "source": [
    "messages"
   ]
  },
  {
   "cell_type": "code",
   "execution_count": 13,
   "metadata": {},
   "outputs": [
    {
     "data": {
      "text/plain": [
       "16-element Vector{Float64}:\n",
       " 0.02624839635087663\n",
       " 0.02624839635087663\n",
       " 0.19395087314359397\n",
       " 0.0035523341546527592\n",
       " 0.02624839635087663\n",
       " 0.02624839635087663\n",
       " 0.19395087314359397\n",
       " 0.0035523341546527592\n",
       " 0.02624839635087663\n",
       " 0.02624839635087663\n",
       " 0.19395087314359397\n",
       " 0.0035523341546527592\n",
       " 0.02624839635087663\n",
       " 0.02624839635087663\n",
       " 0.19395087314359397\n",
       " 0.0035523341546527592"
      ]
     },
     "execution_count": 13,
     "metadata": {},
     "output_type": "execute_result"
    }
   ],
   "source": [
    "C"
   ]
  },
  {
   "cell_type": "code",
   "execution_count": 14,
   "metadata": {},
   "outputs": [
    {
     "name": "stdout",
     "output_type": "stream",
     "text": [
      "I am s: [1.1765784868979485e-11, 1.1765784868979485e-11, 1.1765784868979485e-11, 1.1765784868979485e-11, 1.1765784868979485e-11, 1.1765784868979485e-11, 0.8856931432751671, 0.11430685665423802]\n",
      "I am d: [1.095290923503698e-11, 1.095290923503698e-11, 1.095290923503698e-11, 1.095290923503698e-11, 1.095290923503698e-11, 1.095290923503698e-11, 0.8856931432794869, 0.11430685665479554]\n",
      "I am logC: [-3.6401503832058357, -3.6401503832058357, -1.6401503832058357, -5.640150383205836, -3.6401503832058357, -3.6401503832058357, -1.6401503832058357, -5.640150383205836, -3.6401503832058357, -3.6401503832058357, -1.6401503832058357, -5.640150383205836, -3.6401503832058357, -3.6401503832058357, -1.6401503832058357, -5.640150383205836]\n",
      "\n",
      "\n",
      "I am s: [3.0310728425801e-11, 3.0310728425801e-11, 0.8856931432585293, 0.11430685664857741, 8.067904642006173e-12, 8.067904642006173e-12, 8.067904642006173e-12, 8.067904642006173e-12]\n",
      "I am d: [2.5477231115396225e-11, 2.5477231115396225e-11, 0.2643006275899523, 0.7356993723550929, 9.999999999930007e-13, 9.999999999930007e-13, 9.999999999930007e-13, 9.999999999930007e-13]\n",
      "I am logC: [-3.6401503832058357, -3.6401503832058357, -1.6401503832058357, -5.640150383205836, -3.6401503832058357, -3.6401503832058357, -1.6401503832058357, -5.640150383205836, -3.6401503832058357, -3.6401503832058357, -1.6401503832058357, -5.640150383205836, -3.6401503832058357, -3.6401503832058357, -1.6401503832058357, -5.640150383205836]\n",
      "\n",
      "\n",
      "I am s: [2.6924278247887596e-11, 2.6924278247887596e-11, 2.6924278247887596e-11, 2.6924278247887596e-11, 2.6924278247887596e-11, 2.6924278247887596e-11, 0.795074749586772, 0.2049252502516824]\n",
      "I am d: [1.0491860571128379e-11, 1.0491860571128379e-11, 1.0491860571128379e-11, 1.0491860571128379e-11, 1.0491860571128379e-11, 1.0491860571128379e-11, 0.9152526160310062, 0.08474738390604264]\n",
      "I am logC: [-3.6401503832058357, -3.6401503832058357, -1.6401503832058357, -5.640150383205836, -3.6401503832058357, -3.6401503832058357, -1.6401503832058357, -5.640150383205836, -3.6401503832058357, -3.6401503832058357, -1.6401503832058357, -5.640150383205836, -3.6401503832058357, -3.6401503832058357, -1.6401503832058357, -5.640150383205836]\n",
      "\n",
      "\n",
      "I am s: [6.795168201662887e-11, 6.795168201662887e-11, 0.7950747495808301, 0.20492525023562239, 1.1910948686401029e-11, 1.1910948686401029e-11, 1.1910948686401029e-11, 1.1910948686401029e-11]\n",
      "I am d: [2.2983924910253923e-11, 2.298392491025392e-11, 0.233303309524559, 0.7666966904254728, 9.999999999930009e-13, 9.999999999930009e-13, 9.999999999930009e-13, 9.999999999930009e-13]\n",
      "I am logC: [-3.6401503832058357, -3.6401503832058357, -1.6401503832058357, -5.640150383205836, -3.6401503832058357, -3.6401503832058357, -1.6401503832058357, -5.640150383205836, -3.6401503832058357, -3.6401503832058357, -1.6401503832058357, -5.640150383205836, -3.6401503832058357, -3.6401503832058357, -1.6401503832058357, -5.640150383205836]\n",
      "\n",
      "\n"
     ]
    }
   ],
   "source": [
    "        \n",
    "Gis = zeros(n_its)\n",
    "for i=1:n_its\n",
    "    stepX!(data, marginals, messages)\n",
    "    stepY!(data, marginals)\n",
    "    Gis[i] = freeEnergy(data, marginals)/log(2)\n",
    "end\n",
    ";"
   ]
  },
  {
   "cell_type": "code",
   "execution_count": 15,
   "metadata": {},
   "outputs": [
    {
     "data": {
      "image/svg+xml": [
       "<?xml version=\"1.0\" encoding=\"utf-8\"?>\n",
       "<svg xmlns=\"http://www.w3.org/2000/svg\" xmlns:xlink=\"http://www.w3.org/1999/xlink\" width=\"600\" height=\"400\" viewBox=\"0 0 2400 1600\">\n",
       "<defs>\n",
       "  <clipPath id=\"clip680\">\n",
       "    <rect x=\"0\" y=\"0\" width=\"2400\" height=\"1600\"/>\n",
       "  </clipPath>\n",
       "</defs>\n",
       "<path clip-path=\"url(#clip680)\" d=\"M0 1600 L2400 1600 L2400 0 L0 0  Z\" fill=\"#ffffff\" fill-rule=\"evenodd\" fill-opacity=\"1\"/>\n",
       "<defs>\n",
       "  <clipPath id=\"clip681\">\n",
       "    <rect x=\"480\" y=\"0\" width=\"1681\" height=\"1600\"/>\n",
       "  </clipPath>\n",
       "</defs>\n",
       "<path clip-path=\"url(#clip680)\" d=\"M280.097 1423.18 L2352.76 1423.18 L2352.76 123.472 L280.097 123.472  Z\" fill=\"#ffffff\" fill-rule=\"evenodd\" fill-opacity=\"1\"/>\n",
       "<defs>\n",
       "  <clipPath id=\"clip682\">\n",
       "    <rect x=\"280\" y=\"123\" width=\"2074\" height=\"1301\"/>\n",
       "  </clipPath>\n",
       "</defs>\n",
       "<polyline clip-path=\"url(#clip682)\" style=\"stroke:#000000; stroke-linecap:round; stroke-linejoin:round; stroke-width:2; stroke-opacity:0.1; fill:none\" points=\"338.758,1423.18 338.758,123.472 \"/>\n",
       "<polyline clip-path=\"url(#clip682)\" style=\"stroke:#000000; stroke-linecap:round; stroke-linejoin:round; stroke-width:2; stroke-opacity:0.1; fill:none\" points=\"827.592,1423.18 827.592,123.472 \"/>\n",
       "<polyline clip-path=\"url(#clip682)\" style=\"stroke:#000000; stroke-linecap:round; stroke-linejoin:round; stroke-width:2; stroke-opacity:0.1; fill:none\" points=\"1316.43,1423.18 1316.43,123.472 \"/>\n",
       "<polyline clip-path=\"url(#clip682)\" style=\"stroke:#000000; stroke-linecap:round; stroke-linejoin:round; stroke-width:2; stroke-opacity:0.1; fill:none\" points=\"1805.26,1423.18 1805.26,123.472 \"/>\n",
       "<polyline clip-path=\"url(#clip682)\" style=\"stroke:#000000; stroke-linecap:round; stroke-linejoin:round; stroke-width:2; stroke-opacity:0.1; fill:none\" points=\"2294.1,1423.18 2294.1,123.472 \"/>\n",
       "<polyline clip-path=\"url(#clip680)\" style=\"stroke:#000000; stroke-linecap:round; stroke-linejoin:round; stroke-width:4; stroke-opacity:1; fill:none\" points=\"280.097,1423.18 2352.76,1423.18 \"/>\n",
       "<polyline clip-path=\"url(#clip680)\" style=\"stroke:#000000; stroke-linecap:round; stroke-linejoin:round; stroke-width:4; stroke-opacity:1; fill:none\" points=\"338.758,1423.18 338.758,1404.28 \"/>\n",
       "<polyline clip-path=\"url(#clip680)\" style=\"stroke:#000000; stroke-linecap:round; stroke-linejoin:round; stroke-width:4; stroke-opacity:1; fill:none\" points=\"827.592,1423.18 827.592,1404.28 \"/>\n",
       "<polyline clip-path=\"url(#clip680)\" style=\"stroke:#000000; stroke-linecap:round; stroke-linejoin:round; stroke-width:4; stroke-opacity:1; fill:none\" points=\"1316.43,1423.18 1316.43,1404.28 \"/>\n",
       "<polyline clip-path=\"url(#clip680)\" style=\"stroke:#000000; stroke-linecap:round; stroke-linejoin:round; stroke-width:4; stroke-opacity:1; fill:none\" points=\"1805.26,1423.18 1805.26,1404.28 \"/>\n",
       "<polyline clip-path=\"url(#clip680)\" style=\"stroke:#000000; stroke-linecap:round; stroke-linejoin:round; stroke-width:4; stroke-opacity:1; fill:none\" points=\"2294.1,1423.18 2294.1,1404.28 \"/>\n",
       "<path clip-path=\"url(#clip680)\" d=\"M290.83 1481.64 L298.468 1481.64 L298.468 1455.28 L290.158 1456.95 L290.158 1452.69 L298.422 1451.02 L303.098 1451.02 L303.098 1481.64 L310.737 1481.64 L310.737 1485.58 L290.83 1485.58 L290.83 1481.64 Z\" fill=\"#000000\" fill-rule=\"nonzero\" fill-opacity=\"1\" /><path clip-path=\"url(#clip680)\" d=\"M320.181 1479.7 L325.066 1479.7 L325.066 1485.58 L320.181 1485.58 L320.181 1479.7 Z\" fill=\"#000000\" fill-rule=\"nonzero\" fill-opacity=\"1\" /><path clip-path=\"url(#clip680)\" d=\"M345.251 1454.1 Q341.639 1454.1 339.811 1457.66 Q338.005 1461.2 338.005 1468.33 Q338.005 1475.44 339.811 1479.01 Q341.639 1482.55 345.251 1482.55 Q348.885 1482.55 350.69 1479.01 Q352.519 1475.44 352.519 1468.33 Q352.519 1461.2 350.69 1457.66 Q348.885 1454.1 345.251 1454.1 M345.251 1450.39 Q351.061 1450.39 354.116 1455 Q357.195 1459.58 357.195 1468.33 Q357.195 1477.06 354.116 1481.67 Q351.061 1486.25 345.251 1486.25 Q339.44 1486.25 336.362 1481.67 Q333.306 1477.06 333.306 1468.33 Q333.306 1459.58 336.362 1455 Q339.44 1450.39 345.251 1450.39 Z\" fill=\"#000000\" fill-rule=\"nonzero\" fill-opacity=\"1\" /><path clip-path=\"url(#clip680)\" d=\"M375.412 1454.1 Q371.801 1454.1 369.973 1457.66 Q368.167 1461.2 368.167 1468.33 Q368.167 1475.44 369.973 1479.01 Q371.801 1482.55 375.412 1482.55 Q379.047 1482.55 380.852 1479.01 Q382.681 1475.44 382.681 1468.33 Q382.681 1461.2 380.852 1457.66 Q379.047 1454.1 375.412 1454.1 M375.412 1450.39 Q381.223 1450.39 384.278 1455 Q387.357 1459.58 387.357 1468.33 Q387.357 1477.06 384.278 1481.67 Q381.223 1486.25 375.412 1486.25 Q369.602 1486.25 366.524 1481.67 Q363.468 1477.06 363.468 1468.33 Q363.468 1459.58 366.524 1455 Q369.602 1450.39 375.412 1450.39 Z\" fill=\"#000000\" fill-rule=\"nonzero\" fill-opacity=\"1\" /><path clip-path=\"url(#clip680)\" d=\"M780.162 1481.64 L787.801 1481.64 L787.801 1455.28 L779.491 1456.95 L779.491 1452.69 L787.754 1451.02 L792.43 1451.02 L792.43 1481.64 L800.069 1481.64 L800.069 1485.58 L780.162 1485.58 L780.162 1481.64 Z\" fill=\"#000000\" fill-rule=\"nonzero\" fill-opacity=\"1\" /><path clip-path=\"url(#clip680)\" d=\"M809.514 1479.7 L814.398 1479.7 L814.398 1485.58 L809.514 1485.58 L809.514 1479.7 Z\" fill=\"#000000\" fill-rule=\"nonzero\" fill-opacity=\"1\" /><path clip-path=\"url(#clip680)\" d=\"M828.611 1481.64 L844.93 1481.64 L844.93 1485.58 L822.986 1485.58 L822.986 1481.64 Q825.648 1478.89 830.231 1474.26 Q834.837 1469.61 836.018 1468.27 Q838.263 1465.74 839.143 1464.01 Q840.046 1462.25 840.046 1460.56 Q840.046 1457.8 838.101 1456.07 Q836.18 1454.33 833.078 1454.33 Q830.879 1454.33 828.425 1455.09 Q825.995 1455.86 823.217 1457.41 L823.217 1452.69 Q826.041 1451.55 828.495 1450.97 Q830.949 1450.39 832.986 1450.39 Q838.356 1450.39 841.55 1453.08 Q844.745 1455.77 844.745 1460.26 Q844.745 1462.39 843.935 1464.31 Q843.148 1466.2 841.041 1468.8 Q840.462 1469.47 837.361 1472.69 Q834.259 1475.88 828.611 1481.64 Z\" fill=\"#000000\" fill-rule=\"nonzero\" fill-opacity=\"1\" /><path clip-path=\"url(#clip680)\" d=\"M854.791 1451.02 L873.147 1451.02 L873.147 1454.96 L859.073 1454.96 L859.073 1463.43 Q860.092 1463.08 861.11 1462.92 Q862.129 1462.73 863.147 1462.73 Q868.934 1462.73 872.314 1465.9 Q875.694 1469.08 875.694 1474.49 Q875.694 1480.07 872.222 1483.17 Q868.749 1486.25 862.43 1486.25 Q860.254 1486.25 857.985 1485.88 Q855.74 1485.51 853.333 1484.77 L853.333 1480.07 Q855.416 1481.2 857.638 1481.76 Q859.86 1482.32 862.337 1482.32 Q866.342 1482.32 868.68 1480.21 Q871.018 1478.1 871.018 1474.49 Q871.018 1470.88 868.68 1468.77 Q866.342 1466.67 862.337 1466.67 Q860.462 1466.67 858.587 1467.08 Q856.735 1467.5 854.791 1468.38 L854.791 1451.02 Z\" fill=\"#000000\" fill-rule=\"nonzero\" fill-opacity=\"1\" /><path clip-path=\"url(#clip680)\" d=\"M1268.5 1481.64 L1276.14 1481.64 L1276.14 1455.28 L1267.83 1456.95 L1267.83 1452.69 L1276.09 1451.02 L1280.77 1451.02 L1280.77 1481.64 L1288.41 1481.64 L1288.41 1485.58 L1268.5 1485.58 L1268.5 1481.64 Z\" fill=\"#000000\" fill-rule=\"nonzero\" fill-opacity=\"1\" /><path clip-path=\"url(#clip680)\" d=\"M1297.85 1479.7 L1302.73 1479.7 L1302.73 1485.58 L1297.85 1485.58 L1297.85 1479.7 Z\" fill=\"#000000\" fill-rule=\"nonzero\" fill-opacity=\"1\" /><path clip-path=\"url(#clip680)\" d=\"M1312.97 1451.02 L1331.32 1451.02 L1331.32 1454.96 L1317.25 1454.96 L1317.25 1463.43 Q1318.27 1463.08 1319.29 1462.92 Q1320.3 1462.73 1321.32 1462.73 Q1327.11 1462.73 1330.49 1465.9 Q1333.87 1469.08 1333.87 1474.49 Q1333.87 1480.07 1330.4 1483.17 Q1326.92 1486.25 1320.6 1486.25 Q1318.43 1486.25 1316.16 1485.88 Q1313.92 1485.51 1311.51 1484.77 L1311.51 1480.07 Q1313.59 1481.2 1315.81 1481.76 Q1318.04 1482.32 1320.51 1482.32 Q1324.52 1482.32 1326.85 1480.21 Q1329.19 1478.1 1329.19 1474.49 Q1329.19 1470.88 1326.85 1468.77 Q1324.52 1466.67 1320.51 1466.67 Q1318.64 1466.67 1316.76 1467.08 Q1314.91 1467.5 1312.97 1468.38 L1312.97 1451.02 Z\" fill=\"#000000\" fill-rule=\"nonzero\" fill-opacity=\"1\" /><path clip-path=\"url(#clip680)\" d=\"M1353.08 1454.1 Q1349.47 1454.1 1347.64 1457.66 Q1345.84 1461.2 1345.84 1468.33 Q1345.84 1475.44 1347.64 1479.01 Q1349.47 1482.55 1353.08 1482.55 Q1356.72 1482.55 1358.52 1479.01 Q1360.35 1475.44 1360.35 1468.33 Q1360.35 1461.2 1358.52 1457.66 Q1356.72 1454.1 1353.08 1454.1 M1353.08 1450.39 Q1358.89 1450.39 1361.95 1455 Q1365.03 1459.58 1365.03 1468.33 Q1365.03 1477.06 1361.95 1481.67 Q1358.89 1486.25 1353.08 1486.25 Q1347.27 1486.25 1344.19 1481.67 Q1341.14 1477.06 1341.14 1468.33 Q1341.14 1459.58 1344.19 1455 Q1347.27 1450.39 1353.08 1450.39 Z\" fill=\"#000000\" fill-rule=\"nonzero\" fill-opacity=\"1\" /><path clip-path=\"url(#clip680)\" d=\"M1757.83 1481.64 L1765.47 1481.64 L1765.47 1455.28 L1757.16 1456.95 L1757.16 1452.69 L1765.42 1451.02 L1770.1 1451.02 L1770.1 1481.64 L1777.74 1481.64 L1777.74 1485.58 L1757.83 1485.58 L1757.83 1481.64 Z\" fill=\"#000000\" fill-rule=\"nonzero\" fill-opacity=\"1\" /><path clip-path=\"url(#clip680)\" d=\"M1787.18 1479.7 L1792.07 1479.7 L1792.07 1485.58 L1787.18 1485.58 L1787.18 1479.7 Z\" fill=\"#000000\" fill-rule=\"nonzero\" fill-opacity=\"1\" /><path clip-path=\"url(#clip680)\" d=\"M1801.07 1451.02 L1823.29 1451.02 L1823.29 1453.01 L1810.75 1485.58 L1805.86 1485.58 L1817.67 1454.96 L1801.07 1454.96 L1801.07 1451.02 Z\" fill=\"#000000\" fill-rule=\"nonzero\" fill-opacity=\"1\" /><path clip-path=\"url(#clip680)\" d=\"M1832.46 1451.02 L1850.82 1451.02 L1850.82 1454.96 L1836.74 1454.96 L1836.74 1463.43 Q1837.76 1463.08 1838.78 1462.92 Q1839.8 1462.73 1840.82 1462.73 Q1846.6 1462.73 1849.98 1465.9 Q1853.36 1469.08 1853.36 1474.49 Q1853.36 1480.07 1849.89 1483.17 Q1846.42 1486.25 1840.1 1486.25 Q1837.92 1486.25 1835.65 1485.88 Q1833.41 1485.51 1831 1484.77 L1831 1480.07 Q1833.09 1481.2 1835.31 1481.76 Q1837.53 1482.32 1840.01 1482.32 Q1844.01 1482.32 1846.35 1480.21 Q1848.69 1478.1 1848.69 1474.49 Q1848.69 1470.88 1846.35 1468.77 Q1844.01 1466.67 1840.01 1466.67 Q1838.13 1466.67 1836.26 1467.08 Q1834.4 1467.5 1832.46 1468.38 L1832.46 1451.02 Z\" fill=\"#000000\" fill-rule=\"nonzero\" fill-opacity=\"1\" /><path clip-path=\"url(#clip680)\" d=\"M2250.25 1481.64 L2266.57 1481.64 L2266.57 1485.58 L2244.63 1485.58 L2244.63 1481.64 Q2247.29 1478.89 2251.87 1474.26 Q2256.48 1469.61 2257.66 1468.27 Q2259.91 1465.74 2260.79 1464.01 Q2261.69 1462.25 2261.69 1460.56 Q2261.69 1457.8 2259.74 1456.07 Q2257.82 1454.33 2254.72 1454.33 Q2252.52 1454.33 2250.07 1455.09 Q2247.64 1455.86 2244.86 1457.41 L2244.86 1452.69 Q2247.68 1451.55 2250.14 1450.97 Q2252.59 1450.39 2254.63 1450.39 Q2260 1450.39 2263.19 1453.08 Q2266.39 1455.77 2266.39 1460.26 Q2266.39 1462.39 2265.58 1464.31 Q2264.79 1466.2 2262.68 1468.8 Q2262.11 1469.47 2259 1472.69 Q2255.9 1475.88 2250.25 1481.64 Z\" fill=\"#000000\" fill-rule=\"nonzero\" fill-opacity=\"1\" /><path clip-path=\"url(#clip680)\" d=\"M2276.39 1479.7 L2281.27 1479.7 L2281.27 1485.58 L2276.39 1485.58 L2276.39 1479.7 Z\" fill=\"#000000\" fill-rule=\"nonzero\" fill-opacity=\"1\" /><path clip-path=\"url(#clip680)\" d=\"M2301.46 1454.1 Q2297.85 1454.1 2296.02 1457.66 Q2294.21 1461.2 2294.21 1468.33 Q2294.21 1475.44 2296.02 1479.01 Q2297.85 1482.55 2301.46 1482.55 Q2305.09 1482.55 2306.9 1479.01 Q2308.73 1475.44 2308.73 1468.33 Q2308.73 1461.2 2306.9 1457.66 Q2305.09 1454.1 2301.46 1454.1 M2301.46 1450.39 Q2307.27 1450.39 2310.32 1455 Q2313.4 1459.58 2313.4 1468.33 Q2313.4 1477.06 2310.32 1481.67 Q2307.27 1486.25 2301.46 1486.25 Q2295.65 1486.25 2292.57 1481.67 Q2289.51 1477.06 2289.51 1468.33 Q2289.51 1459.58 2292.57 1455 Q2295.65 1450.39 2301.46 1450.39 Z\" fill=\"#000000\" fill-rule=\"nonzero\" fill-opacity=\"1\" /><path clip-path=\"url(#clip680)\" d=\"M2331.62 1454.1 Q2328.01 1454.1 2326.18 1457.66 Q2324.37 1461.2 2324.37 1468.33 Q2324.37 1475.44 2326.18 1479.01 Q2328.01 1482.55 2331.62 1482.55 Q2335.25 1482.55 2337.06 1479.01 Q2338.89 1475.44 2338.89 1468.33 Q2338.89 1461.2 2337.06 1457.66 Q2335.25 1454.1 2331.62 1454.1 M2331.62 1450.39 Q2337.43 1450.39 2340.48 1455 Q2343.56 1459.58 2343.56 1468.33 Q2343.56 1477.06 2340.48 1481.67 Q2337.43 1486.25 2331.62 1486.25 Q2325.81 1486.25 2322.73 1481.67 Q2319.67 1477.06 2319.67 1468.33 Q2319.67 1459.58 2322.73 1455 Q2325.81 1450.39 2331.62 1450.39 Z\" fill=\"#000000\" fill-rule=\"nonzero\" fill-opacity=\"1\" /><path clip-path=\"url(#clip680)\" d=\"M1184.15 1520.52 L1190.58 1520.52 L1190.58 1568.04 L1184.15 1568.04 L1184.15 1520.52 Z\" fill=\"#000000\" fill-rule=\"nonzero\" fill-opacity=\"1\" /><path clip-path=\"url(#clip680)\" d=\"M1208.91 1522.27 L1208.91 1532.4 L1220.97 1532.4 L1220.97 1536.95 L1208.91 1536.95 L1208.91 1556.3 Q1208.91 1560.66 1210.09 1561.9 Q1211.3 1563.14 1214.96 1563.14 L1220.97 1563.14 L1220.97 1568.04 L1214.96 1568.04 Q1208.18 1568.04 1205.6 1565.53 Q1203.02 1562.98 1203.02 1556.3 L1203.02 1536.95 L1198.72 1536.95 L1198.72 1532.4 L1203.02 1532.4 L1203.02 1522.27 L1208.91 1522.27 Z\" fill=\"#000000\" fill-rule=\"nonzero\" fill-opacity=\"1\" /><path clip-path=\"url(#clip680)\" d=\"M1259.17 1548.76 L1259.17 1551.62 L1232.24 1551.62 Q1232.62 1557.67 1235.87 1560.85 Q1239.15 1564 1244.97 1564 Q1248.35 1564 1251.5 1563.17 Q1254.68 1562.35 1257.8 1560.69 L1257.8 1566.23 Q1254.65 1567.57 1251.34 1568.27 Q1248.03 1568.97 1244.62 1568.97 Q1236.09 1568.97 1231.09 1564 Q1226.13 1559.04 1226.13 1550.57 Q1226.13 1541.82 1230.84 1536.69 Q1235.58 1531.54 1243.6 1531.54 Q1250.8 1531.54 1254.97 1536.18 Q1259.17 1540.8 1259.17 1548.76 M1253.31 1547.04 Q1253.25 1542.23 1250.61 1539.37 Q1248 1536.5 1243.67 1536.5 Q1238.77 1536.5 1235.8 1539.27 Q1232.88 1542.04 1232.43 1547.07 L1253.31 1547.04 Z\" fill=\"#000000\" fill-rule=\"nonzero\" fill-opacity=\"1\" /><path clip-path=\"url(#clip680)\" d=\"M1289.44 1537.87 Q1288.45 1537.3 1287.27 1537.04 Q1286.13 1536.76 1284.73 1536.76 Q1279.76 1536.76 1277.09 1540 Q1274.44 1543.22 1274.44 1549.27 L1274.44 1568.04 L1268.56 1568.04 L1268.56 1532.4 L1274.44 1532.4 L1274.44 1537.93 Q1276.29 1534.69 1279.25 1533.13 Q1282.21 1531.54 1286.44 1531.54 Q1287.05 1531.54 1287.78 1531.63 Q1288.51 1531.7 1289.4 1531.85 L1289.44 1537.87 Z\" fill=\"#000000\" fill-rule=\"nonzero\" fill-opacity=\"1\" /><path clip-path=\"url(#clip680)\" d=\"M1311.78 1550.12 Q1304.68 1550.12 1301.94 1551.75 Q1299.21 1553.37 1299.21 1557.29 Q1299.21 1560.4 1301.24 1562.25 Q1303.31 1564.07 1306.85 1564.07 Q1311.72 1564.07 1314.64 1560.63 Q1317.6 1557.16 1317.6 1551.43 L1317.6 1550.12 L1311.78 1550.12 M1323.46 1547.71 L1323.46 1568.04 L1317.6 1568.04 L1317.6 1562.63 Q1315.6 1565.88 1312.61 1567.44 Q1309.62 1568.97 1305.29 1568.97 Q1299.81 1568.97 1296.57 1565.91 Q1293.35 1562.82 1293.35 1557.67 Q1293.35 1551.65 1297.36 1548.6 Q1301.4 1545.54 1309.39 1545.54 L1317.6 1545.54 L1317.6 1544.97 Q1317.6 1540.93 1314.93 1538.73 Q1312.29 1536.5 1307.48 1536.5 Q1304.43 1536.5 1301.53 1537.23 Q1298.63 1537.97 1295.96 1539.43 L1295.96 1534.02 Q1299.18 1532.78 1302.2 1532.17 Q1305.22 1531.54 1308.09 1531.54 Q1315.82 1531.54 1319.64 1535.55 Q1323.46 1539.56 1323.46 1547.71 Z\" fill=\"#000000\" fill-rule=\"nonzero\" fill-opacity=\"1\" /><path clip-path=\"url(#clip680)\" d=\"M1341.32 1522.27 L1341.32 1532.4 L1353.38 1532.4 L1353.38 1536.95 L1341.32 1536.95 L1341.32 1556.3 Q1341.32 1560.66 1342.49 1561.9 Q1343.7 1563.14 1347.36 1563.14 L1353.38 1563.14 L1353.38 1568.04 L1347.36 1568.04 Q1340.58 1568.04 1338.01 1565.53 Q1335.43 1562.98 1335.43 1556.3 L1335.43 1536.95 L1331.13 1536.95 L1331.13 1532.4 L1335.43 1532.4 L1335.43 1522.27 L1341.32 1522.27 Z\" fill=\"#000000\" fill-rule=\"nonzero\" fill-opacity=\"1\" /><path clip-path=\"url(#clip680)\" d=\"M1361.08 1532.4 L1366.94 1532.4 L1366.94 1568.04 L1361.08 1568.04 L1361.08 1532.4 M1361.08 1518.52 L1366.94 1518.52 L1366.94 1525.93 L1361.08 1525.93 L1361.08 1518.52 Z\" fill=\"#000000\" fill-rule=\"nonzero\" fill-opacity=\"1\" /><path clip-path=\"url(#clip680)\" d=\"M1393.01 1536.5 Q1388.3 1536.5 1385.56 1540.19 Q1382.82 1543.85 1382.82 1550.25 Q1382.82 1556.65 1385.53 1560.34 Q1388.26 1564 1393.01 1564 Q1397.68 1564 1400.42 1560.31 Q1403.16 1556.62 1403.16 1550.25 Q1403.16 1543.92 1400.42 1540.23 Q1397.68 1536.5 1393.01 1536.5 M1393.01 1531.54 Q1400.64 1531.54 1405.01 1536.5 Q1409.37 1541.47 1409.37 1550.25 Q1409.37 1559 1405.01 1564 Q1400.64 1568.97 1393.01 1568.97 Q1385.34 1568.97 1380.97 1564 Q1376.65 1559 1376.65 1550.25 Q1376.65 1541.47 1380.97 1536.5 Q1385.34 1531.54 1393.01 1531.54 Z\" fill=\"#000000\" fill-rule=\"nonzero\" fill-opacity=\"1\" /><path clip-path=\"url(#clip680)\" d=\"M1448.71 1546.53 L1448.71 1568.04 L1442.85 1568.04 L1442.85 1546.72 Q1442.85 1541.66 1440.88 1539.14 Q1438.9 1536.63 1434.96 1536.63 Q1430.21 1536.63 1427.48 1539.65 Q1424.74 1542.68 1424.74 1547.9 L1424.74 1568.04 L1418.85 1568.04 L1418.85 1532.4 L1424.74 1532.4 L1424.74 1537.93 Q1426.84 1534.72 1429.67 1533.13 Q1432.54 1531.54 1436.26 1531.54 Q1442.4 1531.54 1445.56 1535.36 Q1448.71 1539.14 1448.71 1546.53 Z\" fill=\"#000000\" fill-rule=\"nonzero\" fill-opacity=\"1\" /><polyline clip-path=\"url(#clip682)\" style=\"stroke:#000000; stroke-linecap:round; stroke-linejoin:round; stroke-width:2; stroke-opacity:0.1; fill:none\" points=\"280.097,1378.64 2352.76,1378.64 \"/>\n",
       "<polyline clip-path=\"url(#clip682)\" style=\"stroke:#000000; stroke-linecap:round; stroke-linejoin:round; stroke-width:2; stroke-opacity:0.1; fill:none\" points=\"280.097,1136.23 2352.76,1136.23 \"/>\n",
       "<polyline clip-path=\"url(#clip682)\" style=\"stroke:#000000; stroke-linecap:round; stroke-linejoin:round; stroke-width:2; stroke-opacity:0.1; fill:none\" points=\"280.097,893.829 2352.76,893.829 \"/>\n",
       "<polyline clip-path=\"url(#clip682)\" style=\"stroke:#000000; stroke-linecap:round; stroke-linejoin:round; stroke-width:2; stroke-opacity:0.1; fill:none\" points=\"280.097,651.424 2352.76,651.424 \"/>\n",
       "<polyline clip-path=\"url(#clip682)\" style=\"stroke:#000000; stroke-linecap:round; stroke-linejoin:round; stroke-width:2; stroke-opacity:0.1; fill:none\" points=\"280.097,409.019 2352.76,409.019 \"/>\n",
       "<polyline clip-path=\"url(#clip682)\" style=\"stroke:#000000; stroke-linecap:round; stroke-linejoin:round; stroke-width:2; stroke-opacity:0.1; fill:none\" points=\"280.097,166.614 2352.76,166.614 \"/>\n",
       "<polyline clip-path=\"url(#clip680)\" style=\"stroke:#000000; stroke-linecap:round; stroke-linejoin:round; stroke-width:4; stroke-opacity:1; fill:none\" points=\"280.097,1423.18 280.097,123.472 \"/>\n",
       "<polyline clip-path=\"url(#clip680)\" style=\"stroke:#000000; stroke-linecap:round; stroke-linejoin:round; stroke-width:4; stroke-opacity:1; fill:none\" points=\"280.097,1378.64 298.995,1378.64 \"/>\n",
       "<polyline clip-path=\"url(#clip680)\" style=\"stroke:#000000; stroke-linecap:round; stroke-linejoin:round; stroke-width:4; stroke-opacity:1; fill:none\" points=\"280.097,1136.23 298.995,1136.23 \"/>\n",
       "<polyline clip-path=\"url(#clip680)\" style=\"stroke:#000000; stroke-linecap:round; stroke-linejoin:round; stroke-width:4; stroke-opacity:1; fill:none\" points=\"280.097,893.829 298.995,893.829 \"/>\n",
       "<polyline clip-path=\"url(#clip680)\" style=\"stroke:#000000; stroke-linecap:round; stroke-linejoin:round; stroke-width:4; stroke-opacity:1; fill:none\" points=\"280.097,651.424 298.995,651.424 \"/>\n",
       "<polyline clip-path=\"url(#clip680)\" style=\"stroke:#000000; stroke-linecap:round; stroke-linejoin:round; stroke-width:4; stroke-opacity:1; fill:none\" points=\"280.097,409.019 298.995,409.019 \"/>\n",
       "<polyline clip-path=\"url(#clip680)\" style=\"stroke:#000000; stroke-linecap:round; stroke-linejoin:round; stroke-width:4; stroke-opacity:1; fill:none\" points=\"280.097,166.614 298.995,166.614 \"/>\n",
       "<path clip-path=\"url(#clip680)\" d=\"M126.783 1379.51 Q123.45 1379.51 121.529 1381.29 Q119.63 1383.07 119.63 1386.2 Q119.63 1389.32 121.529 1391.1 Q123.45 1392.89 126.783 1392.89 Q130.117 1392.89 132.038 1391.1 Q133.959 1389.3 133.959 1386.2 Q133.959 1383.07 132.038 1381.29 Q130.14 1379.51 126.783 1379.51 M122.107 1377.52 Q119.098 1376.78 117.408 1374.72 Q115.742 1372.66 115.742 1369.69 Q115.742 1365.55 118.681 1363.14 Q121.644 1360.73 126.783 1360.73 Q131.945 1360.73 134.885 1363.14 Q137.825 1365.55 137.825 1369.69 Q137.825 1372.66 136.135 1374.72 Q134.468 1376.78 131.482 1377.52 Q134.862 1378.3 136.737 1380.6 Q138.635 1382.89 138.635 1386.2 Q138.635 1391.22 135.556 1393.91 Q132.501 1396.59 126.783 1396.59 Q121.066 1396.59 117.987 1393.91 Q114.931 1391.22 114.931 1386.2 Q114.931 1382.89 116.83 1380.6 Q118.728 1378.3 122.107 1377.52 M120.394 1370.13 Q120.394 1372.82 122.061 1374.32 Q123.751 1375.83 126.783 1375.83 Q129.792 1375.83 131.482 1374.32 Q133.195 1372.82 133.195 1370.13 Q133.195 1367.45 131.482 1365.94 Q129.792 1364.44 126.783 1364.44 Q123.751 1364.44 122.061 1365.94 Q120.394 1367.45 120.394 1370.13 Z\" fill=\"#000000\" fill-rule=\"nonzero\" fill-opacity=\"1\" /><path clip-path=\"url(#clip680)\" d=\"M146.945 1390.04 L151.829 1390.04 L151.829 1395.92 L146.945 1395.92 L146.945 1390.04 Z\" fill=\"#000000\" fill-rule=\"nonzero\" fill-opacity=\"1\" /><path clip-path=\"url(#clip680)\" d=\"M176.181 1377.29 Q179.538 1378 181.413 1380.27 Q183.311 1382.54 183.311 1385.87 Q183.311 1390.99 179.792 1393.79 Q176.274 1396.59 169.792 1396.59 Q167.616 1396.59 165.302 1396.15 Q163.01 1395.73 160.556 1394.88 L160.556 1390.36 Q162.501 1391.5 164.815 1392.08 Q167.13 1392.66 169.653 1392.66 Q174.052 1392.66 176.343 1390.92 Q178.658 1389.18 178.658 1385.87 Q178.658 1382.82 176.505 1381.1 Q174.376 1379.37 170.556 1379.37 L166.528 1379.37 L166.528 1375.53 L170.741 1375.53 Q174.19 1375.53 176.019 1374.16 Q177.848 1372.77 177.848 1370.18 Q177.848 1367.52 175.95 1366.1 Q174.075 1364.67 170.556 1364.67 Q168.635 1364.67 166.436 1365.09 Q164.237 1365.5 161.598 1366.38 L161.598 1362.22 Q164.26 1361.47 166.575 1361.1 Q168.913 1360.73 170.973 1360.73 Q176.297 1360.73 179.399 1363.16 Q182.501 1365.57 182.501 1369.69 Q182.501 1372.56 180.857 1374.55 Q179.214 1376.52 176.181 1377.29 Z\" fill=\"#000000\" fill-rule=\"nonzero\" fill-opacity=\"1\" /><path clip-path=\"url(#clip680)\" d=\"M202.176 1364.44 Q198.565 1364.44 196.737 1368 Q194.931 1371.54 194.931 1378.67 Q194.931 1385.78 196.737 1389.35 Q198.565 1392.89 202.176 1392.89 Q205.811 1392.89 207.616 1389.35 Q209.445 1385.78 209.445 1378.67 Q209.445 1371.54 207.616 1368 Q205.811 1364.44 202.176 1364.44 M202.176 1360.73 Q207.987 1360.73 211.042 1365.34 Q214.121 1369.92 214.121 1378.67 Q214.121 1387.4 211.042 1392.01 Q207.987 1396.59 202.176 1396.59 Q196.366 1396.59 193.288 1392.01 Q190.232 1387.4 190.232 1378.67 Q190.232 1369.92 193.288 1365.34 Q196.366 1360.73 202.176 1360.73 Z\" fill=\"#000000\" fill-rule=\"nonzero\" fill-opacity=\"1\" /><path clip-path=\"url(#clip680)\" d=\"M222.477 1395.2 L222.477 1390.94 Q224.236 1391.78 226.042 1392.22 Q227.848 1392.66 229.584 1392.66 Q234.213 1392.66 236.644 1389.55 Q239.097 1386.43 239.445 1380.09 Q238.102 1382.08 236.042 1383.14 Q233.982 1384.21 231.482 1384.21 Q226.297 1384.21 223.264 1381.08 Q220.255 1377.93 220.255 1372.49 Q220.255 1367.17 223.403 1363.95 Q226.551 1360.73 231.783 1360.73 Q237.778 1360.73 240.926 1365.34 Q244.097 1369.92 244.097 1378.67 Q244.097 1386.85 240.209 1391.73 Q236.343 1396.59 229.792 1396.59 Q228.033 1396.59 226.227 1396.24 Q224.422 1395.9 222.477 1395.2 M231.783 1380.55 Q234.931 1380.55 236.76 1378.4 Q238.611 1376.24 238.611 1372.49 Q238.611 1368.77 236.76 1366.61 Q234.931 1364.44 231.783 1364.44 Q228.635 1364.44 226.783 1366.61 Q224.954 1368.77 224.954 1372.49 Q224.954 1376.24 226.783 1378.4 Q228.635 1380.55 231.783 1380.55 Z\" fill=\"#000000\" fill-rule=\"nonzero\" fill-opacity=\"1\" /><path clip-path=\"url(#clip680)\" d=\"M126.598 1137.1 Q123.265 1137.1 121.343 1138.88 Q119.445 1140.67 119.445 1143.79 Q119.445 1146.92 121.343 1148.7 Q123.265 1150.48 126.598 1150.48 Q129.931 1150.48 131.853 1148.7 Q133.774 1146.89 133.774 1143.79 Q133.774 1140.67 131.853 1138.88 Q129.955 1137.1 126.598 1137.1 M121.922 1135.11 Q118.913 1134.37 117.223 1132.31 Q115.556 1130.25 115.556 1127.29 Q115.556 1123.14 118.496 1120.74 Q121.459 1118.33 126.598 1118.33 Q131.76 1118.33 134.7 1120.74 Q137.64 1123.14 137.64 1127.29 Q137.64 1130.25 135.95 1132.31 Q134.283 1134.37 131.297 1135.11 Q134.677 1135.9 136.552 1138.19 Q138.45 1140.48 138.45 1143.79 Q138.45 1148.82 135.371 1151.5 Q132.316 1154.19 126.598 1154.19 Q120.88 1154.19 117.802 1151.5 Q114.746 1148.82 114.746 1143.79 Q114.746 1140.48 116.644 1138.19 Q118.543 1135.9 121.922 1135.11 M120.209 1127.73 Q120.209 1130.41 121.876 1131.92 Q123.566 1133.42 126.598 1133.42 Q129.607 1133.42 131.297 1131.92 Q133.01 1130.41 133.01 1127.73 Q133.01 1125.04 131.297 1123.54 Q129.607 1122.03 126.598 1122.03 Q123.566 1122.03 121.876 1123.54 Q120.209 1125.04 120.209 1127.73 Z\" fill=\"#000000\" fill-rule=\"nonzero\" fill-opacity=\"1\" /><path clip-path=\"url(#clip680)\" d=\"M146.76 1147.63 L151.644 1147.63 L151.644 1153.51 L146.76 1153.51 L146.76 1147.63 Z\" fill=\"#000000\" fill-rule=\"nonzero\" fill-opacity=\"1\" /><path clip-path=\"url(#clip680)\" d=\"M175.996 1134.88 Q179.352 1135.6 181.227 1137.87 Q183.126 1140.13 183.126 1143.47 Q183.126 1148.58 179.607 1151.38 Q176.089 1154.19 169.607 1154.19 Q167.431 1154.19 165.116 1153.75 Q162.825 1153.33 160.371 1152.47 L160.371 1147.96 Q162.315 1149.09 164.63 1149.67 Q166.945 1150.25 169.468 1150.25 Q173.866 1150.25 176.158 1148.51 Q178.473 1146.78 178.473 1143.47 Q178.473 1140.41 176.32 1138.7 Q174.19 1136.96 170.371 1136.96 L166.343 1136.96 L166.343 1133.12 L170.556 1133.12 Q174.005 1133.12 175.834 1131.76 Q177.663 1130.37 177.663 1127.77 Q177.663 1125.11 175.764 1123.7 Q173.889 1122.26 170.371 1122.26 Q168.45 1122.26 166.251 1122.68 Q164.052 1123.1 161.413 1123.98 L161.413 1119.81 Q164.075 1119.07 166.39 1118.7 Q168.727 1118.33 170.788 1118.33 Q176.112 1118.33 179.214 1120.76 Q182.315 1123.17 182.315 1127.29 Q182.315 1130.16 180.672 1132.15 Q179.028 1134.12 175.996 1134.88 Z\" fill=\"#000000\" fill-rule=\"nonzero\" fill-opacity=\"1\" /><path clip-path=\"url(#clip680)\" d=\"M192.801 1149.58 L200.44 1149.58 L200.44 1123.21 L192.13 1124.88 L192.13 1120.62 L200.394 1118.95 L205.07 1118.95 L205.07 1149.58 L212.709 1149.58 L212.709 1153.51 L192.801 1153.51 L192.801 1149.58 Z\" fill=\"#000000\" fill-rule=\"nonzero\" fill-opacity=\"1\" /><path clip-path=\"url(#clip680)\" d=\"M232.153 1122.03 Q228.542 1122.03 226.713 1125.6 Q224.908 1129.14 224.908 1136.27 Q224.908 1143.38 226.713 1146.94 Q228.542 1150.48 232.153 1150.48 Q235.787 1150.48 237.593 1146.94 Q239.422 1143.38 239.422 1136.27 Q239.422 1129.14 237.593 1125.6 Q235.787 1122.03 232.153 1122.03 M232.153 1118.33 Q237.963 1118.33 241.019 1122.94 Q244.097 1127.52 244.097 1136.27 Q244.097 1145 241.019 1149.6 Q237.963 1154.19 232.153 1154.19 Q226.343 1154.19 223.264 1149.6 Q220.209 1145 220.209 1136.27 Q220.209 1127.52 223.264 1122.94 Q226.343 1118.33 232.153 1118.33 Z\" fill=\"#000000\" fill-rule=\"nonzero\" fill-opacity=\"1\" /><path clip-path=\"url(#clip680)\" d=\"M127.825 894.697 Q124.492 894.697 122.57 896.48 Q120.672 898.262 120.672 901.387 Q120.672 904.512 122.57 906.294 Q124.492 908.077 127.825 908.077 Q131.158 908.077 133.08 906.294 Q135.001 904.489 135.001 901.387 Q135.001 898.262 133.08 896.48 Q131.181 894.697 127.825 894.697 M123.149 892.706 Q120.14 891.966 118.45 889.905 Q116.783 887.845 116.783 884.882 Q116.783 880.739 119.723 878.331 Q122.686 875.924 127.825 875.924 Q132.987 875.924 135.927 878.331 Q138.867 880.739 138.867 884.882 Q138.867 887.845 137.177 889.905 Q135.51 891.966 132.524 892.706 Q135.904 893.493 137.779 895.785 Q139.677 898.077 139.677 901.387 Q139.677 906.41 136.598 909.095 Q133.542 911.78 127.825 911.78 Q122.107 911.78 119.029 909.095 Q115.973 906.41 115.973 901.387 Q115.973 898.077 117.871 895.785 Q119.769 893.493 123.149 892.706 M121.436 885.322 Q121.436 888.007 123.103 889.512 Q124.793 891.017 127.825 891.017 Q130.834 891.017 132.524 889.512 Q134.237 888.007 134.237 885.322 Q134.237 882.637 132.524 881.132 Q130.834 879.628 127.825 879.628 Q124.793 879.628 123.103 881.132 Q121.436 882.637 121.436 885.322 Z\" fill=\"#000000\" fill-rule=\"nonzero\" fill-opacity=\"1\" /><path clip-path=\"url(#clip680)\" d=\"M147.987 905.229 L152.871 905.229 L152.871 911.109 L147.987 911.109 L147.987 905.229 Z\" fill=\"#000000\" fill-rule=\"nonzero\" fill-opacity=\"1\" /><path clip-path=\"url(#clip680)\" d=\"M177.223 892.475 Q180.579 893.193 182.454 895.461 Q184.352 897.73 184.352 901.063 Q184.352 906.179 180.834 908.979 Q177.315 911.78 170.834 911.78 Q168.658 911.78 166.343 911.341 Q164.052 910.924 161.598 910.067 L161.598 905.554 Q163.542 906.688 165.857 907.267 Q168.172 907.845 170.695 907.845 Q175.093 907.845 177.385 906.109 Q179.7 904.373 179.7 901.063 Q179.7 898.007 177.547 896.294 Q175.417 894.558 171.598 894.558 L167.57 894.558 L167.57 890.716 L171.783 890.716 Q175.232 890.716 177.061 889.35 Q178.889 887.961 178.889 885.368 Q178.889 882.706 176.991 881.294 Q175.116 879.859 171.598 879.859 Q169.677 879.859 167.477 880.276 Q165.278 880.693 162.64 881.572 L162.64 877.406 Q165.302 876.665 167.616 876.294 Q169.954 875.924 172.014 875.924 Q177.339 875.924 180.44 878.355 Q183.542 880.762 183.542 884.882 Q183.542 887.753 181.899 889.743 Q180.255 891.711 177.223 892.475 Z\" fill=\"#000000\" fill-rule=\"nonzero\" fill-opacity=\"1\" /><path clip-path=\"url(#clip680)\" d=\"M194.028 907.174 L201.667 907.174 L201.667 880.808 L193.357 882.475 L193.357 878.216 L201.621 876.549 L206.297 876.549 L206.297 907.174 L213.936 907.174 L213.936 911.109 L194.028 911.109 L194.028 907.174 Z\" fill=\"#000000\" fill-rule=\"nonzero\" fill-opacity=\"1\" /><path clip-path=\"url(#clip680)\" d=\"M224.19 907.174 L231.829 907.174 L231.829 880.808 L223.519 882.475 L223.519 878.216 L231.783 876.549 L236.459 876.549 L236.459 907.174 L244.097 907.174 L244.097 911.109 L224.19 911.109 L224.19 907.174 Z\" fill=\"#000000\" fill-rule=\"nonzero\" fill-opacity=\"1\" /><path clip-path=\"url(#clip680)\" d=\"M128.195 652.292 Q124.862 652.292 122.941 654.074 Q121.043 655.857 121.043 658.982 Q121.043 662.107 122.941 663.889 Q124.862 665.672 128.195 665.672 Q131.529 665.672 133.45 663.889 Q135.371 662.084 135.371 658.982 Q135.371 655.857 133.45 654.074 Q131.552 652.292 128.195 652.292 M123.519 650.301 Q120.51 649.561 118.82 647.5 Q117.154 645.44 117.154 642.477 Q117.154 638.334 120.093 635.926 Q123.056 633.519 128.195 633.519 Q133.357 633.519 136.297 635.926 Q139.237 638.334 139.237 642.477 Q139.237 645.44 137.547 647.5 Q135.88 649.561 132.894 650.301 Q136.274 651.088 138.149 653.38 Q140.047 655.672 140.047 658.982 Q140.047 664.005 136.968 666.69 Q133.913 669.375 128.195 669.375 Q122.478 669.375 119.399 666.69 Q116.343 664.005 116.343 658.982 Q116.343 655.672 118.242 653.38 Q120.14 651.088 123.519 650.301 M121.806 642.917 Q121.806 645.602 123.473 647.107 Q125.163 648.612 128.195 648.612 Q131.205 648.612 132.894 647.107 Q134.607 645.602 134.607 642.917 Q134.607 640.232 132.894 638.727 Q131.205 637.223 128.195 637.223 Q125.163 637.223 123.473 638.727 Q121.806 640.232 121.806 642.917 Z\" fill=\"#000000\" fill-rule=\"nonzero\" fill-opacity=\"1\" /><path clip-path=\"url(#clip680)\" d=\"M148.357 662.824 L153.241 662.824 L153.241 668.704 L148.357 668.704 L148.357 662.824 Z\" fill=\"#000000\" fill-rule=\"nonzero\" fill-opacity=\"1\" /><path clip-path=\"url(#clip680)\" d=\"M177.593 650.07 Q180.95 650.787 182.825 653.056 Q184.723 655.324 184.723 658.658 Q184.723 663.773 181.204 666.574 Q177.686 669.375 171.204 669.375 Q169.028 669.375 166.714 668.935 Q164.422 668.519 161.968 667.662 L161.968 663.148 Q163.913 664.283 166.227 664.861 Q168.542 665.44 171.065 665.44 Q175.464 665.44 177.755 663.704 Q180.07 661.968 180.07 658.658 Q180.07 655.602 177.917 653.889 Q175.788 652.153 171.968 652.153 L167.94 652.153 L167.94 648.311 L172.153 648.311 Q175.602 648.311 177.431 646.945 Q179.26 645.556 179.26 642.963 Q179.26 640.301 177.362 638.889 Q175.487 637.454 171.968 637.454 Q170.047 637.454 167.848 637.871 Q165.649 638.288 163.01 639.167 L163.01 635 Q165.672 634.26 167.987 633.889 Q170.325 633.519 172.385 633.519 Q177.709 633.519 180.811 635.95 Q183.913 638.357 183.913 642.477 Q183.913 645.348 182.269 647.338 Q180.626 649.306 177.593 650.07 Z\" fill=\"#000000\" fill-rule=\"nonzero\" fill-opacity=\"1\" /><path clip-path=\"url(#clip680)\" d=\"M194.399 664.769 L202.037 664.769 L202.037 638.403 L193.727 640.07 L193.727 635.811 L201.991 634.144 L206.667 634.144 L206.667 664.769 L214.306 664.769 L214.306 668.704 L194.399 668.704 L194.399 664.769 Z\" fill=\"#000000\" fill-rule=\"nonzero\" fill-opacity=\"1\" /><path clip-path=\"url(#clip680)\" d=\"M227.778 664.769 L244.097 664.769 L244.097 668.704 L222.153 668.704 L222.153 664.769 Q224.815 662.014 229.398 657.385 Q234.005 652.732 235.185 651.389 Q237.431 648.866 238.31 647.13 Q239.213 645.371 239.213 643.681 Q239.213 640.926 237.269 639.19 Q235.347 637.454 232.246 637.454 Q230.047 637.454 227.593 638.218 Q225.162 638.982 222.385 640.533 L222.385 635.811 Q225.209 634.676 227.662 634.098 Q230.116 633.519 232.153 633.519 Q237.523 633.519 240.718 636.204 Q243.912 638.889 243.912 643.38 Q243.912 645.51 243.102 647.431 Q242.315 649.329 240.209 651.922 Q239.63 652.593 236.528 655.811 Q233.426 659.005 227.778 664.769 Z\" fill=\"#000000\" fill-rule=\"nonzero\" fill-opacity=\"1\" /><path clip-path=\"url(#clip680)\" d=\"M127.246 409.887 Q123.913 409.887 121.992 411.669 Q120.093 413.452 120.093 416.577 Q120.093 419.702 121.992 421.484 Q123.913 423.267 127.246 423.267 Q130.58 423.267 132.501 421.484 Q134.422 419.679 134.422 416.577 Q134.422 413.452 132.501 411.669 Q130.603 409.887 127.246 409.887 M122.57 407.896 Q119.561 407.156 117.871 405.095 Q116.205 403.035 116.205 400.072 Q116.205 395.929 119.144 393.521 Q122.107 391.114 127.246 391.114 Q132.408 391.114 135.348 393.521 Q138.288 395.929 138.288 400.072 Q138.288 403.035 136.598 405.095 Q134.931 407.156 131.945 407.896 Q135.325 408.683 137.2 410.975 Q139.098 413.267 139.098 416.577 Q139.098 421.6 136.019 424.285 Q132.964 426.97 127.246 426.97 Q121.529 426.97 118.45 424.285 Q115.394 421.6 115.394 416.577 Q115.394 413.267 117.293 410.975 Q119.191 408.683 122.57 407.896 M120.857 400.512 Q120.857 403.197 122.524 404.702 Q124.214 406.206 127.246 406.206 Q130.255 406.206 131.945 404.702 Q133.658 403.197 133.658 400.512 Q133.658 397.827 131.945 396.322 Q130.255 394.818 127.246 394.818 Q124.214 394.818 122.524 396.322 Q120.857 397.827 120.857 400.512 Z\" fill=\"#000000\" fill-rule=\"nonzero\" fill-opacity=\"1\" /><path clip-path=\"url(#clip680)\" d=\"M147.408 420.419 L152.292 420.419 L152.292 426.299 L147.408 426.299 L147.408 420.419 Z\" fill=\"#000000\" fill-rule=\"nonzero\" fill-opacity=\"1\" /><path clip-path=\"url(#clip680)\" d=\"M176.644 407.665 Q180.001 408.382 181.876 410.651 Q183.774 412.919 183.774 416.253 Q183.774 421.368 180.255 424.169 Q176.737 426.97 170.255 426.97 Q168.079 426.97 165.765 426.53 Q163.473 426.114 161.019 425.257 L161.019 420.743 Q162.964 421.878 165.278 422.456 Q167.593 423.035 170.116 423.035 Q174.514 423.035 176.806 421.299 Q179.121 419.563 179.121 416.253 Q179.121 413.197 176.968 411.484 Q174.839 409.748 171.019 409.748 L166.991 409.748 L166.991 405.906 L171.204 405.906 Q174.653 405.906 176.482 404.54 Q178.311 403.151 178.311 400.558 Q178.311 397.896 176.413 396.484 Q174.538 395.049 171.019 395.049 Q169.098 395.049 166.899 395.466 Q164.7 395.882 162.061 396.762 L162.061 392.595 Q164.723 391.855 167.038 391.484 Q169.376 391.114 171.436 391.114 Q176.76 391.114 179.862 393.544 Q182.963 395.952 182.963 400.072 Q182.963 402.943 181.32 404.933 Q179.676 406.901 176.644 407.665 Z\" fill=\"#000000\" fill-rule=\"nonzero\" fill-opacity=\"1\" /><path clip-path=\"url(#clip680)\" d=\"M193.45 422.364 L201.088 422.364 L201.088 395.998 L192.778 397.665 L192.778 393.406 L201.042 391.739 L205.718 391.739 L205.718 422.364 L213.357 422.364 L213.357 426.299 L193.45 426.299 L193.45 422.364 Z\" fill=\"#000000\" fill-rule=\"nonzero\" fill-opacity=\"1\" /><path clip-path=\"url(#clip680)\" d=\"M236.968 407.665 Q240.324 408.382 242.199 410.651 Q244.097 412.919 244.097 416.253 Q244.097 421.368 240.579 424.169 Q237.06 426.97 230.579 426.97 Q228.403 426.97 226.088 426.53 Q223.797 426.114 221.343 425.257 L221.343 420.743 Q223.287 421.878 225.602 422.456 Q227.917 423.035 230.44 423.035 Q234.838 423.035 237.13 421.299 Q239.445 419.563 239.445 416.253 Q239.445 413.197 237.292 411.484 Q235.162 409.748 231.343 409.748 L227.315 409.748 L227.315 405.906 L231.528 405.906 Q234.977 405.906 236.806 404.54 Q238.634 403.151 238.634 400.558 Q238.634 397.896 236.736 396.484 Q234.861 395.049 231.343 395.049 Q229.422 395.049 227.223 395.466 Q225.023 395.882 222.385 396.762 L222.385 392.595 Q225.047 391.855 227.361 391.484 Q229.699 391.114 231.76 391.114 Q237.084 391.114 240.185 393.544 Q243.287 395.952 243.287 400.072 Q243.287 402.943 241.644 404.933 Q240 406.901 236.968 407.665 Z\" fill=\"#000000\" fill-rule=\"nonzero\" fill-opacity=\"1\" /><path clip-path=\"url(#clip680)\" d=\"M126.112 167.482 Q122.779 167.482 120.857 169.264 Q118.959 171.047 118.959 174.172 Q118.959 177.297 120.857 179.079 Q122.779 180.861 126.112 180.861 Q129.445 180.861 131.367 179.079 Q133.288 177.274 133.288 174.172 Q133.288 171.047 131.367 169.264 Q129.468 167.482 126.112 167.482 M121.436 165.491 Q118.427 164.75 116.737 162.69 Q115.07 160.63 115.07 157.667 Q115.07 153.524 118.01 151.116 Q120.973 148.709 126.112 148.709 Q131.274 148.709 134.214 151.116 Q137.154 153.524 137.154 157.667 Q137.154 160.63 135.464 162.69 Q133.797 164.75 130.811 165.491 Q134.191 166.278 136.066 168.57 Q137.964 170.862 137.964 174.172 Q137.964 179.195 134.885 181.88 Q131.83 184.565 126.112 184.565 Q120.394 184.565 117.316 181.88 Q114.26 179.195 114.26 174.172 Q114.26 170.862 116.158 168.57 Q118.056 166.278 121.436 165.491 M119.723 158.107 Q119.723 160.792 121.39 162.297 Q123.08 163.801 126.112 163.801 Q129.121 163.801 130.811 162.297 Q132.524 160.792 132.524 158.107 Q132.524 155.422 130.811 153.917 Q129.121 152.413 126.112 152.413 Q123.08 152.413 121.39 153.917 Q119.723 155.422 119.723 158.107 Z\" fill=\"#000000\" fill-rule=\"nonzero\" fill-opacity=\"1\" /><path clip-path=\"url(#clip680)\" d=\"M146.274 178.014 L151.158 178.014 L151.158 183.894 L146.274 183.894 L146.274 178.014 Z\" fill=\"#000000\" fill-rule=\"nonzero\" fill-opacity=\"1\" /><path clip-path=\"url(#clip680)\" d=\"M175.51 165.26 Q178.866 165.977 180.741 168.246 Q182.639 170.514 182.639 173.848 Q182.639 178.963 179.121 181.764 Q175.602 184.565 169.121 184.565 Q166.945 184.565 164.63 184.125 Q162.339 183.709 159.885 182.852 L159.885 178.338 Q161.829 179.473 164.144 180.051 Q166.459 180.63 168.982 180.63 Q173.38 180.63 175.672 178.894 Q177.987 177.158 177.987 173.848 Q177.987 170.792 175.834 169.079 Q173.704 167.343 169.885 167.343 L165.857 167.343 L165.857 163.5 L170.07 163.5 Q173.519 163.5 175.348 162.135 Q177.176 160.746 177.176 158.153 Q177.176 155.491 175.278 154.079 Q173.403 152.644 169.885 152.644 Q167.964 152.644 165.765 153.061 Q163.565 153.477 160.927 154.357 L160.927 150.19 Q163.589 149.45 165.903 149.079 Q168.241 148.709 170.302 148.709 Q175.626 148.709 178.727 151.139 Q181.829 153.547 181.829 157.667 Q181.829 160.538 180.186 162.528 Q178.542 164.496 175.51 165.26 Z\" fill=\"#000000\" fill-rule=\"nonzero\" fill-opacity=\"1\" /><path clip-path=\"url(#clip680)\" d=\"M192.315 179.959 L199.954 179.959 L199.954 153.593 L191.644 155.26 L191.644 151.001 L199.908 149.334 L204.584 149.334 L204.584 179.959 L212.223 179.959 L212.223 183.894 L192.315 183.894 L192.315 179.959 Z\" fill=\"#000000\" fill-rule=\"nonzero\" fill-opacity=\"1\" /><path clip-path=\"url(#clip680)\" d=\"M234.514 153.408 L222.709 171.857 L234.514 171.857 L234.514 153.408 M233.287 149.334 L239.167 149.334 L239.167 171.857 L244.097 171.857 L244.097 175.746 L239.167 175.746 L239.167 183.894 L234.514 183.894 L234.514 175.746 L218.912 175.746 L218.912 171.232 L233.287 149.334 Z\" fill=\"#000000\" fill-rule=\"nonzero\" fill-opacity=\"1\" /><path clip-path=\"url(#clip680)\" d=\"M16.4842 1056.25 L16.4842 1028.94 L21.895 1028.94 L21.895 1049.82 L35.8996 1049.82 L35.8996 1030.98 L41.3104 1030.98 L41.3104 1049.82 L64.0042 1049.82 L64.0042 1056.25 L16.4842 1056.25 Z\" fill=\"#000000\" fill-rule=\"nonzero\" fill-opacity=\"1\" /><path clip-path=\"url(#clip680)\" d=\"M33.8307 1003.1 Q33.2578 1004.08 33.0032 1005.26 Q32.7167 1006.41 32.7167 1007.81 Q32.7167 1012.77 35.9632 1015.45 Q39.1779 1018.09 45.2253 1018.09 L64.0042 1018.09 L64.0042 1023.98 L28.3562 1023.98 L28.3562 1018.09 L33.8944 1018.09 Q30.6479 1016.24 29.0883 1013.28 Q27.4968 1010.32 27.4968 1006.09 Q27.4968 1005.48 27.5923 1004.75 Q27.656 1004.02 27.8151 1003.13 L33.8307 1003.1 Z\" fill=\"#000000\" fill-rule=\"nonzero\" fill-opacity=\"1\" /><path clip-path=\"url(#clip680)\" d=\"M44.7161 967.894 L47.5806 967.894 L47.5806 994.821 Q53.6281 994.439 56.8109 991.192 Q59.9619 987.914 59.9619 982.089 Q59.9619 978.716 59.1344 975.564 Q58.3069 972.382 56.6518 969.262 L62.1899 969.262 Q63.5267 972.413 64.227 975.724 Q64.9272 979.034 64.9272 982.439 Q64.9272 990.969 59.9619 995.967 Q54.9967 1000.93 46.5303 1000.93 Q37.7774 1000.93 32.6531 996.221 Q27.4968 991.479 27.4968 983.458 Q27.4968 976.265 32.1438 972.095 Q36.7589 967.894 44.7161 967.894 M42.9973 973.75 Q38.1912 973.814 35.3266 976.456 Q32.4621 979.066 32.4621 983.394 Q32.4621 988.296 35.2312 991.256 Q38.0002 994.184 43.0292 994.63 L42.9973 973.75 Z\" fill=\"#000000\" fill-rule=\"nonzero\" fill-opacity=\"1\" /><path clip-path=\"url(#clip680)\" d=\"M44.7161 927.79 L47.5806 927.79 L47.5806 954.717 Q53.6281 954.335 56.8109 951.088 Q59.9619 947.81 59.9619 941.985 Q59.9619 938.612 59.1344 935.461 Q58.3069 932.278 56.6518 929.158 L62.1899 929.158 Q63.5267 932.31 64.227 935.62 Q64.9272 938.93 64.9272 942.335 Q64.9272 950.866 59.9619 955.863 Q54.9967 960.828 46.5303 960.828 Q37.7774 960.828 32.6531 956.117 Q27.4968 951.375 27.4968 943.354 Q27.4968 936.161 32.1438 931.991 Q36.7589 927.79 44.7161 927.79 M42.9973 933.646 Q38.1912 933.71 35.3266 936.352 Q32.4621 938.962 32.4621 943.29 Q32.4621 948.192 35.2312 951.152 Q38.0002 954.08 43.0292 954.526 L42.9973 933.646 Z\" fill=\"#000000\" fill-rule=\"nonzero\" fill-opacity=\"1\" /><path clip-path=\"url(#clip680)\" d=\"M16.4842 897.203 L16.4842 867.156 L21.895 867.156 L21.895 890.773 L35.9632 890.773 L35.9632 868.143 L41.3741 868.143 L41.3741 890.773 L58.5933 890.773 L58.5933 866.584 L64.0042 866.584 L64.0042 897.203 L16.4842 897.203 Z\" fill=\"#000000\" fill-rule=\"nonzero\" fill-opacity=\"1\" /><path clip-path=\"url(#clip680)\" d=\"M42.4881 826.639 L64.0042 826.639 L64.0042 832.495 L42.679 832.495 Q37.6183 832.495 35.1038 834.469 Q32.5894 836.442 32.5894 840.389 Q32.5894 845.131 35.6131 847.868 Q38.6368 850.606 43.8567 850.606 L64.0042 850.606 L64.0042 856.494 L28.3562 856.494 L28.3562 850.606 L33.8944 850.606 Q30.6797 848.505 29.0883 845.672 Q27.4968 842.808 27.4968 839.084 Q27.4968 832.941 31.3163 829.79 Q35.1038 826.639 42.4881 826.639 Z\" fill=\"#000000\" fill-rule=\"nonzero\" fill-opacity=\"1\" /><path clip-path=\"url(#clip680)\" d=\"M44.7161 784.466 L47.5806 784.466 L47.5806 811.393 Q53.6281 811.011 56.8109 807.764 Q59.9619 804.486 59.9619 798.661 Q59.9619 795.288 59.1344 792.137 Q58.3069 788.954 56.6518 785.835 L62.1899 785.835 Q63.5267 788.986 64.227 792.296 Q64.9272 795.606 64.9272 799.012 Q64.9272 807.542 59.9619 812.539 Q54.9967 817.504 46.5303 817.504 Q37.7774 817.504 32.6531 812.793 Q27.4968 808.051 27.4968 800.03 Q27.4968 792.837 32.1438 788.667 Q36.7589 784.466 44.7161 784.466 M42.9973 790.322 Q38.1912 790.386 35.3266 793.028 Q32.4621 795.638 32.4621 799.966 Q32.4621 804.868 35.2312 807.828 Q38.0002 810.756 43.0292 811.202 L42.9973 790.322 Z\" fill=\"#000000\" fill-rule=\"nonzero\" fill-opacity=\"1\" /><path clip-path=\"url(#clip680)\" d=\"M33.8307 754.197 Q33.2578 755.184 33.0032 756.361 Q32.7167 757.507 32.7167 758.908 Q32.7167 763.873 35.9632 766.547 Q39.1779 769.188 45.2253 769.188 L64.0042 769.188 L64.0042 775.077 L28.3562 775.077 L28.3562 769.188 L33.8944 769.188 Q30.6479 767.342 29.0883 764.382 Q27.4968 761.422 27.4968 757.189 Q27.4968 756.584 27.5923 755.852 Q27.656 755.12 27.8151 754.229 L33.8307 754.197 Z\" fill=\"#000000\" fill-rule=\"nonzero\" fill-opacity=\"1\" /><path clip-path=\"url(#clip680)\" d=\"M45.7664 725.742 Q39.4007 725.742 35.8996 728.384 Q32.3984 730.994 32.3984 735.736 Q32.3984 740.447 35.8996 743.089 Q39.4007 745.699 45.7664 745.699 Q52.1003 745.699 55.6014 743.089 Q59.1026 740.447 59.1026 735.736 Q59.1026 730.994 55.6014 728.384 Q52.1003 725.742 45.7664 725.742 M59.58 719.886 Q68.683 719.886 73.1071 723.928 Q77.5631 727.97 77.5631 736.309 Q77.5631 739.397 77.0857 742.134 Q76.6401 744.871 75.6852 747.449 L69.9879 747.449 Q71.3884 744.871 72.0568 742.357 Q72.7252 739.842 72.7252 737.232 Q72.7252 731.471 69.7015 728.607 Q66.7096 725.742 60.6303 725.742 L57.7339 725.742 Q60.885 727.557 62.4446 730.389 Q64.0042 733.222 64.0042 737.169 Q64.0042 743.725 59.0071 747.736 Q54.01 751.746 45.7664 751.746 Q37.491 751.746 32.4939 747.736 Q27.4968 743.725 27.4968 737.169 Q27.4968 733.222 29.0564 730.389 Q30.616 727.557 33.7671 725.742 L28.3562 725.742 L28.3562 719.886 L59.58 719.886 Z\" fill=\"#000000\" fill-rule=\"nonzero\" fill-opacity=\"1\" /><path clip-path=\"url(#clip680)\" d=\"M67.3143 692.991 Q73.68 695.473 75.6216 697.829 Q77.5631 700.184 77.5631 704.131 L77.5631 708.81 L72.6615 708.81 L72.6615 705.372 Q72.6615 702.953 71.5157 701.616 Q70.3699 700.28 66.1048 698.656 L63.4312 697.606 L28.3562 712.024 L28.3562 705.818 L56.238 694.678 L28.3562 683.538 L28.3562 677.331 L67.3143 692.991 Z\" fill=\"#000000\" fill-rule=\"nonzero\" fill-opacity=\"1\" /><path clip-path=\"url(#clip680)\" d=\"M14.479 649.067 L14.479 635.572 L19.0304 635.572 L19.0304 643.211 L68.0464 643.211 L68.0464 635.572 L72.5979 635.572 L72.5979 649.067 L14.479 649.067 Z\" fill=\"#000000\" fill-rule=\"nonzero\" fill-opacity=\"1\" /><path clip-path=\"url(#clip680)\" d=\"M46.212 597.505 Q39.7508 597.505 36.0905 600.179 Q32.3984 602.821 32.3984 607.467 Q32.3984 612.114 36.0905 614.788 Q39.7508 617.43 46.212 617.43 Q52.6732 617.43 56.3653 614.788 Q60.0256 612.114 60.0256 607.467 Q60.0256 602.821 56.3653 600.179 Q52.6732 597.505 46.212 597.505 M33.7671 617.43 Q30.5842 615.584 29.0564 612.783 Q27.4968 609.95 27.4968 606.035 Q27.4968 599.542 32.6531 595.5 Q37.8093 591.426 46.212 591.426 Q54.6147 591.426 59.771 595.5 Q64.9272 599.542 64.9272 606.035 Q64.9272 609.95 63.3994 612.783 Q61.8398 615.584 58.657 617.43 L64.0042 617.43 L64.0042 623.318 L14.479 623.318 L14.479 617.43 L33.7671 617.43 Z\" fill=\"#000000\" fill-rule=\"nonzero\" fill-opacity=\"1\" /><path clip-path=\"url(#clip680)\" d=\"M28.3562 581.718 L28.3562 575.862 L64.0042 575.862 L64.0042 581.718 L28.3562 581.718 M14.479 581.718 L14.479 575.862 L21.895 575.862 L21.895 581.718 L14.479 581.718 Z\" fill=\"#000000\" fill-rule=\"nonzero\" fill-opacity=\"1\" /><path clip-path=\"url(#clip680)\" d=\"M18.2347 557.815 L28.3562 557.815 L28.3562 545.752 L32.9077 545.752 L32.9077 557.815 L52.2594 557.815 Q56.6199 557.815 57.8613 556.637 Q59.1026 555.428 59.1026 551.768 L59.1026 545.752 L64.0042 545.752 L64.0042 551.768 Q64.0042 558.547 61.4897 561.125 Q58.9434 563.703 52.2594 563.703 L32.9077 563.703 L32.9077 568 L28.3562 568 L28.3562 563.703 L18.2347 563.703 L18.2347 557.815 Z\" fill=\"#000000\" fill-rule=\"nonzero\" fill-opacity=\"1\" /><path clip-path=\"url(#clip680)\" d=\"M29.4065 515.324 L34.9447 515.324 Q33.6716 517.807 33.035 520.48 Q32.3984 523.154 32.3984 526.018 Q32.3984 530.379 33.7352 532.575 Q35.072 534.739 37.7456 534.739 Q39.7826 534.739 40.9603 533.18 Q42.1061 531.62 43.1565 526.909 L43.6021 524.904 Q44.9389 518.666 47.3897 516.056 Q49.8086 513.414 54.1691 513.414 Q59.1344 513.414 62.0308 517.361 Q64.9272 521.276 64.9272 528.151 Q64.9272 531.015 64.3543 534.135 Q63.8132 537.222 62.6992 540.659 L56.6518 540.659 Q58.3387 537.413 59.198 534.262 Q60.0256 531.111 60.0256 528.023 Q60.0256 523.886 58.6251 521.658 Q57.1929 519.43 54.6147 519.43 Q52.2276 519.43 50.9545 521.053 Q49.6813 522.644 48.5037 528.087 L48.0262 530.124 Q46.8804 535.567 44.5251 537.986 Q42.138 540.405 38.0002 540.405 Q32.9713 540.405 30.2341 536.84 Q27.4968 533.275 27.4968 526.719 Q27.4968 523.472 27.9743 520.607 Q28.4517 517.743 29.4065 515.324 Z\" fill=\"#000000\" fill-rule=\"nonzero\" fill-opacity=\"1\" /><path clip-path=\"url(#clip680)\" d=\"M14.479 490.402 L72.5979 490.402 L72.5979 503.897 L68.0464 503.897 L68.0464 496.29 L19.0304 496.29 L19.0304 503.897 L14.479 503.897 L14.479 490.402 Z\" fill=\"#000000\" fill-rule=\"nonzero\" fill-opacity=\"1\" /><path clip-path=\"url(#clip680)\" d=\"M1077.26 18.8205 L1077.26 41.5461 L1087.55 41.5461 Q1093.26 41.5461 1096.38 38.5889 Q1099.5 35.6318 1099.5 30.163 Q1099.5 24.7348 1096.38 21.7777 Q1093.26 18.8205 1087.55 18.8205 L1077.26 18.8205 M1069.08 12.096 L1087.55 12.096 Q1097.72 12.096 1102.9 16.714 Q1108.13 21.2916 1108.13 30.163 Q1108.13 39.1155 1102.9 43.6931 Q1097.72 48.2706 1087.55 48.2706 L1077.26 48.2706 L1077.26 72.576 L1069.08 72.576 L1069.08 12.096 Z\" fill=\"#000000\" fill-rule=\"nonzero\" fill-opacity=\"1\" /><path clip-path=\"url(#clip680)\" d=\"M1133.41 32.4315 Q1127.41 32.4315 1123.93 37.1306 Q1120.44 41.7891 1120.44 49.9314 Q1120.44 58.0738 1123.89 62.7728 Q1127.37 67.4314 1133.41 67.4314 Q1139.36 67.4314 1142.85 62.7323 Q1146.33 58.0333 1146.33 49.9314 Q1146.33 41.8701 1142.85 37.1711 Q1139.36 32.4315 1133.41 32.4315 M1133.41 26.1121 Q1143.13 26.1121 1148.68 32.4315 Q1154.23 38.7509 1154.23 49.9314 Q1154.23 61.0714 1148.68 67.4314 Q1143.13 73.7508 1133.41 73.7508 Q1123.64 73.7508 1118.09 67.4314 Q1112.59 61.0714 1112.59 49.9314 Q1112.59 38.7509 1118.09 32.4315 Q1123.64 26.1121 1133.41 26.1121 Z\" fill=\"#000000\" fill-rule=\"nonzero\" fill-opacity=\"1\" /><path clip-path=\"url(#clip680)\" d=\"M1166.58 9.54393 L1174.04 9.54393 L1174.04 72.576 L1166.58 72.576 L1166.58 9.54393 Z\" fill=\"#000000\" fill-rule=\"nonzero\" fill-opacity=\"1\" /><path clip-path=\"url(#clip680)\" d=\"M1189.63 27.2059 L1197.09 27.2059 L1197.09 72.576 L1189.63 72.576 L1189.63 27.2059 M1189.63 9.54393 L1197.09 9.54393 L1197.09 18.9825 L1189.63 18.9825 L1189.63 9.54393 Z\" fill=\"#000000\" fill-rule=\"nonzero\" fill-opacity=\"1\" /><path clip-path=\"url(#clip680)\" d=\"M1245.33 28.9478 L1245.33 35.9153 Q1242.17 34.1734 1238.97 33.3227 Q1235.81 32.4315 1232.57 32.4315 Q1225.32 32.4315 1221.31 37.0496 Q1217.3 41.6271 1217.3 49.9314 Q1217.3 58.2358 1221.31 62.8538 Q1225.32 67.4314 1232.57 67.4314 Q1235.81 67.4314 1238.97 66.5807 Q1242.17 65.6895 1245.33 63.9476 L1245.33 70.8341 Q1242.21 72.2924 1238.85 73.0216 Q1235.53 73.7508 1231.76 73.7508 Q1221.51 73.7508 1215.48 67.3098 Q1209.44 60.8689 1209.44 49.9314 Q1209.44 38.832 1215.52 32.472 Q1221.64 26.1121 1232.25 26.1121 Q1235.69 26.1121 1238.97 26.8413 Q1242.25 27.5299 1245.33 28.9478 Z\" fill=\"#000000\" fill-rule=\"nonzero\" fill-opacity=\"1\" /><path clip-path=\"url(#clip680)\" d=\"M1277.17 76.7889 Q1274.01 84.8907 1271.02 87.3618 Q1268.02 89.8329 1263 89.8329 L1257.04 89.8329 L1257.04 83.5945 L1261.42 83.5945 Q1264.49 83.5945 1266.2 82.1361 Q1267.9 80.6778 1269.96 75.2496 L1271.3 71.8468 L1252.95 27.2059 L1260.85 27.2059 L1275.03 62.6918 L1289.2 27.2059 L1297.1 27.2059 L1277.17 76.7889 Z\" fill=\"#000000\" fill-rule=\"nonzero\" fill-opacity=\"1\" /><path clip-path=\"url(#clip680)\" d=\"M1303.26 62.2867 L1311.81 62.2867 L1311.81 72.576 L1303.26 72.576 L1303.26 62.2867 M1303.26 29.6769 L1311.81 29.6769 L1311.81 39.9662 L1303.26 39.9662 L1303.26 29.6769 Z\" fill=\"#000000\" fill-rule=\"nonzero\" fill-opacity=\"1\" /><path clip-path=\"url(#clip680)\" d=\"M1373.58 9.62495 Q1368.16 18.942 1365.52 28.0566 Q1362.89 37.1711 1362.89 46.5287 Q1362.89 55.8863 1365.52 65.0818 Q1368.2 74.2369 1373.58 83.5134 L1367.1 83.5134 Q1361.03 73.9938 1357.99 64.7983 Q1354.99 55.6027 1354.99 46.5287 Q1354.99 37.4952 1357.99 28.3401 Q1360.99 19.1851 1367.1 9.62495 L1373.58 9.62495 Z\" fill=\"#000000\" fill-rule=\"nonzero\" fill-opacity=\"1\" /><path clip-path=\"url(#clip680)\" d=\"M1411.58 19.2256 L1390.92 51.5113 L1411.58 51.5113 L1411.58 19.2256 M1409.44 12.096 L1419.72 12.096 L1419.72 51.5113 L1428.35 51.5113 L1428.35 58.3168 L1419.72 58.3168 L1419.72 72.576 L1411.58 72.576 L1411.58 58.3168 L1384.28 58.3168 L1384.28 50.4176 L1409.44 12.096 Z\" fill=\"#000000\" fill-rule=\"nonzero\" fill-opacity=\"1\" /><path clip-path=\"url(#clip680)\" d=\"M1442.73 62.2867 L1451.28 62.2867 L1451.28 69.2543 L1444.64 82.2172 L1439.41 82.2172 L1442.73 69.2543 L1442.73 62.2867 Z\" fill=\"#000000\" fill-rule=\"nonzero\" fill-opacity=\"1\" /><path clip-path=\"url(#clip680)\" d=\"M1501.67 65.6895 L1530.23 65.6895 L1530.23 72.576 L1491.83 72.576 L1491.83 65.6895 Q1496.49 60.8689 1504.51 52.7671 Q1512.57 44.6248 1514.64 42.2752 Q1518.57 37.8598 1520.11 34.8216 Q1521.69 31.7429 1521.69 28.7857 Q1521.69 23.9651 1518.28 20.927 Q1514.92 17.8888 1509.49 17.8888 Q1505.64 17.8888 1501.35 19.2256 Q1497.1 20.5624 1492.24 23.2765 L1492.24 15.0127 Q1497.18 13.0277 1501.47 12.015 Q1505.77 11.0023 1509.33 11.0023 Q1518.73 11.0023 1524.32 15.7013 Q1529.91 20.4004 1529.91 28.2591 Q1529.91 31.9859 1528.49 35.3482 Q1527.11 38.6699 1523.43 43.2069 Q1522.42 44.3817 1516.99 50.0125 Q1511.56 55.6027 1501.67 65.6895 Z\" fill=\"#000000\" fill-rule=\"nonzero\" fill-opacity=\"1\" /><path clip-path=\"url(#clip680)\" d=\"M1545.18 9.62495 L1551.66 9.62495 Q1557.74 19.1851 1560.74 28.3401 Q1563.77 37.4952 1563.77 46.5287 Q1563.77 55.6027 1560.74 64.7983 Q1557.74 73.9938 1551.66 83.5134 L1545.18 83.5134 Q1550.57 74.2369 1553.2 65.0818 Q1555.88 55.8863 1555.88 46.5287 Q1555.88 37.1711 1553.2 28.0566 Q1550.57 18.942 1545.18 9.62495 Z\" fill=\"#000000\" fill-rule=\"nonzero\" fill-opacity=\"1\" /><polyline clip-path=\"url(#clip682)\" style=\"stroke:#000000; stroke-linecap:round; stroke-linejoin:round; stroke-width:8; stroke-opacity:1; fill:none\" points=\"338.758,160.256 2294.1,1386.4 \"/>\n",
       "</svg>\n"
      ]
     },
     "execution_count": 15,
     "metadata": {},
     "output_type": "execute_result"
    }
   ],
   "source": [
    "plot(1:n_its, Gis, color=:black, linewidth=2, xlabel=\"Iteration\", ylabel=\"Free Energy [bits]\", label=false, title=\"Policy: $pol\")\n",
    "\n",
    "#savefig(\"figures/policy.png\")"
   ]
  },
  {
   "cell_type": "code",
   "execution_count": 16,
   "metadata": {},
   "outputs": [
    {
     "data": {
      "image/svg+xml": [
       "<?xml version=\"1.0\" encoding=\"utf-8\"?>\n",
       "<svg xmlns=\"http://www.w3.org/2000/svg\" xmlns:xlink=\"http://www.w3.org/1999/xlink\" width=\"600\" height=\"400\" viewBox=\"0 0 2400 1600\">\n",
       "<defs>\n",
       "  <clipPath id=\"clip720\">\n",
       "    <rect x=\"0\" y=\"0\" width=\"2400\" height=\"1600\"/>\n",
       "  </clipPath>\n",
       "</defs>\n",
       "<path clip-path=\"url(#clip720)\" d=\"M0 1600 L2400 1600 L2400 0 L0 0  Z\" fill=\"#ffffff\" fill-rule=\"evenodd\" fill-opacity=\"1\"/>\n",
       "<defs>\n",
       "  <clipPath id=\"clip721\">\n",
       "    <rect x=\"480\" y=\"0\" width=\"1681\" height=\"1600\"/>\n",
       "  </clipPath>\n",
       "</defs>\n",
       "<path clip-path=\"url(#clip720)\" d=\"M156.506 1486.45 L2352.76 1486.45 L2352.76 47.2441 L156.506 47.2441  Z\" fill=\"#ffffff\" fill-rule=\"evenodd\" fill-opacity=\"1\"/>\n",
       "<defs>\n",
       "  <clipPath id=\"clip722\">\n",
       "    <rect x=\"156\" y=\"47\" width=\"2197\" height=\"1440\"/>\n",
       "  </clipPath>\n",
       "</defs>\n",
       "<polyline clip-path=\"url(#clip722)\" style=\"stroke:#000000; stroke-linecap:round; stroke-linejoin:round; stroke-width:2; stroke-opacity:0.1; fill:none\" points=\"218.664,1486.45 218.664,47.2441 \"/>\n",
       "<polyline clip-path=\"url(#clip722)\" style=\"stroke:#000000; stroke-linecap:round; stroke-linejoin:round; stroke-width:2; stroke-opacity:0.1; fill:none\" points=\"736.647,1486.45 736.647,47.2441 \"/>\n",
       "<polyline clip-path=\"url(#clip722)\" style=\"stroke:#000000; stroke-linecap:round; stroke-linejoin:round; stroke-width:2; stroke-opacity:0.1; fill:none\" points=\"1254.63,1486.45 1254.63,47.2441 \"/>\n",
       "<polyline clip-path=\"url(#clip722)\" style=\"stroke:#000000; stroke-linecap:round; stroke-linejoin:round; stroke-width:2; stroke-opacity:0.1; fill:none\" points=\"1772.61,1486.45 1772.61,47.2441 \"/>\n",
       "<polyline clip-path=\"url(#clip722)\" style=\"stroke:#000000; stroke-linecap:round; stroke-linejoin:round; stroke-width:2; stroke-opacity:0.1; fill:none\" points=\"2290.6,1486.45 2290.6,47.2441 \"/>\n",
       "<polyline clip-path=\"url(#clip720)\" style=\"stroke:#000000; stroke-linecap:round; stroke-linejoin:round; stroke-width:4; stroke-opacity:1; fill:none\" points=\"156.506,1486.45 2352.76,1486.45 \"/>\n",
       "<polyline clip-path=\"url(#clip720)\" style=\"stroke:#000000; stroke-linecap:round; stroke-linejoin:round; stroke-width:4; stroke-opacity:1; fill:none\" points=\"218.664,1486.45 218.664,1467.55 \"/>\n",
       "<polyline clip-path=\"url(#clip720)\" style=\"stroke:#000000; stroke-linecap:round; stroke-linejoin:round; stroke-width:4; stroke-opacity:1; fill:none\" points=\"736.647,1486.45 736.647,1467.55 \"/>\n",
       "<polyline clip-path=\"url(#clip720)\" style=\"stroke:#000000; stroke-linecap:round; stroke-linejoin:round; stroke-width:4; stroke-opacity:1; fill:none\" points=\"1254.63,1486.45 1254.63,1467.55 \"/>\n",
       "<polyline clip-path=\"url(#clip720)\" style=\"stroke:#000000; stroke-linecap:round; stroke-linejoin:round; stroke-width:4; stroke-opacity:1; fill:none\" points=\"1772.61,1486.45 1772.61,1467.55 \"/>\n",
       "<polyline clip-path=\"url(#clip720)\" style=\"stroke:#000000; stroke-linecap:round; stroke-linejoin:round; stroke-width:4; stroke-opacity:1; fill:none\" points=\"2290.6,1486.45 2290.6,1467.55 \"/>\n",
       "<path clip-path=\"url(#clip720)\" d=\"M170.736 1544.91 L178.375 1544.91 L178.375 1518.55 L170.064 1520.21 L170.064 1515.95 L178.328 1514.29 L183.004 1514.29 L183.004 1544.91 L190.643 1544.91 L190.643 1548.85 L170.736 1548.85 L170.736 1544.91 Z\" fill=\"#000000\" fill-rule=\"nonzero\" fill-opacity=\"1\" /><path clip-path=\"url(#clip720)\" d=\"M200.087 1542.97 L204.972 1542.97 L204.972 1548.85 L200.087 1548.85 L200.087 1542.97 Z\" fill=\"#000000\" fill-rule=\"nonzero\" fill-opacity=\"1\" /><path clip-path=\"url(#clip720)\" d=\"M225.157 1517.37 Q221.546 1517.37 219.717 1520.93 Q217.911 1524.47 217.911 1531.6 Q217.911 1538.71 219.717 1542.27 Q221.546 1545.82 225.157 1545.82 Q228.791 1545.82 230.596 1542.27 Q232.425 1538.71 232.425 1531.6 Q232.425 1524.47 230.596 1520.93 Q228.791 1517.37 225.157 1517.37 M225.157 1513.66 Q230.967 1513.66 234.022 1518.27 Q237.101 1522.85 237.101 1531.6 Q237.101 1540.33 234.022 1544.94 Q230.967 1549.52 225.157 1549.52 Q219.347 1549.52 216.268 1544.94 Q213.212 1540.33 213.212 1531.6 Q213.212 1522.85 216.268 1518.27 Q219.347 1513.66 225.157 1513.66 Z\" fill=\"#000000\" fill-rule=\"nonzero\" fill-opacity=\"1\" /><path clip-path=\"url(#clip720)\" d=\"M255.319 1517.37 Q251.707 1517.37 249.879 1520.93 Q248.073 1524.47 248.073 1531.6 Q248.073 1538.71 249.879 1542.27 Q251.707 1545.82 255.319 1545.82 Q258.953 1545.82 260.758 1542.27 Q262.587 1538.71 262.587 1531.6 Q262.587 1524.47 260.758 1520.93 Q258.953 1517.37 255.319 1517.37 M255.319 1513.66 Q261.129 1513.66 264.184 1518.27 Q267.263 1522.85 267.263 1531.6 Q267.263 1540.33 264.184 1544.94 Q261.129 1549.52 255.319 1549.52 Q249.508 1549.52 246.43 1544.94 Q243.374 1540.33 243.374 1531.6 Q243.374 1522.85 246.43 1518.27 Q249.508 1513.66 255.319 1513.66 Z\" fill=\"#000000\" fill-rule=\"nonzero\" fill-opacity=\"1\" /><path clip-path=\"url(#clip720)\" d=\"M689.217 1544.91 L696.856 1544.91 L696.856 1518.55 L688.546 1520.21 L688.546 1515.95 L696.809 1514.29 L701.485 1514.29 L701.485 1544.91 L709.124 1544.91 L709.124 1548.85 L689.217 1548.85 L689.217 1544.91 Z\" fill=\"#000000\" fill-rule=\"nonzero\" fill-opacity=\"1\" /><path clip-path=\"url(#clip720)\" d=\"M718.569 1542.97 L723.453 1542.97 L723.453 1548.85 L718.569 1548.85 L718.569 1542.97 Z\" fill=\"#000000\" fill-rule=\"nonzero\" fill-opacity=\"1\" /><path clip-path=\"url(#clip720)\" d=\"M737.666 1544.91 L753.985 1544.91 L753.985 1548.85 L732.041 1548.85 L732.041 1544.91 Q734.703 1542.16 739.286 1537.53 Q743.893 1532.88 745.073 1531.53 Q747.318 1529.01 748.198 1527.27 Q749.101 1525.51 749.101 1523.82 Q749.101 1521.07 747.156 1519.33 Q745.235 1517.6 742.133 1517.6 Q739.934 1517.6 737.481 1518.36 Q735.05 1519.13 732.272 1520.68 L732.272 1515.95 Q735.096 1514.82 737.55 1514.24 Q740.004 1513.66 742.041 1513.66 Q747.411 1513.66 750.605 1516.35 Q753.8 1519.03 753.8 1523.52 Q753.8 1525.65 752.99 1527.57 Q752.203 1529.47 750.096 1532.07 Q749.518 1532.74 746.416 1535.95 Q743.314 1539.15 737.666 1544.91 Z\" fill=\"#000000\" fill-rule=\"nonzero\" fill-opacity=\"1\" /><path clip-path=\"url(#clip720)\" d=\"M763.846 1514.29 L782.203 1514.29 L782.203 1518.22 L768.129 1518.22 L768.129 1526.7 Q769.147 1526.35 770.166 1526.19 Q771.184 1526 772.203 1526 Q777.99 1526 781.369 1529.17 Q784.749 1532.34 784.749 1537.76 Q784.749 1543.34 781.277 1546.44 Q777.804 1549.52 771.485 1549.52 Q769.309 1549.52 767.041 1549.15 Q764.795 1548.78 762.388 1548.04 L762.388 1543.34 Q764.471 1544.47 766.693 1545.03 Q768.916 1545.58 771.392 1545.58 Q775.397 1545.58 777.735 1543.48 Q780.073 1541.37 780.073 1537.76 Q780.073 1534.15 777.735 1532.04 Q775.397 1529.94 771.392 1529.94 Q769.517 1529.94 767.642 1530.35 Q765.791 1530.77 763.846 1531.65 L763.846 1514.29 Z\" fill=\"#000000\" fill-rule=\"nonzero\" fill-opacity=\"1\" /><path clip-path=\"url(#clip720)\" d=\"M1206.7 1544.91 L1214.34 1544.91 L1214.34 1518.55 L1206.03 1520.21 L1206.03 1515.95 L1214.3 1514.29 L1218.97 1514.29 L1218.97 1544.91 L1226.61 1544.91 L1226.61 1548.85 L1206.7 1548.85 L1206.7 1544.91 Z\" fill=\"#000000\" fill-rule=\"nonzero\" fill-opacity=\"1\" /><path clip-path=\"url(#clip720)\" d=\"M1236.05 1542.97 L1240.94 1542.97 L1240.94 1548.85 L1236.05 1548.85 L1236.05 1542.97 Z\" fill=\"#000000\" fill-rule=\"nonzero\" fill-opacity=\"1\" /><path clip-path=\"url(#clip720)\" d=\"M1251.17 1514.29 L1269.53 1514.29 L1269.53 1518.22 L1255.45 1518.22 L1255.45 1526.7 Q1256.47 1526.35 1257.49 1526.19 Q1258.51 1526 1259.53 1526 Q1265.31 1526 1268.69 1529.17 Q1272.07 1532.34 1272.07 1537.76 Q1272.07 1543.34 1268.6 1546.44 Q1265.13 1549.52 1258.81 1549.52 Q1256.63 1549.52 1254.36 1549.15 Q1252.12 1548.78 1249.71 1548.04 L1249.71 1543.34 Q1251.8 1544.47 1254.02 1545.03 Q1256.24 1545.58 1258.72 1545.58 Q1262.72 1545.58 1265.06 1543.48 Q1267.4 1541.37 1267.4 1537.76 Q1267.4 1534.15 1265.06 1532.04 Q1262.72 1529.94 1258.72 1529.94 Q1256.84 1529.94 1254.97 1530.35 Q1253.11 1530.77 1251.17 1531.65 L1251.17 1514.29 Z\" fill=\"#000000\" fill-rule=\"nonzero\" fill-opacity=\"1\" /><path clip-path=\"url(#clip720)\" d=\"M1291.29 1517.37 Q1287.67 1517.37 1285.85 1520.93 Q1284.04 1524.47 1284.04 1531.6 Q1284.04 1538.71 1285.85 1542.27 Q1287.67 1545.82 1291.29 1545.82 Q1294.92 1545.82 1296.73 1542.27 Q1298.55 1538.71 1298.55 1531.6 Q1298.55 1524.47 1296.73 1520.93 Q1294.92 1517.37 1291.29 1517.37 M1291.29 1513.66 Q1297.1 1513.66 1300.15 1518.27 Q1303.23 1522.85 1303.23 1531.6 Q1303.23 1540.33 1300.15 1544.94 Q1297.1 1549.52 1291.29 1549.52 Q1285.48 1549.52 1282.4 1544.94 Q1279.34 1540.33 1279.34 1531.6 Q1279.34 1522.85 1282.4 1518.27 Q1285.48 1513.66 1291.29 1513.66 Z\" fill=\"#000000\" fill-rule=\"nonzero\" fill-opacity=\"1\" /><path clip-path=\"url(#clip720)\" d=\"M1725.18 1544.91 L1732.82 1544.91 L1732.82 1518.55 L1724.51 1520.21 L1724.51 1515.95 L1732.78 1514.29 L1737.45 1514.29 L1737.45 1544.91 L1745.09 1544.91 L1745.09 1548.85 L1725.18 1548.85 L1725.18 1544.91 Z\" fill=\"#000000\" fill-rule=\"nonzero\" fill-opacity=\"1\" /><path clip-path=\"url(#clip720)\" d=\"M1754.54 1542.97 L1759.42 1542.97 L1759.42 1548.85 L1754.54 1548.85 L1754.54 1542.97 Z\" fill=\"#000000\" fill-rule=\"nonzero\" fill-opacity=\"1\" /><path clip-path=\"url(#clip720)\" d=\"M1768.42 1514.29 L1790.65 1514.29 L1790.65 1516.28 L1778.1 1548.85 L1773.22 1548.85 L1785.02 1518.22 L1768.42 1518.22 L1768.42 1514.29 Z\" fill=\"#000000\" fill-rule=\"nonzero\" fill-opacity=\"1\" /><path clip-path=\"url(#clip720)\" d=\"M1799.81 1514.29 L1818.17 1514.29 L1818.17 1518.22 L1804.1 1518.22 L1804.1 1526.7 Q1805.11 1526.35 1806.13 1526.19 Q1807.15 1526 1808.17 1526 Q1813.96 1526 1817.34 1529.17 Q1820.72 1532.34 1820.72 1537.76 Q1820.72 1543.34 1817.24 1546.44 Q1813.77 1549.52 1807.45 1549.52 Q1805.28 1549.52 1803.01 1549.15 Q1800.76 1548.78 1798.35 1548.04 L1798.35 1543.34 Q1800.44 1544.47 1802.66 1545.03 Q1804.88 1545.58 1807.36 1545.58 Q1811.36 1545.58 1813.7 1543.48 Q1816.04 1541.37 1816.04 1537.76 Q1816.04 1534.15 1813.7 1532.04 Q1811.36 1529.94 1807.36 1529.94 Q1805.48 1529.94 1803.61 1530.35 Q1801.76 1530.77 1799.81 1531.65 L1799.81 1514.29 Z\" fill=\"#000000\" fill-rule=\"nonzero\" fill-opacity=\"1\" /><path clip-path=\"url(#clip720)\" d=\"M2246.76 1544.91 L2263.07 1544.91 L2263.07 1548.85 L2241.13 1548.85 L2241.13 1544.91 Q2243.79 1542.16 2248.38 1537.53 Q2252.98 1532.88 2254.16 1531.53 Q2256.41 1529.01 2257.29 1527.27 Q2258.19 1525.51 2258.19 1523.82 Q2258.19 1521.07 2256.25 1519.33 Q2254.32 1517.6 2251.22 1517.6 Q2249.02 1517.6 2246.57 1518.36 Q2244.14 1519.13 2241.36 1520.68 L2241.36 1515.95 Q2244.19 1514.82 2246.64 1514.24 Q2249.09 1513.66 2251.13 1513.66 Q2256.5 1513.66 2259.7 1516.35 Q2262.89 1519.03 2262.89 1523.52 Q2262.89 1525.65 2262.08 1527.57 Q2261.29 1529.47 2259.19 1532.07 Q2258.61 1532.74 2255.51 1535.95 Q2252.4 1539.15 2246.76 1544.91 Z\" fill=\"#000000\" fill-rule=\"nonzero\" fill-opacity=\"1\" /><path clip-path=\"url(#clip720)\" d=\"M2272.89 1542.97 L2277.77 1542.97 L2277.77 1548.85 L2272.89 1548.85 L2272.89 1542.97 Z\" fill=\"#000000\" fill-rule=\"nonzero\" fill-opacity=\"1\" /><path clip-path=\"url(#clip720)\" d=\"M2297.96 1517.37 Q2294.35 1517.37 2292.52 1520.93 Q2290.71 1524.47 2290.71 1531.6 Q2290.71 1538.71 2292.52 1542.27 Q2294.35 1545.82 2297.96 1545.82 Q2301.59 1545.82 2303.4 1542.27 Q2305.23 1538.71 2305.23 1531.6 Q2305.23 1524.47 2303.4 1520.93 Q2301.59 1517.37 2297.96 1517.37 M2297.96 1513.66 Q2303.77 1513.66 2306.82 1518.27 Q2309.9 1522.85 2309.9 1531.6 Q2309.9 1540.33 2306.82 1544.94 Q2303.77 1549.52 2297.96 1549.52 Q2292.15 1549.52 2289.07 1544.94 Q2286.01 1540.33 2286.01 1531.6 Q2286.01 1522.85 2289.07 1518.27 Q2292.15 1513.66 2297.96 1513.66 Z\" fill=\"#000000\" fill-rule=\"nonzero\" fill-opacity=\"1\" /><path clip-path=\"url(#clip720)\" d=\"M2328.12 1517.37 Q2324.51 1517.37 2322.68 1520.93 Q2320.88 1524.47 2320.88 1531.6 Q2320.88 1538.71 2322.68 1542.27 Q2324.51 1545.82 2328.12 1545.82 Q2331.76 1545.82 2333.56 1542.27 Q2335.39 1538.71 2335.39 1531.6 Q2335.39 1524.47 2333.56 1520.93 Q2331.76 1517.37 2328.12 1517.37 M2328.12 1513.66 Q2333.93 1513.66 2336.99 1518.27 Q2340.07 1522.85 2340.07 1531.6 Q2340.07 1540.33 2336.99 1544.94 Q2333.93 1549.52 2328.12 1549.52 Q2322.31 1549.52 2319.23 1544.94 Q2316.18 1540.33 2316.18 1531.6 Q2316.18 1522.85 2319.23 1518.27 Q2322.31 1513.66 2328.12 1513.66 Z\" fill=\"#000000\" fill-rule=\"nonzero\" fill-opacity=\"1\" /><polyline clip-path=\"url(#clip722)\" style=\"stroke:#000000; stroke-linecap:round; stroke-linejoin:round; stroke-width:2; stroke-opacity:0.1; fill:none\" points=\"156.506,1322.12 2352.76,1322.12 \"/>\n",
       "<polyline clip-path=\"url(#clip722)\" style=\"stroke:#000000; stroke-linecap:round; stroke-linejoin:round; stroke-width:2; stroke-opacity:0.1; fill:none\" points=\"156.506,1050.57 2352.76,1050.57 \"/>\n",
       "<polyline clip-path=\"url(#clip722)\" style=\"stroke:#000000; stroke-linecap:round; stroke-linejoin:round; stroke-width:2; stroke-opacity:0.1; fill:none\" points=\"156.506,779.022 2352.76,779.022 \"/>\n",
       "<polyline clip-path=\"url(#clip722)\" style=\"stroke:#000000; stroke-linecap:round; stroke-linejoin:round; stroke-width:2; stroke-opacity:0.1; fill:none\" points=\"156.506,507.474 2352.76,507.474 \"/>\n",
       "<polyline clip-path=\"url(#clip722)\" style=\"stroke:#000000; stroke-linecap:round; stroke-linejoin:round; stroke-width:2; stroke-opacity:0.1; fill:none\" points=\"156.506,235.926 2352.76,235.926 \"/>\n",
       "<polyline clip-path=\"url(#clip720)\" style=\"stroke:#000000; stroke-linecap:round; stroke-linejoin:round; stroke-width:4; stroke-opacity:1; fill:none\" points=\"156.506,1486.45 156.506,47.2441 \"/>\n",
       "<polyline clip-path=\"url(#clip720)\" style=\"stroke:#000000; stroke-linecap:round; stroke-linejoin:round; stroke-width:4; stroke-opacity:1; fill:none\" points=\"156.506,1322.12 175.403,1322.12 \"/>\n",
       "<polyline clip-path=\"url(#clip720)\" style=\"stroke:#000000; stroke-linecap:round; stroke-linejoin:round; stroke-width:4; stroke-opacity:1; fill:none\" points=\"156.506,1050.57 175.403,1050.57 \"/>\n",
       "<polyline clip-path=\"url(#clip720)\" style=\"stroke:#000000; stroke-linecap:round; stroke-linejoin:round; stroke-width:4; stroke-opacity:1; fill:none\" points=\"156.506,779.022 175.403,779.022 \"/>\n",
       "<polyline clip-path=\"url(#clip720)\" style=\"stroke:#000000; stroke-linecap:round; stroke-linejoin:round; stroke-width:4; stroke-opacity:1; fill:none\" points=\"156.506,507.474 175.403,507.474 \"/>\n",
       "<polyline clip-path=\"url(#clip720)\" style=\"stroke:#000000; stroke-linecap:round; stroke-linejoin:round; stroke-width:4; stroke-opacity:1; fill:none\" points=\"156.506,235.926 175.403,235.926 \"/>\n",
       "<path clip-path=\"url(#clip720)\" d=\"M62.8439 1322.99 Q59.5106 1322.99 57.5893 1324.77 Q55.6912 1326.55 55.6912 1329.68 Q55.6912 1332.8 57.5893 1334.58 Q59.5106 1336.37 62.8439 1336.37 Q66.1772 1336.37 68.0985 1334.58 Q70.0198 1332.78 70.0198 1329.68 Q70.0198 1326.55 68.0985 1324.77 Q66.2004 1322.99 62.8439 1322.99 M58.168 1321 Q55.1588 1320.25 53.469 1318.19 Q51.8023 1316.13 51.8023 1313.17 Q51.8023 1309.03 54.7421 1306.62 Q57.7051 1304.21 62.8439 1304.21 Q68.0059 1304.21 70.9457 1306.62 Q73.8855 1309.03 73.8855 1313.17 Q73.8855 1316.13 72.1957 1318.19 Q70.5291 1320.25 67.543 1321 Q70.9226 1321.78 72.7976 1324.07 Q74.6957 1326.37 74.6957 1329.68 Q74.6957 1334.7 71.617 1337.38 Q68.5615 1340.07 62.8439 1340.07 Q57.1264 1340.07 54.0477 1337.38 Q50.9921 1334.7 50.9921 1329.68 Q50.9921 1326.37 52.8903 1324.07 Q54.7884 1321.78 58.168 1321 M56.4551 1313.61 Q56.4551 1316.3 58.1217 1317.8 Q59.8115 1319.31 62.8439 1319.31 Q65.8532 1319.31 67.543 1317.8 Q69.2559 1316.3 69.2559 1313.61 Q69.2559 1310.93 67.543 1309.42 Q65.8532 1307.92 62.8439 1307.92 Q59.8115 1307.92 58.1217 1309.42 Q56.4551 1310.93 56.4551 1313.61 Z\" fill=\"#000000\" fill-rule=\"nonzero\" fill-opacity=\"1\" /><path clip-path=\"url(#clip720)\" d=\"M83.0058 1333.52 L87.8901 1333.52 L87.8901 1339.4 L83.0058 1339.4 L83.0058 1333.52 Z\" fill=\"#000000\" fill-rule=\"nonzero\" fill-opacity=\"1\" /><path clip-path=\"url(#clip720)\" d=\"M110.922 1308.91 L99.1169 1327.36 L110.922 1327.36 L110.922 1308.91 M109.696 1304.84 L115.575 1304.84 L115.575 1327.36 L120.506 1327.36 L120.506 1331.25 L115.575 1331.25 L115.575 1339.4 L110.922 1339.4 L110.922 1331.25 L95.3206 1331.25 L95.3206 1326.74 L109.696 1304.84 Z\" fill=\"#000000\" fill-rule=\"nonzero\" fill-opacity=\"1\" /><path clip-path=\"url(#clip720)\" d=\"M63.168 1051.44 Q59.8347 1051.44 57.9134 1053.22 Q56.0152 1055 56.0152 1058.13 Q56.0152 1061.25 57.9134 1063.04 Q59.8347 1064.82 63.168 1064.82 Q66.5013 1064.82 68.4226 1063.04 Q70.3439 1061.23 70.3439 1058.13 Q70.3439 1055 68.4226 1053.22 Q66.5245 1051.44 63.168 1051.44 M58.4921 1049.45 Q55.4828 1048.71 53.793 1046.65 Q52.1264 1044.59 52.1264 1041.62 Q52.1264 1037.48 55.0662 1035.07 Q58.0291 1032.67 63.168 1032.67 Q68.33 1032.67 71.2698 1035.07 Q74.2096 1037.48 74.2096 1041.62 Q74.2096 1044.59 72.5198 1046.65 Q70.8531 1048.71 67.867 1049.45 Q71.2466 1050.23 73.1216 1052.53 Q75.0198 1054.82 75.0198 1058.13 Q75.0198 1063.15 71.9411 1065.84 Q68.8855 1068.52 63.168 1068.52 Q57.4504 1068.52 54.3717 1065.84 Q51.3162 1063.15 51.3162 1058.13 Q51.3162 1054.82 53.2143 1052.53 Q55.1125 1050.23 58.4921 1049.45 M56.7791 1042.06 Q56.7791 1044.75 58.4458 1046.25 Q60.1356 1047.76 63.168 1047.76 Q66.1772 1047.76 67.867 1046.25 Q69.58 1044.75 69.58 1042.06 Q69.58 1039.38 67.867 1037.87 Q66.1772 1036.37 63.168 1036.37 Q60.1356 1036.37 58.4458 1037.87 Q56.7791 1039.38 56.7791 1042.06 Z\" fill=\"#000000\" fill-rule=\"nonzero\" fill-opacity=\"1\" /><path clip-path=\"url(#clip720)\" d=\"M83.3299 1061.97 L88.2141 1061.97 L88.2141 1067.85 L83.3299 1067.85 L83.3299 1061.97 Z\" fill=\"#000000\" fill-rule=\"nonzero\" fill-opacity=\"1\" /><path clip-path=\"url(#clip720)\" d=\"M108.978 1048.71 Q105.83 1048.71 103.978 1050.86 Q102.149 1053.01 102.149 1056.76 Q102.149 1060.49 103.978 1062.66 Q105.83 1064.82 108.978 1064.82 Q112.126 1064.82 113.955 1062.66 Q115.807 1060.49 115.807 1056.76 Q115.807 1053.01 113.955 1050.86 Q112.126 1048.71 108.978 1048.71 M118.26 1034.05 L118.26 1038.31 Q116.501 1037.48 114.695 1037.04 Q112.913 1036.6 111.154 1036.6 Q106.524 1036.6 104.071 1039.73 Q101.64 1042.85 101.293 1049.17 Q102.659 1047.16 104.719 1046.09 Q106.779 1045 109.256 1045 Q114.464 1045 117.473 1048.17 Q120.506 1051.32 120.506 1056.76 Q120.506 1062.09 117.358 1065.3 Q114.209 1068.52 108.978 1068.52 Q102.983 1068.52 99.8113 1063.94 Q96.64 1059.33 96.64 1050.6 Q96.64 1042.41 100.529 1037.55 Q104.418 1032.67 110.969 1032.67 Q112.728 1032.67 114.51 1033.01 Q116.316 1033.36 118.26 1034.05 Z\" fill=\"#000000\" fill-rule=\"nonzero\" fill-opacity=\"1\" /><path clip-path=\"url(#clip720)\" d=\"M63.4226 779.89 Q60.0893 779.89 58.168 781.673 Q56.2699 783.455 56.2699 786.58 Q56.2699 789.705 58.168 791.487 Q60.0893 793.27 63.4226 793.27 Q66.7559 793.27 68.6772 791.487 Q70.5985 789.682 70.5985 786.58 Q70.5985 783.455 68.6772 781.673 Q66.7791 779.89 63.4226 779.89 M58.7467 777.9 Q55.7375 777.159 54.0477 775.099 Q52.381 773.038 52.381 770.075 Q52.381 765.932 55.3208 763.525 Q58.2838 761.117 63.4226 761.117 Q68.5846 761.117 71.5244 763.525 Q74.4642 765.932 74.4642 770.075 Q74.4642 773.038 72.7744 775.099 Q71.1078 777.159 68.1217 777.9 Q71.5013 778.687 73.3763 780.978 Q75.2744 783.27 75.2744 786.58 Q75.2744 791.603 72.1957 794.288 Q69.1402 796.973 63.4226 796.973 Q57.7051 796.973 54.6264 794.288 Q51.5708 791.603 51.5708 786.58 Q51.5708 783.27 53.469 780.978 Q55.3671 778.687 58.7467 777.9 M57.0338 770.515 Q57.0338 773.2 58.7004 774.705 Q60.3902 776.21 63.4226 776.21 Q66.4319 776.21 68.1217 774.705 Q69.8346 773.2 69.8346 770.515 Q69.8346 767.83 68.1217 766.326 Q66.4319 764.821 63.4226 764.821 Q60.3902 764.821 58.7004 766.326 Q57.0338 767.83 57.0338 770.515 Z\" fill=\"#000000\" fill-rule=\"nonzero\" fill-opacity=\"1\" /><path clip-path=\"url(#clip720)\" d=\"M83.5845 790.423 L88.4688 790.423 L88.4688 796.302 L83.5845 796.302 L83.5845 790.423 Z\" fill=\"#000000\" fill-rule=\"nonzero\" fill-opacity=\"1\" /><path clip-path=\"url(#clip720)\" d=\"M108.654 779.89 Q105.321 779.89 103.399 781.673 Q101.501 783.455 101.501 786.58 Q101.501 789.705 103.399 791.487 Q105.321 793.27 108.654 793.27 Q111.987 793.27 113.908 791.487 Q115.83 789.682 115.83 786.58 Q115.83 783.455 113.908 781.673 Q112.01 779.89 108.654 779.89 M103.978 777.9 Q100.969 777.159 99.2789 775.099 Q97.6122 773.038 97.6122 770.075 Q97.6122 765.932 100.552 763.525 Q103.515 761.117 108.654 761.117 Q113.816 761.117 116.756 763.525 Q119.695 765.932 119.695 770.075 Q119.695 773.038 118.006 775.099 Q116.339 777.159 113.353 777.9 Q116.733 778.687 118.608 780.978 Q120.506 783.27 120.506 786.58 Q120.506 791.603 117.427 794.288 Q114.371 796.973 108.654 796.973 Q102.936 796.973 99.8576 794.288 Q96.8021 791.603 96.8021 786.58 Q96.8021 783.27 98.7002 780.978 Q100.598 778.687 103.978 777.9 M102.265 770.515 Q102.265 773.2 103.932 774.705 Q105.621 776.21 108.654 776.21 Q111.663 776.21 113.353 774.705 Q115.066 773.2 115.066 770.515 Q115.066 767.83 113.353 766.326 Q111.663 764.821 108.654 764.821 Q105.621 764.821 103.932 766.326 Q102.265 767.83 102.265 770.515 Z\" fill=\"#000000\" fill-rule=\"nonzero\" fill-opacity=\"1\" /><path clip-path=\"url(#clip720)\" d=\"M53.469 524.037 L53.469 519.777 Q55.2282 520.611 57.0338 521.051 Q58.8393 521.49 60.5754 521.49 Q65.205 521.49 67.6356 518.389 Q70.0892 515.264 70.4365 508.921 Q69.0939 510.912 67.0337 511.977 Q64.9735 513.041 62.4735 513.041 Q57.2884 513.041 54.256 509.916 Q51.2468 506.768 51.2468 501.329 Q51.2468 496.004 54.3949 492.787 Q57.543 489.569 62.7745 489.569 Q68.7698 489.569 71.9179 494.176 Q75.0892 498.759 75.0892 507.509 Q75.0892 515.68 71.2004 520.565 Q67.3346 525.426 60.7837 525.426 Q59.0245 525.426 57.2189 525.078 Q55.4134 524.731 53.469 524.037 M62.7745 509.384 Q65.9226 509.384 67.7513 507.231 Q69.6031 505.078 69.6031 501.329 Q69.6031 497.602 67.7513 495.449 Q65.9226 493.273 62.7745 493.273 Q59.6263 493.273 57.7745 495.449 Q55.9458 497.602 55.9458 501.329 Q55.9458 505.078 57.7745 507.231 Q59.6263 509.384 62.7745 509.384 Z\" fill=\"#000000\" fill-rule=\"nonzero\" fill-opacity=\"1\" /><path clip-path=\"url(#clip720)\" d=\"M83.492 518.875 L88.3762 518.875 L88.3762 524.754 L83.492 524.754 L83.492 518.875 Z\" fill=\"#000000\" fill-rule=\"nonzero\" fill-opacity=\"1\" /><path clip-path=\"url(#clip720)\" d=\"M108.561 493.273 Q104.95 493.273 103.121 496.838 Q101.316 500.379 101.316 507.509 Q101.316 514.615 103.121 518.18 Q104.95 521.722 108.561 521.722 Q112.196 521.722 114.001 518.18 Q115.83 514.615 115.83 507.509 Q115.83 500.379 114.001 496.838 Q112.196 493.273 108.561 493.273 M108.561 489.569 Q114.371 489.569 117.427 494.176 Q120.506 498.759 120.506 507.509 Q120.506 516.236 117.427 520.842 Q114.371 525.426 108.561 525.426 Q102.751 525.426 99.6724 520.842 Q96.6169 516.236 96.6169 507.509 Q96.6169 498.759 99.6724 494.176 Q102.751 489.569 108.561 489.569 Z\" fill=\"#000000\" fill-rule=\"nonzero\" fill-opacity=\"1\" /><path clip-path=\"url(#clip720)\" d=\"M55.0662 252.489 L55.0662 248.23 Q56.8254 249.063 58.631 249.503 Q60.4365 249.943 62.1726 249.943 Q66.8022 249.943 69.2328 246.841 Q71.6865 243.716 72.0337 237.373 Q70.6911 239.364 68.6309 240.429 Q66.5707 241.494 64.0708 241.494 Q58.8856 241.494 55.8532 238.369 Q52.844 235.22 52.844 229.781 Q52.844 224.457 55.9921 221.239 Q59.1402 218.021 64.3717 218.021 Q70.367 218.021 73.5152 222.628 Q76.6864 227.211 76.6864 235.961 Q76.6864 244.132 72.7976 249.017 Q68.9318 253.878 62.381 253.878 Q60.6217 253.878 58.8162 253.531 Q57.0106 253.183 55.0662 252.489 M64.3717 237.836 Q67.5198 237.836 69.3485 235.683 Q71.2004 233.531 71.2004 229.781 Q71.2004 226.054 69.3485 223.901 Q67.5198 221.725 64.3717 221.725 Q61.2236 221.725 59.3717 223.901 Q57.543 226.054 57.543 229.781 Q57.543 233.531 59.3717 235.683 Q61.2236 237.836 64.3717 237.836 Z\" fill=\"#000000\" fill-rule=\"nonzero\" fill-opacity=\"1\" /><path clip-path=\"url(#clip720)\" d=\"M85.0892 247.327 L89.9734 247.327 L89.9734 253.206 L85.0892 253.206 L85.0892 247.327 Z\" fill=\"#000000\" fill-rule=\"nonzero\" fill-opacity=\"1\" /><path clip-path=\"url(#clip720)\" d=\"M104.186 249.271 L120.506 249.271 L120.506 253.206 L98.5613 253.206 L98.5613 249.271 Q101.223 246.517 105.807 241.887 Q110.413 237.234 111.594 235.892 Q113.839 233.369 114.719 231.632 Q115.621 229.873 115.621 228.183 Q115.621 225.429 113.677 223.693 Q111.756 221.957 108.654 221.957 Q106.455 221.957 104.001 222.72 Q101.571 223.484 98.7928 225.035 L98.7928 220.313 Q101.617 219.179 104.071 218.6 Q106.524 218.021 108.561 218.021 Q113.932 218.021 117.126 220.707 Q120.32 223.392 120.32 227.882 Q120.32 230.012 119.51 231.933 Q118.723 233.832 116.617 236.424 Q116.038 237.095 112.936 240.313 Q109.834 243.507 104.186 249.271 Z\" fill=\"#000000\" fill-rule=\"nonzero\" fill-opacity=\"1\" /><path clip-path=\"url(#clip720)\" d=\"M2007.49 198.898 L2279.55 198.898 L2279.55 95.2176 L2007.49 95.2176  Z\" fill=\"#ffffff\" fill-rule=\"evenodd\" fill-opacity=\"1\"/>\n",
       "<polyline clip-path=\"url(#clip720)\" style=\"stroke:#000000; stroke-linecap:round; stroke-linejoin:round; stroke-width:4; stroke-opacity:1; fill:none\" points=\"2007.49,198.898 2279.55,198.898 2279.55,95.2176 2007.49,95.2176 2007.49,198.898 \"/>\n",
       "<polyline clip-path=\"url(#clip720)\" style=\"stroke:#009af9; stroke-linecap:round; stroke-linejoin:round; stroke-width:4; stroke-opacity:1; fill:none\" points=\"2031.9,147.058 2178.31,147.058 \"/>\n",
       "<path clip-path=\"url(#clip720)\" d=\"M2216.56 166.745 Q2214.75 171.375 2213.04 172.787 Q2211.33 174.199 2208.46 174.199 L2205.05 174.199 L2205.05 170.634 L2207.55 170.634 Q2209.31 170.634 2210.28 169.8 Q2211.26 168.967 2212.44 165.865 L2213.2 163.921 L2202.71 138.412 L2207.23 138.412 L2215.33 158.689 L2223.43 138.412 L2227.95 138.412 L2216.56 166.745 Z\" fill=\"#000000\" fill-rule=\"nonzero\" fill-opacity=\"1\" /><path clip-path=\"url(#clip720)\" d=\"M2235.24 160.402 L2242.88 160.402 L2242.88 134.037 L2234.57 135.703 L2234.57 131.444 L2242.83 129.778 L2247.51 129.778 L2247.51 160.402 L2255.14 160.402 L2255.14 164.338 L2235.24 164.338 L2235.24 160.402 Z\" fill=\"#000000\" fill-rule=\"nonzero\" fill-opacity=\"1\" /></svg>\n"
      ]
     },
     "execution_count": 16,
     "metadata": {},
     "output_type": "execute_result"
    }
   ],
   "source": [
    "plot(Gis[2:end])"
   ]
  },
  {
   "cell_type": "code",
   "execution_count": null,
   "metadata": {},
   "outputs": [],
   "source": []
  }
 ],
 "metadata": {
  "@webio": {
   "lastCommId": null,
   "lastKernelId": null
  },
  "kernelspec": {
   "display_name": "Julia 1.8.5",
   "language": "julia",
   "name": "julia-1.8"
  },
  "language_info": {
   "file_extension": ".jl",
   "mimetype": "application/julia",
   "name": "julia",
   "version": "1.8.5"
  }
 },
 "nbformat": 4,
 "nbformat_minor": 2
}
