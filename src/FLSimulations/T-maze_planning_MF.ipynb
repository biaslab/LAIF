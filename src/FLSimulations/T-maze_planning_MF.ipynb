{
 "cells": [
  {
   "cell_type": "markdown",
   "metadata": {},
   "source": [
    "# T-Maze Inference for Planning with GFE\n",
    "\n",
    "This notebook reports the GFE for all policies for a variety of scenarios."
   ]
  },
  {
   "cell_type": "code",
   "execution_count": 1,
   "metadata": {},
   "outputs": [],
   "source": [
    "using LinearAlgebra\n",
    "using ForneyLab\n",
    "using Plots\n",
    "\n",
    "include(\"factor_nodes/GFECategorical.jl\")\n",
    "include(\"update_rules/GFECategorical.jl\")\n",
    ";"
   ]
  },
  {
   "cell_type": "markdown",
   "metadata": {},
   "source": [
    "# Model"
   ]
  },
  {
   "cell_type": "code",
   "execution_count": 2,
   "metadata": {},
   "outputs": [],
   "source": [
    "T = 2\n",
    "\n",
    "fg = FactorGraph()\n",
    "\n",
    "u = Vector{Variable}(undef, T)\n",
    "x = Vector{Variable}(undef, T)\n",
    "\n",
    "@RV x_t_min ~ Categorical(placeholder(:D_t_min, dims=(8,)))\n",
    "\n",
    "x_k_min = x_t_min\n",
    "for k=1:T\n",
    "    @RV u[k]\n",
    "    @RV x[k] ~ Transition(x_k_min, u[k])\n",
    "\n",
    "    placeholder(u[k], :u, index=k, dims=(8,8))\n",
    "    GFECategorical(x[k], \n",
    "                   placeholder(:A, dims=(16,8), var_id=:A_*k), \n",
    "                   placeholder(:C, dims=(16,), index=k, var_id=:C_*k))\n",
    "    \n",
    "    x_k_min = x[k]\n",
    "end\n",
    ";"
   ]
  },
  {
   "cell_type": "code",
   "execution_count": 3,
   "metadata": {},
   "outputs": [],
   "source": [
    "q = PosteriorFactorization(x_t_min, x[1], x[2], ids=[:X0, :X1, :X2])\n",
    "algo = messagePassingAlgorithm(q, free_energy=true)\n",
    "code = algorithmSourceCode(algo, free_energy=true)\n",
    "eval(Meta.parse(code))\n",
    ";"
   ]
  },
  {
   "cell_type": "code",
   "execution_count": 4,
   "metadata": {},
   "outputs": [],
   "source": [
    "# schedule = q.posterior_factors[Symbol(\"\")].schedule\n",
    "# ForneyLab.draw(fg, schedule=schedule, external_viewer=:default)\n",
    ";"
   ]
  },
  {
   "cell_type": "code",
   "execution_count": 5,
   "metadata": {},
   "outputs": [
    {
     "name": "stdout",
     "output_type": "stream",
     "text": [
      "begin\n",
      "\n",
      "function stepX0!(data::Dict, marginals::Dict=Dict(), messages::Vector{Message}=Array{Message}(undef, 2))\n",
      "\n",
      "messages[1] = ruleVBCategoricalOut(nothing, Distribution(Multivariate, PointMass, m=data[:D_t_min]))\n",
      "messages[2] = ruleVBTransitionIn1(marginals[:x_1], nothing, Distribution(MatrixVariate, PointMass, m=data[:u][1]))\n",
      "\n",
      "marginals[:x_t_min] = messages[1].dist * messages[2].dist\n",
      "\n",
      "return marginals\n",
      "\n",
      "end\n",
      "\n",
      "function stepX2!(data::Dict, marginals::Dict=Dict(), messages::Vector{Message}=Array{Message}(undef, 2))\n",
      "\n",
      "messages[1] = ruleVBTransitionOut(nothing, marginals[:x_1], Distribution(MatrixVariate, PointMass, m=data[:u][2]))\n",
      "messages[2] = ruleVBGFECategoricalOut(marginals[:x_2], Distribution(MatrixVariate, PointMass, m=data[:A]), Distribution(Multivariate, PointMass, m=data[:C][2]))\n",
      "\n",
      "marginals[:x_2] = messages[1].dist * messages[2].dist\n",
      "\n",
      "return marginals\n",
      "\n",
      "end\n",
      "\n",
      "function stepX1!(data::Dict, marginals::Dict=Dict(), messages::Vector{Message}=Array{Message}(undef, 4))\n",
      "\n",
      "messages[1] = ruleVBTransitionOut(nothing, marginals[:x_t_min], Distribution(MatrixVariate, PointMass, m=data[:u][1]))\n",
      "messages[2] = ruleVBGFECategoricalOut(marginals[:x_1], Distribution(MatrixVariate, PointMass, m=data[:A]), Distribution(Multivariate, PointMass, m=data[:C][1]))\n",
      "messages[3] = ruleVBTransitionIn1(marginals[:x_2], nothing, Distribution(MatrixVariate, PointMass, m=data[:u][2]))\n",
      "messages[4] = ruleSPEqualityCategorical(nothing, messages[2], messages[3])\n",
      "\n",
      "marginals[:x_1] = messages[1].dist * messages[4].dist\n",
      "\n",
      "return marginals\n",
      "\n",
      "end\n",
      "\n",
      "function freeEnergy(data::Dict, marginals::Dict)\n",
      "\n",
      "F = 0.0\n",
      "\n",
      "F += averageEnergy(Categorical, marginals[:x_t_min], Distribution(Multivariate, PointMass, m=data[:D_t_min]))\n",
      "F += averageEnergy(GFECategorical, marginals[:x_1], Distribution(MatrixVariate, PointMass, m=data[:A]), Distribution(Multivariate, PointMass, m=data[:C][1]))\n",
      "F += averageEnergy(GFECategorical, marginals[:x_2], Distribution(MatrixVariate, PointMass, m=data[:A]), Distribution(Multivariate, PointMass, m=data[:C][2]))\n",
      "F += averageEnergy(Transition, marginals[:x_1], marginals[:x_t_min], Distribution(MatrixVariate, PointMass, m=data[:u][1]))\n",
      "F += averageEnergy(Transition, marginals[:x_2], marginals[:x_1], Distribution(MatrixVariate, PointMass, m=data[:u][2]))\n",
      "\n",
      "F -= differentialEntropy(marginals[:x_1])\n",
      "F -= differentialEntropy(marginals[:x_2])\n",
      "F -= differentialEntropy(marginals[:x_t_min])\n",
      "\n",
      "return F\n",
      "\n",
      "end\n",
      "\n",
      "end # block\n"
     ]
    }
   ],
   "source": [
    "println(code)"
   ]
  },
  {
   "cell_type": "markdown",
   "metadata": {},
   "source": [
    "# Results"
   ]
  },
  {
   "cell_type": "code",
   "execution_count": 6,
   "metadata": {},
   "outputs": [],
   "source": [
    "# Reward probability and utility, uncomment scenario of interest\n",
    "α = 0.9; c = 2.0\n",
    "\n",
    "include(\"environment.jl\")\n",
    "include(\"agent.jl\")\n",
    "include(\"helpers.jl\")\n",
    "\n",
    "(A, B, C, D) = constructABCD(α, c)\n",
    ";"
   ]
  },
  {
   "cell_type": "code",
   "execution_count": 8,
   "metadata": {},
   "outputs": [],
   "source": [
    "# Single policy\n",
    "pi = [4, 2]\n",
    "\n",
    "n_its = 10\n",
    "G = zeros(n_its)\n",
    "\n",
    "data = Dict(:u       => [B[pi[1]], B[pi[2]]],\n",
    "            :A       => A,\n",
    "            :C       => [C, C],\n",
    "            :D_t_min => D)\n",
    "\n",
    "marginals = Dict{Symbol, ProbabilityDistribution}(\n",
    "    :x_1 => ProbabilityDistribution(Univariate, Categorical, p=ones(8)./8),\n",
    "    :x_2 => ProbabilityDistribution(Univariate, Categorical, p=ones(8)./8))\n",
    "\n",
    "for k=1:n_its\n",
    "    stepX0!(data, marginals)\n",
    "    stepX1!(data, marginals)\n",
    "    stepX2!(data, marginals)\n",
    "    G[k] = freeEnergy(data, marginals)\n",
    "end\n",
    "  \n",
    "G = G./log(2) # Convert to bits\n",
    ";\n"
   ]
  },
  {
   "cell_type": "code",
   "execution_count": 9,
   "metadata": {},
   "outputs": [
    {
     "data": {
      "image/svg+xml": "<?xml version=\"1.0\" encoding=\"utf-8\"?>\n<svg xmlns=\"http://www.w3.org/2000/svg\" xmlns:xlink=\"http://www.w3.org/1999/xlink\" width=\"600\" height=\"400\" viewBox=\"0 0 2400 1600\">\n<defs>\n  <clipPath id=\"clip930\">\n    <rect x=\"0\" y=\"0\" width=\"2400\" height=\"1600\"/>\n  </clipPath>\n</defs>\n<path clip-path=\"url(#clip930)\" d=\"\nM0 1600 L2400 1600 L2400 0 L0 0  Z\n  \" fill=\"#ffffff\" fill-rule=\"evenodd\" fill-opacity=\"1\"/>\n<defs>\n  <clipPath id=\"clip931\">\n    <rect x=\"480\" y=\"0\" width=\"1681\" height=\"1600\"/>\n  </clipPath>\n</defs>\n<path clip-path=\"url(#clip930)\" d=\"\nM204.218 1423.18 L2352.76 1423.18 L2352.76 47.2441 L204.218 47.2441  Z\n  \" fill=\"#ffffff\" fill-rule=\"evenodd\" fill-opacity=\"1\"/>\n<defs>\n  <clipPath id=\"clip932\">\n    <rect x=\"204\" y=\"47\" width=\"2150\" height=\"1377\"/>\n  </clipPath>\n</defs>\n<polyline clip-path=\"url(#clip932)\" style=\"stroke:#000000; stroke-linecap:butt; stroke-linejoin:round; stroke-width:2; stroke-opacity:0.1; fill:none\" points=\"\n  490.239,1423.18 490.239,47.2441 \n  \"/>\n<polyline clip-path=\"url(#clip932)\" style=\"stroke:#000000; stroke-linecap:butt; stroke-linejoin:round; stroke-width:2; stroke-opacity:0.1; fill:none\" points=\"\n  940.667,1423.18 940.667,47.2441 \n  \"/>\n<polyline clip-path=\"url(#clip932)\" style=\"stroke:#000000; stroke-linecap:butt; stroke-linejoin:round; stroke-width:2; stroke-opacity:0.1; fill:none\" points=\"\n  1391.09,1423.18 1391.09,47.2441 \n  \"/>\n<polyline clip-path=\"url(#clip932)\" style=\"stroke:#000000; stroke-linecap:butt; stroke-linejoin:round; stroke-width:2; stroke-opacity:0.1; fill:none\" points=\"\n  1841.52,1423.18 1841.52,47.2441 \n  \"/>\n<polyline clip-path=\"url(#clip932)\" style=\"stroke:#000000; stroke-linecap:butt; stroke-linejoin:round; stroke-width:2; stroke-opacity:0.1; fill:none\" points=\"\n  2291.95,1423.18 2291.95,47.2441 \n  \"/>\n<polyline clip-path=\"url(#clip930)\" style=\"stroke:#000000; stroke-linecap:butt; stroke-linejoin:round; stroke-width:4; stroke-opacity:1; fill:none\" points=\"\n  204.218,1423.18 2352.76,1423.18 \n  \"/>\n<polyline clip-path=\"url(#clip930)\" style=\"stroke:#000000; stroke-linecap:butt; stroke-linejoin:round; stroke-width:4; stroke-opacity:1; fill:none\" points=\"\n  490.239,1423.18 490.239,1404.28 \n  \"/>\n<polyline clip-path=\"url(#clip930)\" style=\"stroke:#000000; stroke-linecap:butt; stroke-linejoin:round; stroke-width:4; stroke-opacity:1; fill:none\" points=\"\n  940.667,1423.18 940.667,1404.28 \n  \"/>\n<polyline clip-path=\"url(#clip930)\" style=\"stroke:#000000; stroke-linecap:butt; stroke-linejoin:round; stroke-width:4; stroke-opacity:1; fill:none\" points=\"\n  1391.09,1423.18 1391.09,1404.28 \n  \"/>\n<polyline clip-path=\"url(#clip930)\" style=\"stroke:#000000; stroke-linecap:butt; stroke-linejoin:round; stroke-width:4; stroke-opacity:1; fill:none\" points=\"\n  1841.52,1423.18 1841.52,1404.28 \n  \"/>\n<polyline clip-path=\"url(#clip930)\" style=\"stroke:#000000; stroke-linecap:butt; stroke-linejoin:round; stroke-width:4; stroke-opacity:1; fill:none\" points=\"\n  2291.95,1423.18 2291.95,1404.28 \n  \"/>\n<path clip-path=\"url(#clip930)\" d=\"M484.892 1481.64 L501.212 1481.64 L501.212 1485.58 L479.267 1485.58 L479.267 1481.64 Q481.929 1478.89 486.513 1474.26 Q491.119 1469.61 492.3 1468.27 Q494.545 1465.74 495.425 1464.01 Q496.327 1462.25 496.327 1460.56 Q496.327 1457.8 494.383 1456.07 Q492.462 1454.33 489.36 1454.33 Q487.161 1454.33 484.707 1455.09 Q482.277 1455.86 479.499 1457.41 L479.499 1452.69 Q482.323 1451.55 484.777 1450.97 Q487.23 1450.39 489.267 1450.39 Q494.638 1450.39 497.832 1453.08 Q501.026 1455.77 501.026 1460.26 Q501.026 1462.39 500.216 1464.31 Q499.429 1466.2 497.323 1468.8 Q496.744 1469.47 493.642 1472.69 Q490.54 1475.88 484.892 1481.64 Z\" fill=\"#000000\" fill-rule=\"evenodd\" fill-opacity=\"1\" /><path clip-path=\"url(#clip930)\" d=\"M943.676 1455.09 L931.87 1473.54 L943.676 1473.54 L943.676 1455.09 M942.449 1451.02 L948.329 1451.02 L948.329 1473.54 L953.259 1473.54 L953.259 1477.43 L948.329 1477.43 L948.329 1485.58 L943.676 1485.58 L943.676 1477.43 L928.074 1477.43 L928.074 1472.92 L942.449 1451.02 Z\" fill=\"#000000\" fill-rule=\"evenodd\" fill-opacity=\"1\" /><path clip-path=\"url(#clip930)\" d=\"M1391.5 1466.44 Q1388.35 1466.44 1386.5 1468.59 Q1384.67 1470.74 1384.67 1474.49 Q1384.67 1478.22 1386.5 1480.39 Q1388.35 1482.55 1391.5 1482.55 Q1394.65 1482.55 1396.48 1480.39 Q1398.33 1478.22 1398.33 1474.49 Q1398.33 1470.74 1396.48 1468.59 Q1394.65 1466.44 1391.5 1466.44 M1400.78 1451.78 L1400.78 1456.04 Q1399.02 1455.21 1397.22 1454.77 Q1395.43 1454.33 1393.67 1454.33 Q1389.05 1454.33 1386.59 1457.45 Q1384.16 1460.58 1383.81 1466.9 Q1385.18 1464.89 1387.24 1463.82 Q1389.3 1462.73 1391.78 1462.73 Q1396.99 1462.73 1399.99 1465.9 Q1403.03 1469.05 1403.03 1474.49 Q1403.03 1479.82 1399.88 1483.03 Q1396.73 1486.25 1391.5 1486.25 Q1385.5 1486.25 1382.33 1481.67 Q1379.16 1477.06 1379.16 1468.33 Q1379.16 1460.14 1383.05 1455.28 Q1386.94 1450.39 1393.49 1450.39 Q1395.25 1450.39 1397.03 1450.74 Q1398.84 1451.09 1400.78 1451.78 Z\" fill=\"#000000\" fill-rule=\"evenodd\" fill-opacity=\"1\" /><path clip-path=\"url(#clip930)\" d=\"M1841.52 1469.17 Q1838.19 1469.17 1836.27 1470.95 Q1834.37 1472.73 1834.37 1475.86 Q1834.37 1478.98 1836.27 1480.77 Q1838.19 1482.55 1841.52 1482.55 Q1844.85 1482.55 1846.78 1480.77 Q1848.7 1478.96 1848.7 1475.86 Q1848.7 1472.73 1846.78 1470.95 Q1844.88 1469.17 1841.52 1469.17 M1836.85 1467.18 Q1833.84 1466.44 1832.15 1464.38 Q1830.48 1462.32 1830.48 1459.35 Q1830.48 1455.21 1833.42 1452.8 Q1836.38 1450.39 1841.52 1450.39 Q1846.68 1450.39 1849.62 1452.8 Q1852.56 1455.21 1852.56 1459.35 Q1852.56 1462.32 1850.87 1464.38 Q1849.21 1466.44 1846.22 1467.18 Q1849.6 1467.96 1851.47 1470.26 Q1853.37 1472.55 1853.37 1475.86 Q1853.37 1480.88 1850.29 1483.57 Q1847.24 1486.25 1841.52 1486.25 Q1835.8 1486.25 1832.72 1483.57 Q1829.67 1480.88 1829.67 1475.86 Q1829.67 1472.55 1831.57 1470.26 Q1833.47 1467.96 1836.85 1467.18 M1835.13 1459.79 Q1835.13 1462.48 1836.8 1463.98 Q1838.49 1465.49 1841.52 1465.49 Q1844.53 1465.49 1846.22 1463.98 Q1847.93 1462.48 1847.93 1459.79 Q1847.93 1457.11 1846.22 1455.6 Q1844.53 1454.1 1841.52 1454.1 Q1838.49 1454.1 1836.8 1455.6 Q1835.13 1457.11 1835.13 1459.79 Z\" fill=\"#000000\" fill-rule=\"evenodd\" fill-opacity=\"1\" /><path clip-path=\"url(#clip930)\" d=\"M2266.64 1481.64 L2274.27 1481.64 L2274.27 1455.28 L2265.96 1456.95 L2265.96 1452.69 L2274.23 1451.02 L2278.9 1451.02 L2278.9 1481.64 L2286.54 1481.64 L2286.54 1485.58 L2266.64 1485.58 L2266.64 1481.64 Z\" fill=\"#000000\" fill-rule=\"evenodd\" fill-opacity=\"1\" /><path clip-path=\"url(#clip930)\" d=\"M2305.99 1454.1 Q2302.38 1454.1 2300.55 1457.66 Q2298.74 1461.2 2298.74 1468.33 Q2298.74 1475.44 2300.55 1479.01 Q2302.38 1482.55 2305.99 1482.55 Q2309.62 1482.55 2311.43 1479.01 Q2313.26 1475.44 2313.26 1468.33 Q2313.26 1461.2 2311.43 1457.66 Q2309.62 1454.1 2305.99 1454.1 M2305.99 1450.39 Q2311.8 1450.39 2314.85 1455 Q2317.93 1459.58 2317.93 1468.33 Q2317.93 1477.06 2314.85 1481.67 Q2311.8 1486.25 2305.99 1486.25 Q2300.18 1486.25 2297.1 1481.67 Q2294.04 1477.06 2294.04 1468.33 Q2294.04 1459.58 2297.1 1455 Q2300.18 1450.39 2305.99 1450.39 Z\" fill=\"#000000\" fill-rule=\"evenodd\" fill-opacity=\"1\" /><path clip-path=\"url(#clip930)\" d=\"M1146.21 1520.52 L1152.64 1520.52 L1152.64 1568.04 L1146.21 1568.04 L1146.21 1520.52 Z\" fill=\"#000000\" fill-rule=\"evenodd\" fill-opacity=\"1\" /><path clip-path=\"url(#clip930)\" d=\"M1170.97 1522.27 L1170.97 1532.4 L1183.03 1532.4 L1183.03 1536.95 L1170.97 1536.95 L1170.97 1556.3 Q1170.97 1560.66 1172.15 1561.9 Q1173.36 1563.14 1177.02 1563.14 L1183.03 1563.14 L1183.03 1568.04 L1177.02 1568.04 Q1170.24 1568.04 1167.66 1565.53 Q1165.08 1562.98 1165.08 1556.3 L1165.08 1536.95 L1160.79 1536.95 L1160.79 1532.4 L1165.08 1532.4 L1165.08 1522.27 L1170.97 1522.27 Z\" fill=\"#000000\" fill-rule=\"evenodd\" fill-opacity=\"1\" /><path clip-path=\"url(#clip930)\" d=\"M1221.23 1548.76 L1221.23 1551.62 L1194.3 1551.62 Q1194.68 1557.67 1197.93 1560.85 Q1201.21 1564 1207.03 1564 Q1210.41 1564 1213.56 1563.17 Q1216.74 1562.35 1219.86 1560.69 L1219.86 1566.23 Q1216.71 1567.57 1213.4 1568.27 Q1210.09 1568.97 1206.68 1568.97 Q1198.15 1568.97 1193.15 1564 Q1188.19 1559.04 1188.19 1550.57 Q1188.19 1541.82 1192.9 1536.69 Q1197.64 1531.54 1205.66 1531.54 Q1212.86 1531.54 1217.03 1536.18 Q1221.23 1540.8 1221.23 1548.76 M1215.37 1547.04 Q1215.31 1542.23 1212.67 1539.37 Q1210.06 1536.5 1205.73 1536.5 Q1200.83 1536.5 1197.87 1539.27 Q1194.94 1542.04 1194.49 1547.07 L1215.37 1547.04 Z\" fill=\"#000000\" fill-rule=\"evenodd\" fill-opacity=\"1\" /><path clip-path=\"url(#clip930)\" d=\"M1251.5 1537.87 Q1250.51 1537.3 1249.33 1537.04 Q1248.19 1536.76 1246.79 1536.76 Q1241.82 1536.76 1239.15 1540 Q1236.51 1543.22 1236.51 1549.27 L1236.51 1568.04 L1230.62 1568.04 L1230.62 1532.4 L1236.51 1532.4 L1236.51 1537.93 Q1238.35 1534.69 1241.31 1533.13 Q1244.27 1531.54 1248.5 1531.54 Q1249.11 1531.54 1249.84 1531.63 Q1250.57 1531.7 1251.46 1531.85 L1251.5 1537.87 Z\" fill=\"#000000\" fill-rule=\"evenodd\" fill-opacity=\"1\" /><path clip-path=\"url(#clip930)\" d=\"M1273.84 1550.12 Q1266.74 1550.12 1264.01 1551.75 Q1261.27 1553.37 1261.27 1557.29 Q1261.27 1560.4 1263.3 1562.25 Q1265.37 1564.07 1268.91 1564.07 Q1273.78 1564.07 1276.7 1560.63 Q1279.66 1557.16 1279.66 1551.43 L1279.66 1550.12 L1273.84 1550.12 M1285.52 1547.71 L1285.52 1568.04 L1279.66 1568.04 L1279.66 1562.63 Q1277.66 1565.88 1274.67 1567.44 Q1271.68 1568.97 1267.35 1568.97 Q1261.87 1568.97 1258.63 1565.91 Q1255.41 1562.82 1255.41 1557.67 Q1255.41 1551.65 1259.42 1548.6 Q1263.46 1545.54 1271.45 1545.54 L1279.66 1545.54 L1279.66 1544.97 Q1279.66 1540.93 1276.99 1538.73 Q1274.35 1536.5 1269.54 1536.5 Q1266.49 1536.5 1263.59 1537.23 Q1260.69 1537.97 1258.02 1539.43 L1258.02 1534.02 Q1261.24 1532.78 1264.26 1532.17 Q1267.28 1531.54 1270.15 1531.54 Q1277.88 1531.54 1281.7 1535.55 Q1285.52 1539.56 1285.52 1547.71 Z\" fill=\"#000000\" fill-rule=\"evenodd\" fill-opacity=\"1\" /><path clip-path=\"url(#clip930)\" d=\"M1303.38 1522.27 L1303.38 1532.4 L1315.44 1532.4 L1315.44 1536.95 L1303.38 1536.95 L1303.38 1556.3 Q1303.38 1560.66 1304.55 1561.9 Q1305.76 1563.14 1309.42 1563.14 L1315.44 1563.14 L1315.44 1568.04 L1309.42 1568.04 Q1302.64 1568.04 1300.07 1565.53 Q1297.49 1562.98 1297.49 1556.3 L1297.49 1536.95 L1293.19 1536.95 L1293.19 1532.4 L1297.49 1532.4 L1297.49 1522.27 L1303.38 1522.27 Z\" fill=\"#000000\" fill-rule=\"evenodd\" fill-opacity=\"1\" /><path clip-path=\"url(#clip930)\" d=\"M1323.14 1532.4 L1329 1532.4 L1329 1568.04 L1323.14 1568.04 L1323.14 1532.4 M1323.14 1518.52 L1329 1518.52 L1329 1525.93 L1323.14 1525.93 L1323.14 1518.52 Z\" fill=\"#000000\" fill-rule=\"evenodd\" fill-opacity=\"1\" /><path clip-path=\"url(#clip930)\" d=\"M1355.07 1536.5 Q1350.36 1536.5 1347.62 1540.19 Q1344.88 1543.85 1344.88 1550.25 Q1344.88 1556.65 1347.59 1560.34 Q1350.32 1564 1355.07 1564 Q1359.75 1564 1362.48 1560.31 Q1365.22 1556.62 1365.22 1550.25 Q1365.22 1543.92 1362.48 1540.23 Q1359.75 1536.5 1355.07 1536.5 M1355.07 1531.54 Q1362.71 1531.54 1367.07 1536.5 Q1371.43 1541.47 1371.43 1550.25 Q1371.43 1559 1367.07 1564 Q1362.71 1568.97 1355.07 1568.97 Q1347.4 1568.97 1343.04 1564 Q1338.71 1559 1338.71 1550.25 Q1338.71 1541.47 1343.04 1536.5 Q1347.4 1531.54 1355.07 1531.54 Z\" fill=\"#000000\" fill-rule=\"evenodd\" fill-opacity=\"1\" /><path clip-path=\"url(#clip930)\" d=\"M1410.77 1546.53 L1410.77 1568.04 L1404.91 1568.04 L1404.91 1546.72 Q1404.91 1541.66 1402.94 1539.14 Q1400.96 1536.63 1397.02 1536.63 Q1392.27 1536.63 1389.54 1539.65 Q1386.8 1542.68 1386.8 1547.9 L1386.8 1568.04 L1380.91 1568.04 L1380.91 1532.4 L1386.8 1532.4 L1386.8 1537.93 Q1388.9 1534.72 1391.73 1533.13 Q1394.6 1531.54 1398.32 1531.54 Q1404.46 1531.54 1407.62 1535.36 Q1410.77 1539.14 1410.77 1546.53 Z\" fill=\"#000000\" fill-rule=\"evenodd\" fill-opacity=\"1\" /><polyline clip-path=\"url(#clip932)\" style=\"stroke:#000000; stroke-linecap:butt; stroke-linejoin:round; stroke-width:2; stroke-opacity:0.1; fill:none\" points=\"\n  204.218,1376.23 2352.76,1376.23 \n  \"/>\n<polyline clip-path=\"url(#clip932)\" style=\"stroke:#000000; stroke-linecap:butt; stroke-linejoin:round; stroke-width:2; stroke-opacity:0.1; fill:none\" points=\"\n  204.218,1026.64 2352.76,1026.64 \n  \"/>\n<polyline clip-path=\"url(#clip932)\" style=\"stroke:#000000; stroke-linecap:butt; stroke-linejoin:round; stroke-width:2; stroke-opacity:0.1; fill:none\" points=\"\n  204.218,677.059 2352.76,677.059 \n  \"/>\n<polyline clip-path=\"url(#clip932)\" style=\"stroke:#000000; stroke-linecap:butt; stroke-linejoin:round; stroke-width:2; stroke-opacity:0.1; fill:none\" points=\"\n  204.218,327.474 2352.76,327.474 \n  \"/>\n<polyline clip-path=\"url(#clip930)\" style=\"stroke:#000000; stroke-linecap:butt; stroke-linejoin:round; stroke-width:4; stroke-opacity:1; fill:none\" points=\"\n  204.218,1423.18 204.218,47.2441 \n  \"/>\n<polyline clip-path=\"url(#clip930)\" style=\"stroke:#000000; stroke-linecap:butt; stroke-linejoin:round; stroke-width:4; stroke-opacity:1; fill:none\" points=\"\n  204.218,1376.23 223.116,1376.23 \n  \"/>\n<polyline clip-path=\"url(#clip930)\" style=\"stroke:#000000; stroke-linecap:butt; stroke-linejoin:round; stroke-width:4; stroke-opacity:1; fill:none\" points=\"\n  204.218,1026.64 223.116,1026.64 \n  \"/>\n<polyline clip-path=\"url(#clip930)\" style=\"stroke:#000000; stroke-linecap:butt; stroke-linejoin:round; stroke-width:4; stroke-opacity:1; fill:none\" points=\"\n  204.218,677.059 223.116,677.059 \n  \"/>\n<polyline clip-path=\"url(#clip930)\" style=\"stroke:#000000; stroke-linecap:butt; stroke-linejoin:round; stroke-width:4; stroke-opacity:1; fill:none\" points=\"\n  204.218,327.474 223.116,327.474 \n  \"/>\n<path clip-path=\"url(#clip930)\" d=\"M116.158 1358.95 L134.515 1358.95 L134.515 1362.88 L120.441 1362.88 L120.441 1371.36 Q121.459 1371.01 122.478 1370.85 Q123.496 1370.66 124.515 1370.66 Q130.302 1370.66 133.681 1373.83 Q137.061 1377 137.061 1382.42 Q137.061 1388 133.589 1391.1 Q130.117 1394.18 123.797 1394.18 Q121.621 1394.18 119.353 1393.81 Q117.107 1393.44 114.7 1392.7 L114.7 1388 Q116.783 1389.13 119.006 1389.69 Q121.228 1390.24 123.705 1390.24 Q127.709 1390.24 130.047 1388.14 Q132.385 1386.03 132.385 1382.42 Q132.385 1378.81 130.047 1376.7 Q127.709 1374.6 123.705 1374.6 Q121.83 1374.6 119.955 1375.01 Q118.103 1375.43 116.158 1376.31 L116.158 1358.95 Z\" fill=\"#000000\" fill-rule=\"evenodd\" fill-opacity=\"1\" /><path clip-path=\"url(#clip930)\" d=\"M156.274 1362.03 Q152.663 1362.03 150.834 1365.59 Q149.028 1369.13 149.028 1376.26 Q149.028 1383.37 150.834 1386.93 Q152.663 1390.48 156.274 1390.48 Q159.908 1390.48 161.714 1386.93 Q163.542 1383.37 163.542 1376.26 Q163.542 1369.13 161.714 1365.59 Q159.908 1362.03 156.274 1362.03 M156.274 1358.32 Q162.084 1358.32 165.14 1362.93 Q168.218 1367.51 168.218 1376.26 Q168.218 1384.99 165.14 1389.6 Q162.084 1394.18 156.274 1394.18 Q150.464 1394.18 147.385 1389.6 Q144.329 1384.99 144.329 1376.26 Q144.329 1367.51 147.385 1362.93 Q150.464 1358.32 156.274 1358.32 Z\" fill=\"#000000\" fill-rule=\"evenodd\" fill-opacity=\"1\" /><path clip-path=\"url(#clip930)\" d=\"M126.691 1024.78 Q123.543 1024.78 121.691 1026.93 Q119.862 1029.09 119.862 1032.84 Q119.862 1036.56 121.691 1038.74 Q123.543 1040.89 126.691 1040.89 Q129.839 1040.89 131.667 1038.74 Q133.519 1036.56 133.519 1032.84 Q133.519 1029.09 131.667 1026.93 Q129.839 1024.78 126.691 1024.78 M135.973 1010.13 L135.973 1014.39 Q134.214 1013.55 132.408 1013.11 Q130.626 1012.67 128.867 1012.67 Q124.237 1012.67 121.783 1015.8 Q119.353 1018.92 119.006 1025.24 Q120.371 1023.23 122.431 1022.16 Q124.492 1021.08 126.968 1021.08 Q132.177 1021.08 135.186 1024.25 Q138.218 1027.4 138.218 1032.84 Q138.218 1038.16 135.07 1041.38 Q131.922 1044.59 126.691 1044.59 Q120.695 1044.59 117.524 1040.01 Q114.353 1035.4 114.353 1026.68 Q114.353 1018.48 118.242 1013.62 Q122.13 1008.74 128.681 1008.74 Q130.441 1008.74 132.223 1009.09 Q134.029 1009.43 135.973 1010.13 Z\" fill=\"#000000\" fill-rule=\"evenodd\" fill-opacity=\"1\" /><path clip-path=\"url(#clip930)\" d=\"M156.274 1012.44 Q152.663 1012.44 150.834 1016.01 Q149.028 1019.55 149.028 1026.68 Q149.028 1033.78 150.834 1037.35 Q152.663 1040.89 156.274 1040.89 Q159.908 1040.89 161.714 1037.35 Q163.542 1033.78 163.542 1026.68 Q163.542 1019.55 161.714 1016.01 Q159.908 1012.44 156.274 1012.44 M156.274 1008.74 Q162.084 1008.74 165.14 1013.34 Q168.218 1017.93 168.218 1026.68 Q168.218 1035.4 165.14 1040.01 Q162.084 1044.59 156.274 1044.59 Q150.464 1044.59 147.385 1040.01 Q144.329 1035.4 144.329 1026.68 Q144.329 1017.93 147.385 1013.34 Q150.464 1008.74 156.274 1008.74 Z\" fill=\"#000000\" fill-rule=\"evenodd\" fill-opacity=\"1\" /><path clip-path=\"url(#clip930)\" d=\"M114.931 659.779 L137.154 659.779 L137.154 661.769 L124.607 694.339 L119.723 694.339 L131.529 663.714 L114.931 663.714 L114.931 659.779 Z\" fill=\"#000000\" fill-rule=\"evenodd\" fill-opacity=\"1\" /><path clip-path=\"url(#clip930)\" d=\"M156.274 662.857 Q152.663 662.857 150.834 666.422 Q149.028 669.964 149.028 677.093 Q149.028 684.2 150.834 687.765 Q152.663 691.306 156.274 691.306 Q159.908 691.306 161.714 687.765 Q163.542 684.2 163.542 677.093 Q163.542 669.964 161.714 666.422 Q159.908 662.857 156.274 662.857 M156.274 659.154 Q162.084 659.154 165.14 663.76 Q168.218 668.343 168.218 677.093 Q168.218 685.82 165.14 690.427 Q162.084 695.01 156.274 695.01 Q150.464 695.01 147.385 690.427 Q144.329 685.82 144.329 677.093 Q144.329 668.343 147.385 663.76 Q150.464 659.154 156.274 659.154 Z\" fill=\"#000000\" fill-rule=\"evenodd\" fill-opacity=\"1\" /><path clip-path=\"url(#clip930)\" d=\"M126.112 328.342 Q122.779 328.342 120.857 330.124 Q118.959 331.907 118.959 335.032 Q118.959 338.157 120.857 339.939 Q122.779 341.722 126.112 341.722 Q129.445 341.722 131.367 339.939 Q133.288 338.134 133.288 335.032 Q133.288 331.907 131.367 330.124 Q129.468 328.342 126.112 328.342 M121.436 326.351 Q118.427 325.611 116.737 323.55 Q115.07 321.49 115.07 318.527 Q115.07 314.384 118.01 311.976 Q120.973 309.569 126.112 309.569 Q131.274 309.569 134.214 311.976 Q137.154 314.384 137.154 318.527 Q137.154 321.49 135.464 323.55 Q133.797 325.611 130.811 326.351 Q134.191 327.138 136.066 329.43 Q137.964 331.722 137.964 335.032 Q137.964 340.055 134.885 342.74 Q131.83 345.425 126.112 345.425 Q120.394 345.425 117.316 342.74 Q114.26 340.055 114.26 335.032 Q114.26 331.722 116.158 329.43 Q118.056 327.138 121.436 326.351 M119.723 318.967 Q119.723 321.652 121.39 323.157 Q123.08 324.661 126.112 324.661 Q129.121 324.661 130.811 323.157 Q132.524 321.652 132.524 318.967 Q132.524 316.282 130.811 314.777 Q129.121 313.273 126.112 313.273 Q123.08 313.273 121.39 314.777 Q119.723 316.282 119.723 318.967 Z\" fill=\"#000000\" fill-rule=\"evenodd\" fill-opacity=\"1\" /><path clip-path=\"url(#clip930)\" d=\"M156.274 313.273 Q152.663 313.273 150.834 316.837 Q149.028 320.379 149.028 327.509 Q149.028 334.615 150.834 338.18 Q152.663 341.722 156.274 341.722 Q159.908 341.722 161.714 338.18 Q163.542 334.615 163.542 327.509 Q163.542 320.379 161.714 316.837 Q159.908 313.273 156.274 313.273 M156.274 309.569 Q162.084 309.569 165.14 314.175 Q168.218 318.759 168.218 327.509 Q168.218 336.235 165.14 340.842 Q162.084 345.425 156.274 345.425 Q150.464 345.425 147.385 340.842 Q144.329 336.235 144.329 327.509 Q144.329 318.759 147.385 314.175 Q150.464 309.569 156.274 309.569 Z\" fill=\"#000000\" fill-rule=\"evenodd\" fill-opacity=\"1\" /><path clip-path=\"url(#clip930)\" d=\"M57.2247 855.333 L44.4614 855.333 L44.4614 865.836 L39.1779 865.836 L39.1779 848.967 L59.58 848.967 Q62.2218 852.691 63.5904 857.179 Q64.9272 861.667 64.9272 866.759 Q64.9272 877.899 58.4342 884.201 Q51.9093 890.472 40.2919 890.472 Q28.6427 890.472 22.1496 884.201 Q15.6248 877.899 15.6248 866.759 Q15.6248 862.112 16.7706 857.943 Q17.9164 853.741 20.1444 850.208 L26.9876 850.208 Q23.9639 853.773 22.4361 857.784 Q20.9083 861.794 20.9083 866.218 Q20.9083 874.939 25.7781 879.332 Q30.6479 883.692 40.2919 883.692 Q49.9041 883.692 54.7739 879.332 Q59.6436 874.939 59.6436 866.218 Q59.6436 862.813 59.0707 860.139 Q58.466 857.465 57.2247 855.333 Z\" fill=\"#000000\" fill-rule=\"evenodd\" fill-opacity=\"1\" /><path clip-path=\"url(#clip930)\" d=\"M16.4842 837.222 L16.4842 809.914 L21.895 809.914 L21.895 830.793 L35.8996 830.793 L35.8996 811.951 L41.3104 811.951 L41.3104 830.793 L64.0042 830.793 L64.0042 837.222 L16.4842 837.222 Z\" fill=\"#000000\" fill-rule=\"evenodd\" fill-opacity=\"1\" /><path clip-path=\"url(#clip930)\" d=\"M16.4842 799.728 L16.4842 769.682 L21.895 769.682 L21.895 793.299 L35.9632 793.299 L35.9632 770.669 L41.3741 770.669 L41.3741 793.299 L58.5933 793.299 L58.5933 769.109 L64.0042 769.109 L64.0042 799.728 L16.4842 799.728 Z\" fill=\"#000000\" fill-rule=\"evenodd\" fill-opacity=\"1\" /><path clip-path=\"url(#clip930)\" d=\"M14.479 738.618 L14.479 725.122 L19.0304 725.122 L19.0304 732.761 L68.0464 732.761 L68.0464 725.122 L72.5979 725.122 L72.5979 738.618 L14.479 738.618 Z\" fill=\"#000000\" fill-rule=\"evenodd\" fill-opacity=\"1\" /><path clip-path=\"url(#clip930)\" d=\"M46.212 687.055 Q39.7508 687.055 36.0905 689.729 Q32.3984 692.371 32.3984 697.018 Q32.3984 701.665 36.0905 704.338 Q39.7508 706.98 46.212 706.98 Q52.6732 706.98 56.3653 704.338 Q60.0256 701.665 60.0256 697.018 Q60.0256 692.371 56.3653 689.729 Q52.6732 687.055 46.212 687.055 M33.7671 706.98 Q30.5842 705.134 29.0564 702.333 Q27.4968 699.5 27.4968 695.585 Q27.4968 689.092 32.6531 685.05 Q37.8093 680.976 46.212 680.976 Q54.6147 680.976 59.771 685.05 Q64.9272 689.092 64.9272 695.585 Q64.9272 699.5 63.3994 702.333 Q61.8398 705.134 58.657 706.98 L64.0042 706.98 L64.0042 712.868 L14.479 712.868 L14.479 706.98 L33.7671 706.98 Z\" fill=\"#000000\" fill-rule=\"evenodd\" fill-opacity=\"1\" /><path clip-path=\"url(#clip930)\" d=\"M28.3562 671.268 L28.3562 665.412 L64.0042 665.412 L64.0042 671.268 L28.3562 671.268 M14.479 671.268 L14.479 665.412 L21.895 665.412 L21.895 671.268 L14.479 671.268 Z\" fill=\"#000000\" fill-rule=\"evenodd\" fill-opacity=\"1\" /><path clip-path=\"url(#clip930)\" d=\"M18.2347 647.365 L28.3562 647.365 L28.3562 635.302 L32.9077 635.302 L32.9077 647.365 L52.2594 647.365 Q56.6199 647.365 57.8613 646.188 Q59.1026 644.978 59.1026 641.318 L59.1026 635.302 L64.0042 635.302 L64.0042 641.318 Q64.0042 648.097 61.4897 650.675 Q58.9434 653.253 52.2594 653.253 L32.9077 653.253 L32.9077 657.55 L28.3562 657.55 L28.3562 653.253 L18.2347 653.253 L18.2347 647.365 Z\" fill=\"#000000\" fill-rule=\"evenodd\" fill-opacity=\"1\" /><path clip-path=\"url(#clip930)\" d=\"M29.4065 604.874 L34.9447 604.874 Q33.6716 607.357 33.035 610.03 Q32.3984 612.704 32.3984 615.569 Q32.3984 619.929 33.7352 622.125 Q35.072 624.29 37.7456 624.29 Q39.7826 624.29 40.9603 622.73 Q42.1061 621.17 43.1565 616.46 L43.6021 614.455 Q44.9389 608.216 47.3897 605.606 Q49.8086 602.964 54.1691 602.964 Q59.1344 602.964 62.0308 606.911 Q64.9272 610.826 64.9272 617.701 Q64.9272 620.566 64.3543 623.685 Q63.8132 626.772 62.6992 630.21 L56.6518 630.21 Q58.3387 626.963 59.198 623.812 Q60.0256 620.661 60.0256 617.574 Q60.0256 613.436 58.6251 611.208 Q57.1929 608.98 54.6147 608.98 Q52.2276 608.98 50.9545 610.603 Q49.6813 612.195 48.5037 617.637 L48.0262 619.674 Q46.8804 625.117 44.5251 627.536 Q42.138 629.955 38.0002 629.955 Q32.9713 629.955 30.2341 626.39 Q27.4968 622.825 27.4968 616.269 Q27.4968 613.022 27.9743 610.158 Q28.4517 607.293 29.4065 604.874 Z\" fill=\"#000000\" fill-rule=\"evenodd\" fill-opacity=\"1\" /><path clip-path=\"url(#clip930)\" d=\"M14.479 579.952 L72.5979 579.952 L72.5979 593.448 L68.0464 593.448 L68.0464 585.841 L19.0304 585.841 L19.0304 593.448 L14.479 593.448 L14.479 579.952 Z\" fill=\"#000000\" fill-rule=\"evenodd\" fill-opacity=\"1\" /><polyline clip-path=\"url(#clip932)\" style=\"stroke:#000000; stroke-linecap:butt; stroke-linejoin:round; stroke-width:8; stroke-opacity:1; fill:none\" points=\"\n  265.026,1384.24 490.239,336.931 715.453,86.1857 940.667,336.905 1165.88,86.2727 1391.09,336.905 1616.31,86.272 1841.52,336.905 2066.73,86.272 2291.95,336.905 \n  \n  \"/>\n</svg>\n"
     },
     "execution_count": 9,
     "metadata": {},
     "output_type": "execute_result"
    }
   ],
   "source": [
    "plot(1:n_its, G, color=:black, grid=true, linewidth=2, legend=false, xlabel=\"Iteration\", ylabel=\"GFE [bits]\")"
   ]
  },
  {
   "cell_type": "code",
   "execution_count": null,
   "metadata": {},
   "outputs": [],
   "source": []
  }
 ],
 "metadata": {
  "@webio": {
   "lastCommId": "a2bcb982c5944cd58b530bf08df4f47d",
   "lastKernelId": "24c0452e-5458-464f-9023-95b2e0fcac7e"
  },
  "kernelspec": {
   "display_name": "Julia 1.6.4",
   "language": "julia",
   "name": "julia-1.6"
  },
  "language_info": {
   "file_extension": ".jl",
   "mimetype": "application/julia",
   "name": "julia",
   "version": "1.6.4"
  }
 },
 "nbformat": 4,
 "nbformat_minor": 2
}
