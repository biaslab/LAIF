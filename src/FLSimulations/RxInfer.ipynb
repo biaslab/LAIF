{
 "cells": [
  {
   "cell_type": "code",
   "execution_count": null,
   "id": "11d325c1",
   "metadata": {},
   "outputs": [],
   "source": []
  },
  {
   "cell_type": "code",
   "execution_count": 65,
   "id": "e58f4cc1",
   "metadata": {},
   "outputs": [
    {
     "name": "stderr",
     "output_type": "stream",
     "text": [
      "\u001b[32m\u001b[1m  Activating\u001b[22m\u001b[39m project at `~/.julia/dev/EpistemicMessagePassing`\n"
     ]
    },
    {
     "data": {
      "text/plain": [
       "constructABCD (generic function with 1 method)"
      ]
     },
     "execution_count": 65,
     "metadata": {},
     "output_type": "execute_result"
    }
   ],
   "source": [
    "using Pkg; Pkg.activate(\"../..\"); Pkg.instantiate()\n",
    "using RxInfer,Distributions,Random,LinearAlgebra,OhMyREPL, ReactiveMP\n",
    "enable_autocomplete_brackets(false);colorscheme!(\"GruvboxDark\");\n",
    "\n",
    "# TODO: Structure is correct now but the results are fucked\n",
    "# include(\"GFECategorical.jl\")\n",
    "include(\"../GFECategorical2.jl\")\n",
    "include(\"../helpers.jl\")"
   ]
  },
  {
   "cell_type": "code",
   "execution_count": 101,
   "id": "33f550b2",
   "metadata": {},
   "outputs": [
    {
     "data": {
      "text/plain": [
       "bfeconstraints (generic function with 1 method)"
      ]
     },
     "execution_count": 101,
     "metadata": {},
     "output_type": "execute_result"
    }
   ],
   "source": [
    "@rule Transition(:in, Marginalisation) (q_out::Any, q_a::Any) = begin\n",
    "    a = clamp.(exp.(mean(log, q_a)' * probvec(q_out)), tiny, Inf)\n",
    "    return Categorical(a ./ sum(a))\n",
    "end\n",
    "\n",
    "@model function t_maze(A,B,C,T, pipeline = nothing)\n",
    "\n",
    "    D_0 = datavar(Vector{Float64})\n",
    "    z_0 ~ Categorical(D_0)\n",
    "    # We use datavar here since x~ Pointmass is not a thing\n",
    "    x = datavar(Vector{Float64},T)\n",
    "    z = randomvar(T)\n",
    "    w = randomvar(T)\n",
    "\n",
    "    # Requires changes in the ReactiveMP core, `@meta` does not support pipelines (yet)\n",
    "    pipeline = something(pipeline, ReactiveMP.DefaultFunctionalDependencies())\n",
    "\n",
    "    z_prev = z_0\n",
    "\n",
    "    for t in 1:T\n",
    "        z[t] ~ Transition(z_prev, B[t])\n",
    "        w[t] ~ Transition(z[t], A) where { pipeline = pipeline }\n",
    "        w[t] ~ Categorical(x[t])\n",
    "        z_prev = z[t]\n",
    "    end\n",
    "end;\n",
    "\n",
    "# Edge Constraints\n",
    "@constraints [ warn = false ] function gfeconstraints()\n",
    "    q(x, z, w, A) = q(x)q(w)q(z)q(A)\n",
    "    q(w) :: EpistemicProduct\n",
    "end\n",
    "\n",
    "# Node constraints\n",
    "@meta function gfemeta()\n",
    "    Transition(z, w) -> EpistemicMeta()\n",
    "    Categorical(x, w) -> EpistemicMeta()\n",
    "end\n",
    "\n",
    "@constraints [ warn = false ] function bfeconstraints()\n",
    "    q(x, z, w, A) = q(x)q(w)q(z)q(A)\n",
    "end\n",
    "\n",
    "# @meta function t_maze_bfe()\n",
    "\n",
    "# end"
   ]
  },
  {
   "cell_type": "code",
   "execution_count": 102,
   "id": "274cd6d5",
   "metadata": {},
   "outputs": [],
   "source": [
    "gfepipeline = GFEPipeline((2,))\n",
    "\n",
    "A,B,C,D = constructABCD(0.9,[2.,2.],2);"
   ]
  },
  {
   "cell_type": "code",
   "execution_count": 107,
   "id": "b642f208",
   "metadata": {},
   "outputs": [
    {
     "data": {
      "text/plain": [
       "(pipeline = GFEPipeline{Tuple{Int64}}((2,)), constraints = Constraints:\n",
       "  marginals form:\n",
       "    q(w) :: EpistemicProduct() [ prod_constraint = ProdGeneric(fallback = ProdAnalytical()) ]\n",
       "  messages form:\n",
       "  factorisation:\n",
       "    q(x, z, w, A) = q(x)q(w)q(z)q(A)\n",
       "Options:\n",
       "  warn = false\n",
       ", meta = Meta specification:\n",
       "  Transition(z, w) -> EpistemicMeta()\n",
       "  Categorical(x, w) -> EpistemicMeta()\n",
       "Options:\n",
       "  warn = true)"
      ]
     },
     "execution_count": 107,
     "metadata": {},
     "output_type": "execute_result"
    }
   ],
   "source": [
    "gfe_setup = (\n",
    "    pipeline = gfepipeline,\n",
    "    constraints = gfeconstraints(),\n",
    "    meta = gfemeta()\n",
    ")\n",
    "\n",
    "bfe_setup = (\n",
    "    pipeline = nothing,\n",
    "    constraints = bfeconstraints(),\n",
    "    meta = nothing\n",
    ")\n",
    "\n",
    "current_setup = gfe_setup"
   ]
  },
  {
   "cell_type": "code",
   "execution_count": 108,
   "id": "40ebf728",
   "metadata": {},
   "outputs": [],
   "source": [
    "T = 2\n",
    "\n",
    "initmarginals = (\n",
    "                 z = [Categorical(fill(1/8,8)) for t in 1:T],\n",
    "                );\n",
    "\n",
    "initmessages = (\n",
    "                 z = [Categorical(fill(1/8,8)) for t in 1:T],\n",
    "             );\n",
    "\n",
    "\n",
    "# TODO: Figure out why FE increases with number of iterations - but only for the best policy?\n",
    "result = nothing\n",
    "its = 50\n",
    "F = zeros(4,4);\n",
    "results = Dict()\n",
    "for i in 1:4\n",
    "    for j in 1:4\n",
    "        Bs = (B[i],B[j])\n",
    "        global result = inference(model = t_maze(A,Bs,C,T, current_setup[:pipeline]),\n",
    "                           data= (D_0 = D, x = C),\n",
    "                           initmarginals = initmarginals,\n",
    "                           initmessages = initmessages,\n",
    "                           constraints = current_setup[:constraints],\n",
    "                           meta = current_setup[:meta],\n",
    "                           free_energy=true,\n",
    "                           # addons = (AddonMemory(),),\n",
    "                           iterations = its)\n",
    "       results[(i, j)] = result\n",
    "        F[i,j] = result.free_energy[end]\n",
    "    end\n",
    "end\n",
    "\n",
    "# q_w is always one iteration behind\n",
    "# Wmarginal.q stays flat? Initial message towards GFEnode never gets updated"
   ]
  },
  {
   "cell_type": "code",
   "execution_count": 109,
   "id": "79bfd471",
   "metadata": {},
   "outputs": [
    {
     "data": {
      "text/plain": [
       "4×4 Matrix{Float64}:\n",
       " 7.2803   6.22057  6.22057  6.58715\n",
       " 6.22057  6.22057  6.22057  6.22057\n",
       " 6.22057  6.22057  6.22057  6.22057\n",
       " 6.58715  5.75922  5.75922  5.89401"
      ]
     },
     "execution_count": 109,
     "metadata": {},
     "output_type": "execute_result"
    }
   ],
   "source": [
    "F"
   ]
  },
  {
   "cell_type": "code",
   "execution_count": null,
   "id": "2bbc35e2",
   "metadata": {},
   "outputs": [],
   "source": []
  }
 ],
 "metadata": {
  "kernelspec": {
   "display_name": "Julia 1.8.5",
   "language": "julia",
   "name": "julia-1.8"
  },
  "language_info": {
   "file_extension": ".jl",
   "mimetype": "application/julia",
   "name": "julia",
   "version": "1.8.5"
  }
 },
 "nbformat": 4,
 "nbformat_minor": 5
}
