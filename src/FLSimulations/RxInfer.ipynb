{
 "cells": [
  {
   "cell_type": "code",
   "execution_count": null,
   "id": "d6c9e759",
   "metadata": {},
   "outputs": [],
   "source": []
  },
  {
   "cell_type": "code",
   "execution_count": 65,
   "id": "19cdf00f",
   "metadata": {},
   "outputs": [
    {
     "name": "stderr",
     "output_type": "stream",
     "text": [
      "\u001b[32m\u001b[1m  Activating\u001b[22m\u001b[39m project at `~/.julia/dev/EpistemicMessagePassing`\n"
     ]
    },
    {
     "data": {
      "text/plain": [
       "constructABCD (generic function with 1 method)"
      ]
     },
     "execution_count": 65,
     "metadata": {},
     "output_type": "execute_result"
    }
   ],
   "source": [
    "using Pkg; Pkg.activate(\"../..\"); Pkg.instantiate()\n",
    "using RxInfer,Distributions,Random,LinearAlgebra,OhMyREPL, ReactiveMP\n",
    "enable_autocomplete_brackets(false);colorscheme!(\"GruvboxDark\");\n",
    "\n",
    "# TODO: Structure is correct now but the results are fucked\n",
    "# include(\"GFECategorical.jl\")\n",
    "include(\"../GFECategorical2.jl\")\n",
    "include(\"../helpers.jl\")"
   ]
  },
  {
   "cell_type": "code",
   "execution_count": 101,
   "id": "17441d1c",
   "metadata": {},
   "outputs": [
    {
     "data": {
      "text/plain": [
       "bfeconstraints (generic function with 1 method)"
      ]
     },
     "execution_count": 101,
     "metadata": {},
     "output_type": "execute_result"
    }
   ],
   "source": [
    "@rule Transition(:in, Marginalisation) (q_out::Any, q_a::Any) = begin\n",
    "    a = clamp.(exp.(mean(log, q_a)' * probvec(q_out)), tiny, Inf)\n",
    "    return Categorical(a ./ sum(a))\n",
    "end\n",
    "\n",
    "@model function t_maze(A,B,C,T, pipeline = nothing)\n",
    "\n",
    "    D_0 = datavar(Vector{Float64})\n",
    "    z_0 ~ Categorical(D_0)\n",
    "    # We use datavar here since x~ Pointmass is not a thing\n",
    "    x = datavar(Vector{Float64},T)\n",
    "    z = randomvar(T)\n",
    "    w = randomvar(T)\n",
    "\n",
    "    # Requires changes in the ReactiveMP core, `@meta` does not support pipelines (yet)\n",
    "    pipeline = something(pipeline, ReactiveMP.DefaultFunctionalDependencies())\n",
    "\n",
    "    z_prev = z_0\n",
    "\n",
    "    for t in 1:T\n",
    "        z[t] ~ Transition(z_prev, B[t])\n",
    "        w[t] ~ Transition(z[t], A) where { pipeline = pipeline }\n",
    "        w[t] ~ Categorical(x[t])\n",
    "        z_prev = z[t]\n",
    "    end\n",
    "end;\n",
    "\n",
    "# Edge Constraints\n",
    "@constraints [ warn = false ] function gfeconstraints()\n",
    "    q(x, z, w, A) = q(x)q(w)q(z)q(A)\n",
    "    q(w) :: EpistemicProduct\n",
    "end\n",
    "\n",
    "# Node constraints\n",
    "@meta function gfemeta()\n",
    "    Transition(z, w) -> EpistemicMeta()\n",
    "    Categorical(x, w) -> EpistemicMeta()\n",
    "end\n",
    "\n",
    "@constraints [ warn = false ] function bfeconstraints()\n",
    "    q(x, z, w, A) = q(x)q(w)q(z)q(A)\n",
    "end\n",
    "\n",
    "# @meta function t_maze_bfe()\n",
    "\n",
    "# end"
   ]
  },
  {
   "cell_type": "code",
   "execution_count": 102,
   "id": "ba8bfa95",
   "metadata": {},
   "outputs": [],
   "source": [
    "gfepipeline = GFEPipeline((2,))\n",
    "\n",
    "A,B,C,D = constructABCD(0.9,[2.,2.],2);"
   ]
  },
  {
   "cell_type": "code",
   "execution_count": 103,
   "id": "9d97b73d",
   "metadata": {},
   "outputs": [
    {
     "data": {
      "text/plain": [
       "(pipeline = nothing, constraints = Constraints:\n",
       "  marginals form:\n",
       "  messages form:\n",
       "  factorisation:\n",
       "    q(x, z, w, A) = q(x)q(w)q(z)q(A)\n",
       "Options:\n",
       "  warn = false\n",
       ", meta = nothing)"
      ]
     },
     "execution_count": 103,
     "metadata": {},
     "output_type": "execute_result"
    }
   ],
   "source": [
    "gfe_setup = (\n",
    "    pipeline = gfepipeline,\n",
    "    constraints = gfeconstraints(),\n",
    "    meta = gfemeta()\n",
    ")\n",
    "\n",
    "bfe_setup = (\n",
    "    pipeline = nothing,\n",
    "    constraints = bfeconstraints(),\n",
    "    meta = nothing\n",
    ")\n",
    "\n",
    "current_setup = bfe_setup"
   ]
  },
  {
   "cell_type": "code",
   "execution_count": 104,
   "id": "c3b942d3",
   "metadata": {},
   "outputs": [],
   "source": [
    "T = 2\n",
    "\n",
    "initmarginals = (\n",
    "                 z = [Categorical(fill(1/8,8)) for t in 1:T],\n",
    "                );\n",
    "\n",
    "initmessages = (\n",
    "                 z = [Categorical(fill(1/8,8)) for t in 1:T],\n",
    "             );\n",
    "\n",
    "\n",
    "# TODO: Figure out why FE increases with number of iterations - but only for the best policy?\n",
    "result = nothing\n",
    "its = 50\n",
    "F = zeros(4,4);\n",
    "results = Dict()\n",
    "for i in 1:4\n",
    "    for j in 1:4\n",
    "        Bs = (B[i],B[j])\n",
    "        global result = inference(model = t_maze(A,Bs,C,T, current_setup[:pipeline]),\n",
    "                           data= (D_0 = D, x = C),\n",
    "                           initmarginals = initmarginals,\n",
    "                           initmessages = initmessages,\n",
    "                           constraints = current_setup[:constraints],\n",
    "                           meta = current_setup[:meta],\n",
    "                           free_energy=true,\n",
    "                           # addons = (AddonMemory(),),\n",
    "                           iterations = its)\n",
    "       results[(i, j)] = result\n",
    "        F[i,j] = result.free_energy[end]\n",
    "    end\n",
    "end\n",
    "\n",
    "\n",
    "\n",
    "# q_w is always one iteration behind\n",
    "# Wmarginal.q stays flat? Initial message towards GFEnode never gets updated"
   ]
  },
  {
   "cell_type": "code",
   "execution_count": 87,
   "id": "cb979aae",
   "metadata": {},
   "outputs": [
    {
     "data": {
      "text/plain": [
       "4×4 Matrix{Float64}:\n",
       " 52.4337  48.6285  48.6285  53.1226\n",
       " 48.6285  48.6285  48.6285  48.6285\n",
       " 48.6285  48.6285  48.6285  48.6285\n",
       " 53.1226  49.3173  49.3173  53.8115"
      ]
     },
     "execution_count": 87,
     "metadata": {},
     "output_type": "execute_result"
    }
   ],
   "source": [
    "F"
   ]
  },
  {
   "cell_type": "code",
   "execution_count": 71,
   "id": "8bcb322f",
   "metadata": {},
   "outputs": [
    {
     "data": {
      "text/plain": [
       "4×4 Matrix{Float64}:\n",
       " 7.2803   6.22057  6.22057  6.58715\n",
       " 6.22057  6.22057  6.22057  6.22057\n",
       " 6.22057  6.22057  6.22057  6.22057\n",
       " 6.58715  5.75922  5.75922  5.89401"
      ]
     },
     "execution_count": 71,
     "metadata": {},
     "output_type": "execute_result"
    }
   ],
   "source": [
    "F"
   ]
  },
  {
   "cell_type": "code",
   "execution_count": 72,
   "id": "9d12e3a6",
   "metadata": {},
   "outputs": [
    {
     "data": {
      "text/plain": [
       "4×4 Matrix{Float64}:\n",
       " 7.2803   6.22057  6.22057  6.58715\n",
       " 6.22057  6.22057  6.22057  6.22057\n",
       " 6.22057  6.22057  6.22057  6.22057\n",
       " 6.58715  5.75922  5.75922  5.89401"
      ]
     },
     "execution_count": 72,
     "metadata": {},
     "output_type": "execute_result"
    }
   ],
   "source": [
    "Fl = [\n",
    "    7.2803   6.22057  6.22057  6.58715\n",
    " 6.22057  6.22057  6.22057  6.22057\n",
    " 6.22057  6.22057  6.22057  6.22057\n",
    " 6.58715  5.75922  5.75922  5.89401\n",
    "]"
   ]
  },
  {
   "cell_type": "code",
   "execution_count": 73,
   "id": "6229d6fc",
   "metadata": {},
   "outputs": [
    {
     "data": {
      "text/plain": [
       "4×4 Matrix{Float64}:\n",
       " 7.63086e-7  4.49792e-6  4.49792e-6   3.56049e-6\n",
       " 4.5149e-6   4.49413e-6  4.49413e-6   4.49978e-6\n",
       " 4.5149e-6   4.49413e-6  4.49413e-6   4.49978e-6\n",
       " 3.58388e-6  9.5953e-7   9.5953e-7   -3.60643e-6"
      ]
     },
     "execution_count": 73,
     "metadata": {},
     "output_type": "execute_result"
    }
   ],
   "source": [
    "F .- Fl"
   ]
  },
  {
   "cell_type": "code",
   "execution_count": 70,
   "id": "cbb282fc",
   "metadata": {},
   "outputs": [
    {
     "data": {
      "text/plain": [
       "7.630859339968765e-7"
      ]
     },
     "execution_count": 70,
     "metadata": {},
     "output_type": "execute_result"
    }
   ],
   "source": [
    "(F .- Fl)[1, 1]"
   ]
  },
  {
   "cell_type": "code",
   "execution_count": 52,
   "id": "22d78d10",
   "metadata": {},
   "outputs": [
    {
     "data": {
      "text/plain": [
       "1.3862943656527444"
      ]
     },
     "execution_count": 52,
     "metadata": {},
     "output_type": "execute_result"
    }
   ],
   "source": [
    "results[(1, 1)].posteriors[:w][end] .|> entropy |> sum"
   ]
  },
  {
   "cell_type": "code",
   "execution_count": 49,
   "id": "d2cd1804",
   "metadata": {},
   "outputs": [
    {
     "data": {
      "text/plain": [
       "0.535615066419312"
      ]
     },
     "execution_count": 49,
     "metadata": {},
     "output_type": "execute_result"
    }
   ],
   "source": [
    "results[(4, 2)].posteriors[:z_0][end] |> entropy"
   ]
  },
  {
   "cell_type": "code",
   "execution_count": null,
   "id": "72b0f16e",
   "metadata": {},
   "outputs": [],
   "source": []
  }
 ],
 "metadata": {
  "kernelspec": {
   "display_name": "Julia 1.8.5",
   "language": "julia",
   "name": "julia-1.8"
  },
  "language_info": {
   "file_extension": ".jl",
   "mimetype": "application/julia",
   "name": "julia",
   "version": "1.8.5"
  }
 },
 "nbformat": 4,
 "nbformat_minor": 5
}
