{
 "cells": [
  {
   "cell_type": "markdown",
   "metadata": {},
   "source": [
    "# T-Maze Interactive Simulation\n",
    "\n",
    "This notebook executes the action-perception loop for a discrete SSM."
   ]
  },
  {
   "cell_type": "code",
   "execution_count": 1,
   "metadata": {},
   "outputs": [
    {
     "name": "stderr",
     "output_type": "stream",
     "text": [
      "\u001b[32m\u001b[1m  Activating\u001b[22m\u001b[39m project at `~/biaslab/repos/EpistemicMessagePassing`\n"
     ]
    }
   ],
   "source": [
    "using Pkg\n",
    "Pkg.activate(\"../..\")\n",
    "# Pkg.instantiate()"
   ]
  },
  {
   "cell_type": "code",
   "execution_count": 2,
   "metadata": {},
   "outputs": [],
   "source": [
    "using LinearAlgebra\n",
    "using ForneyLab\n",
    "using Plots\n",
    "using ForwardDiff: hessian\n",
    "# using ProgressMeter\n",
    "\n",
    "# T-maze layout\n",
    "# [2| |3]\n",
    "#   | |\n",
    "#   |1|\n",
    "#   |4|\n",
    "\n",
    "include(\"factor_nodes/discrete_observation.jl\")\n",
    "include(\"update_rules/discrete_observation.jl\")\n",
    ";"
   ]
  },
  {
   "cell_type": "markdown",
   "metadata": {},
   "source": [
    "# Generative Model"
   ]
  },
  {
   "cell_type": "code",
   "execution_count": 3,
   "metadata": {},
   "outputs": [],
   "source": [
    "fg = FactorGraph()\n",
    "\n",
    "u = Vector{Variable}(undef, 2)\n",
    "x = Vector{Variable}(undef, 2)\n",
    "y = Vector{Variable}(undef, 2)\n",
    "\n",
    "@RV x_0 ~ Categorical(placeholder(:D_s, dims=(8,)))\n",
    "\n",
    "x_k_min = x_0\n",
    "for k=1:2\n",
    "    @RV u[k]\n",
    "    @RV x[k] ~ Transition(x_k_min, u[k])\n",
    "    placeholder(u[k], :u, index=k, dims=(8,8))\n",
    "    @RV y[k] ~ DiscreteObservation{Generalized}(x[k], \n",
    "                   placeholder(:A, dims=(16,8), var_id=:A_*k),\n",
    "                   placeholder(:C, dims=(16,), var_id=:C_*k),\n",
    "                   n_factors=8)\n",
    "    \n",
    "    x_k_min = x[k] # For next slice\n",
    "end\n",
    ";"
   ]
  },
  {
   "cell_type": "markdown",
   "metadata": {},
   "source": [
    "# Algorithm"
   ]
  },
  {
   "cell_type": "code",
   "execution_count": 14,
   "metadata": {},
   "outputs": [],
   "source": [
    "q = PosteriorFactorization(y, [x_0; x], ids=[:Y, :X])\n",
    "algo = messagePassingAlgorithm(q, free_energy=true)\n",
    "code = algorithmSourceCode(algo, free_energy=true)\n",
    "initX() = Array{Message}(undef, 9) # Predefine\n",
    "eval(Meta.parse(code)) # Overwrites initX for Generalized constraint\n",
    ";"
   ]
  },
  {
   "cell_type": "code",
   "execution_count": 15,
   "metadata": {},
   "outputs": [
    {
     "data": {
      "text/plain": [
       "Cat(p=[5.69e-11, 5.69e-11, 0.00, 0.00, 0.00, 0.00, 0.72, 0.28, 0.00, 0.00, 1.24e-11, 1.24e-11, 1.24e-11, 1.24e-11, 0.00, 0.00])\n"
      ]
     },
     "execution_count": 15,
     "metadata": {},
     "output_type": "execute_result"
    }
   ],
   "source": [
    "marginals[:y_2]"
   ]
  },
  {
   "cell_type": "code",
   "execution_count": 16,
   "metadata": {},
   "outputs": [
    {
     "name": "stdout",
     "output_type": "stream",
     "text": [
      "begin\n",
      "\n",
      "function stepY!(data::Dict, marginals::Dict=Dict(), messages::Vector{Message}=Array{Message}(undef, 2))\n",
      "\n",
      "messages[1] = ruleVBDiscreteObservationGeneralizedY(marginals[:y_2], marginals[:x_2], Distribution(MatrixVariate, PointMass, m=data[:A]), Distribution(Multivariate, PointMass, m=data[:C]))\n",
      "messages[2] = ruleVBDiscreteObservationGeneralizedY(marginals[:y_1], marginals[:x_1], Distribution(MatrixVariate, PointMass, m=data[:A]), Distribution(Multivariate, PointMass, m=data[:C]))\n",
      "\n",
      "marginals[:y_1] = messages[2].dist\n",
      "marginals[:y_2] = messages[1].dist\n",
      "\n",
      "return marginals\n",
      "\n",
      "end\n",
      "\n",
      "function initX()\n",
      "\n",
      "messages = Array{Message}(undef, 10)\n",
      "\n",
      "messages[5] = Message(vague(Categorical, (8,)))\n",
      "messages[8] = Message(vague(Categorical, (8,)))\n",
      "\n",
      "return messages\n",
      "\n",
      "end\n",
      "\n",
      "function stepX!(data::Dict, marginals::Dict=Dict(), messages::Vector{Message}=Array{Message}(undef, 10))\n",
      "\n",
      "messages[1] = ruleVBDiscreteObservationGeneralizedS(marginals[:y_1], messages[8], marginals[:x_1], Distribution(MatrixVariate, PointMass, m=data[:A]), Distribution(Multivariate, PointMass, m=data[:C]))\n",
      "messages[2] = ruleVBCategoricalOut(nothing, Distribution(Multivariate, PointMass, m=data[:D_s]))\n",
      "messages[3] = ruleSVBTransitionOutVCD(nothing, messages[2], Distribution(MatrixVariate, PointMass, m=data[:u][1]))\n",
      "messages[4] = ruleSPEqualityCategorical(messages[3], messages[1], nothing)\n",
      "messages[5] = ruleSVBTransitionOutVCD(nothing, messages[4], Distribution(MatrixVariate, PointMass, m=data[:u][2]))\n",
      "messages[6] = ruleVBDiscreteObservationGeneralizedS(marginals[:y_2], messages[5], marginals[:x_2], Distribution(MatrixVariate, PointMass, m=data[:A]), Distribution(Multivariate, PointMass, m=data[:C]))\n",
      "messages[7] = ruleSVBTransitionIn1CVD(messages[6], nothing, Distribution(MatrixVariate, PointMass, m=data[:u][2]))\n",
      "messages[8] = ruleSPEqualityCategorical(messages[3], nothing, messages[7])\n",
      "messages[9] = ruleSPEqualityCategorical(nothing, messages[1], messages[7])\n",
      "messages[10] = ruleSVBTransitionIn1CVD(messages[9], nothing, Distribution(MatrixVariate, PointMass, m=data[:u][1]))\n",
      "\n",
      "marginals[:x_0] = messages[2].dist * messages[10].dist\n",
      "marginals[:x_1] = messages[3].dist * messages[9].dist\n",
      "marginals[:x_2] = messages[5].dist * messages[6].dist\n",
      "marginals[:x_1_x_0] = ruleMTransitionCCD(messages[9], messages[2], Distribution(MatrixVariate, PointMass, m=data[:u][1]))\n",
      "marginals[:x_2_x_1] = ruleMTransitionCCD(messages[6], messages[4], Distribution(MatrixVariate, PointMass, m=data[:u][2]))\n",
      "\n",
      "return marginals\n",
      "\n",
      "end\n",
      "\n",
      "function freeEnergy(data::Dict, marginals::Dict)\n",
      "\n",
      "F = 0.0\n",
      "\n",
      "F += averageEnergy(Categorical, marginals[:x_0], Distribution(Multivariate, PointMass, m=data[:D_s]))\n",
      "F += averageEnergy(DiscreteObservation{Generalized}, marginals[:y_1], marginals[:x_1], Distribution(MatrixVariate, PointMass, m=data[:A]), Distribution(Multivariate, PointMass, m=data[:C]))\n",
      "F += averageEnergy(DiscreteObservation{Generalized}, marginals[:y_2], marginals[:x_2], Distribution(MatrixVariate, PointMass, m=data[:A]), Distribution(Multivariate, PointMass, m=data[:C]))\n",
      "F += averageEnergy(Transition, marginals[:x_1_x_0], Distribution(MatrixVariate, PointMass, m=data[:u][1]))\n",
      "F += averageEnergy(Transition, marginals[:x_2_x_1], Distribution(MatrixVariate, PointMass, m=data[:u][2]))\n",
      "\n",
      "F -= -1*differentialEntropy(marginals[:x_1])\n",
      "F -= differentialEntropy(marginals[:x_1_x_0])\n",
      "F -= differentialEntropy(marginals[:x_2_x_1])\n",
      "F -= differentialEntropy(marginals[:y_1])\n",
      "F -= differentialEntropy(marginals[:y_2])\n",
      "\n",
      "return F\n",
      "\n",
      "end\n",
      "\n",
      "end # block\n"
     ]
    }
   ],
   "source": [
    " println(code)"
   ]
  },
  {
   "cell_type": "markdown",
   "metadata": {},
   "source": [
    "## Action-Perception Loop"
   ]
  },
  {
   "cell_type": "code",
   "execution_count": 17,
   "metadata": {},
   "outputs": [
    {
     "data": {
      "text/plain": [
       "10-element Vector{Message}:\n",
       " #undef\n",
       " #undef\n",
       " #undef\n",
       " #undef\n",
       "    Message: Cat(p=[0.12, 0.12, 0.12, 0.12, 0.12, 0.12, 0.12, 0.12])\n",
       "\n",
       " #undef\n",
       " #undef\n",
       "    Message: Cat(p=[0.12, 0.12, 0.12, 0.12, 0.12, 0.12, 0.12, 0.12])\n",
       "\n",
       " #undef\n",
       " #undef"
      ]
     },
     "execution_count": 17,
     "metadata": {},
     "output_type": "execute_result"
    }
   ],
   "source": [
    "α = 0.9; c = 2.0 # Reward probability and utility\n",
    "S = 100 # Number of trials\n",
    "seed = 1234 # Randomizer seed\n",
    "n_its = 50\n",
    "\n",
    "include(\"helpers.jl\")\n",
    "include(\"environment.jl\")\n",
    "include(\"agent.jl\")\n",
    "\n",
    "(A, B, C, D) = constructABCD(α, c)\n",
    "(A_0, D_0) = constructPriors() # Construct prior statistics for A and D\n",
    "\n",
    "pol = (4,2)\n",
    "\n",
    "data = Dict(:u   => [B[pol[1]], B[pol[2]]],\n",
    "            :A   => A,\n",
    "            :C   => C,\n",
    "            :D_s => D_0)\n",
    "\n",
    "marginals = Dict{Symbol, ProbabilityDistribution}(\n",
    "    :x_0 => ProbabilityDistribution(Univariate, Categorical, p=asym(8)),\n",
    "    :x_1 => ProbabilityDistribution(Univariate, Categorical, p=asym(8)),\n",
    "    :x_2 => ProbabilityDistribution(Univariate, Categorical, p=asym(8)))\n",
    "\n",
    "# Define unobserved marginals\n",
    "marginals[:y_1] = Distribution(Univariate, Categorical, p=asym(16))\n",
    "marginals[:y_2] = Distribution(Univariate, Categorical, p=asym(16))\n",
    "\n",
    "messages = initX()\n",
    "    "
   ]
  },
  {
   "cell_type": "code",
   "execution_count": 21,
   "metadata": {},
   "outputs": [
    {
     "data": {
      "text/plain": [
       "Cat(p=[0.12, 0.12, 0.12, 0.13, 0.12, 0.13, 0.13, 0.13])\n"
      ]
     },
     "execution_count": 21,
     "metadata": {},
     "output_type": "execute_result"
    }
   ],
   "source": [
    "marginals[:x_1]"
   ]
  },
  {
   "cell_type": "code",
   "execution_count": 22,
   "metadata": {},
   "outputs": [
    {
     "data": {
      "text/plain": [
       "8.461620404516369"
      ]
     },
     "execution_count": 22,
     "metadata": {},
     "output_type": "execute_result"
    }
   ],
   "source": [
    "Gis = zeros(n_its)\n",
    "\n",
    "\n",
    "stepX!(data, marginals, messages)\n",
    "stepY!(data, marginals)\n",
    "freeEnergy(data, marginals)/log(2)"
   ]
  },
  {
   "cell_type": "code",
   "execution_count": 23,
   "metadata": {},
   "outputs": [
    {
     "data": {
      "text/plain": [
       "Cat(p=[0.89, 0.11, 6.83e-12, 6.83e-12, 6.83e-12, 6.83e-12, 6.83e-12, 6.83e-12])\n"
      ]
     },
     "execution_count": 23,
     "metadata": {},
     "output_type": "execute_result"
    }
   ],
   "source": [
    "marginals[:x_0]"
   ]
  },
  {
   "cell_type": "code",
   "execution_count": 6,
   "metadata": {},
   "outputs": [],
   "source": [
    "        \n",
    "Gis = zeros(n_its)\n",
    "for i=1:n_its\n",
    "    stepX!(data, marginals, messages)\n",
    "    stepY!(data, marginals)\n",
    "    Gis[i] = freeEnergy(data, marginals)/log(2)\n",
    "end\n",
    ";"
   ]
  },
  {
   "cell_type": "code",
   "execution_count": 8,
   "metadata": {},
   "outputs": [
    {
     "data": {
      "image/svg+xml": [
       "<?xml version=\"1.0\" encoding=\"utf-8\"?>\n",
       "<svg xmlns=\"http://www.w3.org/2000/svg\" xmlns:xlink=\"http://www.w3.org/1999/xlink\" width=\"600\" height=\"400\" viewBox=\"0 0 2400 1600\">\n",
       "<defs>\n",
       "  <clipPath id=\"clip680\">\n",
       "    <rect x=\"0\" y=\"0\" width=\"2400\" height=\"1600\"/>\n",
       "  </clipPath>\n",
       "</defs>\n",
       "<path clip-path=\"url(#clip680)\" d=\"M0 1600 L2400 1600 L2400 0 L0 0  Z\" fill=\"#ffffff\" fill-rule=\"evenodd\" fill-opacity=\"1\"/>\n",
       "<defs>\n",
       "  <clipPath id=\"clip681\">\n",
       "    <rect x=\"480\" y=\"0\" width=\"1681\" height=\"1600\"/>\n",
       "  </clipPath>\n",
       "</defs>\n",
       "<path clip-path=\"url(#clip680)\" d=\"M279.611 1423.18 L2352.76 1423.18 L2352.76 123.472 L279.611 123.472  Z\" fill=\"#ffffff\" fill-rule=\"evenodd\" fill-opacity=\"1\"/>\n",
       "<defs>\n",
       "  <clipPath id=\"clip682\">\n",
       "    <rect x=\"279\" y=\"123\" width=\"2074\" height=\"1301\"/>\n",
       "  </clipPath>\n",
       "</defs>\n",
       "<polyline clip-path=\"url(#clip682)\" style=\"stroke:#000000; stroke-linecap:round; stroke-linejoin:round; stroke-width:2; stroke-opacity:0.1; fill:none\" points=\"298.371,1423.18 298.371,123.472 \"/>\n",
       "<polyline clip-path=\"url(#clip682)\" style=\"stroke:#000000; stroke-linecap:round; stroke-linejoin:round; stroke-width:2; stroke-opacity:0.1; fill:none\" points=\"697.513,1423.18 697.513,123.472 \"/>\n",
       "<polyline clip-path=\"url(#clip682)\" style=\"stroke:#000000; stroke-linecap:round; stroke-linejoin:round; stroke-width:2; stroke-opacity:0.1; fill:none\" points=\"1096.66,1423.18 1096.66,123.472 \"/>\n",
       "<polyline clip-path=\"url(#clip682)\" style=\"stroke:#000000; stroke-linecap:round; stroke-linejoin:round; stroke-width:2; stroke-opacity:0.1; fill:none\" points=\"1495.8,1423.18 1495.8,123.472 \"/>\n",
       "<polyline clip-path=\"url(#clip682)\" style=\"stroke:#000000; stroke-linecap:round; stroke-linejoin:round; stroke-width:2; stroke-opacity:0.1; fill:none\" points=\"1894.94,1423.18 1894.94,123.472 \"/>\n",
       "<polyline clip-path=\"url(#clip682)\" style=\"stroke:#000000; stroke-linecap:round; stroke-linejoin:round; stroke-width:2; stroke-opacity:0.1; fill:none\" points=\"2294.08,1423.18 2294.08,123.472 \"/>\n",
       "<polyline clip-path=\"url(#clip680)\" style=\"stroke:#000000; stroke-linecap:round; stroke-linejoin:round; stroke-width:4; stroke-opacity:1; fill:none\" points=\"279.611,1423.18 2352.76,1423.18 \"/>\n",
       "<polyline clip-path=\"url(#clip680)\" style=\"stroke:#000000; stroke-linecap:round; stroke-linejoin:round; stroke-width:4; stroke-opacity:1; fill:none\" points=\"298.371,1423.18 298.371,1404.28 \"/>\n",
       "<polyline clip-path=\"url(#clip680)\" style=\"stroke:#000000; stroke-linecap:round; stroke-linejoin:round; stroke-width:4; stroke-opacity:1; fill:none\" points=\"697.513,1423.18 697.513,1404.28 \"/>\n",
       "<polyline clip-path=\"url(#clip680)\" style=\"stroke:#000000; stroke-linecap:round; stroke-linejoin:round; stroke-width:4; stroke-opacity:1; fill:none\" points=\"1096.66,1423.18 1096.66,1404.28 \"/>\n",
       "<polyline clip-path=\"url(#clip680)\" style=\"stroke:#000000; stroke-linecap:round; stroke-linejoin:round; stroke-width:4; stroke-opacity:1; fill:none\" points=\"1495.8,1423.18 1495.8,1404.28 \"/>\n",
       "<polyline clip-path=\"url(#clip680)\" style=\"stroke:#000000; stroke-linecap:round; stroke-linejoin:round; stroke-width:4; stroke-opacity:1; fill:none\" points=\"1894.94,1423.18 1894.94,1404.28 \"/>\n",
       "<polyline clip-path=\"url(#clip680)\" style=\"stroke:#000000; stroke-linecap:round; stroke-linejoin:round; stroke-width:4; stroke-opacity:1; fill:none\" points=\"2294.08,1423.18 2294.08,1404.28 \"/>\n",
       "<path clip-path=\"url(#clip680)\" d=\"M298.371 1454.1 Q294.76 1454.1 292.931 1457.66 Q291.126 1461.2 291.126 1468.33 Q291.126 1475.44 292.931 1479.01 Q294.76 1482.55 298.371 1482.55 Q302.005 1482.55 303.811 1479.01 Q305.639 1475.44 305.639 1468.33 Q305.639 1461.2 303.811 1457.66 Q302.005 1454.1 298.371 1454.1 M298.371 1450.39 Q304.181 1450.39 307.237 1455 Q310.315 1459.58 310.315 1468.33 Q310.315 1477.06 307.237 1481.67 Q304.181 1486.25 298.371 1486.25 Q292.561 1486.25 289.482 1481.67 Q286.427 1477.06 286.427 1468.33 Q286.427 1459.58 289.482 1455 Q292.561 1450.39 298.371 1450.39 Z\" fill=\"#000000\" fill-rule=\"evenodd\" fill-opacity=\"1\" /><path clip-path=\"url(#clip680)\" d=\"M672.201 1481.64 L679.84 1481.64 L679.84 1455.28 L671.53 1456.95 L671.53 1452.69 L679.793 1451.02 L684.469 1451.02 L684.469 1481.64 L692.108 1481.64 L692.108 1485.58 L672.201 1485.58 L672.201 1481.64 Z\" fill=\"#000000\" fill-rule=\"evenodd\" fill-opacity=\"1\" /><path clip-path=\"url(#clip680)\" d=\"M711.552 1454.1 Q707.941 1454.1 706.113 1457.66 Q704.307 1461.2 704.307 1468.33 Q704.307 1475.44 706.113 1479.01 Q707.941 1482.55 711.552 1482.55 Q715.187 1482.55 716.992 1479.01 Q718.821 1475.44 718.821 1468.33 Q718.821 1461.2 716.992 1457.66 Q715.187 1454.1 711.552 1454.1 M711.552 1450.39 Q717.363 1450.39 720.418 1455 Q723.497 1459.58 723.497 1468.33 Q723.497 1477.06 720.418 1481.67 Q717.363 1486.25 711.552 1486.25 Q705.742 1486.25 702.664 1481.67 Q699.608 1477.06 699.608 1468.33 Q699.608 1459.58 702.664 1455 Q705.742 1450.39 711.552 1450.39 Z\" fill=\"#000000\" fill-rule=\"evenodd\" fill-opacity=\"1\" /><path clip-path=\"url(#clip680)\" d=\"M1075.43 1481.64 L1091.75 1481.64 L1091.75 1485.58 L1069.8 1485.58 L1069.8 1481.64 Q1072.47 1478.89 1077.05 1474.26 Q1081.66 1469.61 1082.84 1468.27 Q1085.08 1465.74 1085.96 1464.01 Q1086.86 1462.25 1086.86 1460.56 Q1086.86 1457.8 1084.92 1456.07 Q1083 1454.33 1079.9 1454.33 Q1077.7 1454.33 1075.24 1455.09 Q1072.81 1455.86 1070.04 1457.41 L1070.04 1452.69 Q1072.86 1451.55 1075.31 1450.97 Q1077.77 1450.39 1079.8 1450.39 Q1085.17 1450.39 1088.37 1453.08 Q1091.56 1455.77 1091.56 1460.26 Q1091.56 1462.39 1090.75 1464.31 Q1089.97 1466.2 1087.86 1468.8 Q1087.28 1469.47 1084.18 1472.69 Q1081.08 1475.88 1075.43 1481.64 Z\" fill=\"#000000\" fill-rule=\"evenodd\" fill-opacity=\"1\" /><path clip-path=\"url(#clip680)\" d=\"M1111.56 1454.1 Q1107.95 1454.1 1106.12 1457.66 Q1104.32 1461.2 1104.32 1468.33 Q1104.32 1475.44 1106.12 1479.01 Q1107.95 1482.55 1111.56 1482.55 Q1115.2 1482.55 1117 1479.01 Q1118.83 1475.44 1118.83 1468.33 Q1118.83 1461.2 1117 1457.66 Q1115.2 1454.1 1111.56 1454.1 M1111.56 1450.39 Q1117.37 1450.39 1120.43 1455 Q1123.51 1459.58 1123.51 1468.33 Q1123.51 1477.06 1120.43 1481.67 Q1117.37 1486.25 1111.56 1486.25 Q1105.75 1486.25 1102.67 1481.67 Q1099.62 1477.06 1099.62 1468.33 Q1099.62 1459.58 1102.67 1455 Q1105.75 1450.39 1111.56 1450.39 Z\" fill=\"#000000\" fill-rule=\"evenodd\" fill-opacity=\"1\" /><path clip-path=\"url(#clip680)\" d=\"M1484.64 1466.95 Q1488 1467.66 1489.87 1469.93 Q1491.77 1472.2 1491.77 1475.53 Q1491.77 1480.65 1488.25 1483.45 Q1484.73 1486.25 1478.25 1486.25 Q1476.08 1486.25 1473.76 1485.81 Q1471.47 1485.39 1469.02 1484.54 L1469.02 1480.02 Q1470.96 1481.16 1473.27 1481.74 Q1475.59 1482.32 1478.11 1482.32 Q1482.51 1482.32 1484.8 1480.58 Q1487.12 1478.84 1487.12 1475.53 Q1487.12 1472.48 1484.96 1470.77 Q1482.83 1469.03 1479.02 1469.03 L1474.99 1469.03 L1474.99 1465.19 L1479.2 1465.19 Q1482.65 1465.19 1484.48 1463.82 Q1486.31 1462.43 1486.31 1459.84 Q1486.31 1457.18 1484.41 1455.77 Q1482.53 1454.33 1479.02 1454.33 Q1477.09 1454.33 1474.89 1454.75 Q1472.7 1455.16 1470.06 1456.04 L1470.06 1451.88 Q1472.72 1451.14 1475.03 1450.77 Q1477.37 1450.39 1479.43 1450.39 Q1484.76 1450.39 1487.86 1452.83 Q1490.96 1455.23 1490.96 1459.35 Q1490.96 1462.22 1489.32 1464.21 Q1487.67 1466.18 1484.64 1466.95 Z\" fill=\"#000000\" fill-rule=\"evenodd\" fill-opacity=\"1\" /><path clip-path=\"url(#clip680)\" d=\"M1510.64 1454.1 Q1507.02 1454.1 1505.2 1457.66 Q1503.39 1461.2 1503.39 1468.33 Q1503.39 1475.44 1505.2 1479.01 Q1507.02 1482.55 1510.64 1482.55 Q1514.27 1482.55 1516.08 1479.01 Q1517.9 1475.44 1517.9 1468.33 Q1517.9 1461.2 1516.08 1457.66 Q1514.27 1454.1 1510.64 1454.1 M1510.64 1450.39 Q1516.45 1450.39 1519.5 1455 Q1522.58 1459.58 1522.58 1468.33 Q1522.58 1477.06 1519.5 1481.67 Q1516.45 1486.25 1510.64 1486.25 Q1504.83 1486.25 1501.75 1481.67 Q1498.69 1477.06 1498.69 1468.33 Q1498.69 1459.58 1501.75 1455 Q1504.83 1450.39 1510.64 1450.39 Z\" fill=\"#000000\" fill-rule=\"evenodd\" fill-opacity=\"1\" /><path clip-path=\"url(#clip680)\" d=\"M1883.11 1455.09 L1871.31 1473.54 L1883.11 1473.54 L1883.11 1455.09 M1881.88 1451.02 L1887.76 1451.02 L1887.76 1473.54 L1892.69 1473.54 L1892.69 1477.43 L1887.76 1477.43 L1887.76 1485.58 L1883.11 1485.58 L1883.11 1477.43 L1867.51 1477.43 L1867.51 1472.92 L1881.88 1451.02 Z\" fill=\"#000000\" fill-rule=\"evenodd\" fill-opacity=\"1\" /><path clip-path=\"url(#clip680)\" d=\"M1910.43 1454.1 Q1906.81 1454.1 1904.99 1457.66 Q1903.18 1461.2 1903.18 1468.33 Q1903.18 1475.44 1904.99 1479.01 Q1906.81 1482.55 1910.43 1482.55 Q1914.06 1482.55 1915.87 1479.01 Q1917.69 1475.44 1917.69 1468.33 Q1917.69 1461.2 1915.87 1457.66 Q1914.06 1454.1 1910.43 1454.1 M1910.43 1450.39 Q1916.24 1450.39 1919.29 1455 Q1922.37 1459.58 1922.37 1468.33 Q1922.37 1477.06 1919.29 1481.67 Q1916.24 1486.25 1910.43 1486.25 Q1904.62 1486.25 1901.54 1481.67 Q1898.48 1477.06 1898.48 1468.33 Q1898.48 1459.58 1901.54 1455 Q1904.62 1450.39 1910.43 1450.39 Z\" fill=\"#000000\" fill-rule=\"evenodd\" fill-opacity=\"1\" /><path clip-path=\"url(#clip680)\" d=\"M2268.78 1451.02 L2287.14 1451.02 L2287.14 1454.96 L2273.06 1454.96 L2273.06 1463.43 Q2274.08 1463.08 2275.1 1462.92 Q2276.12 1462.73 2277.14 1462.73 Q2282.92 1462.73 2286.3 1465.9 Q2289.68 1469.08 2289.68 1474.49 Q2289.68 1480.07 2286.21 1483.17 Q2282.74 1486.25 2276.42 1486.25 Q2274.24 1486.25 2271.98 1485.88 Q2269.73 1485.51 2267.32 1484.77 L2267.32 1480.07 Q2269.41 1481.2 2271.63 1481.76 Q2273.85 1482.32 2276.33 1482.32 Q2280.33 1482.32 2282.67 1480.21 Q2285.01 1478.1 2285.01 1474.49 Q2285.01 1470.88 2282.67 1468.77 Q2280.33 1466.67 2276.33 1466.67 Q2274.45 1466.67 2272.58 1467.08 Q2270.73 1467.5 2268.78 1468.38 L2268.78 1451.02 Z\" fill=\"#000000\" fill-rule=\"evenodd\" fill-opacity=\"1\" /><path clip-path=\"url(#clip680)\" d=\"M2308.9 1454.1 Q2305.29 1454.1 2303.46 1457.66 Q2301.65 1461.2 2301.65 1468.33 Q2301.65 1475.44 2303.46 1479.01 Q2305.29 1482.55 2308.9 1482.55 Q2312.53 1482.55 2314.34 1479.01 Q2316.17 1475.44 2316.17 1468.33 Q2316.17 1461.2 2314.34 1457.66 Q2312.53 1454.1 2308.9 1454.1 M2308.9 1450.39 Q2314.71 1450.39 2317.76 1455 Q2320.84 1459.58 2320.84 1468.33 Q2320.84 1477.06 2317.76 1481.67 Q2314.71 1486.25 2308.9 1486.25 Q2303.09 1486.25 2300.01 1481.67 Q2296.95 1477.06 2296.95 1468.33 Q2296.95 1459.58 2300.01 1455 Q2303.09 1450.39 2308.9 1450.39 Z\" fill=\"#000000\" fill-rule=\"evenodd\" fill-opacity=\"1\" /><path clip-path=\"url(#clip680)\" d=\"M1183.9 1520.52 L1190.33 1520.52 L1190.33 1568.04 L1183.9 1568.04 L1183.9 1520.52 Z\" fill=\"#000000\" fill-rule=\"evenodd\" fill-opacity=\"1\" /><path clip-path=\"url(#clip680)\" d=\"M1208.67 1522.27 L1208.67 1532.4 L1220.73 1532.4 L1220.73 1536.95 L1208.67 1536.95 L1208.67 1556.3 Q1208.67 1560.66 1209.84 1561.9 Q1211.05 1563.14 1214.71 1563.14 L1220.73 1563.14 L1220.73 1568.04 L1214.71 1568.04 Q1207.93 1568.04 1205.36 1565.53 Q1202.78 1562.98 1202.78 1556.3 L1202.78 1536.95 L1198.48 1536.95 L1198.48 1532.4 L1202.78 1532.4 L1202.78 1522.27 L1208.67 1522.27 Z\" fill=\"#000000\" fill-rule=\"evenodd\" fill-opacity=\"1\" /><path clip-path=\"url(#clip680)\" d=\"M1258.92 1548.76 L1258.92 1551.62 L1232 1551.62 Q1232.38 1557.67 1235.63 1560.85 Q1238.9 1564 1244.73 1564 Q1248.1 1564 1251.25 1563.17 Q1254.44 1562.35 1257.56 1560.69 L1257.56 1566.23 Q1254.4 1567.57 1251.09 1568.27 Q1247.78 1568.97 1244.38 1568.97 Q1235.85 1568.97 1230.85 1564 Q1225.89 1559.04 1225.89 1550.57 Q1225.89 1541.82 1230.6 1536.69 Q1235.34 1531.54 1243.36 1531.54 Q1250.55 1531.54 1254.72 1536.18 Q1258.92 1540.8 1258.92 1548.76 M1253.07 1547.04 Q1253 1542.23 1250.36 1539.37 Q1247.75 1536.5 1243.42 1536.5 Q1238.52 1536.5 1235.56 1539.27 Q1232.63 1542.04 1232.19 1547.07 L1253.07 1547.04 Z\" fill=\"#000000\" fill-rule=\"evenodd\" fill-opacity=\"1\" /><path clip-path=\"url(#clip680)\" d=\"M1289.19 1537.87 Q1288.21 1537.3 1287.03 1537.04 Q1285.88 1536.76 1284.48 1536.76 Q1279.52 1536.76 1276.84 1540 Q1274.2 1543.22 1274.2 1549.27 L1274.2 1568.04 L1268.31 1568.04 L1268.31 1532.4 L1274.2 1532.4 L1274.2 1537.93 Q1276.05 1534.69 1279.01 1533.13 Q1281.97 1531.54 1286.2 1531.54 Q1286.81 1531.54 1287.54 1531.63 Q1288.27 1531.7 1289.16 1531.85 L1289.19 1537.87 Z\" fill=\"#000000\" fill-rule=\"evenodd\" fill-opacity=\"1\" /><path clip-path=\"url(#clip680)\" d=\"M1311.54 1550.12 Q1304.44 1550.12 1301.7 1551.75 Q1298.96 1553.37 1298.96 1557.29 Q1298.96 1560.4 1301 1562.25 Q1303.07 1564.07 1306.6 1564.07 Q1311.47 1564.07 1314.4 1560.63 Q1317.36 1557.16 1317.36 1551.43 L1317.36 1550.12 L1311.54 1550.12 M1323.22 1547.71 L1323.22 1568.04 L1317.36 1568.04 L1317.36 1562.63 Q1315.36 1565.88 1312.36 1567.44 Q1309.37 1568.97 1305.04 1568.97 Q1299.57 1568.97 1296.32 1565.91 Q1293.11 1562.82 1293.11 1557.67 Q1293.11 1551.65 1297.12 1548.6 Q1301.16 1545.54 1309.15 1545.54 L1317.36 1545.54 L1317.36 1544.97 Q1317.36 1540.93 1314.69 1538.73 Q1312.05 1536.5 1307.24 1536.5 Q1304.18 1536.5 1301.29 1537.23 Q1298.39 1537.97 1295.72 1539.43 L1295.72 1534.02 Q1298.93 1532.78 1301.96 1532.17 Q1304.98 1531.54 1307.84 1531.54 Q1315.58 1531.54 1319.4 1535.55 Q1323.22 1539.56 1323.22 1547.71 Z\" fill=\"#000000\" fill-rule=\"evenodd\" fill-opacity=\"1\" /><path clip-path=\"url(#clip680)\" d=\"M1341.07 1522.27 L1341.07 1532.4 L1353.14 1532.4 L1353.14 1536.95 L1341.07 1536.95 L1341.07 1556.3 Q1341.07 1560.66 1342.25 1561.9 Q1343.46 1563.14 1347.12 1563.14 L1353.14 1563.14 L1353.14 1568.04 L1347.12 1568.04 Q1340.34 1568.04 1337.76 1565.53 Q1335.19 1562.98 1335.19 1556.3 L1335.19 1536.95 L1330.89 1536.95 L1330.89 1532.4 L1335.19 1532.4 L1335.19 1522.27 L1341.07 1522.27 Z\" fill=\"#000000\" fill-rule=\"evenodd\" fill-opacity=\"1\" /><path clip-path=\"url(#clip680)\" d=\"M1360.84 1532.4 L1366.7 1532.4 L1366.7 1568.04 L1360.84 1568.04 L1360.84 1532.4 M1360.84 1518.52 L1366.7 1518.52 L1366.7 1525.93 L1360.84 1525.93 L1360.84 1518.52 Z\" fill=\"#000000\" fill-rule=\"evenodd\" fill-opacity=\"1\" /><path clip-path=\"url(#clip680)\" d=\"M1392.76 1536.5 Q1388.05 1536.5 1385.32 1540.19 Q1382.58 1543.85 1382.58 1550.25 Q1382.58 1556.65 1385.28 1560.34 Q1388.02 1564 1392.76 1564 Q1397.44 1564 1400.18 1560.31 Q1402.92 1556.62 1402.92 1550.25 Q1402.92 1543.92 1400.18 1540.23 Q1397.44 1536.5 1392.76 1536.5 M1392.76 1531.54 Q1400.4 1531.54 1404.76 1536.5 Q1409.12 1541.47 1409.12 1550.25 Q1409.12 1559 1404.76 1564 Q1400.4 1568.97 1392.76 1568.97 Q1385.09 1568.97 1380.73 1564 Q1376.4 1559 1376.4 1550.25 Q1376.4 1541.47 1380.73 1536.5 Q1385.09 1531.54 1392.76 1531.54 Z\" fill=\"#000000\" fill-rule=\"evenodd\" fill-opacity=\"1\" /><path clip-path=\"url(#clip680)\" d=\"M1448.46 1546.53 L1448.46 1568.04 L1442.61 1568.04 L1442.61 1546.72 Q1442.61 1541.66 1440.63 1539.14 Q1438.66 1536.63 1434.71 1536.63 Q1429.97 1536.63 1427.23 1539.65 Q1424.5 1542.68 1424.5 1547.9 L1424.5 1568.04 L1418.61 1568.04 L1418.61 1532.4 L1424.5 1532.4 L1424.5 1537.93 Q1426.6 1534.72 1429.43 1533.13 Q1432.29 1531.54 1436.02 1531.54 Q1442.16 1531.54 1445.31 1535.36 Q1448.46 1539.14 1448.46 1546.53 Z\" fill=\"#000000\" fill-rule=\"evenodd\" fill-opacity=\"1\" /><polyline clip-path=\"url(#clip682)\" style=\"stroke:#000000; stroke-linecap:round; stroke-linejoin:round; stroke-width:2; stroke-opacity:0.1; fill:none\" points=\"279.611,1256.41 2352.76,1256.41 \"/>\n",
       "<polyline clip-path=\"url(#clip682)\" style=\"stroke:#000000; stroke-linecap:round; stroke-linejoin:round; stroke-width:2; stroke-opacity:0.1; fill:none\" points=\"279.611,1055.83 2352.76,1055.83 \"/>\n",
       "<polyline clip-path=\"url(#clip682)\" style=\"stroke:#000000; stroke-linecap:round; stroke-linejoin:round; stroke-width:2; stroke-opacity:0.1; fill:none\" points=\"279.611,855.244 2352.76,855.244 \"/>\n",
       "<polyline clip-path=\"url(#clip682)\" style=\"stroke:#000000; stroke-linecap:round; stroke-linejoin:round; stroke-width:2; stroke-opacity:0.1; fill:none\" points=\"279.611,654.66 2352.76,654.66 \"/>\n",
       "<polyline clip-path=\"url(#clip682)\" style=\"stroke:#000000; stroke-linecap:round; stroke-linejoin:round; stroke-width:2; stroke-opacity:0.1; fill:none\" points=\"279.611,454.076 2352.76,454.076 \"/>\n",
       "<polyline clip-path=\"url(#clip682)\" style=\"stroke:#000000; stroke-linecap:round; stroke-linejoin:round; stroke-width:2; stroke-opacity:0.1; fill:none\" points=\"279.611,253.491 2352.76,253.491 \"/>\n",
       "<polyline clip-path=\"url(#clip680)\" style=\"stroke:#000000; stroke-linecap:round; stroke-linejoin:round; stroke-width:4; stroke-opacity:1; fill:none\" points=\"279.611,1423.18 279.611,123.472 \"/>\n",
       "<polyline clip-path=\"url(#clip680)\" style=\"stroke:#000000; stroke-linecap:round; stroke-linejoin:round; stroke-width:4; stroke-opacity:1; fill:none\" points=\"279.611,1256.41 298.509,1256.41 \"/>\n",
       "<polyline clip-path=\"url(#clip680)\" style=\"stroke:#000000; stroke-linecap:round; stroke-linejoin:round; stroke-width:4; stroke-opacity:1; fill:none\" points=\"279.611,1055.83 298.509,1055.83 \"/>\n",
       "<polyline clip-path=\"url(#clip680)\" style=\"stroke:#000000; stroke-linecap:round; stroke-linejoin:round; stroke-width:4; stroke-opacity:1; fill:none\" points=\"279.611,855.244 298.509,855.244 \"/>\n",
       "<polyline clip-path=\"url(#clip680)\" style=\"stroke:#000000; stroke-linecap:round; stroke-linejoin:round; stroke-width:4; stroke-opacity:1; fill:none\" points=\"279.611,654.66 298.509,654.66 \"/>\n",
       "<polyline clip-path=\"url(#clip680)\" style=\"stroke:#000000; stroke-linecap:round; stroke-linejoin:round; stroke-width:4; stroke-opacity:1; fill:none\" points=\"279.611,454.076 298.509,454.076 \"/>\n",
       "<polyline clip-path=\"url(#clip680)\" style=\"stroke:#000000; stroke-linecap:round; stroke-linejoin:round; stroke-width:4; stroke-opacity:1; fill:none\" points=\"279.611,253.491 298.509,253.491 \"/>\n",
       "<path clip-path=\"url(#clip680)\" d=\"M127.107 1257.28 Q123.774 1257.28 121.853 1259.06 Q119.955 1260.85 119.955 1263.97 Q119.955 1267.1 121.853 1268.88 Q123.774 1270.66 127.107 1270.66 Q130.441 1270.66 132.362 1268.88 Q134.283 1267.07 134.283 1263.97 Q134.283 1260.85 132.362 1259.06 Q130.464 1257.28 127.107 1257.28 M122.431 1255.29 Q119.422 1254.55 117.732 1252.49 Q116.066 1250.43 116.066 1247.47 Q116.066 1243.32 119.006 1240.92 Q121.968 1238.51 127.107 1238.51 Q132.269 1238.51 135.209 1240.92 Q138.149 1243.32 138.149 1247.47 Q138.149 1250.43 136.459 1252.49 Q134.792 1254.55 131.806 1255.29 Q135.186 1256.08 137.061 1258.37 Q138.959 1260.66 138.959 1263.97 Q138.959 1268.99 135.88 1271.68 Q132.825 1274.36 127.107 1274.36 Q121.39 1274.36 118.311 1271.68 Q115.256 1268.99 115.256 1263.97 Q115.256 1260.66 117.154 1258.37 Q119.052 1256.08 122.431 1255.29 M120.718 1247.91 Q120.718 1250.59 122.385 1252.1 Q124.075 1253.6 127.107 1253.6 Q130.117 1253.6 131.806 1252.1 Q133.519 1250.59 133.519 1247.91 Q133.519 1245.22 131.806 1243.72 Q130.117 1242.21 127.107 1242.21 Q124.075 1242.21 122.385 1243.72 Q120.718 1245.22 120.718 1247.91 Z\" fill=\"#000000\" fill-rule=\"evenodd\" fill-opacity=\"1\" /><path clip-path=\"url(#clip680)\" d=\"M147.269 1267.81 L152.153 1267.81 L152.153 1273.69 L147.269 1273.69 L147.269 1267.81 Z\" fill=\"#000000\" fill-rule=\"evenodd\" fill-opacity=\"1\" /><path clip-path=\"url(#clip680)\" d=\"M176.505 1255.06 Q179.862 1255.78 181.737 1258.05 Q183.635 1260.31 183.635 1263.65 Q183.635 1268.76 180.116 1271.56 Q176.598 1274.36 170.116 1274.36 Q167.94 1274.36 165.626 1273.92 Q163.334 1273.51 160.88 1272.65 L160.88 1268.14 Q162.825 1269.27 165.14 1269.85 Q167.454 1270.43 169.977 1270.43 Q174.376 1270.43 176.667 1268.69 Q178.982 1266.96 178.982 1263.65 Q178.982 1260.59 176.829 1258.88 Q174.7 1257.14 170.88 1257.14 L166.852 1257.14 L166.852 1253.3 L171.065 1253.3 Q174.514 1253.3 176.343 1251.93 Q178.172 1250.55 178.172 1247.95 Q178.172 1245.29 176.274 1243.88 Q174.399 1242.44 170.88 1242.44 Q168.959 1242.44 166.76 1242.86 Q164.561 1243.28 161.922 1244.16 L161.922 1239.99 Q164.584 1239.25 166.899 1238.88 Q169.237 1238.51 171.297 1238.51 Q176.621 1238.51 179.723 1240.94 Q182.825 1243.35 182.825 1247.47 Q182.825 1250.34 181.181 1252.33 Q179.538 1254.3 176.505 1255.06 Z\" fill=\"#000000\" fill-rule=\"evenodd\" fill-opacity=\"1\" /><path clip-path=\"url(#clip680)\" d=\"M196.528 1269.76 L212.848 1269.76 L212.848 1273.69 L190.903 1273.69 L190.903 1269.76 Q193.565 1267 198.149 1262.37 Q202.755 1257.72 203.936 1256.38 Q206.181 1253.86 207.061 1252.12 Q207.963 1250.36 207.963 1248.67 Q207.963 1245.92 206.019 1244.18 Q204.098 1242.44 200.996 1242.44 Q198.797 1242.44 196.343 1243.21 Q193.913 1243.97 191.135 1245.52 L191.135 1240.8 Q193.959 1239.67 196.412 1239.09 Q198.866 1238.51 200.903 1238.51 Q206.274 1238.51 209.468 1241.19 Q212.662 1243.88 212.662 1248.37 Q212.662 1250.5 211.852 1252.42 Q211.065 1254.32 208.959 1256.91 Q208.38 1257.58 205.278 1260.8 Q202.176 1263.99 196.528 1269.76 Z\" fill=\"#000000\" fill-rule=\"evenodd\" fill-opacity=\"1\" /><path clip-path=\"url(#clip680)\" d=\"M222.709 1239.13 L241.065 1239.13 L241.065 1243.07 L226.991 1243.07 L226.991 1251.54 Q228.01 1251.19 229.028 1251.03 Q230.047 1250.85 231.065 1250.85 Q236.852 1250.85 240.232 1254.02 Q243.611 1257.19 243.611 1262.61 Q243.611 1268.18 240.139 1271.29 Q236.667 1274.36 230.347 1274.36 Q228.172 1274.36 225.903 1273.99 Q223.658 1273.62 221.25 1272.88 L221.25 1268.18 Q223.334 1269.32 225.556 1269.87 Q227.778 1270.43 230.255 1270.43 Q234.26 1270.43 236.597 1268.32 Q238.935 1266.22 238.935 1262.61 Q238.935 1258.99 236.597 1256.89 Q234.26 1254.78 230.255 1254.78 Q228.38 1254.78 226.505 1255.2 Q224.653 1255.61 222.709 1256.49 L222.709 1239.13 Z\" fill=\"#000000\" fill-rule=\"evenodd\" fill-opacity=\"1\" /><path clip-path=\"url(#clip680)\" d=\"M126.112 1056.7 Q122.779 1056.7 120.857 1058.48 Q118.959 1060.26 118.959 1063.39 Q118.959 1066.51 120.857 1068.29 Q122.779 1070.08 126.112 1070.08 Q129.445 1070.08 131.367 1068.29 Q133.288 1066.49 133.288 1063.39 Q133.288 1060.26 131.367 1058.48 Q129.468 1056.7 126.112 1056.7 M121.436 1054.71 Q118.427 1053.97 116.737 1051.91 Q115.07 1049.84 115.07 1046.88 Q115.07 1042.74 118.01 1040.33 Q120.973 1037.92 126.112 1037.92 Q131.274 1037.92 134.214 1040.33 Q137.154 1042.74 137.154 1046.88 Q137.154 1049.84 135.464 1051.91 Q133.797 1053.97 130.811 1054.71 Q134.191 1055.49 136.066 1057.78 Q137.964 1060.08 137.964 1063.39 Q137.964 1068.41 134.885 1071.09 Q131.83 1073.78 126.112 1073.78 Q120.394 1073.78 117.316 1071.09 Q114.26 1068.41 114.26 1063.39 Q114.26 1060.08 116.158 1057.78 Q118.056 1055.49 121.436 1054.71 M119.723 1047.32 Q119.723 1050.01 121.39 1051.51 Q123.08 1053.02 126.112 1053.02 Q129.121 1053.02 130.811 1051.51 Q132.524 1050.01 132.524 1047.32 Q132.524 1044.64 130.811 1043.13 Q129.121 1041.63 126.112 1041.63 Q123.08 1041.63 121.39 1043.13 Q119.723 1044.64 119.723 1047.32 Z\" fill=\"#000000\" fill-rule=\"evenodd\" fill-opacity=\"1\" /><path clip-path=\"url(#clip680)\" d=\"M146.274 1067.23 L151.158 1067.23 L151.158 1073.11 L146.274 1073.11 L146.274 1067.23 Z\" fill=\"#000000\" fill-rule=\"evenodd\" fill-opacity=\"1\" /><path clip-path=\"url(#clip680)\" d=\"M175.51 1054.47 Q178.866 1055.19 180.741 1057.46 Q182.639 1059.73 182.639 1063.06 Q182.639 1068.18 179.121 1070.98 Q175.602 1073.78 169.121 1073.78 Q166.945 1073.78 164.63 1073.34 Q162.339 1072.92 159.885 1072.07 L159.885 1067.55 Q161.829 1068.69 164.144 1069.27 Q166.459 1069.84 168.982 1069.84 Q173.38 1069.84 175.672 1068.11 Q177.987 1066.37 177.987 1063.06 Q177.987 1060.01 175.834 1058.29 Q173.704 1056.56 169.885 1056.56 L165.857 1056.56 L165.857 1052.72 L170.07 1052.72 Q173.519 1052.72 175.348 1051.35 Q177.176 1049.96 177.176 1047.37 Q177.176 1044.71 175.278 1043.29 Q173.403 1041.86 169.885 1041.86 Q167.964 1041.86 165.765 1042.28 Q163.565 1042.69 160.927 1043.57 L160.927 1039.41 Q163.589 1038.66 165.903 1038.29 Q168.241 1037.92 170.302 1037.92 Q175.626 1037.92 178.727 1040.35 Q181.829 1042.76 181.829 1046.88 Q181.829 1049.75 180.186 1051.74 Q178.542 1053.71 175.51 1054.47 Z\" fill=\"#000000\" fill-rule=\"evenodd\" fill-opacity=\"1\" /><path clip-path=\"url(#clip680)\" d=\"M191.551 1038.55 L209.908 1038.55 L209.908 1042.48 L195.834 1042.48 L195.834 1050.96 Q196.852 1050.61 197.871 1050.45 Q198.889 1050.26 199.908 1050.26 Q205.695 1050.26 209.074 1053.43 Q212.454 1056.6 212.454 1062.02 Q212.454 1067.6 208.982 1070.7 Q205.51 1073.78 199.19 1073.78 Q197.014 1073.78 194.746 1073.41 Q192.5 1073.04 190.093 1072.3 L190.093 1067.6 Q192.176 1068.73 194.399 1069.29 Q196.621 1069.84 199.098 1069.84 Q203.102 1069.84 205.44 1067.74 Q207.778 1065.63 207.778 1062.02 Q207.778 1058.41 205.44 1056.3 Q203.102 1054.2 199.098 1054.2 Q197.223 1054.2 195.348 1054.61 Q193.496 1055.03 191.551 1055.91 L191.551 1038.55 Z\" fill=\"#000000\" fill-rule=\"evenodd\" fill-opacity=\"1\" /><path clip-path=\"url(#clip680)\" d=\"M231.667 1041.63 Q228.056 1041.63 226.227 1045.19 Q224.422 1048.73 224.422 1055.86 Q224.422 1062.97 226.227 1066.53 Q228.056 1070.08 231.667 1070.08 Q235.301 1070.08 237.107 1066.53 Q238.935 1062.97 238.935 1055.86 Q238.935 1048.73 237.107 1045.19 Q235.301 1041.63 231.667 1041.63 M231.667 1037.92 Q237.477 1037.92 240.533 1042.53 Q243.611 1047.11 243.611 1055.86 Q243.611 1064.59 240.533 1069.2 Q237.477 1073.78 231.667 1073.78 Q225.857 1073.78 222.778 1069.2 Q219.723 1064.59 219.723 1055.86 Q219.723 1047.11 222.778 1042.53 Q225.857 1037.92 231.667 1037.92 Z\" fill=\"#000000\" fill-rule=\"evenodd\" fill-opacity=\"1\" /><path clip-path=\"url(#clip680)\" d=\"M127.107 856.112 Q123.774 856.112 121.853 857.895 Q119.955 859.677 119.955 862.802 Q119.955 865.927 121.853 867.71 Q123.774 869.492 127.107 869.492 Q130.441 869.492 132.362 867.71 Q134.283 865.904 134.283 862.802 Q134.283 859.677 132.362 857.895 Q130.464 856.112 127.107 856.112 M122.431 854.122 Q119.422 853.381 117.732 851.321 Q116.066 849.261 116.066 846.298 Q116.066 842.154 119.006 839.747 Q121.968 837.339 127.107 837.339 Q132.269 837.339 135.209 839.747 Q138.149 842.154 138.149 846.298 Q138.149 849.261 136.459 851.321 Q134.792 853.381 131.806 854.122 Q135.186 854.909 137.061 857.2 Q138.959 859.492 138.959 862.802 Q138.959 867.825 135.88 870.51 Q132.825 873.196 127.107 873.196 Q121.39 873.196 118.311 870.51 Q115.256 867.825 115.256 862.802 Q115.256 859.492 117.154 857.2 Q119.052 854.909 122.431 854.122 M120.718 846.737 Q120.718 849.423 122.385 850.927 Q124.075 852.432 127.107 852.432 Q130.117 852.432 131.806 850.927 Q133.519 849.423 133.519 846.737 Q133.519 844.052 131.806 842.548 Q130.117 841.043 127.107 841.043 Q124.075 841.043 122.385 842.548 Q120.718 844.052 120.718 846.737 Z\" fill=\"#000000\" fill-rule=\"evenodd\" fill-opacity=\"1\" /><path clip-path=\"url(#clip680)\" d=\"M147.269 866.645 L152.153 866.645 L152.153 872.524 L147.269 872.524 L147.269 866.645 Z\" fill=\"#000000\" fill-rule=\"evenodd\" fill-opacity=\"1\" /><path clip-path=\"url(#clip680)\" d=\"M176.505 853.89 Q179.862 854.608 181.737 856.876 Q183.635 859.145 183.635 862.478 Q183.635 867.594 180.116 870.395 Q176.598 873.196 170.116 873.196 Q167.94 873.196 165.626 872.756 Q163.334 872.339 160.88 871.483 L160.88 866.969 Q162.825 868.103 165.14 868.682 Q167.454 869.26 169.977 869.26 Q174.376 869.26 176.667 867.524 Q178.982 865.788 178.982 862.478 Q178.982 859.423 176.829 857.71 Q174.7 855.973 170.88 855.973 L166.852 855.973 L166.852 852.131 L171.065 852.131 Q174.514 852.131 176.343 850.765 Q178.172 849.376 178.172 846.784 Q178.172 844.122 176.274 842.71 Q174.399 841.274 170.88 841.274 Q168.959 841.274 166.76 841.691 Q164.561 842.108 161.922 842.987 L161.922 838.821 Q164.584 838.08 166.899 837.71 Q169.237 837.339 171.297 837.339 Q176.621 837.339 179.723 839.77 Q182.825 842.177 182.825 846.298 Q182.825 849.168 181.181 851.159 Q179.538 853.126 176.505 853.89 Z\" fill=\"#000000\" fill-rule=\"evenodd\" fill-opacity=\"1\" /><path clip-path=\"url(#clip680)\" d=\"M191.32 837.964 L213.542 837.964 L213.542 839.955 L200.996 872.524 L196.112 872.524 L207.917 841.899 L191.32 841.899 L191.32 837.964 Z\" fill=\"#000000\" fill-rule=\"evenodd\" fill-opacity=\"1\" /><path clip-path=\"url(#clip680)\" d=\"M222.709 837.964 L241.065 837.964 L241.065 841.899 L226.991 841.899 L226.991 850.372 Q228.01 850.024 229.028 849.862 Q230.047 849.677 231.065 849.677 Q236.852 849.677 240.232 852.849 Q243.611 856.02 243.611 861.436 Q243.611 867.015 240.139 870.117 Q236.667 873.196 230.347 873.196 Q228.172 873.196 225.903 872.825 Q223.658 872.455 221.25 871.714 L221.25 867.015 Q223.334 868.149 225.556 868.705 Q227.778 869.26 230.255 869.26 Q234.26 869.26 236.597 867.154 Q238.935 865.048 238.935 861.436 Q238.935 857.825 236.597 855.719 Q234.26 853.612 230.255 853.612 Q228.38 853.612 226.505 854.029 Q224.653 854.446 222.709 855.325 L222.709 837.964 Z\" fill=\"#000000\" fill-rule=\"evenodd\" fill-opacity=\"1\" /><path clip-path=\"url(#clip680)\" d=\"M126.112 655.528 Q122.779 655.528 120.857 657.31 Q118.959 659.093 118.959 662.218 Q118.959 665.343 120.857 667.125 Q122.779 668.908 126.112 668.908 Q129.445 668.908 131.367 667.125 Q133.288 665.32 133.288 662.218 Q133.288 659.093 131.367 657.31 Q129.468 655.528 126.112 655.528 M121.436 653.537 Q118.427 652.797 116.737 650.736 Q115.07 648.676 115.07 645.713 Q115.07 641.57 118.01 639.162 Q120.973 636.755 126.112 636.755 Q131.274 636.755 134.214 639.162 Q137.154 641.57 137.154 645.713 Q137.154 648.676 135.464 650.736 Q133.797 652.797 130.811 653.537 Q134.191 654.324 136.066 656.616 Q137.964 658.908 137.964 662.218 Q137.964 667.241 134.885 669.926 Q131.83 672.611 126.112 672.611 Q120.394 672.611 117.316 669.926 Q114.26 667.241 114.26 662.218 Q114.26 658.908 116.158 656.616 Q118.056 654.324 121.436 653.537 M119.723 646.153 Q119.723 648.838 121.39 650.343 Q123.08 651.847 126.112 651.847 Q129.121 651.847 130.811 650.343 Q132.524 648.838 132.524 646.153 Q132.524 643.468 130.811 641.963 Q129.121 640.459 126.112 640.459 Q123.08 640.459 121.39 641.963 Q119.723 643.468 119.723 646.153 Z\" fill=\"#000000\" fill-rule=\"evenodd\" fill-opacity=\"1\" /><path clip-path=\"url(#clip680)\" d=\"M146.274 666.06 L151.158 666.06 L151.158 671.94 L146.274 671.94 L146.274 666.06 Z\" fill=\"#000000\" fill-rule=\"evenodd\" fill-opacity=\"1\" /><path clip-path=\"url(#clip680)\" d=\"M174.19 641.454 L162.385 659.903 L174.19 659.903 L174.19 641.454 M172.964 637.38 L178.843 637.38 L178.843 659.903 L183.774 659.903 L183.774 663.792 L178.843 663.792 L178.843 671.94 L174.19 671.94 L174.19 663.792 L158.589 663.792 L158.589 659.278 L172.964 637.38 Z\" fill=\"#000000\" fill-rule=\"evenodd\" fill-opacity=\"1\" /><path clip-path=\"url(#clip680)\" d=\"M201.505 640.459 Q197.894 640.459 196.065 644.023 Q194.26 647.565 194.26 654.695 Q194.26 661.801 196.065 665.366 Q197.894 668.908 201.505 668.908 Q205.139 668.908 206.945 665.366 Q208.774 661.801 208.774 654.695 Q208.774 647.565 206.945 644.023 Q205.139 640.459 201.505 640.459 M201.505 636.755 Q207.315 636.755 210.371 641.361 Q213.449 645.945 213.449 654.695 Q213.449 663.421 210.371 668.028 Q207.315 672.611 201.505 672.611 Q195.695 672.611 192.616 668.028 Q189.561 663.421 189.561 654.695 Q189.561 645.945 192.616 641.361 Q195.695 636.755 201.505 636.755 Z\" fill=\"#000000\" fill-rule=\"evenodd\" fill-opacity=\"1\" /><path clip-path=\"url(#clip680)\" d=\"M231.667 640.459 Q228.056 640.459 226.227 644.023 Q224.422 647.565 224.422 654.695 Q224.422 661.801 226.227 665.366 Q228.056 668.908 231.667 668.908 Q235.301 668.908 237.107 665.366 Q238.935 661.801 238.935 654.695 Q238.935 647.565 237.107 644.023 Q235.301 640.459 231.667 640.459 M231.667 636.755 Q237.477 636.755 240.533 641.361 Q243.611 645.945 243.611 654.695 Q243.611 663.421 240.533 668.028 Q237.477 672.611 231.667 672.611 Q225.857 672.611 222.778 668.028 Q219.723 663.421 219.723 654.695 Q219.723 645.945 222.778 641.361 Q225.857 636.755 231.667 636.755 Z\" fill=\"#000000\" fill-rule=\"evenodd\" fill-opacity=\"1\" /><path clip-path=\"url(#clip680)\" d=\"M127.107 454.944 Q123.774 454.944 121.853 456.726 Q119.955 458.508 119.955 461.633 Q119.955 464.758 121.853 466.541 Q123.774 468.323 127.107 468.323 Q130.441 468.323 132.362 466.541 Q134.283 464.735 134.283 461.633 Q134.283 458.508 132.362 456.726 Q130.464 454.944 127.107 454.944 M122.431 452.953 Q119.422 452.212 117.732 450.152 Q116.066 448.092 116.066 445.129 Q116.066 440.985 119.006 438.578 Q121.968 436.171 127.107 436.171 Q132.269 436.171 135.209 438.578 Q138.149 440.985 138.149 445.129 Q138.149 448.092 136.459 450.152 Q134.792 452.212 131.806 452.953 Q135.186 453.74 137.061 456.032 Q138.959 458.323 138.959 461.633 Q138.959 466.657 135.88 469.342 Q132.825 472.027 127.107 472.027 Q121.39 472.027 118.311 469.342 Q115.256 466.657 115.256 461.633 Q115.256 458.323 117.154 456.032 Q119.052 453.74 122.431 452.953 M120.718 445.569 Q120.718 448.254 122.385 449.758 Q124.075 451.263 127.107 451.263 Q130.117 451.263 131.806 449.758 Q133.519 448.254 133.519 445.569 Q133.519 442.883 131.806 441.379 Q130.117 439.874 127.107 439.874 Q124.075 439.874 122.385 441.379 Q120.718 442.883 120.718 445.569 Z\" fill=\"#000000\" fill-rule=\"evenodd\" fill-opacity=\"1\" /><path clip-path=\"url(#clip680)\" d=\"M147.269 465.476 L152.153 465.476 L152.153 471.356 L147.269 471.356 L147.269 465.476 Z\" fill=\"#000000\" fill-rule=\"evenodd\" fill-opacity=\"1\" /><path clip-path=\"url(#clip680)\" d=\"M175.186 440.87 L163.38 459.319 L175.186 459.319 L175.186 440.87 M173.959 436.796 L179.839 436.796 L179.839 459.319 L184.769 459.319 L184.769 463.207 L179.839 463.207 L179.839 471.356 L175.186 471.356 L175.186 463.207 L159.584 463.207 L159.584 458.694 L173.959 436.796 Z\" fill=\"#000000\" fill-rule=\"evenodd\" fill-opacity=\"1\" /><path clip-path=\"url(#clip680)\" d=\"M196.528 467.42 L212.848 467.42 L212.848 471.356 L190.903 471.356 L190.903 467.42 Q193.565 464.666 198.149 460.036 Q202.755 455.383 203.936 454.041 Q206.181 451.518 207.061 449.782 Q207.963 448.022 207.963 446.333 Q207.963 443.578 206.019 441.842 Q204.098 440.106 200.996 440.106 Q198.797 440.106 196.343 440.87 Q193.913 441.633 191.135 443.184 L191.135 438.462 Q193.959 437.328 196.412 436.749 Q198.866 436.171 200.903 436.171 Q206.274 436.171 209.468 438.856 Q212.662 441.541 212.662 446.032 Q212.662 448.161 211.852 450.083 Q211.065 451.981 208.959 454.573 Q208.38 455.245 205.278 458.462 Q202.176 461.657 196.528 467.42 Z\" fill=\"#000000\" fill-rule=\"evenodd\" fill-opacity=\"1\" /><path clip-path=\"url(#clip680)\" d=\"M222.709 436.796 L241.065 436.796 L241.065 440.731 L226.991 440.731 L226.991 449.203 Q228.01 448.856 229.028 448.694 Q230.047 448.508 231.065 448.508 Q236.852 448.508 240.232 451.68 Q243.611 454.851 243.611 460.268 Q243.611 465.846 240.139 468.948 Q236.667 472.027 230.347 472.027 Q228.172 472.027 225.903 471.656 Q223.658 471.286 221.25 470.545 L221.25 465.846 Q223.334 466.981 225.556 467.536 Q227.778 468.092 230.255 468.092 Q234.26 468.092 236.597 465.985 Q238.935 463.879 238.935 460.268 Q238.935 456.657 236.597 454.55 Q234.26 452.444 230.255 452.444 Q228.38 452.444 226.505 452.86 Q224.653 453.277 222.709 454.157 L222.709 436.796 Z\" fill=\"#000000\" fill-rule=\"evenodd\" fill-opacity=\"1\" /><path clip-path=\"url(#clip680)\" d=\"M126.112 254.359 Q122.779 254.359 120.857 256.142 Q118.959 257.924 118.959 261.049 Q118.959 264.174 120.857 265.956 Q122.779 267.739 126.112 267.739 Q129.445 267.739 131.367 265.956 Q133.288 264.151 133.288 261.049 Q133.288 257.924 131.367 256.142 Q129.468 254.359 126.112 254.359 M121.436 252.368 Q118.427 251.628 116.737 249.568 Q115.07 247.507 115.07 244.544 Q115.07 240.401 118.01 237.994 Q120.973 235.586 126.112 235.586 Q131.274 235.586 134.214 237.994 Q137.154 240.401 137.154 244.544 Q137.154 247.507 135.464 249.568 Q133.797 251.628 130.811 252.368 Q134.191 253.156 136.066 255.447 Q137.964 257.739 137.964 261.049 Q137.964 266.072 134.885 268.757 Q131.83 271.442 126.112 271.442 Q120.394 271.442 117.316 268.757 Q114.26 266.072 114.26 261.049 Q114.26 257.739 116.158 255.447 Q118.056 253.156 121.436 252.368 M119.723 244.984 Q119.723 247.669 121.39 249.174 Q123.08 250.679 126.112 250.679 Q129.121 250.679 130.811 249.174 Q132.524 247.669 132.524 244.984 Q132.524 242.299 130.811 240.794 Q129.121 239.29 126.112 239.29 Q123.08 239.29 121.39 240.794 Q119.723 242.299 119.723 244.984 Z\" fill=\"#000000\" fill-rule=\"evenodd\" fill-opacity=\"1\" /><path clip-path=\"url(#clip680)\" d=\"M146.274 264.892 L151.158 264.892 L151.158 270.771 L146.274 270.771 L146.274 264.892 Z\" fill=\"#000000\" fill-rule=\"evenodd\" fill-opacity=\"1\" /><path clip-path=\"url(#clip680)\" d=\"M174.19 240.285 L162.385 258.734 L174.19 258.734 L174.19 240.285 M172.964 236.211 L178.843 236.211 L178.843 258.734 L183.774 258.734 L183.774 262.623 L178.843 262.623 L178.843 270.771 L174.19 270.771 L174.19 262.623 L158.589 262.623 L158.589 258.109 L172.964 236.211 Z\" fill=\"#000000\" fill-rule=\"evenodd\" fill-opacity=\"1\" /><path clip-path=\"url(#clip680)\" d=\"M191.551 236.211 L209.908 236.211 L209.908 240.146 L195.834 240.146 L195.834 248.619 Q196.852 248.271 197.871 248.109 Q198.889 247.924 199.908 247.924 Q205.695 247.924 209.074 251.095 Q212.454 254.267 212.454 259.683 Q212.454 265.262 208.982 268.364 Q205.51 271.442 199.19 271.442 Q197.014 271.442 194.746 271.072 Q192.5 270.702 190.093 269.961 L190.093 265.262 Q192.176 266.396 194.399 266.952 Q196.621 267.507 199.098 267.507 Q203.102 267.507 205.44 265.401 Q207.778 263.294 207.778 259.683 Q207.778 256.072 205.44 253.966 Q203.102 251.859 199.098 251.859 Q197.223 251.859 195.348 252.276 Q193.496 252.693 191.551 253.572 L191.551 236.211 Z\" fill=\"#000000\" fill-rule=\"evenodd\" fill-opacity=\"1\" /><path clip-path=\"url(#clip680)\" d=\"M231.667 239.29 Q228.056 239.29 226.227 242.855 Q224.422 246.396 224.422 253.526 Q224.422 260.632 226.227 264.197 Q228.056 267.739 231.667 267.739 Q235.301 267.739 237.107 264.197 Q238.935 260.632 238.935 253.526 Q238.935 246.396 237.107 242.855 Q235.301 239.29 231.667 239.29 M231.667 235.586 Q237.477 235.586 240.533 240.193 Q243.611 244.776 243.611 253.526 Q243.611 262.253 240.533 266.859 Q237.477 271.442 231.667 271.442 Q225.857 271.442 222.778 266.859 Q219.723 262.253 219.723 253.526 Q219.723 244.776 222.778 240.193 Q225.857 235.586 231.667 235.586 Z\" fill=\"#000000\" fill-rule=\"evenodd\" fill-opacity=\"1\" /><path clip-path=\"url(#clip680)\" d=\"M16.4842 1056.25 L16.4842 1028.94 L21.895 1028.94 L21.895 1049.82 L35.8996 1049.82 L35.8996 1030.98 L41.3104 1030.98 L41.3104 1049.82 L64.0042 1049.82 L64.0042 1056.25 L16.4842 1056.25 Z\" fill=\"#000000\" fill-rule=\"evenodd\" fill-opacity=\"1\" /><path clip-path=\"url(#clip680)\" d=\"M33.8307 1003.1 Q33.2578 1004.08 33.0032 1005.26 Q32.7167 1006.41 32.7167 1007.81 Q32.7167 1012.77 35.9632 1015.45 Q39.1779 1018.09 45.2253 1018.09 L64.0042 1018.09 L64.0042 1023.98 L28.3562 1023.98 L28.3562 1018.09 L33.8944 1018.09 Q30.6479 1016.24 29.0883 1013.28 Q27.4968 1010.32 27.4968 1006.09 Q27.4968 1005.48 27.5923 1004.75 Q27.656 1004.02 27.8151 1003.13 L33.8307 1003.1 Z\" fill=\"#000000\" fill-rule=\"evenodd\" fill-opacity=\"1\" /><path clip-path=\"url(#clip680)\" d=\"M44.7161 967.894 L47.5806 967.894 L47.5806 994.821 Q53.6281 994.439 56.8109 991.192 Q59.9619 987.914 59.9619 982.089 Q59.9619 978.716 59.1344 975.564 Q58.3069 972.382 56.6518 969.262 L62.1899 969.262 Q63.5267 972.413 64.227 975.724 Q64.9272 979.034 64.9272 982.439 Q64.9272 990.969 59.9619 995.967 Q54.9967 1000.93 46.5303 1000.93 Q37.7774 1000.93 32.6531 996.221 Q27.4968 991.479 27.4968 983.458 Q27.4968 976.265 32.1438 972.095 Q36.7589 967.894 44.7161 967.894 M42.9973 973.75 Q38.1912 973.814 35.3266 976.456 Q32.4621 979.066 32.4621 983.394 Q32.4621 988.296 35.2312 991.256 Q38.0002 994.184 43.0292 994.63 L42.9973 973.75 Z\" fill=\"#000000\" fill-rule=\"evenodd\" fill-opacity=\"1\" /><path clip-path=\"url(#clip680)\" d=\"M44.7161 927.79 L47.5806 927.79 L47.5806 954.717 Q53.6281 954.335 56.8109 951.088 Q59.9619 947.81 59.9619 941.985 Q59.9619 938.612 59.1344 935.461 Q58.3069 932.278 56.6518 929.158 L62.1899 929.158 Q63.5267 932.31 64.227 935.62 Q64.9272 938.93 64.9272 942.335 Q64.9272 950.866 59.9619 955.863 Q54.9967 960.828 46.5303 960.828 Q37.7774 960.828 32.6531 956.117 Q27.4968 951.375 27.4968 943.354 Q27.4968 936.161 32.1438 931.991 Q36.7589 927.79 44.7161 927.79 M42.9973 933.646 Q38.1912 933.71 35.3266 936.352 Q32.4621 938.962 32.4621 943.29 Q32.4621 948.192 35.2312 951.152 Q38.0002 954.08 43.0292 954.526 L42.9973 933.646 Z\" fill=\"#000000\" fill-rule=\"evenodd\" fill-opacity=\"1\" /><path clip-path=\"url(#clip680)\" d=\"M16.4842 897.203 L16.4842 867.156 L21.895 867.156 L21.895 890.773 L35.9632 890.773 L35.9632 868.143 L41.3741 868.143 L41.3741 890.773 L58.5933 890.773 L58.5933 866.584 L64.0042 866.584 L64.0042 897.203 L16.4842 897.203 Z\" fill=\"#000000\" fill-rule=\"evenodd\" fill-opacity=\"1\" /><path clip-path=\"url(#clip680)\" d=\"M42.4881 826.639 L64.0042 826.639 L64.0042 832.495 L42.679 832.495 Q37.6183 832.495 35.1038 834.469 Q32.5894 836.442 32.5894 840.389 Q32.5894 845.131 35.6131 847.868 Q38.6368 850.606 43.8567 850.606 L64.0042 850.606 L64.0042 856.494 L28.3562 856.494 L28.3562 850.606 L33.8944 850.606 Q30.6797 848.505 29.0883 845.672 Q27.4968 842.808 27.4968 839.084 Q27.4968 832.941 31.3163 829.79 Q35.1038 826.639 42.4881 826.639 Z\" fill=\"#000000\" fill-rule=\"evenodd\" fill-opacity=\"1\" /><path clip-path=\"url(#clip680)\" d=\"M44.7161 784.466 L47.5806 784.466 L47.5806 811.393 Q53.6281 811.011 56.8109 807.764 Q59.9619 804.486 59.9619 798.661 Q59.9619 795.288 59.1344 792.137 Q58.3069 788.954 56.6518 785.835 L62.1899 785.835 Q63.5267 788.986 64.227 792.296 Q64.9272 795.606 64.9272 799.012 Q64.9272 807.542 59.9619 812.539 Q54.9967 817.504 46.5303 817.504 Q37.7774 817.504 32.6531 812.793 Q27.4968 808.051 27.4968 800.03 Q27.4968 792.837 32.1438 788.667 Q36.7589 784.466 44.7161 784.466 M42.9973 790.322 Q38.1912 790.386 35.3266 793.028 Q32.4621 795.638 32.4621 799.966 Q32.4621 804.868 35.2312 807.828 Q38.0002 810.756 43.0292 811.202 L42.9973 790.322 Z\" fill=\"#000000\" fill-rule=\"evenodd\" fill-opacity=\"1\" /><path clip-path=\"url(#clip680)\" d=\"M33.8307 754.197 Q33.2578 755.184 33.0032 756.361 Q32.7167 757.507 32.7167 758.908 Q32.7167 763.873 35.9632 766.547 Q39.1779 769.188 45.2253 769.188 L64.0042 769.188 L64.0042 775.077 L28.3562 775.077 L28.3562 769.188 L33.8944 769.188 Q30.6479 767.342 29.0883 764.382 Q27.4968 761.422 27.4968 757.189 Q27.4968 756.584 27.5923 755.852 Q27.656 755.12 27.8151 754.229 L33.8307 754.197 Z\" fill=\"#000000\" fill-rule=\"evenodd\" fill-opacity=\"1\" /><path clip-path=\"url(#clip680)\" d=\"M45.7664 725.742 Q39.4007 725.742 35.8996 728.384 Q32.3984 730.994 32.3984 735.736 Q32.3984 740.447 35.8996 743.089 Q39.4007 745.699 45.7664 745.699 Q52.1003 745.699 55.6014 743.089 Q59.1026 740.447 59.1026 735.736 Q59.1026 730.994 55.6014 728.384 Q52.1003 725.742 45.7664 725.742 M59.58 719.886 Q68.683 719.886 73.1071 723.928 Q77.5631 727.97 77.5631 736.309 Q77.5631 739.397 77.0857 742.134 Q76.6401 744.871 75.6852 747.449 L69.9879 747.449 Q71.3884 744.871 72.0568 742.357 Q72.7252 739.842 72.7252 737.232 Q72.7252 731.471 69.7015 728.607 Q66.7096 725.742 60.6303 725.742 L57.7339 725.742 Q60.885 727.557 62.4446 730.389 Q64.0042 733.222 64.0042 737.169 Q64.0042 743.725 59.0071 747.736 Q54.01 751.746 45.7664 751.746 Q37.491 751.746 32.4939 747.736 Q27.4968 743.725 27.4968 737.169 Q27.4968 733.222 29.0564 730.389 Q30.616 727.557 33.7671 725.742 L28.3562 725.742 L28.3562 719.886 L59.58 719.886 Z\" fill=\"#000000\" fill-rule=\"evenodd\" fill-opacity=\"1\" /><path clip-path=\"url(#clip680)\" d=\"M67.3143 692.991 Q73.68 695.473 75.6216 697.829 Q77.5631 700.184 77.5631 704.131 L77.5631 708.81 L72.6615 708.81 L72.6615 705.372 Q72.6615 702.953 71.5157 701.616 Q70.3699 700.28 66.1048 698.656 L63.4312 697.606 L28.3562 712.024 L28.3562 705.818 L56.238 694.678 L28.3562 683.538 L28.3562 677.331 L67.3143 692.991 Z\" fill=\"#000000\" fill-rule=\"evenodd\" fill-opacity=\"1\" /><path clip-path=\"url(#clip680)\" d=\"M14.479 649.067 L14.479 635.572 L19.0304 635.572 L19.0304 643.211 L68.0464 643.211 L68.0464 635.572 L72.5979 635.572 L72.5979 649.067 L14.479 649.067 Z\" fill=\"#000000\" fill-rule=\"evenodd\" fill-opacity=\"1\" /><path clip-path=\"url(#clip680)\" d=\"M46.212 597.505 Q39.7508 597.505 36.0905 600.179 Q32.3984 602.821 32.3984 607.467 Q32.3984 612.114 36.0905 614.788 Q39.7508 617.43 46.212 617.43 Q52.6732 617.43 56.3653 614.788 Q60.0256 612.114 60.0256 607.467 Q60.0256 602.821 56.3653 600.179 Q52.6732 597.505 46.212 597.505 M33.7671 617.43 Q30.5842 615.584 29.0564 612.783 Q27.4968 609.95 27.4968 606.035 Q27.4968 599.542 32.6531 595.5 Q37.8093 591.426 46.212 591.426 Q54.6147 591.426 59.771 595.5 Q64.9272 599.542 64.9272 606.035 Q64.9272 609.95 63.3994 612.783 Q61.8398 615.584 58.657 617.43 L64.0042 617.43 L64.0042 623.318 L14.479 623.318 L14.479 617.43 L33.7671 617.43 Z\" fill=\"#000000\" fill-rule=\"evenodd\" fill-opacity=\"1\" /><path clip-path=\"url(#clip680)\" d=\"M28.3562 581.718 L28.3562 575.862 L64.0042 575.862 L64.0042 581.718 L28.3562 581.718 M14.479 581.718 L14.479 575.862 L21.895 575.862 L21.895 581.718 L14.479 581.718 Z\" fill=\"#000000\" fill-rule=\"evenodd\" fill-opacity=\"1\" /><path clip-path=\"url(#clip680)\" d=\"M18.2347 557.815 L28.3562 557.815 L28.3562 545.752 L32.9077 545.752 L32.9077 557.815 L52.2594 557.815 Q56.6199 557.815 57.8613 556.637 Q59.1026 555.428 59.1026 551.768 L59.1026 545.752 L64.0042 545.752 L64.0042 551.768 Q64.0042 558.547 61.4897 561.125 Q58.9434 563.703 52.2594 563.703 L32.9077 563.703 L32.9077 568 L28.3562 568 L28.3562 563.703 L18.2347 563.703 L18.2347 557.815 Z\" fill=\"#000000\" fill-rule=\"evenodd\" fill-opacity=\"1\" /><path clip-path=\"url(#clip680)\" d=\"M29.4065 515.324 L34.9447 515.324 Q33.6716 517.807 33.035 520.48 Q32.3984 523.154 32.3984 526.018 Q32.3984 530.379 33.7352 532.575 Q35.072 534.739 37.7456 534.739 Q39.7826 534.739 40.9603 533.18 Q42.1061 531.62 43.1565 526.909 L43.6021 524.904 Q44.9389 518.666 47.3897 516.056 Q49.8086 513.414 54.1691 513.414 Q59.1344 513.414 62.0308 517.361 Q64.9272 521.276 64.9272 528.151 Q64.9272 531.015 64.3543 534.135 Q63.8132 537.222 62.6992 540.659 L56.6518 540.659 Q58.3387 537.413 59.198 534.262 Q60.0256 531.111 60.0256 528.023 Q60.0256 523.886 58.6251 521.658 Q57.1929 519.43 54.6147 519.43 Q52.2276 519.43 50.9545 521.053 Q49.6813 522.644 48.5037 528.087 L48.0262 530.124 Q46.8804 535.567 44.5251 537.986 Q42.138 540.405 38.0002 540.405 Q32.9713 540.405 30.2341 536.84 Q27.4968 533.275 27.4968 526.719 Q27.4968 523.472 27.9743 520.607 Q28.4517 517.743 29.4065 515.324 Z\" fill=\"#000000\" fill-rule=\"evenodd\" fill-opacity=\"1\" /><path clip-path=\"url(#clip680)\" d=\"M14.479 490.402 L72.5979 490.402 L72.5979 503.897 L68.0464 503.897 L68.0464 496.29 L19.0304 496.29 L19.0304 503.897 L14.479 503.897 L14.479 490.402 Z\" fill=\"#000000\" fill-rule=\"evenodd\" fill-opacity=\"1\" /><path clip-path=\"url(#clip680)\" d=\"M1077.02 18.8205 L1077.02 41.5461 L1087.31 41.5461 Q1093.02 41.5461 1096.14 38.5889 Q1099.26 35.6318 1099.26 30.163 Q1099.26 24.7348 1096.14 21.7777 Q1093.02 18.8205 1087.31 18.8205 L1077.02 18.8205 M1068.84 12.096 L1087.31 12.096 Q1097.48 12.096 1102.66 16.714 Q1107.89 21.2916 1107.89 30.163 Q1107.89 39.1155 1102.66 43.6931 Q1097.48 48.2706 1087.31 48.2706 L1077.02 48.2706 L1077.02 72.576 L1068.84 72.576 L1068.84 12.096 Z\" fill=\"#000000\" fill-rule=\"evenodd\" fill-opacity=\"1\" /><path clip-path=\"url(#clip680)\" d=\"M1133.16 32.4315 Q1127.17 32.4315 1123.68 37.1306 Q1120.2 41.7891 1120.2 49.9314 Q1120.2 58.0738 1123.64 62.7728 Q1127.13 67.4314 1133.16 67.4314 Q1139.12 67.4314 1142.6 62.7323 Q1146.09 58.0333 1146.09 49.9314 Q1146.09 41.8701 1142.6 37.1711 Q1139.12 32.4315 1133.16 32.4315 M1133.16 26.1121 Q1142.89 26.1121 1148.44 32.4315 Q1153.99 38.7509 1153.99 49.9314 Q1153.99 61.0714 1148.44 67.4314 Q1142.89 73.7508 1133.16 73.7508 Q1123.4 73.7508 1117.85 67.4314 Q1112.34 61.0714 1112.34 49.9314 Q1112.34 38.7509 1117.85 32.4315 Q1123.4 26.1121 1133.16 26.1121 Z\" fill=\"#000000\" fill-rule=\"evenodd\" fill-opacity=\"1\" /><path clip-path=\"url(#clip680)\" d=\"M1166.34 9.54393 L1173.79 9.54393 L1173.79 72.576 L1166.34 72.576 L1166.34 9.54393 Z\" fill=\"#000000\" fill-rule=\"evenodd\" fill-opacity=\"1\" /><path clip-path=\"url(#clip680)\" d=\"M1189.39 27.2059 L1196.84 27.2059 L1196.84 72.576 L1189.39 72.576 L1189.39 27.2059 M1189.39 9.54393 L1196.84 9.54393 L1196.84 18.9825 L1189.39 18.9825 L1189.39 9.54393 Z\" fill=\"#000000\" fill-rule=\"evenodd\" fill-opacity=\"1\" /><path clip-path=\"url(#clip680)\" d=\"M1245.09 28.9478 L1245.09 35.9153 Q1241.93 34.1734 1238.73 33.3227 Q1235.57 32.4315 1232.33 32.4315 Q1225.08 32.4315 1221.07 37.0496 Q1217.06 41.6271 1217.06 49.9314 Q1217.06 58.2358 1221.07 62.8538 Q1225.08 67.4314 1232.33 67.4314 Q1235.57 67.4314 1238.73 66.5807 Q1241.93 65.6895 1245.09 63.9476 L1245.09 70.8341 Q1241.97 72.2924 1238.61 73.0216 Q1235.29 73.7508 1231.52 73.7508 Q1221.27 73.7508 1215.24 67.3098 Q1209.2 60.8689 1209.2 49.9314 Q1209.2 38.832 1215.28 32.472 Q1221.39 26.1121 1232.01 26.1121 Q1235.45 26.1121 1238.73 26.8413 Q1242.01 27.5299 1245.09 28.9478 Z\" fill=\"#000000\" fill-rule=\"evenodd\" fill-opacity=\"1\" /><path clip-path=\"url(#clip680)\" d=\"M1276.93 76.7889 Q1273.77 84.8907 1270.77 87.3618 Q1267.78 89.8329 1262.75 89.8329 L1256.8 89.8329 L1256.8 83.5945 L1261.17 83.5945 Q1264.25 83.5945 1265.95 82.1361 Q1267.65 80.6778 1269.72 75.2496 L1271.06 71.8468 L1252.71 27.2059 L1260.61 27.2059 L1274.78 62.6918 L1288.96 27.2059 L1296.86 27.2059 L1276.93 76.7889 Z\" fill=\"#000000\" fill-rule=\"evenodd\" fill-opacity=\"1\" /><path clip-path=\"url(#clip680)\" d=\"M1303.02 62.2867 L1311.57 62.2867 L1311.57 72.576 L1303.02 72.576 L1303.02 62.2867 M1303.02 29.6769 L1311.57 29.6769 L1311.57 39.9662 L1303.02 39.9662 L1303.02 29.6769 Z\" fill=\"#000000\" fill-rule=\"evenodd\" fill-opacity=\"1\" /><path clip-path=\"url(#clip680)\" d=\"M1373.34 9.62495 Q1367.91 18.942 1365.28 28.0566 Q1362.65 37.1711 1362.65 46.5287 Q1362.65 55.8863 1365.28 65.0818 Q1367.95 74.2369 1373.34 83.5134 L1366.86 83.5134 Q1360.78 73.9938 1357.75 64.7983 Q1354.75 55.6027 1354.75 46.5287 Q1354.75 37.4952 1357.75 28.3401 Q1360.74 19.1851 1366.86 9.62495 L1373.34 9.62495 Z\" fill=\"#000000\" fill-rule=\"evenodd\" fill-opacity=\"1\" /><path clip-path=\"url(#clip680)\" d=\"M1411.34 19.2256 L1390.68 51.5113 L1411.34 51.5113 L1411.34 19.2256 M1409.19 12.096 L1419.48 12.096 L1419.48 51.5113 L1428.11 51.5113 L1428.11 58.3168 L1419.48 58.3168 L1419.48 72.576 L1411.34 72.576 L1411.34 58.3168 L1384.04 58.3168 L1384.04 50.4176 L1409.19 12.096 Z\" fill=\"#000000\" fill-rule=\"evenodd\" fill-opacity=\"1\" /><path clip-path=\"url(#clip680)\" d=\"M1442.49 62.2867 L1451.04 62.2867 L1451.04 69.2543 L1444.39 82.2172 L1439.17 82.2172 L1442.49 69.2543 L1442.49 62.2867 Z\" fill=\"#000000\" fill-rule=\"evenodd\" fill-opacity=\"1\" /><path clip-path=\"url(#clip680)\" d=\"M1501.43 65.6895 L1529.99 65.6895 L1529.99 72.576 L1491.59 72.576 L1491.59 65.6895 Q1496.25 60.8689 1504.27 52.7671 Q1512.33 44.6248 1514.39 42.2752 Q1518.32 37.8598 1519.86 34.8216 Q1521.44 31.7429 1521.44 28.7857 Q1521.44 23.9651 1518.04 20.927 Q1514.68 17.8888 1509.25 17.8888 Q1505.4 17.8888 1501.11 19.2256 Q1496.85 20.5624 1491.99 23.2765 L1491.99 15.0127 Q1496.93 13.0277 1501.23 12.015 Q1505.52 11.0023 1509.09 11.0023 Q1518.49 11.0023 1524.08 15.7013 Q1529.67 20.4004 1529.67 28.2591 Q1529.67 31.9859 1528.25 35.3482 Q1526.87 38.6699 1523.18 43.2069 Q1522.17 44.3817 1516.74 50.0125 Q1511.32 55.6027 1501.43 65.6895 Z\" fill=\"#000000\" fill-rule=\"evenodd\" fill-opacity=\"1\" /><path clip-path=\"url(#clip680)\" d=\"M1544.94 9.62495 L1551.42 9.62495 Q1557.5 19.1851 1560.49 28.3401 Q1563.53 37.4952 1563.53 46.5287 Q1563.53 55.6027 1560.49 64.7983 Q1557.5 73.9938 1551.42 83.5134 L1544.94 83.5134 Q1550.33 74.2369 1552.96 65.0818 Q1555.63 55.8863 1555.63 46.5287 Q1555.63 37.1711 1552.96 28.0566 Q1550.33 18.942 1544.94 9.62495 Z\" fill=\"#000000\" fill-rule=\"evenodd\" fill-opacity=\"1\" /><polyline clip-path=\"url(#clip682)\" style=\"stroke:#000000; stroke-linecap:round; stroke-linejoin:round; stroke-width:8; stroke-opacity:1; fill:none\" points=\"338.285,160.256 378.199,1344.46 418.114,1385.04 458.028,1386.35 497.942,1386.39 537.856,1386.4 577.771,1386.4 617.685,1386.4 657.599,1386.4 697.513,1386.4 737.427,1386.4 777.342,1386.4 817.256,1386.4 857.17,1386.4 897.084,1386.4 936.999,1386.4 976.913,1386.4 1016.83,1386.4 1056.74,1386.4 1096.66,1386.4 1136.57,1386.4 1176.48,1386.4 1216.4,1386.4 1256.31,1386.4 1296.23,1386.4 1336.14,1386.4 1376.05,1386.4 1415.97,1386.4 1455.88,1386.4 1495.8,1386.4 1535.71,1386.4 1575.63,1386.4 1615.54,1386.4 1655.45,1386.4 1695.37,1386.4 1735.28,1386.4 1775.2,1386.4 1815.11,1386.4 1855.03,1386.4 1894.94,1386.4 1934.85,1386.4 1974.77,1386.4 2014.68,1386.4 2054.6,1386.4 2094.51,1386.4 2134.43,1386.4 2174.34,1386.4 2214.25,1386.4 2254.17,1386.4 2294.08,1386.4 \"/>\n",
       "</svg>\n"
      ]
     },
     "execution_count": 8,
     "metadata": {},
     "output_type": "execute_result"
    }
   ],
   "source": [
    "plot(1:n_its, Gis, color=:black, linewidth=2, xlabel=\"Iteration\", ylabel=\"Free Energy [bits]\", label=false, title=\"Policy: $pol\")\n",
    "\n",
    "#savefig(\"figures/policy.png\")"
   ]
  },
  {
   "cell_type": "code",
   "execution_count": 11,
   "metadata": {},
   "outputs": [
    {
     "data": {
      "image/svg+xml": [
       "<?xml version=\"1.0\" encoding=\"utf-8\"?>\n",
       "<svg xmlns=\"http://www.w3.org/2000/svg\" xmlns:xlink=\"http://www.w3.org/1999/xlink\" width=\"600\" height=\"400\" viewBox=\"0 0 2400 1600\">\n",
       "<defs>\n",
       "  <clipPath id=\"clip720\">\n",
       "    <rect x=\"0\" y=\"0\" width=\"2400\" height=\"1600\"/>\n",
       "  </clipPath>\n",
       "</defs>\n",
       "<path clip-path=\"url(#clip720)\" d=\"M0 1600 L2400 1600 L2400 0 L0 0  Z\" fill=\"#ffffff\" fill-rule=\"evenodd\" fill-opacity=\"1\"/>\n",
       "<defs>\n",
       "  <clipPath id=\"clip721\">\n",
       "    <rect x=\"480\" y=\"0\" width=\"1681\" height=\"1600\"/>\n",
       "  </clipPath>\n",
       "</defs>\n",
       "<path clip-path=\"url(#clip720)\" d=\"M216.829 1486.45 L2352.76 1486.45 L2352.76 47.2441 L216.829 47.2441  Z\" fill=\"#ffffff\" fill-rule=\"evenodd\" fill-opacity=\"1\"/>\n",
       "<defs>\n",
       "  <clipPath id=\"clip722\">\n",
       "    <rect x=\"216\" y=\"47\" width=\"2137\" height=\"1440\"/>\n",
       "  </clipPath>\n",
       "</defs>\n",
       "<polyline clip-path=\"url(#clip722)\" style=\"stroke:#000000; stroke-linecap:round; stroke-linejoin:round; stroke-width:2; stroke-opacity:0.1; fill:none\" points=\"235.3,1486.45 235.3,47.2441 \"/>\n",
       "<polyline clip-path=\"url(#clip722)\" style=\"stroke:#000000; stroke-linecap:round; stroke-linejoin:round; stroke-width:2; stroke-opacity:0.1; fill:none\" points=\"655.097,1486.45 655.097,47.2441 \"/>\n",
       "<polyline clip-path=\"url(#clip722)\" style=\"stroke:#000000; stroke-linecap:round; stroke-linejoin:round; stroke-width:2; stroke-opacity:0.1; fill:none\" points=\"1074.89,1486.45 1074.89,47.2441 \"/>\n",
       "<polyline clip-path=\"url(#clip722)\" style=\"stroke:#000000; stroke-linecap:round; stroke-linejoin:round; stroke-width:2; stroke-opacity:0.1; fill:none\" points=\"1494.69,1486.45 1494.69,47.2441 \"/>\n",
       "<polyline clip-path=\"url(#clip722)\" style=\"stroke:#000000; stroke-linecap:round; stroke-linejoin:round; stroke-width:2; stroke-opacity:0.1; fill:none\" points=\"1914.49,1486.45 1914.49,47.2441 \"/>\n",
       "<polyline clip-path=\"url(#clip722)\" style=\"stroke:#000000; stroke-linecap:round; stroke-linejoin:round; stroke-width:2; stroke-opacity:0.1; fill:none\" points=\"2334.28,1486.45 2334.28,47.2441 \"/>\n",
       "<polyline clip-path=\"url(#clip720)\" style=\"stroke:#000000; stroke-linecap:round; stroke-linejoin:round; stroke-width:4; stroke-opacity:1; fill:none\" points=\"216.829,1486.45 2352.76,1486.45 \"/>\n",
       "<polyline clip-path=\"url(#clip720)\" style=\"stroke:#000000; stroke-linecap:round; stroke-linejoin:round; stroke-width:4; stroke-opacity:1; fill:none\" points=\"235.3,1486.45 235.3,1467.55 \"/>\n",
       "<polyline clip-path=\"url(#clip720)\" style=\"stroke:#000000; stroke-linecap:round; stroke-linejoin:round; stroke-width:4; stroke-opacity:1; fill:none\" points=\"655.097,1486.45 655.097,1467.55 \"/>\n",
       "<polyline clip-path=\"url(#clip720)\" style=\"stroke:#000000; stroke-linecap:round; stroke-linejoin:round; stroke-width:4; stroke-opacity:1; fill:none\" points=\"1074.89,1486.45 1074.89,1467.55 \"/>\n",
       "<polyline clip-path=\"url(#clip720)\" style=\"stroke:#000000; stroke-linecap:round; stroke-linejoin:round; stroke-width:4; stroke-opacity:1; fill:none\" points=\"1494.69,1486.45 1494.69,1467.55 \"/>\n",
       "<polyline clip-path=\"url(#clip720)\" style=\"stroke:#000000; stroke-linecap:round; stroke-linejoin:round; stroke-width:4; stroke-opacity:1; fill:none\" points=\"1914.49,1486.45 1914.49,1467.55 \"/>\n",
       "<polyline clip-path=\"url(#clip720)\" style=\"stroke:#000000; stroke-linecap:round; stroke-linejoin:round; stroke-width:4; stroke-opacity:1; fill:none\" points=\"2334.28,1486.45 2334.28,1467.55 \"/>\n",
       "<path clip-path=\"url(#clip720)\" d=\"M235.3 1517.37 Q231.689 1517.37 229.861 1520.93 Q228.055 1524.47 228.055 1531.6 Q228.055 1538.71 229.861 1542.27 Q231.689 1545.82 235.3 1545.82 Q238.935 1545.82 240.74 1542.27 Q242.569 1538.71 242.569 1531.6 Q242.569 1524.47 240.74 1520.93 Q238.935 1517.37 235.3 1517.37 M235.3 1513.66 Q241.111 1513.66 244.166 1518.27 Q247.245 1522.85 247.245 1531.6 Q247.245 1540.33 244.166 1544.94 Q241.111 1549.52 235.3 1549.52 Q229.49 1549.52 226.412 1544.94 Q223.356 1540.33 223.356 1531.6 Q223.356 1522.85 226.412 1518.27 Q229.49 1513.66 235.3 1513.66 Z\" fill=\"#000000\" fill-rule=\"evenodd\" fill-opacity=\"1\" /><path clip-path=\"url(#clip720)\" d=\"M629.785 1544.91 L637.424 1544.91 L637.424 1518.55 L629.114 1520.21 L629.114 1515.95 L637.378 1514.29 L642.053 1514.29 L642.053 1544.91 L649.692 1544.91 L649.692 1548.85 L629.785 1548.85 L629.785 1544.91 Z\" fill=\"#000000\" fill-rule=\"evenodd\" fill-opacity=\"1\" /><path clip-path=\"url(#clip720)\" d=\"M669.137 1517.37 Q665.526 1517.37 663.697 1520.93 Q661.891 1524.47 661.891 1531.6 Q661.891 1538.71 663.697 1542.27 Q665.526 1545.82 669.137 1545.82 Q672.771 1545.82 674.576 1542.27 Q676.405 1538.71 676.405 1531.6 Q676.405 1524.47 674.576 1520.93 Q672.771 1517.37 669.137 1517.37 M669.137 1513.66 Q674.947 1513.66 678.002 1518.27 Q681.081 1522.85 681.081 1531.6 Q681.081 1540.33 678.002 1544.94 Q674.947 1549.52 669.137 1549.52 Q663.326 1549.52 660.248 1544.94 Q657.192 1540.33 657.192 1531.6 Q657.192 1522.85 660.248 1518.27 Q663.326 1513.66 669.137 1513.66 Z\" fill=\"#000000\" fill-rule=\"evenodd\" fill-opacity=\"1\" /><path clip-path=\"url(#clip720)\" d=\"M1053.67 1544.91 L1069.99 1544.91 L1069.99 1548.85 L1048.04 1548.85 L1048.04 1544.91 Q1050.7 1542.16 1055.29 1537.53 Q1059.89 1532.88 1061.07 1531.53 Q1063.32 1529.01 1064.2 1527.27 Q1065.1 1525.51 1065.1 1523.82 Q1065.1 1521.07 1063.16 1519.33 Q1061.24 1517.6 1058.14 1517.6 Q1055.94 1517.6 1053.48 1518.36 Q1051.05 1519.13 1048.27 1520.68 L1048.27 1515.95 Q1051.1 1514.82 1053.55 1514.24 Q1056.01 1513.66 1058.04 1513.66 Q1063.41 1513.66 1066.61 1516.35 Q1069.8 1519.03 1069.8 1523.52 Q1069.8 1525.65 1068.99 1527.57 Q1068.2 1529.47 1066.1 1532.07 Q1065.52 1532.74 1062.42 1535.95 Q1059.32 1539.15 1053.67 1544.91 Z\" fill=\"#000000\" fill-rule=\"evenodd\" fill-opacity=\"1\" /><path clip-path=\"url(#clip720)\" d=\"M1089.8 1517.37 Q1086.19 1517.37 1084.36 1520.93 Q1082.56 1524.47 1082.56 1531.6 Q1082.56 1538.71 1084.36 1542.27 Q1086.19 1545.82 1089.8 1545.82 Q1093.44 1545.82 1095.24 1542.27 Q1097.07 1538.71 1097.07 1531.6 Q1097.07 1524.47 1095.24 1520.93 Q1093.44 1517.37 1089.8 1517.37 M1089.8 1513.66 Q1095.61 1513.66 1098.67 1518.27 Q1101.75 1522.85 1101.75 1531.6 Q1101.75 1540.33 1098.67 1544.94 Q1095.61 1549.52 1089.8 1549.52 Q1083.99 1549.52 1080.91 1544.94 Q1077.86 1540.33 1077.86 1531.6 Q1077.86 1522.85 1080.91 1518.27 Q1083.99 1513.66 1089.8 1513.66 Z\" fill=\"#000000\" fill-rule=\"evenodd\" fill-opacity=\"1\" /><path clip-path=\"url(#clip720)\" d=\"M1483.53 1530.21 Q1486.89 1530.93 1488.77 1533.2 Q1490.66 1535.47 1490.66 1538.8 Q1490.66 1543.92 1487.14 1546.72 Q1483.63 1549.52 1477.14 1549.52 Q1474.97 1549.52 1472.65 1549.08 Q1470.36 1548.66 1467.91 1547.81 L1467.91 1543.29 Q1469.85 1544.43 1472.17 1545.01 Q1474.48 1545.58 1477.01 1545.58 Q1481.4 1545.58 1483.7 1543.85 Q1486.01 1542.11 1486.01 1538.8 Q1486.01 1535.75 1483.86 1534.03 Q1481.73 1532.3 1477.91 1532.3 L1473.88 1532.3 L1473.88 1528.45 L1478.09 1528.45 Q1481.54 1528.45 1483.37 1527.09 Q1485.2 1525.7 1485.2 1523.11 Q1485.2 1520.45 1483.3 1519.03 Q1481.43 1517.6 1477.91 1517.6 Q1475.99 1517.6 1473.79 1518.01 Q1471.59 1518.43 1468.95 1519.31 L1468.95 1515.14 Q1471.61 1514.4 1473.93 1514.03 Q1476.27 1513.66 1478.33 1513.66 Q1483.65 1513.66 1486.75 1516.09 Q1489.85 1518.5 1489.85 1522.62 Q1489.85 1525.49 1488.21 1527.48 Q1486.57 1529.45 1483.53 1530.21 Z\" fill=\"#000000\" fill-rule=\"evenodd\" fill-opacity=\"1\" /><path clip-path=\"url(#clip720)\" d=\"M1509.53 1517.37 Q1505.92 1517.37 1504.09 1520.93 Q1502.28 1524.47 1502.28 1531.6 Q1502.28 1538.71 1504.09 1542.27 Q1505.92 1545.82 1509.53 1545.82 Q1513.16 1545.82 1514.97 1542.27 Q1516.8 1538.71 1516.8 1531.6 Q1516.8 1524.47 1514.97 1520.93 Q1513.16 1517.37 1509.53 1517.37 M1509.53 1513.66 Q1515.34 1513.66 1518.39 1518.27 Q1521.47 1522.85 1521.47 1531.6 Q1521.47 1540.33 1518.39 1544.94 Q1515.34 1549.52 1509.53 1549.52 Q1503.72 1549.52 1500.64 1544.94 Q1497.58 1540.33 1497.58 1531.6 Q1497.58 1522.85 1500.64 1518.27 Q1503.72 1513.66 1509.53 1513.66 Z\" fill=\"#000000\" fill-rule=\"evenodd\" fill-opacity=\"1\" /><path clip-path=\"url(#clip720)\" d=\"M1902.66 1518.36 L1890.85 1536.81 L1902.66 1536.81 L1902.66 1518.36 M1901.43 1514.29 L1907.31 1514.29 L1907.31 1536.81 L1912.24 1536.81 L1912.24 1540.7 L1907.31 1540.7 L1907.31 1548.85 L1902.66 1548.85 L1902.66 1540.7 L1887.06 1540.7 L1887.06 1536.19 L1901.43 1514.29 Z\" fill=\"#000000\" fill-rule=\"evenodd\" fill-opacity=\"1\" /><path clip-path=\"url(#clip720)\" d=\"M1929.97 1517.37 Q1926.36 1517.37 1924.53 1520.93 Q1922.73 1524.47 1922.73 1531.6 Q1922.73 1538.71 1924.53 1542.27 Q1926.36 1545.82 1929.97 1545.82 Q1933.61 1545.82 1935.41 1542.27 Q1937.24 1538.71 1937.24 1531.6 Q1937.24 1524.47 1935.41 1520.93 Q1933.61 1517.37 1929.97 1517.37 M1929.97 1513.66 Q1935.78 1513.66 1938.84 1518.27 Q1941.92 1522.85 1941.92 1531.6 Q1941.92 1540.33 1938.84 1544.94 Q1935.78 1549.52 1929.97 1549.52 Q1924.16 1549.52 1921.09 1544.94 Q1918.03 1540.33 1918.03 1531.6 Q1918.03 1522.85 1921.09 1518.27 Q1924.16 1513.66 1929.97 1513.66 Z\" fill=\"#000000\" fill-rule=\"evenodd\" fill-opacity=\"1\" /><path clip-path=\"url(#clip720)\" d=\"M2308.98 1514.29 L2327.34 1514.29 L2327.34 1518.22 L2313.27 1518.22 L2313.27 1526.7 Q2314.28 1526.35 2315.3 1526.19 Q2316.32 1526 2317.34 1526 Q2323.13 1526 2326.51 1529.17 Q2329.89 1532.34 2329.89 1537.76 Q2329.89 1543.34 2326.41 1546.44 Q2322.94 1549.52 2316.62 1549.52 Q2314.45 1549.52 2312.18 1549.15 Q2309.93 1548.78 2307.53 1548.04 L2307.53 1543.34 Q2309.61 1544.47 2311.83 1545.03 Q2314.05 1545.58 2316.53 1545.58 Q2320.53 1545.58 2322.87 1543.48 Q2325.21 1541.37 2325.21 1537.76 Q2325.21 1534.15 2322.87 1532.04 Q2320.53 1529.94 2316.53 1529.94 Q2314.66 1529.94 2312.78 1530.35 Q2310.93 1530.77 2308.98 1531.65 L2308.98 1514.29 Z\" fill=\"#000000\" fill-rule=\"evenodd\" fill-opacity=\"1\" /><path clip-path=\"url(#clip720)\" d=\"M2349.1 1517.37 Q2345.49 1517.37 2343.66 1520.93 Q2341.85 1524.47 2341.85 1531.6 Q2341.85 1538.71 2343.66 1542.27 Q2345.49 1545.82 2349.1 1545.82 Q2352.73 1545.82 2354.54 1542.27 Q2356.37 1538.71 2356.37 1531.6 Q2356.37 1524.47 2354.54 1520.93 Q2352.73 1517.37 2349.1 1517.37 M2349.1 1513.66 Q2354.91 1513.66 2357.97 1518.27 Q2361.04 1522.85 2361.04 1531.6 Q2361.04 1540.33 2357.97 1544.94 Q2354.91 1549.52 2349.1 1549.52 Q2343.29 1549.52 2340.21 1544.94 Q2337.16 1540.33 2337.16 1531.6 Q2337.16 1522.85 2340.21 1518.27 Q2343.29 1513.66 2349.1 1513.66 Z\" fill=\"#000000\" fill-rule=\"evenodd\" fill-opacity=\"1\" /><polyline clip-path=\"url(#clip722)\" style=\"stroke:#000000; stroke-linecap:round; stroke-linejoin:round; stroke-width:2; stroke-opacity:0.1; fill:none\" points=\"216.829,1393.64 2352.76,1393.64 \"/>\n",
       "<polyline clip-path=\"url(#clip722)\" style=\"stroke:#000000; stroke-linecap:round; stroke-linejoin:round; stroke-width:2; stroke-opacity:0.1; fill:none\" points=\"216.829,1133.87 2352.76,1133.87 \"/>\n",
       "<polyline clip-path=\"url(#clip722)\" style=\"stroke:#000000; stroke-linecap:round; stroke-linejoin:round; stroke-width:2; stroke-opacity:0.1; fill:none\" points=\"216.829,874.097 2352.76,874.097 \"/>\n",
       "<polyline clip-path=\"url(#clip722)\" style=\"stroke:#000000; stroke-linecap:round; stroke-linejoin:round; stroke-width:2; stroke-opacity:0.1; fill:none\" points=\"216.829,614.328 2352.76,614.328 \"/>\n",
       "<polyline clip-path=\"url(#clip722)\" style=\"stroke:#000000; stroke-linecap:round; stroke-linejoin:round; stroke-width:2; stroke-opacity:0.1; fill:none\" points=\"216.829,354.559 2352.76,354.559 \"/>\n",
       "<polyline clip-path=\"url(#clip722)\" style=\"stroke:#000000; stroke-linecap:round; stroke-linejoin:round; stroke-width:2; stroke-opacity:0.1; fill:none\" points=\"216.829,94.7893 2352.76,94.7893 \"/>\n",
       "<polyline clip-path=\"url(#clip720)\" style=\"stroke:#000000; stroke-linecap:round; stroke-linejoin:round; stroke-width:4; stroke-opacity:1; fill:none\" points=\"216.829,1486.45 216.829,47.2441 \"/>\n",
       "<polyline clip-path=\"url(#clip720)\" style=\"stroke:#000000; stroke-linecap:round; stroke-linejoin:round; stroke-width:4; stroke-opacity:1; fill:none\" points=\"216.829,1393.64 235.727,1393.64 \"/>\n",
       "<polyline clip-path=\"url(#clip720)\" style=\"stroke:#000000; stroke-linecap:round; stroke-linejoin:round; stroke-width:4; stroke-opacity:1; fill:none\" points=\"216.829,1133.87 235.727,1133.87 \"/>\n",
       "<polyline clip-path=\"url(#clip720)\" style=\"stroke:#000000; stroke-linecap:round; stroke-linejoin:round; stroke-width:4; stroke-opacity:1; fill:none\" points=\"216.829,874.097 235.727,874.097 \"/>\n",
       "<polyline clip-path=\"url(#clip720)\" style=\"stroke:#000000; stroke-linecap:round; stroke-linejoin:round; stroke-width:4; stroke-opacity:1; fill:none\" points=\"216.829,614.328 235.727,614.328 \"/>\n",
       "<polyline clip-path=\"url(#clip720)\" style=\"stroke:#000000; stroke-linecap:round; stroke-linejoin:round; stroke-width:4; stroke-opacity:1; fill:none\" points=\"216.829,354.559 235.727,354.559 \"/>\n",
       "<polyline clip-path=\"url(#clip720)\" style=\"stroke:#000000; stroke-linecap:round; stroke-linejoin:round; stroke-width:4; stroke-opacity:1; fill:none\" points=\"216.829,94.7893 235.727,94.7893 \"/>\n",
       "<path clip-path=\"url(#clip720)\" d=\"M63.5152 1394.5 Q60.1819 1394.5 58.2606 1396.29 Q56.3625 1398.07 56.3625 1401.19 Q56.3625 1404.32 58.2606 1406.1 Q60.1819 1407.88 63.5152 1407.88 Q66.8485 1407.88 68.7698 1406.1 Q70.6911 1404.3 70.6911 1401.19 Q70.6911 1398.07 68.7698 1396.29 Q66.8717 1394.5 63.5152 1394.5 M58.8393 1392.51 Q55.8301 1391.77 54.1403 1389.71 Q52.4736 1387.65 52.4736 1384.69 Q52.4736 1380.55 55.4134 1378.14 Q58.3763 1375.73 63.5152 1375.73 Q68.6772 1375.73 71.617 1378.14 Q74.5568 1380.55 74.5568 1384.69 Q74.5568 1387.65 72.867 1389.71 Q71.2004 1391.77 68.2143 1392.51 Q71.5939 1393.3 73.4689 1395.59 Q75.367 1397.88 75.367 1401.19 Q75.367 1406.22 72.2883 1408.9 Q69.2328 1411.59 63.5152 1411.59 Q57.7976 1411.59 54.719 1408.9 Q51.6634 1406.22 51.6634 1401.19 Q51.6634 1397.88 53.5616 1395.59 Q55.4597 1393.3 58.8393 1392.51 M57.1264 1385.13 Q57.1264 1387.81 58.793 1389.32 Q60.4828 1390.82 63.5152 1390.82 Q66.5245 1390.82 68.2143 1389.32 Q69.9272 1387.81 69.9272 1385.13 Q69.9272 1382.44 68.2143 1380.94 Q66.5245 1379.44 63.5152 1379.44 Q60.4828 1379.44 58.793 1380.94 Q57.1264 1382.44 57.1264 1385.13 Z\" fill=\"#000000\" fill-rule=\"evenodd\" fill-opacity=\"1\" /><path clip-path=\"url(#clip720)\" d=\"M83.6771 1405.04 L88.5614 1405.04 L88.5614 1410.92 L83.6771 1410.92 L83.6771 1405.04 Z\" fill=\"#000000\" fill-rule=\"evenodd\" fill-opacity=\"1\" /><path clip-path=\"url(#clip720)\" d=\"M112.913 1392.28 Q116.27 1393 118.145 1395.27 Q120.043 1397.54 120.043 1400.87 Q120.043 1405.99 116.524 1408.79 Q113.006 1411.59 106.524 1411.59 Q104.348 1411.59 102.034 1411.15 Q99.7419 1410.73 97.2882 1409.87 L97.2882 1405.36 Q99.2326 1406.5 101.547 1407.07 Q103.862 1407.65 106.385 1407.65 Q110.783 1407.65 113.075 1405.92 Q115.39 1404.18 115.39 1400.87 Q115.39 1397.81 113.237 1396.1 Q111.108 1394.37 107.288 1394.37 L103.26 1394.37 L103.26 1390.52 L107.473 1390.52 Q110.922 1390.52 112.751 1389.16 Q114.58 1387.77 114.58 1385.18 Q114.58 1382.51 112.682 1381.1 Q110.807 1379.67 107.288 1379.67 Q105.367 1379.67 103.168 1380.08 Q100.969 1380.5 98.3298 1381.38 L98.3298 1377.21 Q100.992 1376.47 103.307 1376.1 Q105.645 1375.73 107.705 1375.73 Q113.029 1375.73 116.131 1378.16 Q119.233 1380.57 119.233 1384.69 Q119.233 1387.56 117.589 1389.55 Q115.945 1391.52 112.913 1392.28 Z\" fill=\"#000000\" fill-rule=\"evenodd\" fill-opacity=\"1\" /><path clip-path=\"url(#clip720)\" d=\"M138.908 1379.44 Q135.297 1379.44 133.469 1383 Q131.663 1386.54 131.663 1393.67 Q131.663 1400.78 133.469 1404.34 Q135.297 1407.88 138.908 1407.88 Q142.543 1407.88 144.348 1404.34 Q146.177 1400.78 146.177 1393.67 Q146.177 1386.54 144.348 1383 Q142.543 1379.44 138.908 1379.44 M138.908 1375.73 Q144.718 1375.73 147.774 1380.34 Q150.853 1384.92 150.853 1393.67 Q150.853 1402.4 147.774 1407 Q144.718 1411.59 138.908 1411.59 Q133.098 1411.59 130.019 1407 Q126.964 1402.4 126.964 1393.67 Q126.964 1384.92 130.019 1380.34 Q133.098 1375.73 138.908 1375.73 Z\" fill=\"#000000\" fill-rule=\"evenodd\" fill-opacity=\"1\" /><path clip-path=\"url(#clip720)\" d=\"M159.209 1410.2 L159.209 1405.94 Q160.968 1406.77 162.774 1407.21 Q164.579 1407.65 166.316 1407.65 Q170.945 1407.65 173.376 1404.55 Q175.829 1401.43 176.177 1395.08 Q174.834 1397.07 172.774 1398.14 Q170.714 1399.2 168.214 1399.2 Q163.029 1399.2 159.996 1396.08 Q156.987 1392.93 156.987 1387.49 Q156.987 1382.17 160.135 1378.95 Q163.283 1375.73 168.515 1375.73 Q174.51 1375.73 177.658 1380.34 Q180.829 1384.92 180.829 1393.67 Q180.829 1401.84 176.941 1406.73 Q173.075 1411.59 166.524 1411.59 Q164.765 1411.59 162.959 1411.24 Q161.154 1410.89 159.209 1410.2 M168.515 1395.55 Q171.663 1395.55 173.491 1393.39 Q175.343 1391.24 175.343 1387.49 Q175.343 1383.76 173.491 1381.61 Q171.663 1379.44 168.515 1379.44 Q165.367 1379.44 163.515 1381.61 Q161.686 1383.76 161.686 1387.49 Q161.686 1391.24 163.515 1393.39 Q165.367 1395.55 168.515 1395.55 Z\" fill=\"#000000\" fill-rule=\"evenodd\" fill-opacity=\"1\" /><path clip-path=\"url(#clip720)\" d=\"M63.33 1134.73 Q59.9967 1134.73 58.0754 1136.52 Q56.1773 1138.3 56.1773 1141.42 Q56.1773 1144.55 58.0754 1146.33 Q59.9967 1148.11 63.33 1148.11 Q66.6633 1148.11 68.5846 1146.33 Q70.5059 1144.53 70.5059 1141.42 Q70.5059 1138.3 68.5846 1136.52 Q66.6865 1134.73 63.33 1134.73 M58.6541 1132.74 Q55.6449 1132 53.9551 1129.94 Q52.2884 1127.88 52.2884 1124.92 Q52.2884 1120.78 55.2282 1118.37 Q58.1912 1115.96 63.33 1115.96 Q68.492 1115.96 71.4318 1118.37 Q74.3716 1120.78 74.3716 1124.92 Q74.3716 1127.88 72.6818 1129.94 Q71.0152 1132 68.0291 1132.74 Q71.4087 1133.53 73.2837 1135.82 Q75.1818 1138.11 75.1818 1141.42 Q75.1818 1146.45 72.1031 1149.13 Q69.0476 1151.82 63.33 1151.82 Q57.6125 1151.82 54.5338 1149.13 Q51.4782 1146.45 51.4782 1141.42 Q51.4782 1138.11 53.3764 1135.82 Q55.2745 1133.53 58.6541 1132.74 M56.9412 1125.36 Q56.9412 1128.05 58.6078 1129.55 Q60.2976 1131.05 63.33 1131.05 Q66.3393 1131.05 68.0291 1129.55 Q69.742 1128.05 69.742 1125.36 Q69.742 1122.67 68.0291 1121.17 Q66.3393 1119.67 63.33 1119.67 Q60.2976 1119.67 58.6078 1121.17 Q56.9412 1122.67 56.9412 1125.36 Z\" fill=\"#000000\" fill-rule=\"evenodd\" fill-opacity=\"1\" /><path clip-path=\"url(#clip720)\" d=\"M83.492 1145.27 L88.3762 1145.27 L88.3762 1151.15 L83.492 1151.15 L83.492 1145.27 Z\" fill=\"#000000\" fill-rule=\"evenodd\" fill-opacity=\"1\" /><path clip-path=\"url(#clip720)\" d=\"M112.728 1132.51 Q116.084 1133.23 117.959 1135.5 Q119.857 1137.77 119.857 1141.1 Q119.857 1146.22 116.339 1149.02 Q112.82 1151.82 106.339 1151.82 Q104.163 1151.82 101.848 1151.38 Q99.5567 1150.96 97.103 1150.11 L97.103 1145.59 Q99.0474 1146.73 101.362 1147.3 Q103.677 1147.88 106.2 1147.88 Q110.598 1147.88 112.89 1146.15 Q115.205 1144.41 115.205 1141.1 Q115.205 1138.05 113.052 1136.33 Q110.922 1134.6 107.103 1134.6 L103.075 1134.6 L103.075 1130.75 L107.288 1130.75 Q110.737 1130.75 112.566 1129.39 Q114.395 1128 114.395 1125.41 Q114.395 1122.74 112.496 1121.33 Q110.621 1119.9 107.103 1119.9 Q105.182 1119.9 102.983 1120.31 Q100.784 1120.73 98.1447 1121.61 L98.1447 1117.44 Q100.807 1116.7 103.121 1116.33 Q105.459 1115.96 107.52 1115.96 Q112.844 1115.96 115.945 1118.39 Q119.047 1120.8 119.047 1124.92 Q119.047 1127.79 117.404 1129.78 Q115.76 1131.75 112.728 1132.51 Z\" fill=\"#000000\" fill-rule=\"evenodd\" fill-opacity=\"1\" /><path clip-path=\"url(#clip720)\" d=\"M129.533 1147.21 L137.172 1147.21 L137.172 1120.85 L128.862 1122.51 L128.862 1118.25 L137.126 1116.59 L141.802 1116.59 L141.802 1147.21 L149.441 1147.21 L149.441 1151.15 L129.533 1151.15 L129.533 1147.21 Z\" fill=\"#000000\" fill-rule=\"evenodd\" fill-opacity=\"1\" /><path clip-path=\"url(#clip720)\" d=\"M168.885 1119.67 Q165.274 1119.67 163.445 1123.23 Q161.64 1126.77 161.64 1133.9 Q161.64 1141.01 163.445 1144.57 Q165.274 1148.11 168.885 1148.11 Q172.519 1148.11 174.325 1144.57 Q176.153 1141.01 176.153 1133.9 Q176.153 1126.77 174.325 1123.23 Q172.519 1119.67 168.885 1119.67 M168.885 1115.96 Q174.695 1115.96 177.751 1120.57 Q180.829 1125.15 180.829 1133.9 Q180.829 1142.63 177.751 1147.23 Q174.695 1151.82 168.885 1151.82 Q163.075 1151.82 159.996 1147.23 Q156.941 1142.63 156.941 1133.9 Q156.941 1125.15 159.996 1120.57 Q163.075 1115.96 168.885 1115.96 Z\" fill=\"#000000\" fill-rule=\"evenodd\" fill-opacity=\"1\" /><path clip-path=\"url(#clip720)\" d=\"M64.5569 874.966 Q61.2236 874.966 59.3023 876.748 Q57.4041 878.53 57.4041 881.655 Q57.4041 884.78 59.3023 886.563 Q61.2236 888.345 64.5569 888.345 Q67.8902 888.345 69.8115 886.563 Q71.7328 884.757 71.7328 881.655 Q71.7328 878.53 69.8115 876.748 Q67.9133 874.966 64.5569 874.966 M59.881 872.975 Q56.8717 872.234 55.1819 870.174 Q53.5153 868.114 53.5153 865.151 Q53.5153 861.007 56.4551 858.6 Q59.418 856.192 64.5569 856.192 Q69.7189 856.192 72.6587 858.6 Q75.5985 861.007 75.5985 865.151 Q75.5985 868.114 73.9087 870.174 Q72.242 872.234 69.2559 872.975 Q72.6355 873.762 74.5105 876.054 Q76.4087 878.345 76.4087 881.655 Q76.4087 886.678 73.33 889.364 Q70.2744 892.049 64.5569 892.049 Q58.8393 892.049 55.7606 889.364 Q52.7051 886.678 52.7051 881.655 Q52.7051 878.345 54.6032 876.054 Q56.5014 873.762 59.881 872.975 M58.168 865.591 Q58.168 868.276 59.8347 869.78 Q61.5245 871.285 64.5569 871.285 Q67.5661 871.285 69.2559 869.78 Q70.9689 868.276 70.9689 865.591 Q70.9689 862.905 69.2559 861.401 Q67.5661 859.896 64.5569 859.896 Q61.5245 859.896 59.8347 861.401 Q58.168 862.905 58.168 865.591 Z\" fill=\"#000000\" fill-rule=\"evenodd\" fill-opacity=\"1\" /><path clip-path=\"url(#clip720)\" d=\"M84.7188 885.498 L89.603 885.498 L89.603 891.377 L84.7188 891.377 L84.7188 885.498 Z\" fill=\"#000000\" fill-rule=\"evenodd\" fill-opacity=\"1\" /><path clip-path=\"url(#clip720)\" d=\"M113.955 872.743 Q117.311 873.461 119.186 875.729 Q121.084 877.998 121.084 881.331 Q121.084 886.447 117.566 889.248 Q114.047 892.049 107.566 892.049 Q105.39 892.049 103.075 891.609 Q100.784 891.192 98.3298 890.336 L98.3298 885.822 Q100.274 886.956 102.589 887.535 Q104.904 888.114 107.427 888.114 Q111.825 888.114 114.117 886.378 Q116.432 884.641 116.432 881.331 Q116.432 878.276 114.279 876.563 Q112.149 874.827 108.33 874.827 L104.302 874.827 L104.302 870.984 L108.515 870.984 Q111.964 870.984 113.793 869.618 Q115.621 868.229 115.621 865.637 Q115.621 862.975 113.723 861.563 Q111.848 860.128 108.33 860.128 Q106.408 860.128 104.209 860.544 Q102.01 860.961 99.3715 861.841 L99.3715 857.674 Q102.034 856.933 104.348 856.563 Q106.686 856.192 108.746 856.192 Q114.07 856.192 117.172 858.623 Q120.274 861.03 120.274 865.151 Q120.274 868.021 118.631 870.012 Q116.987 871.979 113.955 872.743 Z\" fill=\"#000000\" fill-rule=\"evenodd\" fill-opacity=\"1\" /><path clip-path=\"url(#clip720)\" d=\"M130.76 887.442 L138.399 887.442 L138.399 861.077 L130.089 862.743 L130.089 858.484 L138.353 856.817 L143.029 856.817 L143.029 887.442 L150.668 887.442 L150.668 891.377 L130.76 891.377 L130.76 887.442 Z\" fill=\"#000000\" fill-rule=\"evenodd\" fill-opacity=\"1\" /><path clip-path=\"url(#clip720)\" d=\"M160.922 887.442 L168.561 887.442 L168.561 861.077 L160.251 862.743 L160.251 858.484 L168.515 856.817 L173.191 856.817 L173.191 887.442 L180.829 887.442 L180.829 891.377 L160.922 891.377 L160.922 887.442 Z\" fill=\"#000000\" fill-rule=\"evenodd\" fill-opacity=\"1\" /><path clip-path=\"url(#clip720)\" d=\"M64.9272 615.196 Q61.5939 615.196 59.6726 616.979 Q57.7745 618.761 57.7745 621.886 Q57.7745 625.011 59.6726 626.793 Q61.5939 628.576 64.9272 628.576 Q68.2606 628.576 70.1818 626.793 Q72.1031 624.988 72.1031 621.886 Q72.1031 618.761 70.1818 616.979 Q68.2837 615.196 64.9272 615.196 M60.2513 613.205 Q57.2421 612.465 55.5523 610.404 Q53.8856 608.344 53.8856 605.381 Q53.8856 601.238 56.8254 598.83 Q59.7884 596.423 64.9272 596.423 Q70.0892 596.423 73.029 598.83 Q75.9688 601.238 75.9688 605.381 Q75.9688 608.344 74.279 610.404 Q72.6124 612.465 69.6263 613.205 Q73.0059 613.992 74.8809 616.284 Q76.779 618.576 76.779 621.886 Q76.779 626.909 73.7003 629.594 Q70.6448 632.279 64.9272 632.279 Q59.2097 632.279 56.131 629.594 Q53.0754 626.909 53.0754 621.886 Q53.0754 618.576 54.9736 616.284 Q56.8717 613.992 60.2513 613.205 M58.5384 605.821 Q58.5384 608.506 60.205 610.011 Q61.8948 611.516 64.9272 611.516 Q67.9365 611.516 69.6263 610.011 Q71.3392 608.506 71.3392 605.821 Q71.3392 603.136 69.6263 601.631 Q67.9365 600.127 64.9272 600.127 Q61.8948 600.127 60.205 601.631 Q58.5384 603.136 58.5384 605.821 Z\" fill=\"#000000\" fill-rule=\"evenodd\" fill-opacity=\"1\" /><path clip-path=\"url(#clip720)\" d=\"M85.0892 625.728 L89.9734 625.728 L89.9734 631.608 L85.0892 631.608 L85.0892 625.728 Z\" fill=\"#000000\" fill-rule=\"evenodd\" fill-opacity=\"1\" /><path clip-path=\"url(#clip720)\" d=\"M114.325 612.974 Q117.682 613.692 119.557 615.96 Q121.455 618.229 121.455 621.562 Q121.455 626.678 117.936 629.478 Q114.418 632.279 107.936 632.279 Q105.76 632.279 103.446 631.84 Q101.154 631.423 98.7002 630.566 L98.7002 626.053 Q100.645 627.187 102.959 627.766 Q105.274 628.344 107.797 628.344 Q112.196 628.344 114.487 626.608 Q116.802 624.872 116.802 621.562 Q116.802 618.506 114.649 616.793 Q112.52 615.057 108.7 615.057 L104.672 615.057 L104.672 611.215 L108.885 611.215 Q112.334 611.215 114.163 609.849 Q115.992 608.46 115.992 605.867 Q115.992 603.205 114.094 601.793 Q112.219 600.358 108.7 600.358 Q106.779 600.358 104.58 600.775 Q102.381 601.192 99.7419 602.071 L99.7419 597.905 Q102.404 597.164 104.719 596.793 Q107.057 596.423 109.117 596.423 Q114.441 596.423 117.543 598.854 Q120.645 601.261 120.645 605.381 Q120.645 608.252 119.001 610.242 Q117.358 612.21 114.325 612.974 Z\" fill=\"#000000\" fill-rule=\"evenodd\" fill-opacity=\"1\" /><path clip-path=\"url(#clip720)\" d=\"M131.131 627.673 L138.769 627.673 L138.769 601.307 L130.459 602.974 L130.459 598.715 L138.723 597.048 L143.399 597.048 L143.399 627.673 L151.038 627.673 L151.038 631.608 L131.131 631.608 L131.131 627.673 Z\" fill=\"#000000\" fill-rule=\"evenodd\" fill-opacity=\"1\" /><path clip-path=\"url(#clip720)\" d=\"M164.51 627.673 L180.829 627.673 L180.829 631.608 L158.885 631.608 L158.885 627.673 Q161.547 624.918 166.13 620.289 Q170.737 615.636 171.917 614.293 Q174.163 611.77 175.042 610.034 Q175.945 608.275 175.945 606.585 Q175.945 603.83 174.001 602.094 Q172.079 600.358 168.978 600.358 Q166.779 600.358 164.325 601.122 Q161.894 601.886 159.117 603.437 L159.117 598.715 Q161.941 597.58 164.394 597.002 Q166.848 596.423 168.885 596.423 Q174.255 596.423 177.45 599.108 Q180.644 601.793 180.644 606.284 Q180.644 608.414 179.834 610.335 Q179.047 612.233 176.941 614.826 Q176.362 615.497 173.26 618.715 Q170.158 621.909 164.51 627.673 Z\" fill=\"#000000\" fill-rule=\"evenodd\" fill-opacity=\"1\" /><path clip-path=\"url(#clip720)\" d=\"M63.9782 355.427 Q60.6449 355.427 58.7236 357.209 Q56.8254 358.992 56.8254 362.117 Q56.8254 365.241 58.7236 367.024 Q60.6449 368.806 63.9782 368.806 Q67.3115 368.806 69.2328 367.024 Q71.1541 365.218 71.1541 362.117 Q71.1541 358.992 69.2328 357.209 Q67.3346 355.427 63.9782 355.427 M59.3023 353.436 Q56.293 352.695 54.6032 350.635 Q52.9366 348.575 52.9366 345.612 Q52.9366 341.468 55.8764 339.061 Q58.8393 336.654 63.9782 336.654 Q69.1402 336.654 72.08 339.061 Q75.0198 341.468 75.0198 345.612 Q75.0198 348.575 73.33 350.635 Q71.6633 352.695 68.6772 353.436 Q72.0568 354.223 73.9318 356.515 Q75.83 358.806 75.83 362.117 Q75.83 367.14 72.7513 369.825 Q69.6957 372.51 63.9782 372.51 Q58.2606 372.51 55.1819 369.825 Q52.1264 367.14 52.1264 362.117 Q52.1264 358.806 54.0245 356.515 Q55.9227 354.223 59.3023 353.436 M57.5893 346.052 Q57.5893 348.737 59.256 350.242 Q60.9458 351.746 63.9782 351.746 Q66.9874 351.746 68.6772 350.242 Q70.3902 348.737 70.3902 346.052 Q70.3902 343.367 68.6772 341.862 Q66.9874 340.357 63.9782 340.357 Q60.9458 340.357 59.256 341.862 Q57.5893 343.367 57.5893 346.052 Z\" fill=\"#000000\" fill-rule=\"evenodd\" fill-opacity=\"1\" /><path clip-path=\"url(#clip720)\" d=\"M84.1401 365.959 L89.0243 365.959 L89.0243 371.839 L84.1401 371.839 L84.1401 365.959 Z\" fill=\"#000000\" fill-rule=\"evenodd\" fill-opacity=\"1\" /><path clip-path=\"url(#clip720)\" d=\"M113.376 353.205 Q116.733 353.922 118.608 356.191 Q120.506 358.459 120.506 361.792 Q120.506 366.908 116.987 369.709 Q113.469 372.51 106.987 372.51 Q104.811 372.51 102.496 372.07 Q100.205 371.653 97.7511 370.797 L97.7511 366.283 Q99.6956 367.417 102.01 367.996 Q104.325 368.575 106.848 368.575 Q111.246 368.575 113.538 366.839 Q115.853 365.103 115.853 361.792 Q115.853 358.737 113.7 357.024 Q111.571 355.288 107.751 355.288 L103.723 355.288 L103.723 351.445 L107.936 351.445 Q111.385 351.445 113.214 350.08 Q115.043 348.691 115.043 346.098 Q115.043 343.436 113.145 342.024 Q111.27 340.589 107.751 340.589 Q105.83 340.589 103.631 341.006 Q101.432 341.422 98.7928 342.302 L98.7928 338.135 Q101.455 337.394 103.77 337.024 Q106.108 336.654 108.168 336.654 Q113.492 336.654 116.594 339.084 Q119.695 341.492 119.695 345.612 Q119.695 348.482 118.052 350.473 Q116.408 352.441 113.376 353.205 Z\" fill=\"#000000\" fill-rule=\"evenodd\" fill-opacity=\"1\" /><path clip-path=\"url(#clip720)\" d=\"M130.182 367.904 L137.82 367.904 L137.82 341.538 L129.51 343.205 L129.51 338.945 L137.774 337.279 L142.45 337.279 L142.45 367.904 L150.089 367.904 L150.089 371.839 L130.182 371.839 L130.182 367.904 Z\" fill=\"#000000\" fill-rule=\"evenodd\" fill-opacity=\"1\" /><path clip-path=\"url(#clip720)\" d=\"M173.7 353.205 Q177.056 353.922 178.931 356.191 Q180.829 358.459 180.829 361.792 Q180.829 366.908 177.311 369.709 Q173.792 372.51 167.311 372.51 Q165.135 372.51 162.82 372.07 Q160.529 371.653 158.075 370.797 L158.075 366.283 Q160.019 367.417 162.334 367.996 Q164.649 368.575 167.172 368.575 Q171.57 368.575 173.862 366.839 Q176.177 365.103 176.177 361.792 Q176.177 358.737 174.024 357.024 Q171.894 355.288 168.075 355.288 L164.047 355.288 L164.047 351.445 L168.26 351.445 Q171.709 351.445 173.538 350.08 Q175.366 348.691 175.366 346.098 Q175.366 343.436 173.468 342.024 Q171.593 340.589 168.075 340.589 Q166.154 340.589 163.954 341.006 Q161.755 341.422 159.117 342.302 L159.117 338.135 Q161.779 337.394 164.093 337.024 Q166.431 336.654 168.491 336.654 Q173.816 336.654 176.917 339.084 Q180.019 341.492 180.019 345.612 Q180.019 348.482 178.376 350.473 Q176.732 352.441 173.7 353.205 Z\" fill=\"#000000\" fill-rule=\"evenodd\" fill-opacity=\"1\" /><path clip-path=\"url(#clip720)\" d=\"M62.8439 95.6573 Q59.5106 95.6573 57.5893 97.4397 Q55.6912 99.2221 55.6912 102.347 Q55.6912 105.472 57.5893 107.254 Q59.5106 109.037 62.8439 109.037 Q66.1772 109.037 68.0985 107.254 Q70.0198 105.449 70.0198 102.347 Q70.0198 99.2221 68.0985 97.4397 Q66.2004 95.6573 62.8439 95.6573 M58.168 93.6666 Q55.1588 92.9258 53.469 90.8657 Q51.8023 88.8055 51.8023 85.8425 Q51.8023 81.6991 54.7421 79.2917 Q57.7051 76.8843 62.8439 76.8843 Q68.0059 76.8843 70.9457 79.2917 Q73.8855 81.6991 73.8855 85.8425 Q73.8855 88.8055 72.1957 90.8657 Q70.5291 92.9258 67.543 93.6666 Q70.9226 94.4536 72.7976 96.7453 Q74.6957 99.0369 74.6957 102.347 Q74.6957 107.37 71.617 110.055 Q68.5615 112.741 62.8439 112.741 Q57.1264 112.741 54.0477 110.055 Q50.9921 107.37 50.9921 102.347 Q50.9921 99.0369 52.8903 96.7453 Q54.7884 94.4536 58.168 93.6666 M56.4551 86.2824 Q56.4551 88.9675 58.1217 90.4722 Q59.8115 91.9768 62.8439 91.9768 Q65.8532 91.9768 67.543 90.4722 Q69.2559 88.9675 69.2559 86.2824 Q69.2559 83.5972 67.543 82.0926 Q65.8532 80.5879 62.8439 80.5879 Q59.8115 80.5879 58.1217 82.0926 Q56.4551 83.5972 56.4551 86.2824 Z\" fill=\"#000000\" fill-rule=\"evenodd\" fill-opacity=\"1\" /><path clip-path=\"url(#clip720)\" d=\"M83.0058 106.19 L87.8901 106.19 L87.8901 112.069 L83.0058 112.069 L83.0058 106.19 Z\" fill=\"#000000\" fill-rule=\"evenodd\" fill-opacity=\"1\" /><path clip-path=\"url(#clip720)\" d=\"M112.242 93.4351 Q115.598 94.1527 117.473 96.4212 Q119.371 98.6897 119.371 102.023 Q119.371 107.139 115.853 109.94 Q112.334 112.741 105.853 112.741 Q103.677 112.741 101.362 112.301 Q99.0706 111.884 96.6169 111.028 L96.6169 106.514 Q98.5613 107.648 100.876 108.227 Q103.191 108.805 105.714 108.805 Q110.112 108.805 112.404 107.069 Q114.719 105.333 114.719 102.023 Q114.719 98.9675 112.566 97.2545 Q110.436 95.5184 106.617 95.5184 L102.589 95.5184 L102.589 91.6758 L106.802 91.6758 Q110.251 91.6758 112.08 90.3101 Q113.908 88.9212 113.908 86.3287 Q113.908 83.6666 112.01 82.2546 Q110.135 80.8194 106.617 80.8194 Q104.696 80.8194 102.496 81.2361 Q100.297 81.6528 97.6585 82.5324 L97.6585 78.3657 Q100.321 77.625 102.635 77.2546 Q104.973 76.8843 107.033 76.8843 Q112.358 76.8843 115.459 79.3148 Q118.561 81.7222 118.561 85.8425 Q118.561 88.7129 116.918 90.7036 Q115.274 92.6712 112.242 93.4351 Z\" fill=\"#000000\" fill-rule=\"evenodd\" fill-opacity=\"1\" /><path clip-path=\"url(#clip720)\" d=\"M129.047 108.134 L136.686 108.134 L136.686 81.7685 L128.376 83.4352 L128.376 79.1759 L136.64 77.5093 L141.316 77.5093 L141.316 108.134 L148.955 108.134 L148.955 112.069 L129.047 112.069 L129.047 108.134 Z\" fill=\"#000000\" fill-rule=\"evenodd\" fill-opacity=\"1\" /><path clip-path=\"url(#clip720)\" d=\"M171.246 81.5833 L159.441 100.032 L171.246 100.032 L171.246 81.5833 M170.019 77.5093 L175.899 77.5093 L175.899 100.032 L180.829 100.032 L180.829 103.921 L175.899 103.921 L175.899 112.069 L171.246 112.069 L171.246 103.921 L155.644 103.921 L155.644 99.4073 L170.019 77.5093 Z\" fill=\"#000000\" fill-rule=\"evenodd\" fill-opacity=\"1\" /><polyline clip-path=\"url(#clip722)\" style=\"stroke:#009af9; stroke-linecap:round; stroke-linejoin:round; stroke-width:4; stroke-opacity:1; fill:none\" points=\"277.28,87.9763 319.26,1401.95 361.24,1444.31 403.219,1445.67 445.199,1445.71 487.179,1445.72 529.158,1445.72 571.138,1445.72 613.118,1445.72 655.097,1445.72 697.077,1445.72 739.057,1445.72 781.036,1445.72 823.016,1445.72 864.996,1445.72 906.975,1445.72 948.955,1445.72 990.935,1445.72 1032.91,1445.72 1074.89,1445.72 1116.87,1445.72 1158.85,1445.72 1200.83,1445.72 1242.81,1445.72 1284.79,1445.72 1326.77,1445.72 1368.75,1445.72 1410.73,1445.72 1452.71,1445.72 1494.69,1445.72 1536.67,1445.72 1578.65,1445.72 1620.63,1445.72 1662.61,1445.72 1704.59,1445.72 1746.57,1445.72 1788.55,1445.72 1830.53,1445.72 1872.51,1445.72 1914.49,1445.72 1956.47,1445.72 1998.45,1445.72 2040.43,1445.72 2082.41,1445.72 2124.39,1445.72 2166.37,1445.72 2208.35,1445.72 2250.33,1445.72 2292.31,1445.72 \"/>\n",
       "<path clip-path=\"url(#clip720)\" d=\"M2015.54 198.898 L2281.56 198.898 L2281.56 95.2176 L2015.54 95.2176  Z\" fill=\"#ffffff\" fill-rule=\"evenodd\" fill-opacity=\"1\"/>\n",
       "<polyline clip-path=\"url(#clip720)\" style=\"stroke:#000000; stroke-linecap:round; stroke-linejoin:round; stroke-width:4; stroke-opacity:1; fill:none\" points=\"2015.54,198.898 2281.56,198.898 2281.56,95.2176 2015.54,95.2176 2015.54,198.898 \"/>\n",
       "<polyline clip-path=\"url(#clip720)\" style=\"stroke:#009af9; stroke-linecap:round; stroke-linejoin:round; stroke-width:4; stroke-opacity:1; fill:none\" points=\"2039.27,147.058 2181.66,147.058 \"/>\n",
       "<path clip-path=\"url(#clip720)\" d=\"M2219.24 166.745 Q2217.43 171.375 2215.72 172.787 Q2214.01 174.199 2211.14 174.199 L2207.73 174.199 L2207.73 170.634 L2210.23 170.634 Q2211.99 170.634 2212.96 169.8 Q2213.94 168.967 2215.12 165.865 L2215.88 163.921 L2205.4 138.412 L2209.91 138.412 L2218.01 158.689 L2226.11 138.412 L2230.63 138.412 L2219.24 166.745 Z\" fill=\"#000000\" fill-rule=\"evenodd\" fill-opacity=\"1\" /><path clip-path=\"url(#clip720)\" d=\"M2237.92 160.402 L2245.56 160.402 L2245.56 134.037 L2237.25 135.703 L2237.25 131.444 L2245.51 129.778 L2250.19 129.778 L2250.19 160.402 L2257.83 160.402 L2257.83 164.338 L2237.92 164.338 L2237.92 160.402 Z\" fill=\"#000000\" fill-rule=\"evenodd\" fill-opacity=\"1\" /></svg>\n"
      ]
     },
     "execution_count": 11,
     "metadata": {},
     "output_type": "execute_result"
    }
   ],
   "source": [
    "plot(Gis[2:end])"
   ]
  },
  {
   "cell_type": "code",
   "execution_count": null,
   "metadata": {},
   "outputs": [],
   "source": []
  }
 ],
 "metadata": {
  "@webio": {
   "lastCommId": null,
   "lastKernelId": null
  },
  "kernelspec": {
   "display_name": "Julia 1.8.5",
   "language": "julia",
   "name": "julia-1.8"
  },
  "language_info": {
   "file_extension": ".jl",
   "mimetype": "application/julia",
   "name": "julia",
   "version": "1.8.5"
  }
 },
 "nbformat": 4,
 "nbformat_minor": 2
}
