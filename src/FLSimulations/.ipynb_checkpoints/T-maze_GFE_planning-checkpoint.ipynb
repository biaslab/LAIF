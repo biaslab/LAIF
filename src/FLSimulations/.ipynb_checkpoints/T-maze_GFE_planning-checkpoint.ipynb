{
 "cells": [
  {
   "cell_type": "markdown",
   "metadata": {},
   "source": [
    "# T-Maze Interactive Simulation\n",
    "\n",
    "This notebook executes the action-perception loop for a discrete SSM."
   ]
  },
  {
   "cell_type": "code",
   "execution_count": 1,
   "metadata": {},
   "outputs": [
    {
     "name": "stderr",
     "output_type": "stream",
     "text": [
      "\u001b[32m\u001b[1m  Activating\u001b[22m\u001b[39m project at `~/biaslab/repos/EpistemicMessagePassing`\n"
     ]
    }
   ],
   "source": [
    "using Pkg\n",
    "Pkg.activate(\"../..\")\n",
    "# Pkg.instantiate()"
   ]
  },
  {
   "cell_type": "code",
   "execution_count": 2,
   "metadata": {},
   "outputs": [],
   "source": [
    "using LinearAlgebra\n",
    "using ForneyLab\n",
    "using Plots\n",
    "using ForwardDiff: hessian\n",
    "# using ProgressMeter\n",
    "\n",
    "# T-maze layout\n",
    "# [2| |3]\n",
    "#   | |\n",
    "#   |1|\n",
    "#   |4|\n",
    "\n",
    "include(\"factor_nodes/discrete_observation.jl\")\n",
    "include(\"update_rules/discrete_observation.jl\")\n",
    ";"
   ]
  },
  {
   "cell_type": "markdown",
   "metadata": {},
   "source": [
    "# Generative Model"
   ]
  },
  {
   "cell_type": "code",
   "execution_count": 3,
   "metadata": {},
   "outputs": [],
   "source": [
    "fg = FactorGraph()\n",
    "\n",
    "u = Vector{Variable}(undef, 2)\n",
    "x = Vector{Variable}(undef, 2)\n",
    "y = Vector{Variable}(undef, 2)\n",
    "\n",
    "@RV x_0 ~ Categorical(placeholder(:D_s, dims=(8,)))\n",
    "\n",
    "x_k_min = x_0\n",
    "for k=1:2\n",
    "    @RV u[k]\n",
    "    @RV x[k] ~ Transition(x_k_min, u[k])\n",
    "    placeholder(u[k], :u, index=k, dims=(8,8))\n",
    "    @RV y[k] ~ DiscreteObservation{Generalized}(x[k], \n",
    "                   placeholder(:A, dims=(16,8), var_id=:A_*k),\n",
    "                   placeholder(:C, dims=(16,), var_id=:C_*k),\n",
    "                   n_factors=8)\n",
    "    \n",
    "    x_k_min = x[k] # For next slice\n",
    "end\n",
    ";"
   ]
  },
  {
   "cell_type": "markdown",
   "metadata": {},
   "source": [
    "# Algorithm"
   ]
  },
  {
   "cell_type": "code",
   "execution_count": 4,
   "metadata": {},
   "outputs": [],
   "source": [
    "q = PosteriorFactorization(y, [x_0; x], ids=[:Y, :X])\n",
    "algo = messagePassingAlgorithm(q, free_energy=true)\n",
    "code = algorithmSourceCode(algo, free_energy=true)\n",
    "initX() = Array{Message}(undef, 9) # Predefine\n",
    "eval(Meta.parse(code)) # Overwrites initX for Generalized constraint\n",
    ";"
   ]
  },
  {
   "cell_type": "code",
   "execution_count": 5,
   "metadata": {},
   "outputs": [],
   "source": [
    "# println(code)"
   ]
  },
  {
   "cell_type": "markdown",
   "metadata": {},
   "source": [
    "## Action-Perception Loop"
   ]
  },
  {
   "cell_type": "code",
   "execution_count": 6,
   "metadata": {},
   "outputs": [],
   "source": [
    "α = 0.9; c = 2.0 # Reward probability and utility\n",
    "S = 100 # Number of trials\n",
    "seed = 1234 # Randomizer seed\n",
    "n_its = 50\n",
    "\n",
    "include(\"helpers.jl\")\n",
    "include(\"environment.jl\")\n",
    "include(\"agent.jl\")\n",
    "\n",
    "(A, B, C, D) = constructABCD(α, c)\n",
    "(A_0, D_0) = constructPriors() # Construct prior statistics for A and D\n",
    "\n",
    "pol = (4,2)\n",
    "\n",
    "data = Dict(:u   => [B[pol[1]], B[pol[2]]],\n",
    "            :A   => A,\n",
    "            :C   => C,\n",
    "            :D_s => D_0)\n",
    "\n",
    "marginals = Dict{Symbol, ProbabilityDistribution}(\n",
    "    :x_0 => ProbabilityDistribution(Univariate, Categorical, p=asym(8)),\n",
    "    :x_1 => ProbabilityDistribution(Univariate, Categorical, p=asym(8)),\n",
    "    :x_2 => ProbabilityDistribution(Univariate, Categorical, p=asym(8)))\n",
    "\n",
    "# Define unobserved marginals\n",
    "marginals[:y_1] = Distribution(Univariate, Categorical, p=asym(16))\n",
    "marginals[:y_2] = Distribution(Univariate, Categorical, p=asym(16))\n",
    "\n",
    "messages = initX()\n",
    "            \n",
    "Gis = zeros(n_its)\n",
    "for i=1:n_its\n",
    "    stepX!(data, marginals, messages)\n",
    "    stepY!(data, marginals)\n",
    "    Gis[i] = freeEnergy(data, marginals)/log(2)\n",
    "end\n",
    ";"
   ]
  },
  {
   "cell_type": "code",
   "execution_count": 7,
   "metadata": {},
   "outputs": [
    {
     "ename": "LoadError",
     "evalue": "SystemError: opening file \"/home/mkoudahl/biaslab/repos/EpistemicMessagePassing/src/FLSimulations/figures/policy.png\": No such file or directory",
     "output_type": "error",
     "traceback": [
      "SystemError: opening file \"/home/mkoudahl/biaslab/repos/EpistemicMessagePassing/src/FLSimulations/figures/policy.png\": No such file or directory",
      "",
      "Stacktrace:",
      "  [1] systemerror(p::String, errno::Int32; extrainfo::Nothing)",
      "    @ Base ./error.jl:176",
      "  [2] #systemerror#80",
      "    @ ./error.jl:175 [inlined]",
      "  [3] systemerror",
      "    @ ./error.jl:175 [inlined]",
      "  [4] open(fname::String; lock::Bool, read::Nothing, write::Nothing, create::Nothing, truncate::Bool, append::Nothing)",
      "    @ Base ./iostream.jl:293",
      "  [5] open(fname::String, mode::String; lock::Bool)",
      "    @ Base ./iostream.jl:356",
      "  [6] open(fname::String, mode::String)",
      "    @ Base ./iostream.jl:355",
      "  [7] open(::Plots.var\"#334#335\"{Plots.Plot{Plots.GRBackend}}, ::String, ::Vararg{String}; kwargs::Base.Pairs{Symbol, Union{}, Tuple{}, NamedTuple{(), Tuple{}}})",
      "    @ Base ./io.jl:382",
      "  [8] open",
      "    @ ./io.jl:381 [inlined]",
      "  [9] png(plt::Plots.Plot{Plots.GRBackend}, fn::String)",
      "    @ Plots ~/.config/julia/packages/Plots/io9zQ/src/output.jl:6",
      " [10] savefig(plt::Plots.Plot{Plots.GRBackend}, fn::String)",
      "    @ Plots ~/.config/julia/packages/Plots/io9zQ/src/output.jl:149",
      " [11] savefig(fn::String)",
      "    @ Plots ~/.config/julia/packages/Plots/io9zQ/src/output.jl:154",
      " [12] top-level scope",
      "    @ In[7]:3",
      " [13] eval",
      "    @ ./boot.jl:368 [inlined]",
      " [14] include_string(mapexpr::typeof(REPL.softscope), mod::Module, code::String, filename::String)",
      "    @ Base ./loading.jl:1428"
     ]
    }
   ],
   "source": [
    "plot(1:n_its, Gis, color=:black, linewidth=2, xlabel=\"Iteration\", ylabel=\"Free Energy [bits]\", label=false, title=\"Policy: $pol\")\n",
    "\n",
    "savefig(\"figures/policy.png\")"
   ]
  },
  {
   "cell_type": "code",
   "execution_count": null,
   "metadata": {},
   "outputs": [],
   "source": []
  }
 ],
 "metadata": {
  "@webio": {
   "lastCommId": null,
   "lastKernelId": null
  },
  "kernelspec": {
   "display_name": "Julia 1.8.5",
   "language": "julia",
   "name": "julia-1.8"
  },
  "language_info": {
   "file_extension": ".jl",
   "mimetype": "application/julia",
   "name": "julia",
   "version": "1.8.5"
  }
 },
 "nbformat": 4,
 "nbformat_minor": 2
}
