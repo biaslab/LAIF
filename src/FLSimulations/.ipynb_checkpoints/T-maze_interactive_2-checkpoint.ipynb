{
 "cells": [
  {
   "cell_type": "markdown",
   "metadata": {},
   "source": [
    "# T-Maze Interactive Simulation\n",
    "\n",
    "This notebook executes the action-perception loop for a discrete GFE-constrained SSM."
   ]
  },
  {
   "cell_type": "code",
   "execution_count": 1,
   "metadata": {},
   "outputs": [
    {
     "name": "stderr",
     "output_type": "stream",
     "text": [
      "\u001b[32m\u001b[1m  Activating\u001b[22m\u001b[39m project at `~/biaslab/repos/EpistemicMessagePassing`\n"
     ]
    }
   ],
   "source": [
    "using Pkg\n",
    "Pkg.activate(\"../..\")\n",
    "# Pkg.instantiate()"
   ]
  },
  {
   "cell_type": "code",
   "execution_count": 2,
   "metadata": {},
   "outputs": [
    {
     "name": "stderr",
     "output_type": "stream",
     "text": [
      "┌ Info: Precompiling Plots [91a5bcdd-55d7-5caf-9e0b-520d859cae80]\n",
      "└ @ Base loading.jl:1662\n",
      "\u001b[33m\u001b[1m┌ \u001b[22m\u001b[39m\u001b[33m\u001b[1mWarning: \u001b[22m\u001b[39mbackend `GR` is not installed.\n",
      "\u001b[33m\u001b[1m└ \u001b[22m\u001b[39m\u001b[90m@ Plots ~/.config/julia/packages/Plots/M4dfL/src/backends.jl:37\u001b[39m\n",
      "\u001b[36m\u001b[1m[ \u001b[22m\u001b[39m\u001b[36m\u001b[1mInfo: \u001b[22m\u001b[39mGR\n"
     ]
    }
   ],
   "source": [
    "using LinearAlgebra\n",
    "using ForneyLab\n",
    "using Plots\n",
    "using ForwardDiff: hessian\n",
    "# using ProgressMeter\n",
    "\n",
    "# T-maze layout\n",
    "# [2| |3]\n",
    "#   | |\n",
    "#   |1|\n",
    "#   |4|\n",
    "\n",
    "include(\"factor_nodes/discrete_observation.jl\")\n",
    "include(\"update_rules/discrete_observation.jl\")\n",
    ";"
   ]
  },
  {
   "cell_type": "markdown",
   "metadata": {},
   "source": [
    "# Algorithm for $t=1$"
   ]
  },
  {
   "cell_type": "code",
   "execution_count": 3,
   "metadata": {},
   "outputs": [],
   "source": [
    "fg_t1 = FactorGraph()\n",
    "\n",
    "u = Vector{Variable}(undef, 2)\n",
    "x = Vector{Variable}(undef, 2)\n",
    "y = Vector{Variable}(undef, 2)\n",
    "\n",
    "# Slice k=0\n",
    "@RV x_0 ~ Categorical(placeholder(:D_t_min, dims=(8,)))\n",
    "@RV A ~ Dirichlet(placeholder(:A_s, dims=(16,8)))\n",
    "\n",
    "# Slice k=1\n",
    "@RV u[1]\n",
    "@RV x[1] ~ Transition(x_0, u[1])\n",
    "placeholder(u[1], :u, index=1, dims=(8,8))\n",
    "DiscreteObservation(x[1], \n",
    "                    A,\n",
    "                    placeholder(:C, dims=(16,), var_id=:C_1),\n",
    "                    n_factors=8)\n",
    "# Slice k=2\n",
    "@RV u[2]\n",
    "@RV x[2] ~ Transition(x[1], u[2])\n",
    "placeholder(u[2], :u, index=2, dims=(8,8))\n",
    "DiscreteObservation(x[2], \n",
    "                    A,\n",
    "                    placeholder(:C, dims=(16,), var_id=:C_2),\n",
    "                    n_factors=8)\n",
    "# Algorithm\n",
    "q_t1 = PosteriorFactorization([x_0; x], A, ids=[:X, :A])\n",
    "algo_t1 = messagePassingAlgorithm(q_t1, id=:t1, free_energy=true)\n",
    "code_t1 = algorithmSourceCode(algo_t1, free_energy=true)\n",
    "eval(Meta.parse(code_t1))\n",
    ";"
   ]
  },
  {
   "cell_type": "markdown",
   "metadata": {},
   "source": [
    "# Algorithm for $t=2$"
   ]
  },
  {
   "cell_type": "code",
   "execution_count": 4,
   "metadata": {},
   "outputs": [],
   "source": [
    "fg_t2 = FactorGraph()\n",
    "\n",
    "u = Vector{Variable}(undef, 2)\n",
    "x = Vector{Variable}(undef, 2)\n",
    "y = Vector{Variable}(undef, 2)\n",
    "\n",
    "# Slice k=0\n",
    "@RV x_0 ~ Categorical(placeholder(:D_t_min, dims=(8,)))\n",
    "@RV A ~ Dirichlet(placeholder(:A_s, dims=(16,8)))\n",
    "\n",
    "# Slice k=1\n",
    "@RV u[1]\n",
    "@RV x[1] ~ Transition(x_0, u[1])\n",
    "placeholder(u[1], :u, index=1, dims=(8,8))\n",
    "@RV y[1] ~ Transition(x[1], A)\n",
    "placeholder(y[1], :y, index=1, dims=(16,))\n",
    "\n",
    "# Slice k=2\n",
    "@RV u[2]\n",
    "@RV x[2] ~ Transition(x[1], u[2])\n",
    "placeholder(u[2], :u, index=2, dims=(8,8))\n",
    "DiscreteObservation(x[2], \n",
    "                    A,\n",
    "                    placeholder(:C, dims=(16,), var_id=:C_2),\n",
    "                    n_factors=8)\n",
    "# Algorithm\n",
    "q_t2 = PosteriorFactorization([x_0; x], A, ids=[:X, :A])\n",
    "algo_t2 = messagePassingAlgorithm(q_t2, id=:t2, free_energy=true)\n",
    "code_t2 = algorithmSourceCode(algo_t2, free_energy=true)\n",
    "eval(Meta.parse(code_t2))\n",
    ";"
   ]
  },
  {
   "cell_type": "markdown",
   "metadata": {},
   "source": [
    "# Algorithm for $t=3$ (Learning)"
   ]
  },
  {
   "cell_type": "code",
   "execution_count": 5,
   "metadata": {},
   "outputs": [],
   "source": [
    "fg_t3 = FactorGraph()\n",
    "\n",
    "u = Vector{Variable}(undef, 2)\n",
    "x = Vector{Variable}(undef, 2)\n",
    "y = Vector{Variable}(undef, 2)\n",
    "\n",
    "# Slice k=0\n",
    "@RV x_0 ~ Categorical(placeholder(:D_t_min, dims=(8,)))\n",
    "@RV A ~ Dirichlet(placeholder(:A_s, dims=(16,8)))\n",
    "\n",
    "# Slice k=1\n",
    "@RV u[1]\n",
    "@RV x[1] ~ Transition(x_0, u[1])\n",
    "placeholder(u[1], :u, index=1, dims=(8,8))\n",
    "@RV y[1] ~ Transition(x[1], A)\n",
    "placeholder(y[1], :y, index=1, dims=(16,))\n",
    "\n",
    "# Slice k=2\n",
    "@RV u[2]\n",
    "@RV x[2] ~ Transition(x[1], u[2])\n",
    "placeholder(u[2], :u, index=2, dims=(8,8))\n",
    "@RV y[2] ~ Transition(x[2], A)\n",
    "placeholder(y[2], :y, index=2, dims=(16,))\n",
    "\n",
    "# Algorithm\n",
    "q_t3 = PosteriorFactorization([x_0; x], A, ids=[:X, :A])\n",
    "algo_t3 = messagePassingAlgorithm(q_t3, id=:t3, free_energy=true)\n",
    "code_t3 = algorithmSourceCode(algo_t3, free_energy=true)\n",
    "eval(Meta.parse(code_t3))\n",
    ";"
   ]
  },
  {
   "cell_type": "markdown",
   "metadata": {},
   "source": [
    "## Action-Perception Loop"
   ]
  },
  {
   "cell_type": "code",
   "execution_count": null,
   "metadata": {},
   "outputs": [],
   "source": [
    "α = 0.9; c = 2.0 # Reward probability and utility\n",
    "S = 20 # Number of simulations\n",
    "\n",
    "include(\"helpers.jl\")\n",
    "include(\"environment.jl\")\n",
    "include(\"agent_2.jl\")\n",
    "\n",
    "(A, B, C, D) = constructABCD(α, c)\n",
    "A_0 = constructAPrior() # Construct prior statistics for A\n",
    "\n",
    "(reset, execute, observe) = initializeWorld(A, B, C, D) # Let there be a world\n",
    "(infer, act) = initializeAgent(A_0, B, C, D) # Let there be a constrained agent\n",
    "\n",
    "# Step through the experimental protocol\n",
    "As = Vector{Matrix}(undef, S) # Posterior statistics for A\n",
    "Gts = [[Matrix(undef, 4, 4), Vector(undef, 4)] for s=1:S] # Free energy values\n",
    "ats = [Vector{Int64}(undef, 2) for s=1:S] # Actions\n",
    "ots = [Vector{Vector}(undef, 2) for s=1:S] # Observations (1-of-K)\n",
    "rts = [Vector{Float64}(undef, 2) for s=1:S] # Probability of reward\n",
    "for s = 1:S\n",
    "    reset() # Reset world\n",
    "    for t = 1:2\n",
    "                     Gts[s][t] = infer(t, ats[s], ots[s])\n",
    "                     ats[s][t] = act(Gts[s][t])\n",
    "                                 execute(ats[s][t])\n",
    "        (ots[s][t], rts[s][t]) = observe()\n",
    "    end\n",
    "    As[s] = infer(3, ats[s], ots[s]) # Learn\n",
    "end\n",
    ";"
   ]
  },
  {
   "cell_type": "markdown",
   "metadata": {},
   "source": [
    "# Results"
   ]
  },
  {
   "cell_type": "code",
   "execution_count": null,
   "metadata": {},
   "outputs": [],
   "source": [
    "round.(As[S] - A_0, digits=1) # Inspect difference in observation statistics"
   ]
  },
  {
   "cell_type": "code",
   "execution_count": null,
   "metadata": {},
   "outputs": [],
   "source": [
    "include(\"visualizations.jl\")"
   ]
  }
 ],
 "metadata": {
  "@webio": {
   "lastCommId": null,
   "lastKernelId": null
  },
  "kernelspec": {
   "display_name": "Julia 1.8.0",
   "language": "julia",
   "name": "julia-1.8"
  },
  "language_info": {
   "file_extension": ".jl",
   "mimetype": "application/julia",
   "name": "julia",
   "version": "1.8.0"
  }
 },
 "nbformat": 4,
 "nbformat_minor": 2
}
