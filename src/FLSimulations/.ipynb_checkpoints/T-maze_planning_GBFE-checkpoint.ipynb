{
 "cells": [
  {
   "cell_type": "markdown",
   "metadata": {},
   "source": [
    "# T-Maze Inference for Planning with GBFE"
   ]
  },
  {
   "cell_type": "code",
   "execution_count": null,
   "metadata": {},
   "outputs": [
    {
     "name": "stderr",
     "output_type": "stream",
     "text": [
      "┌ Info: Precompiling ForneyLab [9fc3f58a-c2cc-5bff-9419-6a294fefdca9]\n",
      "└ @ Base loading.jl:1662\n",
      "┌ Info: Precompiling Plots [91a5bcdd-55d7-5caf-9e0b-520d859cae80]\n",
      "└ @ Base loading.jl:1662\n"
     ]
    }
   ],
   "source": [
    "using LinearAlgebra\n",
    "using ForneyLab\n",
    "using Plots\n",
    "\n",
    "# T-maze layout\n",
    "# [2| |3]\n",
    "#   | |\n",
    "#   |1|\n",
    "#   |4|\n",
    "\n",
    "include(\"factor_nodes/GFECategorical.jl\")\n",
    "include(\"update_rules/GFECategorical.jl\")\n",
    ";"
   ]
  },
  {
   "cell_type": "markdown",
   "metadata": {},
   "source": [
    "# Model"
   ]
  },
  {
   "cell_type": "code",
   "execution_count": null,
   "metadata": {},
   "outputs": [],
   "source": [
    "T = 2\n",
    "\n",
    "fg = FactorGraph()\n",
    "\n",
    "u = Vector{Variable}(undef, T)\n",
    "x = Vector{Variable}(undef, T)\n",
    "\n",
    "@RV x_t_min ~ Categorical(placeholder(:D_t_min, dims=(8,)))\n",
    "\n",
    "x_k_min = x_t_min\n",
    "for k=1:T\n",
    "    @RV u[k]\n",
    "    @RV x[k] ~ Transition(x_k_min, u[k],id=:x_*k)\n",
    "\n",
    "    placeholder(u[k], :u, index=k, dims=(8,8))\n",
    "    GFECategorical(x[k], \n",
    "                   placeholder(:A, dims=(16,8), var_id=:A_*k), \n",
    "                   placeholder(:C, dims=(16,), index=k, var_id=:C_*k),\n",
    "                   n_factors=8)\n",
    "    \n",
    "    x_k_min = x[k]\n",
    "end\n",
    ";"
   ]
  },
  {
   "cell_type": "code",
   "execution_count": null,
   "metadata": {},
   "outputs": [],
   "source": [
    "q = PosteriorFactorization(fg)\n",
    "algo = messagePassingAlgorithm(x_t_min, free_energy=true)\n",
    "code = algorithmSourceCode(algo, free_energy=true)\n",
    "eval(Meta.parse(code))\n",
    ";"
   ]
  },
  {
   "cell_type": "code",
   "execution_count": null,
   "metadata": {},
   "outputs": [],
   "source": [
    "println(code)"
   ]
  },
  {
   "cell_type": "markdown",
   "metadata": {},
   "source": [
    "# Results"
   ]
  },
  {
   "cell_type": "code",
   "execution_count": null,
   "metadata": {},
   "outputs": [],
   "source": [
    "# Reward probability and utility, uncomment scenario of interest\n",
    "α = 0.9; c = 2.0\n",
    "\n",
    "include(\"environment.jl\")\n",
    "include(\"agent.jl\")\n",
    "include(\"helpers.jl\")\n",
    "\n",
    "(A, B, C, D) = constructABCD(α, c)\n",
    ";"
   ]
  },
  {
   "cell_type": "code",
   "execution_count": null,
   "metadata": {},
   "outputs": [],
   "source": [
    "# Single policy\n",
    "pi = [4, 2]\n",
    "\n",
    "n_its = 10\n",
    "G = zeros(n_its)\n",
    "\n",
    "data = Dict(:u       => [B[pi[1]], B[pi[2]]],\n",
    "            :A       => A,\n",
    "            :C       => [C, C],\n",
    "            :D_t_min => D)\n",
    "\n",
    "marginals = Dict{Symbol, ProbabilityDistribution}(\n",
    "    :x_1 => ProbabilityDistribution(Univariate, Categorical, p=ones(8)./8),\n",
    "    :x_2 => ProbabilityDistribution(Univariate, Categorical, p=ones(8)./8))\n",
    "\n",
    "messages = init()\n",
    "\n",
    "for k=1:n_its\n",
    "    step!(data, marginals, messages)\n",
    "    G[k] = freeEnergy(data, marginals)\n",
    "end\n",
    "  \n",
    "G = G./log(2) # Convert to bits\n",
    ";\n"
   ]
  },
  {
   "cell_type": "code",
   "execution_count": null,
   "metadata": {},
   "outputs": [],
   "source": [
    "plot(1:n_its, G, color=:black, grid=true, linewidth=2, legend=false, xlabel=\"Iteration\", ylabel=\"GFE [bits]\")"
   ]
  },
  {
   "cell_type": "code",
   "execution_count": null,
   "metadata": {},
   "outputs": [],
   "source": [
    "# GBFE for all policies\n",
    "GBFE = evaluatePoliciesGBFE(A, B, C, D)\n",
    "plotResults(GBFE, clim=(15.0,60.0), dpi=300, highlight=minimum)\n",
    "#savefig(\"GBFE_c_$(c)_a_$(α).png\")"
   ]
  }
 ],
 "metadata": {
  "@webio": {
   "lastCommId": "a2bcb982c5944cd58b530bf08df4f47d",
   "lastKernelId": "24c0452e-5458-464f-9023-95b2e0fcac7e"
  },
  "kernelspec": {
   "display_name": "Julia 1.8.0",
   "language": "julia",
   "name": "julia-1.8"
  },
  "language_info": {
   "file_extension": ".jl",
   "mimetype": "application/julia",
   "name": "julia",
   "version": "1.6.4"
  }
 },
 "nbformat": 4,
 "nbformat_minor": 2
}
