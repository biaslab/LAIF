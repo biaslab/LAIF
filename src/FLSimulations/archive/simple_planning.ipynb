{
 "cells": [
  {
   "cell_type": "markdown",
   "metadata": {},
   "source": [
    "# Simple Inference for Planning with GFE"
   ]
  },
  {
   "cell_type": "code",
   "execution_count": 1,
   "metadata": {},
   "outputs": [
    {
     "name": "stderr",
     "output_type": "stream",
     "text": [
      "\u001b[33m\u001b[1m┌ \u001b[22m\u001b[39m\u001b[33m\u001b[1mWarning: \u001b[22m\u001b[39mPackage Compat does not have Base64 in its dependencies:\n",
      "\u001b[33m\u001b[1m│ \u001b[22m\u001b[39m- If you have Compat checked out for development and have\n",
      "\u001b[33m\u001b[1m│ \u001b[22m\u001b[39m  added Base64 as a dependency but haven't updated your primary\n",
      "\u001b[33m\u001b[1m│ \u001b[22m\u001b[39m  environment's manifest file, try `Pkg.resolve()`.\n",
      "\u001b[33m\u001b[1m│ \u001b[22m\u001b[39m- Otherwise you may need to report an issue with Compat\n",
      "\u001b[33m\u001b[1m└ \u001b[22m\u001b[39mLoading Base64 into Compat from project dependency, future warnings for Compat are suppressed.\n"
     ]
    },
    {
     "name": "stderr",
     "output_type": "stream",
     "text": [
      "\u001b[33m\u001b[1m┌ \u001b[22m\u001b[39m\u001b[33m\u001b[1mWarning: \u001b[22m\u001b[39mThe call to compilecache failed to create a usable precompiled cache file for ChainRulesCore [d360d2e6-b24c-11e9-a2a3-2a2ae2dbcce4]\n",
      "\u001b[33m\u001b[1m│ \u001b[22m\u001b[39m  exception = Required dependency Compat [34da2185-b29b-5c13-b0c7-acf172513d20] failed to load from a cache file.\n",
      "\u001b[33m\u001b[1m└ \u001b[22m\u001b[39m\u001b[90m@ Base loading.jl:1055\u001b[39m\n"
     ]
    },
    {
     "name": "stderr",
     "output_type": "stream",
     "text": [
      "\u001b[33m\u001b[1m┌ \u001b[22m\u001b[39m\u001b[33m\u001b[1mWarning: \u001b[22m\u001b[39mPackage Compat does not have Base64 in its dependencies:\n",
      "\u001b[33m\u001b[1m│ \u001b[22m\u001b[39m- If you have Compat checked out for development and have\n",
      "\u001b[33m\u001b[1m│ \u001b[22m\u001b[39m  added Base64 as a dependency but haven't updated your primary\n",
      "\u001b[33m\u001b[1m│ \u001b[22m\u001b[39m  environment's manifest file, try `Pkg.resolve()`.\n",
      "\u001b[33m\u001b[1m│ \u001b[22m\u001b[39m- Otherwise you may need to report an issue with Compat\n",
      "\u001b[33m\u001b[1m└ \u001b[22m\u001b[39mLoading Base64 into Compat from project dependency, future warnings for Compat are suppressed.\n"
     ]
    },
    {
     "name": "stderr",
     "output_type": "stream",
     "text": [
      "\u001b[33m\u001b[1m┌ \u001b[22m\u001b[39m\u001b[33m\u001b[1mWarning: \u001b[22m\u001b[39mModule ChainRulesCore with build ID 17412579331703 is missing from the cache.\n",
      "\u001b[33m\u001b[1m│ \u001b[22m\u001b[39mThis may mean ChainRulesCore [d360d2e6-b24c-11e9-a2a3-2a2ae2dbcce4] does not support precompilation but is imported by a module that does.\n",
      "\u001b[33m\u001b[1m└ \u001b[22m\u001b[39m\u001b[90m@ Base loading.jl:1030\u001b[39m\n"
     ]
    },
    {
     "name": "stderr",
     "output_type": "stream",
     "text": [
      "\u001b[33m\u001b[1m┌ \u001b[22m\u001b[39m\u001b[33m\u001b[1mWarning: \u001b[22m\u001b[39mModule ChainRulesCore with build ID 17412579331703 is missing from the cache.\n",
      "\u001b[33m\u001b[1m│ \u001b[22m\u001b[39mThis may mean ChainRulesCore [d360d2e6-b24c-11e9-a2a3-2a2ae2dbcce4] does not support precompilation but is imported by a module that does.\n",
      "\u001b[33m\u001b[1m└ \u001b[22m\u001b[39m\u001b[90m@ Base loading.jl:1030\u001b[39m\n"
     ]
    },
    {
     "name": "stderr",
     "output_type": "stream",
     "text": [
      "\u001b[33m\u001b[1m┌ \u001b[22m\u001b[39m\u001b[33m\u001b[1mWarning: \u001b[22m\u001b[39mThe call to compilecache failed to create a usable precompiled cache file for SpecialFunctions [276daf66-3868-5448-9aa4-cd146d93841b]\n",
      "\u001b[33m\u001b[1m│ \u001b[22m\u001b[39m  exception = Required dependency Compat [34da2185-b29b-5c13-b0c7-acf172513d20] failed to load from a cache file.\n",
      "\u001b[33m\u001b[1m└ \u001b[22m\u001b[39m\u001b[90m@ Base loading.jl:1055\u001b[39m\n"
     ]
    },
    {
     "name": "stderr",
     "output_type": "stream",
     "text": [
      "\u001b[33m\u001b[1m┌ \u001b[22m\u001b[39m\u001b[33m\u001b[1mWarning: \u001b[22m\u001b[39mPackage Compat does not have Base64 in its dependencies:\n",
      "\u001b[33m\u001b[1m│ \u001b[22m\u001b[39m- If you have Compat checked out for development and have\n",
      "\u001b[33m\u001b[1m│ \u001b[22m\u001b[39m  added Base64 as a dependency but haven't updated your primary\n",
      "\u001b[33m\u001b[1m│ \u001b[22m\u001b[39m  environment's manifest file, try `Pkg.resolve()`.\n",
      "\u001b[33m\u001b[1m│ \u001b[22m\u001b[39m- Otherwise you may need to report an issue with Compat\n",
      "\u001b[33m\u001b[1m└ \u001b[22m\u001b[39mLoading Base64 into Compat from project dependency, future warnings for Compat are suppressed.\n"
     ]
    },
    {
     "name": "stderr",
     "output_type": "stream",
     "text": [
      "\u001b[33m\u001b[1m┌ \u001b[22m\u001b[39m\u001b[33m\u001b[1mWarning: \u001b[22m\u001b[39mThe call to compilecache failed to create a usable precompiled cache file for ChainRulesCore [d360d2e6-b24c-11e9-a2a3-2a2ae2dbcce4]\n",
      "\u001b[33m\u001b[1m│ \u001b[22m\u001b[39m  exception = Required dependency Compat [34da2185-b29b-5c13-b0c7-acf172513d20] failed to load from a cache file.\n",
      "\u001b[33m\u001b[1m└ \u001b[22m\u001b[39m\u001b[90m@ Base loading.jl:1055\u001b[39m\n"
     ]
    },
    {
     "name": "stderr",
     "output_type": "stream",
     "text": [
      "\u001b[33m\u001b[1m┌ \u001b[22m\u001b[39m\u001b[33m\u001b[1mWarning: \u001b[22m\u001b[39mPackage Compat does not have Base64 in its dependencies:\n",
      "\u001b[33m\u001b[1m│ \u001b[22m\u001b[39m- If you have Compat checked out for development and have\n",
      "\u001b[33m\u001b[1m│ \u001b[22m\u001b[39m  added Base64 as a dependency but haven't updated your primary\n",
      "\u001b[33m\u001b[1m│ \u001b[22m\u001b[39m  environment's manifest file, try `Pkg.resolve()`.\n",
      "\u001b[33m\u001b[1m│ \u001b[22m\u001b[39m- Otherwise you may need to report an issue with Compat\n",
      "\u001b[33m\u001b[1m└ \u001b[22m\u001b[39mLoading Base64 into Compat from project dependency, future warnings for Compat are suppressed.\n"
     ]
    },
    {
     "name": "stderr",
     "output_type": "stream",
     "text": [
      "\u001b[33m\u001b[1m┌ \u001b[22m\u001b[39m\u001b[33m\u001b[1mWarning: \u001b[22m\u001b[39mModule ChainRulesCore with build ID 17429290887610 is missing from the cache.\n",
      "\u001b[33m\u001b[1m│ \u001b[22m\u001b[39mThis may mean ChainRulesCore [d360d2e6-b24c-11e9-a2a3-2a2ae2dbcce4] does not support precompilation but is imported by a module that does.\n",
      "\u001b[33m\u001b[1m└ \u001b[22m\u001b[39m\u001b[90m@ Base loading.jl:1030\u001b[39m\n"
     ]
    },
    {
     "name": "stderr",
     "output_type": "stream",
     "text": [
      "\u001b[33m\u001b[1m┌ \u001b[22m\u001b[39m\u001b[33m\u001b[1mWarning: \u001b[22m\u001b[39mModule ChainRulesCore with build ID 17429290887610 is missing from the cache.\n",
      "\u001b[33m\u001b[1m│ \u001b[22m\u001b[39mThis may mean ChainRulesCore [d360d2e6-b24c-11e9-a2a3-2a2ae2dbcce4] does not support precompilation but is imported by a module that does.\n",
      "\u001b[33m\u001b[1m└ \u001b[22m\u001b[39m\u001b[90m@ Base loading.jl:1030\u001b[39m\n"
     ]
    },
    {
     "name": "stderr",
     "output_type": "stream",
     "text": [
      "\u001b[33m\u001b[1m┌ \u001b[22m\u001b[39m\u001b[33m\u001b[1mWarning: \u001b[22m\u001b[39mModule SpecialFunctions with build ID 17425249880909 is missing from the cache.\n",
      "\u001b[33m\u001b[1m│ \u001b[22m\u001b[39mThis may mean SpecialFunctions [276daf66-3868-5448-9aa4-cd146d93841b] does not support precompilation but is imported by a module that does.\n",
      "\u001b[33m\u001b[1m└ \u001b[22m\u001b[39m\u001b[90m@ Base loading.jl:1030\u001b[39m\n"
     ]
    },
    {
     "name": "stderr",
     "output_type": "stream",
     "text": [
      "\u001b[33m\u001b[1m┌ \u001b[22m\u001b[39m\u001b[33m\u001b[1mWarning: \u001b[22m\u001b[39mModule SpecialFunctions with build ID 17425249880909 is missing from the cache.\n",
      "\u001b[33m\u001b[1m│ \u001b[22m\u001b[39mThis may mean SpecialFunctions [276daf66-3868-5448-9aa4-cd146d93841b] does not support precompilation but is imported by a module that does.\n",
      "\u001b[33m\u001b[1m└ \u001b[22m\u001b[39m\u001b[90m@ Base loading.jl:1030\u001b[39m\n"
     ]
    },
    {
     "name": "stderr",
     "output_type": "stream",
     "text": [
      "\u001b[33m\u001b[1m┌ \u001b[22m\u001b[39m\u001b[33m\u001b[1mWarning: \u001b[22m\u001b[39mModule SpecialFunctions with build ID 17425249880909 is missing from the cache.\n",
      "\u001b[33m\u001b[1m│ \u001b[22m\u001b[39mThis may mean SpecialFunctions [276daf66-3868-5448-9aa4-cd146d93841b] does not support precompilation but is imported by a module that does.\n",
      "\u001b[33m\u001b[1m└ \u001b[22m\u001b[39m\u001b[90m@ Base loading.jl:1030\u001b[39m\n"
     ]
    },
    {
     "name": "stderr",
     "output_type": "stream",
     "text": [
      "\u001b[33m\u001b[1m┌ \u001b[22m\u001b[39m\u001b[33m\u001b[1mWarning: \u001b[22m\u001b[39mModule SpecialFunctions with build ID 17425249880909 is missing from the cache.\n",
      "\u001b[33m\u001b[1m│ \u001b[22m\u001b[39mThis may mean SpecialFunctions [276daf66-3868-5448-9aa4-cd146d93841b] does not support precompilation but is imported by a module that does.\n",
      "\u001b[33m\u001b[1m└ \u001b[22m\u001b[39m\u001b[90m@ Base loading.jl:1030\u001b[39m\n"
     ]
    },
    {
     "name": "stderr",
     "output_type": "stream",
     "text": [
      "\u001b[33m\u001b[1m┌ \u001b[22m\u001b[39m\u001b[33m\u001b[1mWarning: \u001b[22m\u001b[39mModule SpecialFunctions with build ID 17425249880909 is missing from the cache.\n",
      "\u001b[33m\u001b[1m│ \u001b[22m\u001b[39mThis may mean SpecialFunctions [276daf66-3868-5448-9aa4-cd146d93841b] does not support precompilation but is imported by a module that does.\n",
      "\u001b[33m\u001b[1m└ \u001b[22m\u001b[39m\u001b[90m@ Base loading.jl:1030\u001b[39m\n"
     ]
    },
    {
     "name": "stderr",
     "output_type": "stream",
     "text": [
      "\u001b[33m\u001b[1m┌ \u001b[22m\u001b[39m\u001b[33m\u001b[1mWarning: \u001b[22m\u001b[39mModule LogExpFunctions with build ID 17433059784514 is missing from the cache.\n",
      "\u001b[33m\u001b[1m│ \u001b[22m\u001b[39mThis may mean LogExpFunctions [2ab3a3ac-af41-5b50-aa03-7779005ae688] does not support precompilation but is imported by a module that does.\n",
      "\u001b[33m\u001b[1m└ \u001b[22m\u001b[39m\u001b[90m@ Base loading.jl:1030\u001b[39m\n"
     ]
    },
    {
     "name": "stderr",
     "output_type": "stream",
     "text": [
      "┌ Warning: The call to compilecache failed to create a usable precompiled cache file for ForneyLab [9fc3f58a-c2cc-5bff-9419-6a294fefdca9]\n",
      "│   exception = ErrorException(\"Required dependency DataStructures [864edb3b-99cc-5e75-8d2d-829cb0a9cfe8] failed to load from a cache file.\")\n",
      "└ @ Base loading.jl:1055\n"
     ]
    },
    {
     "name": "stderr",
     "output_type": "stream",
     "text": [
      "\u001b[33m\u001b[1m┌ \u001b[22m\u001b[39m\u001b[33m\u001b[1mWarning: \u001b[22m\u001b[39mPackage Compat does not have Base64 in its dependencies:\n",
      "\u001b[33m\u001b[1m│ \u001b[22m\u001b[39m- If you have Compat checked out for development and have\n",
      "\u001b[33m\u001b[1m│ \u001b[22m\u001b[39m  added Base64 as a dependency but haven't updated your primary\n",
      "\u001b[33m\u001b[1m│ \u001b[22m\u001b[39m  environment's manifest file, try `Pkg.resolve()`.\n",
      "\u001b[33m\u001b[1m│ \u001b[22m\u001b[39m- Otherwise you may need to report an issue with Compat\n",
      "\u001b[33m\u001b[1m└ \u001b[22m\u001b[39mLoading Base64 into Compat from project dependency, future warnings for Compat are suppressed.\n"
     ]
    },
    {
     "name": "stderr",
     "output_type": "stream",
     "text": [
      "\u001b[33m\u001b[1m┌ \u001b[22m\u001b[39m\u001b[33m\u001b[1mWarning: \u001b[22m\u001b[39mThe call to compilecache failed to create a usable precompiled cache file for ChainRulesCore [d360d2e6-b24c-11e9-a2a3-2a2ae2dbcce4]\n",
      "\u001b[33m\u001b[1m│ \u001b[22m\u001b[39m  exception = Required dependency Compat [34da2185-b29b-5c13-b0c7-acf172513d20] failed to load from a cache file.\n",
      "\u001b[33m\u001b[1m└ \u001b[22m\u001b[39m\u001b[90m@ Base loading.jl:1055\u001b[39m\n"
     ]
    },
    {
     "name": "stderr",
     "output_type": "stream",
     "text": [
      "\u001b[33m\u001b[1m┌ \u001b[22m\u001b[39m\u001b[33m\u001b[1mWarning: \u001b[22m\u001b[39mPackage Compat does not have Base64 in its dependencies:\n",
      "\u001b[33m\u001b[1m│ \u001b[22m\u001b[39m- If you have Compat checked out for development and have\n",
      "\u001b[33m\u001b[1m│ \u001b[22m\u001b[39m  added Base64 as a dependency but haven't updated your primary\n",
      "\u001b[33m\u001b[1m│ \u001b[22m\u001b[39m  environment's manifest file, try `Pkg.resolve()`.\n",
      "\u001b[33m\u001b[1m│ \u001b[22m\u001b[39m- Otherwise you may need to report an issue with Compat\n",
      "\u001b[33m\u001b[1m└ \u001b[22m\u001b[39mLoading Base64 into Compat from project dependency, future warnings for Compat are suppressed.\n"
     ]
    },
    {
     "name": "stderr",
     "output_type": "stream",
     "text": [
      "\u001b[33m\u001b[1m┌ \u001b[22m\u001b[39m\u001b[33m\u001b[1mWarning: \u001b[22m\u001b[39mModule ChainRulesCore with build ID 17478330468103 is missing from the cache.\n",
      "\u001b[33m\u001b[1m│ \u001b[22m\u001b[39mThis may mean ChainRulesCore [d360d2e6-b24c-11e9-a2a3-2a2ae2dbcce4] does not support precompilation but is imported by a module that does.\n",
      "\u001b[33m\u001b[1m└ \u001b[22m\u001b[39m\u001b[90m@ Base loading.jl:1030\u001b[39m\n"
     ]
    },
    {
     "name": "stderr",
     "output_type": "stream",
     "text": [
      "\u001b[33m\u001b[1m┌ \u001b[22m\u001b[39m\u001b[33m\u001b[1mWarning: \u001b[22m\u001b[39mModule ChainRulesCore with build ID 17478330468103 is missing from the cache.\n",
      "\u001b[33m\u001b[1m│ \u001b[22m\u001b[39mThis may mean ChainRulesCore [d360d2e6-b24c-11e9-a2a3-2a2ae2dbcce4] does not support precompilation but is imported by a module that does.\n",
      "\u001b[33m\u001b[1m└ \u001b[22m\u001b[39m\u001b[90m@ Base loading.jl:1030\u001b[39m\n"
     ]
    },
    {
     "name": "stderr",
     "output_type": "stream",
     "text": [
      "┌ Warning: The call to compilecache failed to create a usable precompiled cache file for SpecialFunctions [276daf66-3868-5448-9aa4-cd146d93841b]\n",
      "│   exception = ErrorException(\"Required dependency Compat [34da2185-b29b-5c13-b0c7-acf172513d20] failed to load from a cache file.\")\n",
      "└ @ Base loading.jl:1055\n"
     ]
    },
    {
     "name": "stderr",
     "output_type": "stream",
     "text": [
      "\u001b[33m\u001b[1m┌ \u001b[22m\u001b[39m\u001b[33m\u001b[1mWarning: \u001b[22m\u001b[39mPackage Compat does not have Base64 in its dependencies:\n",
      "\u001b[33m\u001b[1m│ \u001b[22m\u001b[39m- If you have Compat checked out for development and have\n",
      "\u001b[33m\u001b[1m│ \u001b[22m\u001b[39m  added Base64 as a dependency but haven't updated your primary\n",
      "\u001b[33m\u001b[1m│ \u001b[22m\u001b[39m  environment's manifest file, try `Pkg.resolve()`.\n",
      "\u001b[33m\u001b[1m│ \u001b[22m\u001b[39m- Otherwise you may need to report an issue with Compat\n",
      "\u001b[33m\u001b[1m└ \u001b[22m\u001b[39mLoading Base64 into Compat from project dependency, future warnings for Compat are suppressed.\n"
     ]
    },
    {
     "name": "stderr",
     "output_type": "stream",
     "text": [
      "┌ Warning: The call to compilecache failed to create a usable precompiled cache file for ChainRulesCore [d360d2e6-b24c-11e9-a2a3-2a2ae2dbcce4]\n",
      "│   exception = ErrorException(\"Required dependency Compat [34da2185-b29b-5c13-b0c7-acf172513d20] failed to load from a cache file.\")\n",
      "└ @ Base loading.jl:1055\n"
     ]
    },
    {
     "name": "stderr",
     "output_type": "stream",
     "text": [
      "\u001b[33m\u001b[1m┌ \u001b[22m\u001b[39m\u001b[33m\u001b[1mWarning: \u001b[22m\u001b[39mPackage Compat does not have Base64 in its dependencies:\n",
      "\u001b[33m\u001b[1m│ \u001b[22m\u001b[39m- If you have Compat checked out for development and have\n",
      "\u001b[33m\u001b[1m│ \u001b[22m\u001b[39m  added Base64 as a dependency but haven't updated your primary\n",
      "\u001b[33m\u001b[1m│ \u001b[22m\u001b[39m  environment's manifest file, try `Pkg.resolve()`.\n",
      "\u001b[33m\u001b[1m│ \u001b[22m\u001b[39m- Otherwise you may need to report an issue with Compat\n",
      "\u001b[33m\u001b[1m└ \u001b[22m\u001b[39mLoading Base64 into Compat from project dependency, future warnings for Compat are suppressed.\n"
     ]
    },
    {
     "name": "stderr",
     "output_type": "stream",
     "text": [
      "\u001b[33m\u001b[1m┌ \u001b[22m\u001b[39m\u001b[33m\u001b[1mWarning: \u001b[22m\u001b[39mModule ChainRulesCore with build ID 17496707893534 is missing from the cache.\n",
      "\u001b[33m\u001b[1m│ \u001b[22m\u001b[39mThis may mean ChainRulesCore [d360d2e6-b24c-11e9-a2a3-2a2ae2dbcce4] does not support precompilation but is imported by a module that does.\n",
      "\u001b[33m\u001b[1m└ \u001b[22m\u001b[39m\u001b[90m@ Base loading.jl:1030\u001b[39m\n"
     ]
    },
    {
     "name": "stderr",
     "output_type": "stream",
     "text": [
      "\u001b[33m\u001b[1m┌ \u001b[22m\u001b[39m\u001b[33m\u001b[1mWarning: \u001b[22m\u001b[39mModule ChainRulesCore with build ID 17496707893534 is missing from the cache.\n",
      "\u001b[33m\u001b[1m│ \u001b[22m\u001b[39mThis may mean ChainRulesCore [d360d2e6-b24c-11e9-a2a3-2a2ae2dbcce4] does not support precompilation but is imported by a module that does.\n",
      "\u001b[33m\u001b[1m└ \u001b[22m\u001b[39m\u001b[90m@ Base loading.jl:1030\u001b[39m\n"
     ]
    },
    {
     "name": "stderr",
     "output_type": "stream",
     "text": [
      "\u001b[33m\u001b[1m┌ \u001b[22m\u001b[39m\u001b[33m\u001b[1mWarning: \u001b[22m\u001b[39mModule SpecialFunctions with build ID 17491503349333 is missing from the cache.\n",
      "\u001b[33m\u001b[1m│ \u001b[22m\u001b[39mThis may mean SpecialFunctions [276daf66-3868-5448-9aa4-cd146d93841b] does not support precompilation but is imported by a module that does.\n",
      "\u001b[33m\u001b[1m└ \u001b[22m\u001b[39m\u001b[90m@ Base loading.jl:1030\u001b[39m\n"
     ]
    },
    {
     "name": "stderr",
     "output_type": "stream",
     "text": [
      "\u001b[33m\u001b[1m┌ \u001b[22m\u001b[39m\u001b[33m\u001b[1mWarning: \u001b[22m\u001b[39mModule SpecialFunctions with build ID 17491503349333 is missing from the cache.\n",
      "\u001b[33m\u001b[1m│ \u001b[22m\u001b[39mThis may mean SpecialFunctions [276daf66-3868-5448-9aa4-cd146d93841b] does not support precompilation but is imported by a module that does.\n",
      "\u001b[33m\u001b[1m└ \u001b[22m\u001b[39m\u001b[90m@ Base loading.jl:1030\u001b[39m\n"
     ]
    },
    {
     "name": "stderr",
     "output_type": "stream",
     "text": [
      "\u001b[33m\u001b[1m┌ \u001b[22m\u001b[39m\u001b[33m\u001b[1mWarning: \u001b[22m\u001b[39mModule SpecialFunctions with build ID 17491503349333 is missing from the cache.\n",
      "\u001b[33m\u001b[1m│ \u001b[22m\u001b[39mThis may mean SpecialFunctions [276daf66-3868-5448-9aa4-cd146d93841b] does not support precompilation but is imported by a module that does.\n",
      "\u001b[33m\u001b[1m└ \u001b[22m\u001b[39m\u001b[90m@ Base loading.jl:1030\u001b[39m\n"
     ]
    },
    {
     "name": "stderr",
     "output_type": "stream",
     "text": [
      "\u001b[33m\u001b[1m┌ \u001b[22m\u001b[39m\u001b[33m\u001b[1mWarning: \u001b[22m\u001b[39mModule SpecialFunctions with build ID 17491503349333 is missing from the cache.\n",
      "\u001b[33m\u001b[1m│ \u001b[22m\u001b[39mThis may mean SpecialFunctions [276daf66-3868-5448-9aa4-cd146d93841b] does not support precompilation but is imported by a module that does.\n",
      "\u001b[33m\u001b[1m└ \u001b[22m\u001b[39m\u001b[90m@ Base loading.jl:1030\u001b[39m\n"
     ]
    },
    {
     "name": "stderr",
     "output_type": "stream",
     "text": [
      "\u001b[33m\u001b[1m┌ \u001b[22m\u001b[39m\u001b[33m\u001b[1mWarning: \u001b[22m\u001b[39mModule SpecialFunctions with build ID 17491503349333 is missing from the cache.\n",
      "\u001b[33m\u001b[1m│ \u001b[22m\u001b[39mThis may mean SpecialFunctions [276daf66-3868-5448-9aa4-cd146d93841b] does not support precompilation but is imported by a module that does.\n",
      "\u001b[33m\u001b[1m└ \u001b[22m\u001b[39m\u001b[90m@ Base loading.jl:1030\u001b[39m\n"
     ]
    },
    {
     "name": "stderr",
     "output_type": "stream",
     "text": [
      "\u001b[33m\u001b[1m┌ \u001b[22m\u001b[39m\u001b[33m\u001b[1mWarning: \u001b[22m\u001b[39mModule LogExpFunctions with build ID 17502077755638 is missing from the cache.\n",
      "\u001b[33m\u001b[1m│ \u001b[22m\u001b[39mThis may mean LogExpFunctions [2ab3a3ac-af41-5b50-aa03-7779005ae688] does not support precompilation but is imported by a module that does.\n",
      "\u001b[33m\u001b[1m└ \u001b[22m\u001b[39m\u001b[90m@ Base loading.jl:1030\u001b[39m\n"
     ]
    },
    {
     "name": "stderr",
     "output_type": "stream",
     "text": [
      "\u001b[33m\u001b[1m┌ \u001b[22m\u001b[39m\u001b[33m\u001b[1mWarning: \u001b[22m\u001b[39mModule SpecialFunctions with build ID 17491503349333 is missing from the cache.\n",
      "\u001b[33m\u001b[1m│ \u001b[22m\u001b[39mThis may mean SpecialFunctions [276daf66-3868-5448-9aa4-cd146d93841b] does not support precompilation but is imported by a module that does.\n",
      "\u001b[33m\u001b[1m└ \u001b[22m\u001b[39m\u001b[90m@ Base loading.jl:1030\u001b[39m\n"
     ]
    },
    {
     "name": "stderr",
     "output_type": "stream",
     "text": [
      "\u001b[33m\u001b[1m┌ \u001b[22m\u001b[39m\u001b[33m\u001b[1mWarning: \u001b[22m\u001b[39mModule SpecialFunctions with build ID 17491503349333 is missing from the cache.\n",
      "\u001b[33m\u001b[1m│ \u001b[22m\u001b[39mThis may mean SpecialFunctions [276daf66-3868-5448-9aa4-cd146d93841b] does not support precompilation but is imported by a module that does.\n",
      "\u001b[33m\u001b[1m└ \u001b[22m\u001b[39m\u001b[90m@ Base loading.jl:1030\u001b[39m\n"
     ]
    },
    {
     "name": "stderr",
     "output_type": "stream",
     "text": [
      "\u001b[33m\u001b[1m┌ \u001b[22m\u001b[39m\u001b[33m\u001b[1mWarning: \u001b[22m\u001b[39mModule SpecialFunctions with build ID 17491503349333 is missing from the cache.\n",
      "\u001b[33m\u001b[1m│ \u001b[22m\u001b[39mThis may mean SpecialFunctions [276daf66-3868-5448-9aa4-cd146d93841b] does not support precompilation but is imported by a module that does.\n",
      "\u001b[33m\u001b[1m└ \u001b[22m\u001b[39m\u001b[90m@ Base loading.jl:1030\u001b[39m\n"
     ]
    },
    {
     "name": "stderr",
     "output_type": "stream",
     "text": [
      "\u001b[33m\u001b[1m┌ \u001b[22m\u001b[39m\u001b[33m\u001b[1mWarning: \u001b[22m\u001b[39mModule SpecialFunctions with build ID 17491503349333 is missing from the cache.\n",
      "\u001b[33m\u001b[1m│ \u001b[22m\u001b[39mThis may mean SpecialFunctions [276daf66-3868-5448-9aa4-cd146d93841b] does not support precompilation but is imported by a module that does.\n",
      "\u001b[33m\u001b[1m└ \u001b[22m\u001b[39m\u001b[90m@ Base loading.jl:1030\u001b[39m\n"
     ]
    },
    {
     "name": "stderr",
     "output_type": "stream",
     "text": [
      "\u001b[33m\u001b[1m┌ \u001b[22m\u001b[39m\u001b[33m\u001b[1mWarning: \u001b[22m\u001b[39mModule SpecialFunctions with build ID 17491503349333 is missing from the cache.\n",
      "\u001b[33m\u001b[1m│ \u001b[22m\u001b[39mThis may mean SpecialFunctions [276daf66-3868-5448-9aa4-cd146d93841b] does not support precompilation but is imported by a module that does.\n",
      "\u001b[33m\u001b[1m└ \u001b[22m\u001b[39m\u001b[90m@ Base loading.jl:1030\u001b[39m\n"
     ]
    },
    {
     "name": "stderr",
     "output_type": "stream",
     "text": [
      "\u001b[33m\u001b[1m┌ \u001b[22m\u001b[39m\u001b[33m\u001b[1mWarning: \u001b[22m\u001b[39mModule SpecialFunctions with build ID 17491503349333 is missing from the cache.\n",
      "\u001b[33m\u001b[1m│ \u001b[22m\u001b[39mThis may mean SpecialFunctions [276daf66-3868-5448-9aa4-cd146d93841b] does not support precompilation but is imported by a module that does.\n",
      "\u001b[33m\u001b[1m└ \u001b[22m\u001b[39m\u001b[90m@ Base loading.jl:1030\u001b[39m\n"
     ]
    },
    {
     "name": "stderr",
     "output_type": "stream",
     "text": [
      "\u001b[33m\u001b[1m┌ \u001b[22m\u001b[39m\u001b[33m\u001b[1mWarning: \u001b[22m\u001b[39mModule SpecialFunctions with build ID 17491503349333 is missing from the cache.\n",
      "\u001b[33m\u001b[1m│ \u001b[22m\u001b[39mThis may mean SpecialFunctions [276daf66-3868-5448-9aa4-cd146d93841b] does not support precompilation but is imported by a module that does.\n",
      "\u001b[33m\u001b[1m└ \u001b[22m\u001b[39m\u001b[90m@ Base loading.jl:1030\u001b[39m\n"
     ]
    },
    {
     "name": "stderr",
     "output_type": "stream",
     "text": [
      "\u001b[33m\u001b[1m┌ \u001b[22m\u001b[39m\u001b[33m\u001b[1mWarning: \u001b[22m\u001b[39mModule SpecialFunctions with build ID 17491503349333 is missing from the cache.\n",
      "\u001b[33m\u001b[1m│ \u001b[22m\u001b[39mThis may mean SpecialFunctions [276daf66-3868-5448-9aa4-cd146d93841b] does not support precompilation but is imported by a module that does.\n",
      "\u001b[33m\u001b[1m└ \u001b[22m\u001b[39m\u001b[90m@ Base loading.jl:1030\u001b[39m\n"
     ]
    },
    {
     "name": "stderr",
     "output_type": "stream",
     "text": [
      "\u001b[33m\u001b[1m┌ \u001b[22m\u001b[39m\u001b[33m\u001b[1mWarning: \u001b[22m\u001b[39mModule SpecialFunctions with build ID 17491503349333 is missing from the cache.\n",
      "\u001b[33m\u001b[1m│ \u001b[22m\u001b[39mThis may mean SpecialFunctions [276daf66-3868-5448-9aa4-cd146d93841b] does not support precompilation but is imported by a module that does.\n",
      "\u001b[33m\u001b[1m└ \u001b[22m\u001b[39m\u001b[90m@ Base loading.jl:1030\u001b[39m\n"
     ]
    },
    {
     "name": "stderr",
     "output_type": "stream",
     "text": [
      "\u001b[33m\u001b[1m┌ \u001b[22m\u001b[39m\u001b[33m\u001b[1mWarning: \u001b[22m\u001b[39mModule SpecialFunctions with build ID 17491503349333 is missing from the cache.\n",
      "\u001b[33m\u001b[1m│ \u001b[22m\u001b[39mThis may mean SpecialFunctions [276daf66-3868-5448-9aa4-cd146d93841b] does not support precompilation but is imported by a module that does.\n",
      "\u001b[33m\u001b[1m└ \u001b[22m\u001b[39m\u001b[90m@ Base loading.jl:1030\u001b[39m\n"
     ]
    },
    {
     "name": "stderr",
     "output_type": "stream",
     "text": [
      "\u001b[33m\u001b[1m┌ \u001b[22m\u001b[39m\u001b[33m\u001b[1mWarning: \u001b[22m\u001b[39mModule SpecialFunctions with build ID 17491503349333 is missing from the cache.\n",
      "\u001b[33m\u001b[1m│ \u001b[22m\u001b[39mThis may mean SpecialFunctions [276daf66-3868-5448-9aa4-cd146d93841b] does not support precompilation but is imported by a module that does.\n",
      "\u001b[33m\u001b[1m└ \u001b[22m\u001b[39m\u001b[90m@ Base loading.jl:1030\u001b[39m\n"
     ]
    },
    {
     "name": "stderr",
     "output_type": "stream",
     "text": [
      "\u001b[33m\u001b[1m┌ \u001b[22m\u001b[39m\u001b[33m\u001b[1mWarning: \u001b[22m\u001b[39mModule SpecialFunctions with build ID 17491503349333 is missing from the cache.\n",
      "\u001b[33m\u001b[1m│ \u001b[22m\u001b[39mThis may mean SpecialFunctions [276daf66-3868-5448-9aa4-cd146d93841b] does not support precompilation but is imported by a module that does.\n",
      "\u001b[33m\u001b[1m└ \u001b[22m\u001b[39m\u001b[90m@ Base loading.jl:1030\u001b[39m\n"
     ]
    },
    {
     "name": "stderr",
     "output_type": "stream",
     "text": [
      "\u001b[33m\u001b[1m┌ \u001b[22m\u001b[39m\u001b[33m\u001b[1mWarning: \u001b[22m\u001b[39mModule SpecialFunctions with build ID 17491503349333 is missing from the cache.\n",
      "\u001b[33m\u001b[1m│ \u001b[22m\u001b[39mThis may mean SpecialFunctions [276daf66-3868-5448-9aa4-cd146d93841b] does not support precompilation but is imported by a module that does.\n",
      "\u001b[33m\u001b[1m└ \u001b[22m\u001b[39m\u001b[90m@ Base loading.jl:1030\u001b[39m\n"
     ]
    },
    {
     "name": "stderr",
     "output_type": "stream",
     "text": [
      "\u001b[33m\u001b[1m┌ \u001b[22m\u001b[39m\u001b[33m\u001b[1mWarning: \u001b[22m\u001b[39mModule SpecialFunctions with build ID 17491503349333 is missing from the cache.\n",
      "\u001b[33m\u001b[1m│ \u001b[22m\u001b[39mThis may mean SpecialFunctions [276daf66-3868-5448-9aa4-cd146d93841b] does not support precompilation but is imported by a module that does.\n",
      "\u001b[33m\u001b[1m└ \u001b[22m\u001b[39m\u001b[90m@ Base loading.jl:1030\u001b[39m\n"
     ]
    },
    {
     "name": "stderr",
     "output_type": "stream",
     "text": [
      "\u001b[33m\u001b[1m┌ \u001b[22m\u001b[39m\u001b[33m\u001b[1mWarning: \u001b[22m\u001b[39mModule SpecialFunctions with build ID 17491503349333 is missing from the cache.\n",
      "\u001b[33m\u001b[1m│ \u001b[22m\u001b[39mThis may mean SpecialFunctions [276daf66-3868-5448-9aa4-cd146d93841b] does not support precompilation but is imported by a module that does.\n",
      "\u001b[33m\u001b[1m└ \u001b[22m\u001b[39m\u001b[90m@ Base loading.jl:1030\u001b[39m\n"
     ]
    },
    {
     "name": "stderr",
     "output_type": "stream",
     "text": [
      "\u001b[33m\u001b[1m┌ \u001b[22m\u001b[39m\u001b[33m\u001b[1mWarning: \u001b[22m\u001b[39mModule PlotUtils with build ID 17583056270202 is missing from the cache.\n",
      "\u001b[33m\u001b[1m│ \u001b[22m\u001b[39mThis may mean PlotUtils [995b91a9-d308-5afd-9ec6-746e21dbc043] does not support precompilation but is imported by a module that does.\n",
      "\u001b[33m\u001b[1m└ \u001b[22m\u001b[39m\u001b[90m@ Base loading.jl:1030\u001b[39m\n"
     ]
    },
    {
     "name": "stderr",
     "output_type": "stream",
     "text": [
      "\u001b[33m\u001b[1m┌ \u001b[22m\u001b[39m\u001b[33m\u001b[1mWarning: \u001b[22m\u001b[39mModule PlotUtils with build ID 17583056270202 is missing from the cache.\n",
      "\u001b[33m\u001b[1m│ \u001b[22m\u001b[39mThis may mean PlotUtils [995b91a9-d308-5afd-9ec6-746e21dbc043] does not support precompilation but is imported by a module that does.\n",
      "\u001b[33m\u001b[1m└ \u001b[22m\u001b[39m\u001b[90m@ Base loading.jl:1030\u001b[39m\n"
     ]
    }
   ],
   "source": [
    "using LinearAlgebra\n",
    "using ForneyLab\n",
    "using Plots\n",
    "\n",
    "include(\"factor_nodes/DiscreteObservation.jl\")\n",
    "include(\"update_rules/DiscreteObservation.jl\")\n",
    ";"
   ]
  },
  {
   "cell_type": "markdown",
   "metadata": {},
   "source": [
    "# Model"
   ]
  },
  {
   "cell_type": "code",
   "execution_count": 2,
   "metadata": {},
   "outputs": [],
   "source": [
    "include(\"environment.jl\")\n",
    "\n",
    "fg = FactorGraph()\n",
    "\n",
    "A = [0.9 0.1; \n",
    "     0.1 0.9]\n",
    "\n",
    "B = [0.9 0.1;\n",
    "     0.1 0.9]\n",
    "\n",
    "C = [0.5, 0.5]\n",
    "\n",
    "@RV x_1\n",
    "DiscreteObservation(x_1, A, C)\n",
    "@RV x_2 ~ Transition(x_1, B)\n",
    "DiscreteObservation(x_2, A, C)\n",
    ";"
   ]
  },
  {
   "cell_type": "code",
   "execution_count": 3,
   "metadata": {},
   "outputs": [],
   "source": [
    "q = PosteriorFactorization(x_1, x_2, ids=[:X1, :X2])\n",
    "algo = messagePassingAlgorithm(q, free_energy=true)\n",
    "code = algorithmSourceCode(algo, free_energy=true)\n",
    "eval(Meta.parse(code))\n",
    ";"
   ]
  },
  {
   "cell_type": "code",
   "execution_count": 4,
   "metadata": {},
   "outputs": [
    {
     "name": "stdout",
     "output_type": "stream",
     "text": [
      "begin\n",
      "\n",
      "function initX2()\n",
      "\n",
      "messages = Array{Message}(undef, 2)\n",
      "\n",
      "messages[1] = Message(vague(Categorical, (2,)))\n",
      "\n",
      "return messages\n",
      "\n",
      "end\n",
      "\n",
      "function stepX2!(data::Dict, marginals::Dict=Dict(), messages::Vector{Message}=Array{Message}(undef, 2))\n",
      "\n",
      "messages[1] = ruleVBTransitionOut(nothing, marginals[:x_1], Distribution(MatrixVariate, PointMass, m=[0.9 0.1; 0.1 0.9]))\n",
      "messages[2] = ruleVBDiscreteObservationOut(messages[1], marginals[:x_2], Distribution(MatrixVariate, PointMass, m=[0.9 0.1; 0.1 0.9]), Distribution(Multivariate, PointMass, m=[0.5, 0.5]))\n",
      "\n",
      "marginals[:x_2] = messages[1].dist * messages[2].dist\n",
      "\n",
      "return marginals\n",
      "\n",
      "end\n",
      "\n",
      "function initX1()\n",
      "\n",
      "messages = Array{Message}(undef, 2)\n",
      "\n",
      "messages[1] = Message(vague(Categorical, (2,)))\n",
      "\n",
      "return messages\n",
      "\n",
      "end\n",
      "\n",
      "function stepX1!(data::Dict, marginals::Dict=Dict(), messages::Vector{Message}=Array{Message}(undef, 2))\n",
      "\n",
      "messages[1] = ruleVBTransitionIn1(marginals[:x_2], nothing, Distribution(MatrixVariate, PointMass, m=[0.9 0.1; 0.1 0.9]))\n",
      "messages[2] = ruleVBDiscreteObservationOut(messages[1], marginals[:x_1], Distribution(MatrixVariate, PointMass, m=[0.9 0.1; 0.1 0.9]), Distribution(Multivariate, PointMass, m=[0.5, 0.5]))\n",
      "\n",
      "marginals[:x_1] = messages[2].dist * messages[1].dist\n",
      "\n",
      "return marginals\n",
      "\n",
      "end\n",
      "\n",
      "function freeEnergy(data::Dict, marginals::Dict)\n",
      "\n",
      "F = 0.0\n",
      "\n",
      "F += averageEnergy(DiscreteObservation, marginals[:x_1], Distribution(MatrixVariate, PointMass, m=[0.9 0.1; 0.1 0.9]), Distribution(Multivariate, PointMass, m=[0.5, 0.5]))\n",
      "F += averageEnergy(DiscreteObservation, marginals[:x_2], Distribution(MatrixVariate, PointMass, m=[0.9 0.1; 0.1 0.9]), Distribution(Multivariate, PointMass, m=[0.5, 0.5]))\n",
      "F += averageEnergy(Transition, marginals[:x_2], marginals[:x_1], Distribution(MatrixVariate, PointMass, m=[0.9 0.1; 0.1 0.9]))\n",
      "\n",
      "F -= differentialEntropy(marginals[:x_1])\n",
      "F -= differentialEntropy(marginals[:x_2])\n",
      "\n",
      "return F\n",
      "\n",
      "end\n",
      "\n",
      "end # block\n"
     ]
    }
   ],
   "source": [
    "println(code)"
   ]
  },
  {
   "cell_type": "markdown",
   "metadata": {},
   "source": [
    "# Results"
   ]
  },
  {
   "cell_type": "code",
   "execution_count": 5,
   "metadata": {},
   "outputs": [
    {
     "ename": "UndefVarError",
     "evalue": "UndefVarError: softmax not defined",
     "output_type": "error",
     "traceback": [
      "UndefVarError: softmax not defined\n",
      "\n",
      "Stacktrace:\n",
      "  [1] (::var\"#g#13\"{Vector{Float64}, Matrix{Float64}, Vector{Float64}})(s::Vector{ForwardDiff.Dual{ForwardDiff.Tag{var\"#g#13\"{Vector{Float64}, Matrix{Float64}, Vector{Float64}}, Float64}, Float64, 2}})\n",
      "    @ Main d:\\Articles\\EpistemicMessagePassing\\src\\FLSimulations\\update_rules\\DiscreteObservation.jl:112\n",
      "  [2] vector_mode_dual_eval!\n",
      "    @ C:\\Users\\tvdlaar\\.julia\\packages\\ForwardDiff\\wAaVJ\\src\\apiutils.jl:37 [inlined]\n",
      "  [3] vector_mode_jacobian(f::var\"#g#13\"{Vector{Float64}, Matrix{Float64}, Vector{Float64}}, x::Vector{Float64}, cfg::ForwardDiff.JacobianConfig{ForwardDiff.Tag{var\"#g#13\"{Vector{Float64}, Matrix{Float64}, Vector{Float64}}, Float64}, Float64, 2, Vector{ForwardDiff.Dual{ForwardDiff.Tag{var\"#g#13\"{Vector{Float64}, Matrix{Float64}, Vector{Float64}}, Float64}, Float64, 2}}})\n",
      "    @ ForwardDiff C:\\Users\\tvdlaar\\.julia\\packages\\ForwardDiff\\wAaVJ\\src\\jacobian.jl:148\n",
      "  [4] jacobian(f::Function, x::Vector{Float64}, cfg::ForwardDiff.JacobianConfig{ForwardDiff.Tag{var\"#g#13\"{Vector{Float64}, Matrix{Float64}, Vector{Float64}}, Float64}, Float64, 2, Vector{ForwardDiff.Dual{ForwardDiff.Tag{var\"#g#13\"{Vector{Float64}, Matrix{Float64}, Vector{Float64}}, Float64}, Float64, 2}}}, ::Val{true})\n",
      "    @ ForwardDiff C:\\Users\\tvdlaar\\.julia\\packages\\ForwardDiff\\wAaVJ\\src\\jacobian.jl:21\n",
      "  [5] jacobian(f::Function, x::Vector{Float64}, cfg::ForwardDiff.JacobianConfig{ForwardDiff.Tag{var\"#g#13\"{Vector{Float64}, Matrix{Float64}, Vector{Float64}}, Float64}, Float64, 2, Vector{ForwardDiff.Dual{ForwardDiff.Tag{var\"#g#13\"{Vector{Float64}, Matrix{Float64}, Vector{Float64}}, Float64}, Float64, 2}}}) (repeats 2 times)\n",
      "    @ ForwardDiff C:\\Users\\tvdlaar\\.julia\\packages\\ForwardDiff\\wAaVJ\\src\\jacobian.jl:19\n",
      "  [6] msgDiscreteObservationOut(d::Vector{Float64}, s_0::Vector{Float64}, A::Matrix{Float64}, c::Vector{Float64}, n_iterations::Int64)\n",
      "    @ Main d:\\Articles\\EpistemicMessagePassing\\src\\FLSimulations\\update_rules\\DiscreteObservation.jl:116\n",
      "  [7] ruleVBDiscreteObservationOut(msg_out::Message{Categorical, Univariate}, marg_out::Distribution{Univariate, Categorical}, marg_A::Distribution{MatrixVariate, PointMass}, marg_c::Distribution{Multivariate, PointMass}; n_iterations::Int64)\n",
      "    @ Main d:\\Articles\\EpistemicMessagePassing\\src\\FLSimulations\\update_rules\\DiscreteObservation.jl:74\n",
      "  [8] ruleVBDiscreteObservationOut\n",
      "    @ d:\\Articles\\EpistemicMessagePassing\\src\\FLSimulations\\update_rules\\DiscreteObservation.jl:69 [inlined]\n",
      "  [9] stepX1!(data::Dict{Any, Any}, marginals::Dict{Symbol, Distribution}, messages::Vector{Message})\n",
      "    @ Main .\\none:37\n",
      " [10] stepX1!(data::Dict{Any, Any}, marginals::Dict{Symbol, Distribution})\n",
      "    @ Main .\\none:36\n",
      " [11] top-level scope\n",
      "    @ d:\\Articles\\EpistemicMessagePassing\\src\\FLSimulations\\simple_planning.ipynb:15"
     ]
    }
   ],
   "source": [
    "n_its = 5\n",
    "n_iits = 5\n",
    "G = zeros(n_its*2)\n",
    "p_0 = [0.9, 0.9]\n",
    "p = Vector{Vector{Float64}}(undef, n_its*2) # Coordinates\n",
    "\n",
    "data = Dict()\n",
    "\n",
    "marginals = Dict{Symbol, ProbabilityDistribution}(\n",
    "    :x_1 => ProbabilityDistribution(Univariate, Categorical, p=[p_0[1], 1.0 - p_0[1]]),\n",
    "    :x_2 => ProbabilityDistribution(Univariate, Categorical, p=[p_0[2], 1.0 - p_0[2]]))\n",
    "\n",
    "for k=1:n_its\n",
    "    for l=1:n_iits\n",
    "        stepX1!(data, marginals)\n",
    "    end\n",
    "    p[2*k - 1] = [marginals[:x_1].params[:p][1], marginals[:x_2].params[:p][1]]\n",
    "    G[2*k - 1] = freeEnergy(data, marginals)\n",
    "    for l=1:n_iits\n",
    "        stepX2!(data, marginals)\n",
    "    end\n",
    "    p[2*k] = [marginals[:x_1].params[:p][1], marginals[:x_2].params[:p][1]]\n",
    "    G[2*k] = freeEnergy(data, marginals)\n",
    "end\n",
    ";\n"
   ]
  },
  {
   "cell_type": "code",
   "execution_count": 6,
   "metadata": {},
   "outputs": [
    {
     "data": {
      "image/png": "[encoded data removed]",
      "image/svg+xml": "<?xml version=\"1.0\" encoding=\"utf-8\"?>\n<svg xmlns=\"http://www.w3.org/2000/svg\" xmlns:xlink=\"http://www.w3.org/1999/xlink\" width=\"600\" height=\"400\" viewBox=\"0 0 2400 1600\">\n<defs>\n  <clipPath id=\"clip600\">\n    <rect x=\"0\" y=\"0\" width=\"2400\" height=\"1600\"/>\n  </clipPath>\n</defs>\n<path clip-path=\"url(#clip600)\" d=\"\nM0 1600 L2400 1600 L2400 0 L0 0  Z\n  \" fill=\"#ffffff\" fill-rule=\"evenodd\" fill-opacity=\"1\"/>\n<defs>\n  <clipPath id=\"clip601\">\n    <rect x=\"480\" y=\"0\" width=\"1681\" height=\"1600\"/>\n  </clipPath>\n</defs>\n<path clip-path=\"url(#clip600)\" d=\"\nM249.542 1423.18 L2352.76 1423.18 L2352.76 47.2441 L249.542 47.2441  Z\n  \" fill=\"#ffffff\" fill-rule=\"evenodd\" fill-opacity=\"1\"/>\n<defs>\n  <clipPath id=\"clip602\">\n    <rect x=\"249\" y=\"47\" width=\"2104\" height=\"1377\"/>\n  </clipPath>\n</defs>\n<polyline clip-path=\"url(#clip602)\" style=\"stroke:#000000; stroke-linecap:butt; stroke-linejoin:round; stroke-width:2; stroke-opacity:0.1; fill:none\" points=\"\n  529.53,1423.18 529.53,47.2441 \n  \"/>\n<polyline clip-path=\"url(#clip602)\" style=\"stroke:#000000; stroke-linecap:butt; stroke-linejoin:round; stroke-width:2; stroke-opacity:0.1; fill:none\" points=\"\n  970.455,1423.18 970.455,47.2441 \n  \"/>\n<polyline clip-path=\"url(#clip602)\" style=\"stroke:#000000; stroke-linecap:butt; stroke-linejoin:round; stroke-width:2; stroke-opacity:0.1; fill:none\" points=\"\n  1411.38,1423.18 1411.38,47.2441 \n  \"/>\n<polyline clip-path=\"url(#clip602)\" style=\"stroke:#000000; stroke-linecap:butt; stroke-linejoin:round; stroke-width:2; stroke-opacity:0.1; fill:none\" points=\"\n  1852.31,1423.18 1852.31,47.2441 \n  \"/>\n<polyline clip-path=\"url(#clip602)\" style=\"stroke:#000000; stroke-linecap:butt; stroke-linejoin:round; stroke-width:2; stroke-opacity:0.1; fill:none\" points=\"\n  2293.23,1423.18 2293.23,47.2441 \n  \"/>\n<polyline clip-path=\"url(#clip600)\" style=\"stroke:#000000; stroke-linecap:butt; stroke-linejoin:round; stroke-width:4; stroke-opacity:1; fill:none\" points=\"\n  249.542,1423.18 2352.76,1423.18 \n  \"/>\n<polyline clip-path=\"url(#clip600)\" style=\"stroke:#000000; stroke-linecap:butt; stroke-linejoin:round; stroke-width:4; stroke-opacity:1; fill:none\" points=\"\n  529.53,1423.18 529.53,1404.28 \n  \"/>\n<polyline clip-path=\"url(#clip600)\" style=\"stroke:#000000; stroke-linecap:butt; stroke-linejoin:round; stroke-width:4; stroke-opacity:1; fill:none\" points=\"\n  970.455,1423.18 970.455,1404.28 \n  \"/>\n<polyline clip-path=\"url(#clip600)\" style=\"stroke:#000000; stroke-linecap:butt; stroke-linejoin:round; stroke-width:4; stroke-opacity:1; fill:none\" points=\"\n  1411.38,1423.18 1411.38,1404.28 \n  \"/>\n<polyline clip-path=\"url(#clip600)\" style=\"stroke:#000000; stroke-linecap:butt; stroke-linejoin:round; stroke-width:4; stroke-opacity:1; fill:none\" points=\"\n  1852.31,1423.18 1852.31,1404.28 \n  \"/>\n<polyline clip-path=\"url(#clip600)\" style=\"stroke:#000000; stroke-linecap:butt; stroke-linejoin:round; stroke-width:4; stroke-opacity:1; fill:none\" points=\"\n  2293.23,1423.18 2293.23,1404.28 \n  \"/>\n<path clip-path=\"url(#clip600)\" d=\"M524.182 1481.64 L540.502 1481.64 L540.502 1485.58 L518.557 1485.58 L518.557 1481.64 Q521.219 1478.89 525.803 1474.26 Q530.409 1469.61 531.59 1468.27 Q533.835 1465.74 534.715 1464.01 Q535.618 1462.25 535.618 1460.56 Q535.618 1457.8 533.673 1456.07 Q531.752 1454.33 528.65 1454.33 Q526.451 1454.33 523.997 1455.09 Q521.567 1455.86 518.789 1457.41 L518.789 1452.69 Q521.613 1451.55 524.067 1450.97 Q526.52 1450.39 528.557 1450.39 Q533.928 1450.39 537.122 1453.08 Q540.317 1455.77 540.317 1460.26 Q540.317 1462.39 539.506 1464.31 Q538.719 1466.2 536.613 1468.8 Q536.034 1469.47 532.932 1472.69 Q529.831 1475.88 524.182 1481.64 Z\" fill=\"#000000\" fill-rule=\"evenodd\" fill-opacity=\"1\" /><path clip-path=\"url(#clip600)\" d=\"M973.464 1455.09 L961.659 1473.54 L973.464 1473.54 L973.464 1455.09 M972.237 1451.02 L978.117 1451.02 L978.117 1473.54 L983.047 1473.54 L983.047 1477.43 L978.117 1477.43 L978.117 1485.58 L973.464 1485.58 L973.464 1477.43 L957.862 1477.43 L957.862 1472.92 L972.237 1451.02 Z\" fill=\"#000000\" fill-rule=\"evenodd\" fill-opacity=\"1\" /><path clip-path=\"url(#clip600)\" d=\"M1411.79 1466.44 Q1408.64 1466.44 1406.79 1468.59 Q1404.96 1470.74 1404.96 1474.49 Q1404.96 1478.22 1406.79 1480.39 Q1408.64 1482.55 1411.79 1482.55 Q1414.93 1482.55 1416.76 1480.39 Q1418.61 1478.22 1418.61 1474.49 Q1418.61 1470.74 1416.76 1468.59 Q1414.93 1466.44 1411.79 1466.44 M1421.07 1451.78 L1421.07 1456.04 Q1419.31 1455.21 1417.5 1454.77 Q1415.72 1454.33 1413.96 1454.33 Q1409.33 1454.33 1406.88 1457.45 Q1404.45 1460.58 1404.1 1466.9 Q1405.47 1464.89 1407.53 1463.82 Q1409.59 1462.73 1412.06 1462.73 Q1417.27 1462.73 1420.28 1465.9 Q1423.31 1469.05 1423.31 1474.49 Q1423.31 1479.82 1420.16 1483.03 Q1417.02 1486.25 1411.79 1486.25 Q1405.79 1486.25 1402.62 1481.67 Q1399.45 1477.06 1399.45 1468.33 Q1399.45 1460.14 1403.34 1455.28 Q1407.23 1450.39 1413.78 1450.39 Q1415.54 1450.39 1417.32 1450.74 Q1419.12 1451.09 1421.07 1451.78 Z\" fill=\"#000000\" fill-rule=\"evenodd\" fill-opacity=\"1\" /><path clip-path=\"url(#clip600)\" d=\"M1852.31 1469.17 Q1848.97 1469.17 1847.05 1470.95 Q1845.15 1472.73 1845.15 1475.86 Q1845.15 1478.98 1847.05 1480.77 Q1848.97 1482.55 1852.31 1482.55 Q1855.64 1482.55 1857.56 1480.77 Q1859.48 1478.96 1859.48 1475.86 Q1859.48 1472.73 1857.56 1470.95 Q1855.66 1469.17 1852.31 1469.17 M1847.63 1467.18 Q1844.62 1466.44 1842.93 1464.38 Q1841.26 1462.32 1841.26 1459.35 Q1841.26 1455.21 1844.2 1452.8 Q1847.17 1450.39 1852.31 1450.39 Q1857.47 1450.39 1860.41 1452.8 Q1863.35 1455.21 1863.35 1459.35 Q1863.35 1462.32 1861.66 1464.38 Q1859.99 1466.44 1857 1467.18 Q1860.38 1467.96 1862.26 1470.26 Q1864.16 1472.55 1864.16 1475.86 Q1864.16 1480.88 1861.08 1483.57 Q1858.02 1486.25 1852.31 1486.25 Q1846.59 1486.25 1843.51 1483.57 Q1840.45 1480.88 1840.45 1475.86 Q1840.45 1472.55 1842.35 1470.26 Q1844.25 1467.96 1847.63 1467.18 M1845.92 1459.79 Q1845.92 1462.48 1847.58 1463.98 Q1849.27 1465.49 1852.31 1465.49 Q1855.31 1465.49 1857 1463.98 Q1858.72 1462.48 1858.72 1459.79 Q1858.72 1457.11 1857 1455.6 Q1855.31 1454.1 1852.31 1454.1 Q1849.27 1454.1 1847.58 1455.6 Q1845.92 1457.11 1845.92 1459.79 Z\" fill=\"#000000\" fill-rule=\"evenodd\" fill-opacity=\"1\" /><path clip-path=\"url(#clip600)\" d=\"M2267.92 1481.64 L2275.56 1481.64 L2275.56 1455.28 L2267.25 1456.95 L2267.25 1452.69 L2275.51 1451.02 L2280.19 1451.02 L2280.19 1481.64 L2287.83 1481.64 L2287.83 1485.58 L2267.92 1485.58 L2267.92 1481.64 Z\" fill=\"#000000\" fill-rule=\"evenodd\" fill-opacity=\"1\" /><path clip-path=\"url(#clip600)\" d=\"M2307.27 1454.1 Q2303.66 1454.1 2301.83 1457.66 Q2300.02 1461.2 2300.02 1468.33 Q2300.02 1475.44 2301.83 1479.01 Q2303.66 1482.55 2307.27 1482.55 Q2310.9 1482.55 2312.71 1479.01 Q2314.54 1475.44 2314.54 1468.33 Q2314.54 1461.2 2312.71 1457.66 Q2310.9 1454.1 2307.27 1454.1 M2307.27 1450.39 Q2313.08 1450.39 2316.14 1455 Q2319.21 1459.58 2319.21 1468.33 Q2319.21 1477.06 2316.14 1481.67 Q2313.08 1486.25 2307.27 1486.25 Q2301.46 1486.25 2298.38 1481.67 Q2295.33 1477.06 2295.33 1468.33 Q2295.33 1459.58 2298.38 1455 Q2301.46 1450.39 2307.27 1450.39 Z\" fill=\"#000000\" fill-rule=\"evenodd\" fill-opacity=\"1\" /><path clip-path=\"url(#clip600)\" d=\"M986.89 1524.18 L986.89 1530.96 Q983.643 1527.94 979.951 1526.44 Q976.291 1524.95 972.153 1524.95 Q964.005 1524.95 959.677 1529.95 Q955.348 1534.91 955.348 1544.33 Q955.348 1553.72 959.677 1558.72 Q964.005 1563.68 972.153 1563.68 Q976.291 1563.68 979.951 1562.19 Q983.643 1560.69 986.89 1557.67 L986.89 1564.38 Q983.516 1566.68 979.729 1567.82 Q975.973 1568.97 971.771 1568.97 Q960.982 1568.97 954.775 1562.38 Q948.568 1555.76 948.568 1544.33 Q948.568 1532.87 954.775 1526.28 Q960.982 1519.66 971.771 1519.66 Q976.036 1519.66 979.792 1520.81 Q983.58 1521.92 986.89 1524.18 Z\" fill=\"#000000\" fill-rule=\"evenodd\" fill-opacity=\"1\" /><path clip-path=\"url(#clip600)\" d=\"M1010.38 1536.5 Q1005.67 1536.5 1002.93 1540.19 Q1000.19 1543.85 1000.19 1550.25 Q1000.19 1556.65 1002.9 1560.34 Q1005.64 1564 1010.38 1564 Q1015.06 1564 1017.8 1560.31 Q1020.53 1556.62 1020.53 1550.25 Q1020.53 1543.92 1017.8 1540.23 Q1015.06 1536.5 1010.38 1536.5 M1010.38 1531.54 Q1018.02 1531.54 1022.38 1536.5 Q1026.74 1541.47 1026.74 1550.25 Q1026.74 1559 1022.38 1564 Q1018.02 1568.97 1010.38 1568.97 Q1002.71 1568.97 998.348 1564 Q994.02 1559 994.02 1550.25 Q994.02 1541.47 998.348 1536.5 Q1002.71 1531.54 1010.38 1531.54 Z\" fill=\"#000000\" fill-rule=\"evenodd\" fill-opacity=\"1\" /><path clip-path=\"url(#clip600)\" d=\"M1050.26 1536.5 Q1045.55 1536.5 1042.81 1540.19 Q1040.08 1543.85 1040.08 1550.25 Q1040.08 1556.65 1042.78 1560.34 Q1045.52 1564 1050.26 1564 Q1054.94 1564 1057.68 1560.31 Q1060.41 1556.62 1060.41 1550.25 Q1060.41 1543.92 1057.68 1540.23 Q1054.94 1536.5 1050.26 1536.5 M1050.26 1531.54 Q1057.9 1531.54 1062.26 1536.5 Q1066.62 1541.47 1066.62 1550.25 Q1066.62 1559 1062.26 1564 Q1057.9 1568.97 1050.26 1568.97 Q1042.59 1568.97 1038.23 1564 Q1033.9 1559 1033.9 1550.25 Q1033.9 1541.47 1038.23 1536.5 Q1042.59 1531.54 1050.26 1531.54 Z\" fill=\"#000000\" fill-rule=\"evenodd\" fill-opacity=\"1\" /><path clip-path=\"url(#clip600)\" d=\"M1096.98 1537.87 Q1096 1537.3 1094.82 1537.04 Q1093.67 1536.76 1092.27 1536.76 Q1087.31 1536.76 1084.64 1540 Q1081.99 1543.22 1081.99 1549.27 L1081.99 1568.04 L1076.11 1568.04 L1076.11 1532.4 L1081.99 1532.4 L1081.99 1537.93 Q1083.84 1534.69 1086.8 1533.13 Q1089.76 1531.54 1093.99 1531.54 Q1094.6 1531.54 1095.33 1531.63 Q1096.06 1531.7 1096.95 1531.85 L1096.98 1537.87 Z\" fill=\"#000000\" fill-rule=\"evenodd\" fill-opacity=\"1\" /><path clip-path=\"url(#clip600)\" d=\"M1125.44 1537.81 L1125.44 1518.52 L1131.3 1518.52 L1131.3 1568.04 L1125.44 1568.04 L1125.44 1562.7 Q1123.59 1565.88 1120.76 1567.44 Q1117.96 1568.97 1114.01 1568.97 Q1107.55 1568.97 1103.48 1563.81 Q1099.44 1558.65 1099.44 1550.25 Q1099.44 1541.85 1103.48 1536.69 Q1107.55 1531.54 1114.01 1531.54 Q1117.96 1531.54 1120.76 1533.1 Q1123.59 1534.62 1125.44 1537.81 M1105.48 1550.25 Q1105.48 1556.71 1108.12 1560.4 Q1110.8 1564.07 1115.45 1564.07 Q1120.09 1564.07 1122.77 1560.4 Q1125.44 1556.71 1125.44 1550.25 Q1125.44 1543.79 1122.77 1540.13 Q1120.09 1536.44 1115.45 1536.44 Q1110.8 1536.44 1108.12 1540.13 Q1105.48 1543.79 1105.48 1550.25 Z\" fill=\"#000000\" fill-rule=\"evenodd\" fill-opacity=\"1\" /><path clip-path=\"url(#clip600)\" d=\"M1143.36 1532.4 L1149.22 1532.4 L1149.22 1568.04 L1143.36 1568.04 L1143.36 1532.4 M1143.36 1518.52 L1149.22 1518.52 L1149.22 1525.93 L1143.36 1525.93 L1143.36 1518.52 Z\" fill=\"#000000\" fill-rule=\"evenodd\" fill-opacity=\"1\" /><path clip-path=\"url(#clip600)\" d=\"M1191.1 1546.53 L1191.1 1568.04 L1185.25 1568.04 L1185.25 1546.72 Q1185.25 1541.66 1183.27 1539.14 Q1181.3 1536.63 1177.35 1536.63 Q1172.61 1536.63 1169.87 1539.65 Q1167.13 1542.68 1167.13 1547.9 L1167.13 1568.04 L1161.25 1568.04 L1161.25 1532.4 L1167.13 1532.4 L1167.13 1537.93 Q1169.24 1534.72 1172.07 1533.13 Q1174.93 1531.54 1178.66 1531.54 Q1184.8 1531.54 1187.95 1535.36 Q1191.1 1539.14 1191.1 1546.53 Z\" fill=\"#000000\" fill-rule=\"evenodd\" fill-opacity=\"1\" /><path clip-path=\"url(#clip600)\" d=\"M1218.98 1550.12 Q1211.89 1550.12 1209.15 1551.75 Q1206.41 1553.37 1206.41 1557.29 Q1206.41 1560.4 1208.45 1562.25 Q1210.52 1564.07 1214.05 1564.07 Q1218.92 1564.07 1221.85 1560.63 Q1224.81 1557.16 1224.81 1551.43 L1224.81 1550.12 L1218.98 1550.12 M1230.66 1547.71 L1230.66 1568.04 L1224.81 1568.04 L1224.81 1562.63 Q1222.8 1565.88 1219.81 1567.44 Q1216.82 1568.97 1212.49 1568.97 Q1207.02 1568.97 1203.77 1565.91 Q1200.55 1562.82 1200.55 1557.67 Q1200.55 1551.65 1204.57 1548.6 Q1208.61 1545.54 1216.6 1545.54 L1224.81 1545.54 L1224.81 1544.97 Q1224.81 1540.93 1222.13 1538.73 Q1219.49 1536.5 1214.69 1536.5 Q1211.63 1536.5 1208.73 1537.23 Q1205.84 1537.97 1203.16 1539.43 L1203.16 1534.02 Q1206.38 1532.78 1209.4 1532.17 Q1212.43 1531.54 1215.29 1531.54 Q1223.03 1531.54 1226.85 1535.55 Q1230.66 1539.56 1230.66 1547.71 Z\" fill=\"#000000\" fill-rule=\"evenodd\" fill-opacity=\"1\" /><path clip-path=\"url(#clip600)\" d=\"M1248.52 1522.27 L1248.52 1532.4 L1260.58 1532.4 L1260.58 1536.95 L1248.52 1536.95 L1248.52 1556.3 Q1248.52 1560.66 1249.7 1561.9 Q1250.91 1563.14 1254.57 1563.14 L1260.58 1563.14 L1260.58 1568.04 L1254.57 1568.04 Q1247.79 1568.04 1245.21 1565.53 Q1242.63 1562.98 1242.63 1556.3 L1242.63 1536.95 L1238.34 1536.95 L1238.34 1532.4 L1242.63 1532.4 L1242.63 1522.27 L1248.52 1522.27 Z\" fill=\"#000000\" fill-rule=\"evenodd\" fill-opacity=\"1\" /><path clip-path=\"url(#clip600)\" d=\"M1298.78 1548.76 L1298.78 1551.62 L1271.85 1551.62 Q1272.23 1557.67 1275.48 1560.85 Q1278.76 1564 1284.58 1564 Q1287.96 1564 1291.11 1563.17 Q1294.29 1562.35 1297.41 1560.69 L1297.41 1566.23 Q1294.26 1567.57 1290.95 1568.27 Q1287.64 1568.97 1284.23 1568.97 Q1275.7 1568.97 1270.7 1564 Q1265.74 1559.04 1265.74 1550.57 Q1265.74 1541.82 1270.45 1536.69 Q1275.19 1531.54 1283.21 1531.54 Q1290.41 1531.54 1294.58 1536.18 Q1298.78 1540.8 1298.78 1548.76 M1292.92 1547.04 Q1292.86 1542.23 1290.22 1539.37 Q1287.61 1536.5 1283.28 1536.5 Q1278.38 1536.5 1275.42 1539.27 Q1272.49 1542.04 1272.04 1547.07 L1292.92 1547.04 Z\" fill=\"#000000\" fill-rule=\"evenodd\" fill-opacity=\"1\" /><path clip-path=\"url(#clip600)\" d=\"M1329.36 1520.52 L1335.79 1520.52 L1335.79 1568.04 L1329.36 1568.04 L1329.36 1520.52 Z\" fill=\"#000000\" fill-rule=\"evenodd\" fill-opacity=\"1\" /><path clip-path=\"url(#clip600)\" d=\"M1377.97 1546.53 L1377.97 1568.04 L1372.11 1568.04 L1372.11 1546.72 Q1372.11 1541.66 1370.14 1539.14 Q1368.16 1536.63 1364.22 1536.63 Q1359.47 1536.63 1356.74 1539.65 Q1354 1542.68 1354 1547.9 L1354 1568.04 L1348.11 1568.04 L1348.11 1532.4 L1354 1532.4 L1354 1537.93 Q1356.1 1534.72 1358.93 1533.13 Q1361.8 1531.54 1365.52 1531.54 Q1371.67 1531.54 1374.82 1535.36 Q1377.97 1539.14 1377.97 1546.53 Z\" fill=\"#000000\" fill-rule=\"evenodd\" fill-opacity=\"1\" /><path clip-path=\"url(#clip600)\" d=\"M1415.3 1533.76 L1415.3 1539.24 Q1412.82 1537.87 1410.3 1537.2 Q1407.82 1536.5 1405.28 1536.5 Q1399.58 1536.5 1396.43 1540.13 Q1393.28 1543.73 1393.28 1550.25 Q1393.28 1556.78 1396.43 1560.4 Q1399.58 1564 1405.28 1564 Q1407.82 1564 1410.3 1563.33 Q1412.82 1562.63 1415.3 1561.26 L1415.3 1566.68 Q1412.85 1567.82 1410.21 1568.39 Q1407.6 1568.97 1404.64 1568.97 Q1396.59 1568.97 1391.84 1563.91 Q1387.1 1558.85 1387.1 1550.25 Q1387.1 1541.53 1391.88 1536.53 Q1396.68 1531.54 1405.02 1531.54 Q1407.73 1531.54 1410.3 1532.11 Q1412.88 1532.65 1415.3 1533.76 Z\" fill=\"#000000\" fill-rule=\"evenodd\" fill-opacity=\"1\" /><path clip-path=\"url(#clip600)\" d=\"M1446.14 1537.87 Q1445.16 1537.3 1443.98 1537.04 Q1442.83 1536.76 1441.43 1536.76 Q1436.47 1536.76 1433.79 1540 Q1431.15 1543.22 1431.15 1549.27 L1431.15 1568.04 L1425.26 1568.04 L1425.26 1532.4 L1431.15 1532.4 L1431.15 1537.93 Q1433 1534.69 1435.96 1533.13 Q1438.92 1531.54 1443.15 1531.54 Q1443.76 1531.54 1444.49 1531.63 Q1445.22 1531.7 1446.11 1531.85 L1446.14 1537.87 Z\" fill=\"#000000\" fill-rule=\"evenodd\" fill-opacity=\"1\" /><path clip-path=\"url(#clip600)\" d=\"M1481.35 1548.76 L1481.35 1551.62 L1454.42 1551.62 Q1454.8 1557.67 1458.05 1560.85 Q1461.33 1564 1467.15 1564 Q1470.52 1564 1473.68 1563.17 Q1476.86 1562.35 1479.98 1560.69 L1479.98 1566.23 Q1476.83 1567.57 1473.52 1568.27 Q1470.21 1568.97 1466.8 1568.97 Q1458.27 1568.97 1453.27 1564 Q1448.31 1559.04 1448.31 1550.57 Q1448.31 1541.82 1453.02 1536.69 Q1457.76 1531.54 1465.78 1531.54 Q1472.98 1531.54 1477.14 1536.18 Q1481.35 1540.8 1481.35 1548.76 M1475.49 1547.04 Q1475.43 1542.23 1472.78 1539.37 Q1470.17 1536.5 1465.85 1536.5 Q1460.94 1536.5 1457.98 1539.27 Q1455.06 1542.04 1454.61 1547.07 L1475.49 1547.04 Z\" fill=\"#000000\" fill-rule=\"evenodd\" fill-opacity=\"1\" /><path clip-path=\"url(#clip600)\" d=\"M1518.71 1539.24 Q1520.91 1535.29 1523.96 1533.41 Q1527.02 1531.54 1531.16 1531.54 Q1536.73 1531.54 1539.75 1535.45 Q1542.78 1539.33 1542.78 1546.53 L1542.78 1568.04 L1536.89 1568.04 L1536.89 1546.72 Q1536.89 1541.59 1535.07 1539.11 Q1533.26 1536.63 1529.53 1536.63 Q1524.98 1536.63 1522.34 1539.65 Q1519.7 1542.68 1519.7 1547.9 L1519.7 1568.04 L1513.81 1568.04 L1513.81 1546.72 Q1513.81 1541.56 1512 1539.11 Q1510.18 1536.63 1506.4 1536.63 Q1501.91 1536.63 1499.27 1539.68 Q1496.62 1542.71 1496.62 1547.9 L1496.62 1568.04 L1490.74 1568.04 L1490.74 1532.4 L1496.62 1532.4 L1496.62 1537.93 Q1498.63 1534.66 1501.43 1533.1 Q1504.23 1531.54 1508.08 1531.54 Q1511.97 1531.54 1514.67 1533.51 Q1517.41 1535.48 1518.71 1539.24 Z\" fill=\"#000000\" fill-rule=\"evenodd\" fill-opacity=\"1\" /><path clip-path=\"url(#clip600)\" d=\"M1584.95 1548.76 L1584.95 1551.62 L1558.02 1551.62 Q1558.4 1557.67 1561.65 1560.85 Q1564.93 1564 1570.75 1564 Q1574.13 1564 1577.28 1563.17 Q1580.46 1562.35 1583.58 1560.69 L1583.58 1566.23 Q1580.43 1567.57 1577.12 1568.27 Q1573.81 1568.97 1570.4 1568.97 Q1561.87 1568.97 1556.88 1564 Q1551.91 1559.04 1551.91 1550.57 Q1551.91 1541.82 1556.62 1536.69 Q1561.36 1531.54 1569.38 1531.54 Q1576.58 1531.54 1580.75 1536.18 Q1584.95 1540.8 1584.95 1548.76 M1579.09 1547.04 Q1579.03 1542.23 1576.39 1539.37 Q1573.78 1536.5 1569.45 1536.5 Q1564.55 1536.5 1561.59 1539.27 Q1558.66 1542.04 1558.21 1547.07 L1579.09 1547.04 Z\" fill=\"#000000\" fill-rule=\"evenodd\" fill-opacity=\"1\" /><path clip-path=\"url(#clip600)\" d=\"M1624.19 1546.53 L1624.19 1568.04 L1618.34 1568.04 L1618.34 1546.72 Q1618.34 1541.66 1616.36 1539.14 Q1614.39 1536.63 1610.44 1536.63 Q1605.7 1536.63 1602.96 1539.65 Q1600.23 1542.68 1600.23 1547.9 L1600.23 1568.04 L1594.34 1568.04 L1594.34 1532.4 L1600.23 1532.4 L1600.23 1537.93 Q1602.33 1534.72 1605.16 1533.13 Q1608.02 1531.54 1611.75 1531.54 Q1617.89 1531.54 1621.04 1535.36 Q1624.19 1539.14 1624.19 1546.53 Z\" fill=\"#000000\" fill-rule=\"evenodd\" fill-opacity=\"1\" /><path clip-path=\"url(#clip600)\" d=\"M1641.67 1522.27 L1641.67 1532.4 L1653.73 1532.4 L1653.73 1536.95 L1641.67 1536.95 L1641.67 1556.3 Q1641.67 1560.66 1642.84 1561.9 Q1644.05 1563.14 1647.71 1563.14 L1653.73 1563.14 L1653.73 1568.04 L1647.71 1568.04 Q1640.93 1568.04 1638.36 1565.53 Q1635.78 1562.98 1635.78 1556.3 L1635.78 1536.95 L1631.48 1536.95 L1631.48 1532.4 L1635.78 1532.4 L1635.78 1522.27 L1641.67 1522.27 Z\" fill=\"#000000\" fill-rule=\"evenodd\" fill-opacity=\"1\" /><polyline clip-path=\"url(#clip602)\" style=\"stroke:#000000; stroke-linecap:butt; stroke-linejoin:round; stroke-width:2; stroke-opacity:0.1; fill:none\" points=\"\n  249.542,1384.24 2352.76,1384.24 \n  \"/>\n<polyline clip-path=\"url(#clip602)\" style=\"stroke:#000000; stroke-linecap:butt; stroke-linejoin:round; stroke-width:2; stroke-opacity:0.1; fill:none\" points=\"\n  249.542,1059.73 2352.76,1059.73 \n  \"/>\n<polyline clip-path=\"url(#clip602)\" style=\"stroke:#000000; stroke-linecap:butt; stroke-linejoin:round; stroke-width:2; stroke-opacity:0.1; fill:none\" points=\"\n  249.542,735.212 2352.76,735.212 \n  \"/>\n<polyline clip-path=\"url(#clip602)\" style=\"stroke:#000000; stroke-linecap:butt; stroke-linejoin:round; stroke-width:2; stroke-opacity:0.1; fill:none\" points=\"\n  249.542,410.699 2352.76,410.699 \n  \"/>\n<polyline clip-path=\"url(#clip602)\" style=\"stroke:#000000; stroke-linecap:butt; stroke-linejoin:round; stroke-width:2; stroke-opacity:0.1; fill:none\" points=\"\n  249.542,86.1857 2352.76,86.1857 \n  \"/>\n<polyline clip-path=\"url(#clip600)\" style=\"stroke:#000000; stroke-linecap:butt; stroke-linejoin:round; stroke-width:4; stroke-opacity:1; fill:none\" points=\"\n  249.542,1423.18 249.542,47.2441 \n  \"/>\n<polyline clip-path=\"url(#clip600)\" style=\"stroke:#000000; stroke-linecap:butt; stroke-linejoin:round; stroke-width:4; stroke-opacity:1; fill:none\" points=\"\n  249.542,1384.24 268.44,1384.24 \n  \"/>\n<polyline clip-path=\"url(#clip600)\" style=\"stroke:#000000; stroke-linecap:butt; stroke-linejoin:round; stroke-width:4; stroke-opacity:1; fill:none\" points=\"\n  249.542,1059.73 268.44,1059.73 \n  \"/>\n<polyline clip-path=\"url(#clip600)\" style=\"stroke:#000000; stroke-linecap:butt; stroke-linejoin:round; stroke-width:4; stroke-opacity:1; fill:none\" points=\"\n  249.542,735.212 268.44,735.212 \n  \"/>\n<polyline clip-path=\"url(#clip600)\" style=\"stroke:#000000; stroke-linecap:butt; stroke-linejoin:round; stroke-width:4; stroke-opacity:1; fill:none\" points=\"\n  249.542,410.699 268.44,410.699 \n  \"/>\n<polyline clip-path=\"url(#clip600)\" style=\"stroke:#000000; stroke-linecap:butt; stroke-linejoin:round; stroke-width:4; stroke-opacity:1; fill:none\" points=\"\n  249.542,86.1857 268.44,86.1857 \n  \"/>\n<path clip-path=\"url(#clip600)\" d=\"M126.205 1370.04 Q122.593 1370.04 120.765 1373.6 Q118.959 1377.14 118.959 1384.27 Q118.959 1391.38 120.765 1394.94 Q122.593 1398.49 126.205 1398.49 Q129.839 1398.49 131.644 1394.94 Q133.473 1391.38 133.473 1384.27 Q133.473 1377.14 131.644 1373.6 Q129.839 1370.04 126.205 1370.04 M126.205 1366.33 Q132.015 1366.33 135.07 1370.94 Q138.149 1375.52 138.149 1384.27 Q138.149 1393 135.07 1397.61 Q132.015 1402.19 126.205 1402.19 Q120.394 1402.19 117.316 1397.61 Q114.26 1393 114.26 1384.27 Q114.26 1375.52 117.316 1370.94 Q120.394 1366.33 126.205 1366.33 Z\" fill=\"#000000\" fill-rule=\"evenodd\" fill-opacity=\"1\" /><path clip-path=\"url(#clip600)\" d=\"M146.366 1395.64 L151.251 1395.64 L151.251 1401.52 L146.366 1401.52 L146.366 1395.64 Z\" fill=\"#000000\" fill-rule=\"evenodd\" fill-opacity=\"1\" /><path clip-path=\"url(#clip600)\" d=\"M171.436 1370.04 Q167.825 1370.04 165.996 1373.6 Q164.19 1377.14 164.19 1384.27 Q164.19 1391.38 165.996 1394.94 Q167.825 1398.49 171.436 1398.49 Q175.07 1398.49 176.876 1394.94 Q178.704 1391.38 178.704 1384.27 Q178.704 1377.14 176.876 1373.6 Q175.07 1370.04 171.436 1370.04 M171.436 1366.33 Q177.246 1366.33 180.301 1370.94 Q183.38 1375.52 183.38 1384.27 Q183.38 1393 180.301 1397.61 Q177.246 1402.19 171.436 1402.19 Q165.626 1402.19 162.547 1397.61 Q159.491 1393 159.491 1384.27 Q159.491 1375.52 162.547 1370.94 Q165.626 1366.33 171.436 1366.33 Z\" fill=\"#000000\" fill-rule=\"evenodd\" fill-opacity=\"1\" /><path clip-path=\"url(#clip600)\" d=\"M201.598 1370.04 Q197.987 1370.04 196.158 1373.6 Q194.352 1377.14 194.352 1384.27 Q194.352 1391.38 196.158 1394.94 Q197.987 1398.49 201.598 1398.49 Q205.232 1398.49 207.037 1394.94 Q208.866 1391.38 208.866 1384.27 Q208.866 1377.14 207.037 1373.6 Q205.232 1370.04 201.598 1370.04 M201.598 1366.33 Q207.408 1366.33 210.463 1370.94 Q213.542 1375.52 213.542 1384.27 Q213.542 1393 210.463 1397.61 Q207.408 1402.19 201.598 1402.19 Q195.787 1402.19 192.709 1397.61 Q189.653 1393 189.653 1384.27 Q189.653 1375.52 192.709 1370.94 Q195.787 1366.33 201.598 1366.33 Z\" fill=\"#000000\" fill-rule=\"evenodd\" fill-opacity=\"1\" /><path clip-path=\"url(#clip600)\" d=\"M127.2 1045.52 Q123.589 1045.52 121.76 1049.09 Q119.955 1052.63 119.955 1059.76 Q119.955 1066.87 121.76 1070.43 Q123.589 1073.97 127.2 1073.97 Q130.834 1073.97 132.64 1070.43 Q134.468 1066.87 134.468 1059.76 Q134.468 1052.63 132.64 1049.09 Q130.834 1045.52 127.2 1045.52 M127.2 1041.82 Q133.01 1041.82 136.066 1046.43 Q139.144 1051.01 139.144 1059.76 Q139.144 1068.49 136.066 1073.09 Q133.01 1077.68 127.2 1077.68 Q121.39 1077.68 118.311 1073.09 Q115.256 1068.49 115.256 1059.76 Q115.256 1051.01 118.311 1046.43 Q121.39 1041.82 127.2 1041.82 Z\" fill=\"#000000\" fill-rule=\"evenodd\" fill-opacity=\"1\" /><path clip-path=\"url(#clip600)\" d=\"M147.362 1071.13 L152.246 1071.13 L152.246 1077.01 L147.362 1077.01 L147.362 1071.13 Z\" fill=\"#000000\" fill-rule=\"evenodd\" fill-opacity=\"1\" /><path clip-path=\"url(#clip600)\" d=\"M166.459 1073.07 L182.778 1073.07 L182.778 1077.01 L160.834 1077.01 L160.834 1073.07 Q163.496 1070.32 168.079 1065.69 Q172.686 1061.03 173.866 1059.69 Q176.112 1057.17 176.991 1055.43 Q177.894 1053.67 177.894 1051.98 Q177.894 1049.23 175.95 1047.49 Q174.028 1045.76 170.927 1045.76 Q168.727 1045.76 166.274 1046.52 Q163.843 1047.28 161.065 1048.83 L161.065 1044.11 Q163.89 1042.98 166.343 1042.4 Q168.797 1041.82 170.834 1041.82 Q176.204 1041.82 179.399 1044.51 Q182.593 1047.19 182.593 1051.68 Q182.593 1053.81 181.783 1055.73 Q180.996 1057.63 178.889 1060.22 Q178.311 1060.89 175.209 1064.11 Q172.107 1067.31 166.459 1073.07 Z\" fill=\"#000000\" fill-rule=\"evenodd\" fill-opacity=\"1\" /><path clip-path=\"url(#clip600)\" d=\"M192.639 1042.45 L210.996 1042.45 L210.996 1046.38 L196.922 1046.38 L196.922 1054.85 Q197.94 1054.51 198.959 1054.34 Q199.977 1054.16 200.996 1054.16 Q206.783 1054.16 210.162 1057.33 Q213.542 1060.5 213.542 1065.92 Q213.542 1071.5 210.07 1074.6 Q206.598 1077.68 200.278 1077.68 Q198.102 1077.68 195.834 1077.31 Q193.588 1076.94 191.181 1076.19 L191.181 1071.5 Q193.264 1072.63 195.487 1073.19 Q197.709 1073.74 200.186 1073.74 Q204.19 1073.74 206.528 1071.63 Q208.866 1069.53 208.866 1065.92 Q208.866 1062.31 206.528 1060.2 Q204.19 1058.09 200.186 1058.09 Q198.311 1058.09 196.436 1058.51 Q194.584 1058.93 192.639 1059.81 L192.639 1042.45 Z\" fill=\"#000000\" fill-rule=\"evenodd\" fill-opacity=\"1\" /><path clip-path=\"url(#clip600)\" d=\"M126.205 721.011 Q122.593 721.011 120.765 724.575 Q118.959 728.117 118.959 735.247 Q118.959 742.353 120.765 745.918 Q122.593 749.46 126.205 749.46 Q129.839 749.46 131.644 745.918 Q133.473 742.353 133.473 735.247 Q133.473 728.117 131.644 724.575 Q129.839 721.011 126.205 721.011 M126.205 717.307 Q132.015 717.307 135.07 721.913 Q138.149 726.497 138.149 735.247 Q138.149 743.973 135.07 748.58 Q132.015 753.163 126.205 753.163 Q120.394 753.163 117.316 748.58 Q114.26 743.973 114.26 735.247 Q114.26 726.497 117.316 721.913 Q120.394 717.307 126.205 717.307 Z\" fill=\"#000000\" fill-rule=\"evenodd\" fill-opacity=\"1\" /><path clip-path=\"url(#clip600)\" d=\"M146.366 746.612 L151.251 746.612 L151.251 752.492 L146.366 752.492 L146.366 746.612 Z\" fill=\"#000000\" fill-rule=\"evenodd\" fill-opacity=\"1\" /><path clip-path=\"url(#clip600)\" d=\"M161.482 717.932 L179.839 717.932 L179.839 721.867 L165.765 721.867 L165.765 730.339 Q166.783 729.992 167.802 729.83 Q168.82 729.645 169.839 729.645 Q175.626 729.645 179.005 732.816 Q182.385 735.987 182.385 741.404 Q182.385 746.983 178.913 750.085 Q175.44 753.163 169.121 753.163 Q166.945 753.163 164.677 752.793 Q162.431 752.423 160.024 751.682 L160.024 746.983 Q162.107 748.117 164.329 748.673 Q166.552 749.228 169.028 749.228 Q173.033 749.228 175.371 747.122 Q177.709 745.015 177.709 741.404 Q177.709 737.793 175.371 735.687 Q173.033 733.58 169.028 733.58 Q167.153 733.58 165.278 733.997 Q163.427 734.413 161.482 735.293 L161.482 717.932 Z\" fill=\"#000000\" fill-rule=\"evenodd\" fill-opacity=\"1\" /><path clip-path=\"url(#clip600)\" d=\"M201.598 721.011 Q197.987 721.011 196.158 724.575 Q194.352 728.117 194.352 735.247 Q194.352 742.353 196.158 745.918 Q197.987 749.46 201.598 749.46 Q205.232 749.46 207.037 745.918 Q208.866 742.353 208.866 735.247 Q208.866 728.117 207.037 724.575 Q205.232 721.011 201.598 721.011 M201.598 717.307 Q207.408 717.307 210.463 721.913 Q213.542 726.497 213.542 735.247 Q213.542 743.973 210.463 748.58 Q207.408 753.163 201.598 753.163 Q195.787 753.163 192.709 748.58 Q189.653 743.973 189.653 735.247 Q189.653 726.497 192.709 721.913 Q195.787 717.307 201.598 717.307 Z\" fill=\"#000000\" fill-rule=\"evenodd\" fill-opacity=\"1\" /><path clip-path=\"url(#clip600)\" d=\"M127.2 396.498 Q123.589 396.498 121.76 400.062 Q119.955 403.604 119.955 410.734 Q119.955 417.84 121.76 421.405 Q123.589 424.946 127.2 424.946 Q130.834 424.946 132.64 421.405 Q134.468 417.84 134.468 410.734 Q134.468 403.604 132.64 400.062 Q130.834 396.498 127.2 396.498 M127.2 392.794 Q133.01 392.794 136.066 397.4 Q139.144 401.984 139.144 410.734 Q139.144 419.46 136.066 424.067 Q133.01 428.65 127.2 428.65 Q121.39 428.65 118.311 424.067 Q115.256 419.46 115.256 410.734 Q115.256 401.984 118.311 397.4 Q121.39 392.794 127.2 392.794 Z\" fill=\"#000000\" fill-rule=\"evenodd\" fill-opacity=\"1\" /><path clip-path=\"url(#clip600)\" d=\"M147.362 422.099 L152.246 422.099 L152.246 427.979 L147.362 427.979 L147.362 422.099 Z\" fill=\"#000000\" fill-rule=\"evenodd\" fill-opacity=\"1\" /><path clip-path=\"url(#clip600)\" d=\"M161.251 393.419 L183.473 393.419 L183.473 395.41 L170.927 427.979 L166.042 427.979 L177.848 397.354 L161.251 397.354 L161.251 393.419 Z\" fill=\"#000000\" fill-rule=\"evenodd\" fill-opacity=\"1\" /><path clip-path=\"url(#clip600)\" d=\"M192.639 393.419 L210.996 393.419 L210.996 397.354 L196.922 397.354 L196.922 405.826 Q197.94 405.479 198.959 405.317 Q199.977 405.132 200.996 405.132 Q206.783 405.132 210.162 408.303 Q213.542 411.474 213.542 416.891 Q213.542 422.47 210.07 425.571 Q206.598 428.65 200.278 428.65 Q198.102 428.65 195.834 428.28 Q193.588 427.909 191.181 427.169 L191.181 422.47 Q193.264 423.604 195.487 424.159 Q197.709 424.715 200.186 424.715 Q204.19 424.715 206.528 422.608 Q208.866 420.502 208.866 416.891 Q208.866 413.28 206.528 411.173 Q204.19 409.067 200.186 409.067 Q198.311 409.067 196.436 409.484 Q194.584 409.9 192.639 410.78 L192.639 393.419 Z\" fill=\"#000000\" fill-rule=\"evenodd\" fill-opacity=\"1\" /><path clip-path=\"url(#clip600)\" d=\"M117.015 99.5305 L124.654 99.5305 L124.654 73.1649 L116.343 74.8316 L116.343 70.5723 L124.607 68.9057 L129.283 68.9057 L129.283 99.5305 L136.922 99.5305 L136.922 103.466 L117.015 103.466 L117.015 99.5305 Z\" fill=\"#000000\" fill-rule=\"evenodd\" fill-opacity=\"1\" /><path clip-path=\"url(#clip600)\" d=\"M146.366 97.5861 L151.251 97.5861 L151.251 103.466 L146.366 103.466 L146.366 97.5861 Z\" fill=\"#000000\" fill-rule=\"evenodd\" fill-opacity=\"1\" /><path clip-path=\"url(#clip600)\" d=\"M171.436 71.9844 Q167.825 71.9844 165.996 75.5492 Q164.19 79.0908 164.19 86.2204 Q164.19 93.3268 165.996 96.8916 Q167.825 100.433 171.436 100.433 Q175.07 100.433 176.876 96.8916 Q178.704 93.3268 178.704 86.2204 Q178.704 79.0908 176.876 75.5492 Q175.07 71.9844 171.436 71.9844 M171.436 68.2807 Q177.246 68.2807 180.301 72.8871 Q183.38 77.4704 183.38 86.2204 Q183.38 94.9472 180.301 99.5537 Q177.246 104.137 171.436 104.137 Q165.626 104.137 162.547 99.5537 Q159.491 94.9472 159.491 86.2204 Q159.491 77.4704 162.547 72.8871 Q165.626 68.2807 171.436 68.2807 Z\" fill=\"#000000\" fill-rule=\"evenodd\" fill-opacity=\"1\" /><path clip-path=\"url(#clip600)\" d=\"M201.598 71.9844 Q197.987 71.9844 196.158 75.5492 Q194.352 79.0908 194.352 86.2204 Q194.352 93.3268 196.158 96.8916 Q197.987 100.433 201.598 100.433 Q205.232 100.433 207.037 96.8916 Q208.866 93.3268 208.866 86.2204 Q208.866 79.0908 207.037 75.5492 Q205.232 71.9844 201.598 71.9844 M201.598 68.2807 Q207.408 68.2807 210.463 72.8871 Q213.542 77.4704 213.542 86.2204 Q213.542 94.9472 210.463 99.5537 Q207.408 104.137 201.598 104.137 Q195.787 104.137 192.709 99.5537 Q189.653 94.9472 189.653 86.2204 Q189.653 77.4704 192.709 72.8871 Q195.787 68.2807 201.598 68.2807 Z\" fill=\"#000000\" fill-rule=\"evenodd\" fill-opacity=\"1\" /><path clip-path=\"url(#clip600)\" d=\"M57.2247 866.218 L44.4614 866.218 L44.4614 876.722 L39.1779 876.722 L39.1779 859.853 L59.58 859.853 Q62.2218 863.576 63.5904 868.064 Q64.9272 872.552 64.9272 877.645 Q64.9272 888.785 58.4342 895.087 Q51.9093 901.357 40.2919 901.357 Q28.6427 901.357 22.1496 895.087 Q15.6248 888.785 15.6248 877.645 Q15.6248 872.998 16.7706 868.828 Q17.9164 864.627 20.1444 861.094 L26.9876 861.094 Q23.9639 864.659 22.4361 868.669 Q20.9083 872.679 20.9083 877.104 Q20.9083 885.825 25.7781 890.217 Q30.6479 894.577 40.2919 894.577 Q49.9041 894.577 54.7739 890.217 Q59.6436 885.825 59.6436 877.104 Q59.6436 873.698 59.0707 871.024 Q58.466 868.351 57.2247 866.218 Z\" fill=\"#000000\" fill-rule=\"evenodd\" fill-opacity=\"1\" /><path clip-path=\"url(#clip600)\" d=\"M16.4842 848.108 L16.4842 820.799 L21.895 820.799 L21.895 841.678 L35.8996 841.678 L35.8996 822.836 L41.3104 822.836 L41.3104 841.678 L64.0042 841.678 L64.0042 848.108 L16.4842 848.108 Z\" fill=\"#000000\" fill-rule=\"evenodd\" fill-opacity=\"1\" /><path clip-path=\"url(#clip600)\" d=\"M16.4842 810.614 L16.4842 780.568 L21.895 780.568 L21.895 804.184 L35.9632 804.184 L35.9632 781.554 L41.3741 781.554 L41.3741 804.184 L58.5933 804.184 L58.5933 779.995 L64.0042 779.995 L64.0042 810.614 L16.4842 810.614 Z\" fill=\"#000000\" fill-rule=\"evenodd\" fill-opacity=\"1\" /><path clip-path=\"url(#clip600)\" d=\"M14.479 749.503 L14.479 736.008 L19.0304 736.008 L19.0304 743.647 L68.0464 743.647 L68.0464 736.008 L72.5979 736.008 L72.5979 749.503 L14.479 749.503 Z\" fill=\"#000000\" fill-rule=\"evenodd\" fill-opacity=\"1\" /><path clip-path=\"url(#clip600)\" d=\"M42.4881 693.899 L64.0042 693.899 L64.0042 699.755 L42.679 699.755 Q37.6183 699.755 35.1038 701.728 Q32.5894 703.702 32.5894 707.648 Q32.5894 712.391 35.6131 715.128 Q38.6368 717.865 43.8567 717.865 L64.0042 717.865 L64.0042 723.754 L28.3562 723.754 L28.3562 717.865 L33.8944 717.865 Q30.6797 715.765 29.0883 712.932 Q27.4968 710.067 27.4968 706.343 Q27.4968 700.201 31.3163 697.05 Q35.1038 693.899 42.4881 693.899 Z\" fill=\"#000000\" fill-rule=\"evenodd\" fill-opacity=\"1\" /><path clip-path=\"url(#clip600)\" d=\"M46.0847 666.017 Q46.0847 673.115 47.7079 675.852 Q49.3312 678.589 53.2461 678.589 Q56.3653 678.589 58.2114 676.552 Q60.0256 674.483 60.0256 670.95 Q60.0256 666.08 56.5881 663.152 Q53.1188 660.192 47.3897 660.192 L46.0847 660.192 L46.0847 666.017 M43.6657 654.336 L64.0042 654.336 L64.0042 660.192 L58.5933 660.192 Q61.8398 662.197 63.3994 665.189 Q64.9272 668.181 64.9272 672.51 Q64.9272 677.984 61.8716 681.231 Q58.7843 684.445 53.6281 684.445 Q47.6125 684.445 44.5569 680.435 Q41.5014 676.393 41.5014 668.404 L41.5014 660.192 L40.9285 660.192 Q36.8862 660.192 34.6901 662.866 Q32.4621 665.507 32.4621 670.314 Q32.4621 673.369 33.1941 676.266 Q33.9262 679.162 35.3903 681.836 L29.9795 681.836 Q28.7381 678.621 28.1334 675.597 Q27.4968 672.573 27.4968 669.709 Q27.4968 661.975 31.5072 658.155 Q35.5176 654.336 43.6657 654.336 Z\" fill=\"#000000\" fill-rule=\"evenodd\" fill-opacity=\"1\" /><path clip-path=\"url(#clip600)\" d=\"M18.2347 636.48 L28.3562 636.48 L28.3562 624.417 L32.9077 624.417 L32.9077 636.48 L52.2594 636.48 Q56.6199 636.48 57.8613 635.302 Q59.1026 634.093 59.1026 630.432 L59.1026 624.417 L64.0042 624.417 L64.0042 630.432 Q64.0042 637.212 61.4897 639.79 Q58.9434 642.368 52.2594 642.368 L32.9077 642.368 L32.9077 646.665 L28.3562 646.665 L28.3562 642.368 L18.2347 642.368 L18.2347 636.48 Z\" fill=\"#000000\" fill-rule=\"evenodd\" fill-opacity=\"1\" /><path clip-path=\"url(#clip600)\" d=\"M29.4065 593.989 L34.9447 593.989 Q33.6716 596.471 33.035 599.145 Q32.3984 601.819 32.3984 604.683 Q32.3984 609.044 33.7352 611.24 Q35.072 613.404 37.7456 613.404 Q39.7826 613.404 40.9603 611.845 Q42.1061 610.285 43.1565 605.574 L43.6021 603.569 Q44.9389 597.331 47.3897 594.721 Q49.8086 592.079 54.1691 592.079 Q59.1344 592.079 62.0308 596.026 Q64.9272 599.941 64.9272 606.816 Q64.9272 609.68 64.3543 612.799 Q63.8132 615.887 62.6992 619.324 L56.6518 619.324 Q58.3387 616.078 59.198 612.927 Q60.0256 609.776 60.0256 606.688 Q60.0256 602.551 58.6251 600.323 Q57.1929 598.095 54.6147 598.095 Q52.2276 598.095 50.9545 599.718 Q49.6813 601.309 48.5037 606.752 L48.0262 608.789 Q46.8804 614.232 44.5251 616.651 Q42.138 619.07 38.0002 619.07 Q32.9713 619.07 30.2341 615.505 Q27.4968 611.94 27.4968 605.383 Q27.4968 602.137 27.9743 599.272 Q28.4517 596.408 29.4065 593.989 Z\" fill=\"#000000\" fill-rule=\"evenodd\" fill-opacity=\"1\" /><path clip-path=\"url(#clip600)\" d=\"M14.479 569.067 L72.5979 569.067 L72.5979 582.562 L68.0464 582.562 L68.0464 574.955 L19.0304 574.955 L19.0304 582.562 L14.479 582.562 L14.479 569.067 Z\" fill=\"#000000\" fill-rule=\"evenodd\" fill-opacity=\"1\" /><polyline clip-path=\"url(#clip602)\" style=\"stroke:#000000; stroke-linecap:butt; stroke-linejoin:round; stroke-width:8; stroke-opacity:1; fill:none\" points=\"\n  309.067,1384.24 529.53,1384.24 749.992,1384.24 970.455,1384.24 1190.92,1384.24 1411.38,1384.24 1631.84,1384.24 1852.31,1384.24 2072.77,1384.24 2293.23,1384.24 \n  \n  \"/>\n</svg>\n",
      "text/html": [
       "<?xml version=\"1.0\" encoding=\"utf-8\"?>\n",
       "<svg xmlns=\"http://www.w3.org/2000/svg\" xmlns:xlink=\"http://www.w3.org/1999/xlink\" width=\"600\" height=\"400\" viewBox=\"0 0 2400 1600\">\n",
       "<defs>\n",
       "  <clipPath id=\"clip650\">\n",
       "    <rect x=\"0\" y=\"0\" width=\"2400\" height=\"1600\"/>\n",
       "  </clipPath>\n",
       "</defs>\n",
       "<path clip-path=\"url(#clip650)\" d=\"\n",
       "M0 1600 L2400 1600 L2400 0 L0 0  Z\n",
       "  \" fill=\"#ffffff\" fill-rule=\"evenodd\" fill-opacity=\"1\"/>\n",
       "<defs>\n",
       "  <clipPath id=\"clip651\">\n",
       "    <rect x=\"480\" y=\"0\" width=\"1681\" height=\"1600\"/>\n",
       "  </clipPath>\n",
       "</defs>\n",
       "<path clip-path=\"url(#clip650)\" d=\"\n",
       "M249.542 1423.18 L2352.76 1423.18 L2352.76 47.2441 L249.542 47.2441  Z\n",
       "  \" fill=\"#ffffff\" fill-rule=\"evenodd\" fill-opacity=\"1\"/>\n",
       "<defs>\n",
       "  <clipPath id=\"clip652\">\n",
       "    <rect x=\"249\" y=\"47\" width=\"2104\" height=\"1377\"/>\n",
       "  </clipPath>\n",
       "</defs>\n",
       "<polyline clip-path=\"url(#clip652)\" style=\"stroke:#000000; stroke-linecap:butt; stroke-linejoin:round; stroke-width:2; stroke-opacity:0.1; fill:none\" points=\"\n",
       "  529.53,1423.18 529.53,47.2441 \n",
       "  \"/>\n",
       "<polyline clip-path=\"url(#clip652)\" style=\"stroke:#000000; stroke-linecap:butt; stroke-linejoin:round; stroke-width:2; stroke-opacity:0.1; fill:none\" points=\"\n",
       "  970.455,1423.18 970.455,47.2441 \n",
       "  \"/>\n",
       "<polyline clip-path=\"url(#clip652)\" style=\"stroke:#000000; stroke-linecap:butt; stroke-linejoin:round; stroke-width:2; stroke-opacity:0.1; fill:none\" points=\"\n",
       "  1411.38,1423.18 1411.38,47.2441 \n",
       "  \"/>\n",
       "<polyline clip-path=\"url(#clip652)\" style=\"stroke:#000000; stroke-linecap:butt; stroke-linejoin:round; stroke-width:2; stroke-opacity:0.1; fill:none\" points=\"\n",
       "  1852.31,1423.18 1852.31,47.2441 \n",
       "  \"/>\n",
       "<polyline clip-path=\"url(#clip652)\" style=\"stroke:#000000; stroke-linecap:butt; stroke-linejoin:round; stroke-width:2; stroke-opacity:0.1; fill:none\" points=\"\n",
       "  2293.23,1423.18 2293.23,47.2441 \n",
       "  \"/>\n",
       "<polyline clip-path=\"url(#clip650)\" style=\"stroke:#000000; stroke-linecap:butt; stroke-linejoin:round; stroke-width:4; stroke-opacity:1; fill:none\" points=\"\n",
       "  249.542,1423.18 2352.76,1423.18 \n",
       "  \"/>\n",
       "<polyline clip-path=\"url(#clip650)\" style=\"stroke:#000000; stroke-linecap:butt; stroke-linejoin:round; stroke-width:4; stroke-opacity:1; fill:none\" points=\"\n",
       "  529.53,1423.18 529.53,1404.28 \n",
       "  \"/>\n",
       "<polyline clip-path=\"url(#clip650)\" style=\"stroke:#000000; stroke-linecap:butt; stroke-linejoin:round; stroke-width:4; stroke-opacity:1; fill:none\" points=\"\n",
       "  970.455,1423.18 970.455,1404.28 \n",
       "  \"/>\n",
       "<polyline clip-path=\"url(#clip650)\" style=\"stroke:#000000; stroke-linecap:butt; stroke-linejoin:round; stroke-width:4; stroke-opacity:1; fill:none\" points=\"\n",
       "  1411.38,1423.18 1411.38,1404.28 \n",
       "  \"/>\n",
       "<polyline clip-path=\"url(#clip650)\" style=\"stroke:#000000; stroke-linecap:butt; stroke-linejoin:round; stroke-width:4; stroke-opacity:1; fill:none\" points=\"\n",
       "  1852.31,1423.18 1852.31,1404.28 \n",
       "  \"/>\n",
       "<polyline clip-path=\"url(#clip650)\" style=\"stroke:#000000; stroke-linecap:butt; stroke-linejoin:round; stroke-width:4; stroke-opacity:1; fill:none\" points=\"\n",
       "  2293.23,1423.18 2293.23,1404.28 \n",
       "  \"/>\n",
       "<path clip-path=\"url(#clip650)\" d=\"M524.182 1481.64 L540.502 1481.64 L540.502 1485.58 L518.557 1485.58 L518.557 1481.64 Q521.219 1478.89 525.803 1474.26 Q530.409 1469.61 531.59 1468.27 Q533.835 1465.74 534.715 1464.01 Q535.618 1462.25 535.618 1460.56 Q535.618 1457.8 533.673 1456.07 Q531.752 1454.33 528.65 1454.33 Q526.451 1454.33 523.997 1455.09 Q521.567 1455.86 518.789 1457.41 L518.789 1452.69 Q521.613 1451.55 524.067 1450.97 Q526.52 1450.39 528.557 1450.39 Q533.928 1450.39 537.122 1453.08 Q540.317 1455.77 540.317 1460.26 Q540.317 1462.39 539.506 1464.31 Q538.719 1466.2 536.613 1468.8 Q536.034 1469.47 532.932 1472.69 Q529.831 1475.88 524.182 1481.64 Z\" fill=\"#000000\" fill-rule=\"evenodd\" fill-opacity=\"1\" /><path clip-path=\"url(#clip650)\" d=\"M973.464 1455.09 L961.659 1473.54 L973.464 1473.54 L973.464 1455.09 M972.237 1451.02 L978.117 1451.02 L978.117 1473.54 L983.047 1473.54 L983.047 1477.43 L978.117 1477.43 L978.117 1485.58 L973.464 1485.58 L973.464 1477.43 L957.862 1477.43 L957.862 1472.92 L972.237 1451.02 Z\" fill=\"#000000\" fill-rule=\"evenodd\" fill-opacity=\"1\" /><path clip-path=\"url(#clip650)\" d=\"M1411.79 1466.44 Q1408.64 1466.44 1406.79 1468.59 Q1404.96 1470.74 1404.96 1474.49 Q1404.96 1478.22 1406.79 1480.39 Q1408.64 1482.55 1411.79 1482.55 Q1414.93 1482.55 1416.76 1480.39 Q1418.61 1478.22 1418.61 1474.49 Q1418.61 1470.74 1416.76 1468.59 Q1414.93 1466.44 1411.79 1466.44 M1421.07 1451.78 L1421.07 1456.04 Q1419.31 1455.21 1417.5 1454.77 Q1415.72 1454.33 1413.96 1454.33 Q1409.33 1454.33 1406.88 1457.45 Q1404.45 1460.58 1404.1 1466.9 Q1405.47 1464.89 1407.53 1463.82 Q1409.59 1462.73 1412.06 1462.73 Q1417.27 1462.73 1420.28 1465.9 Q1423.31 1469.05 1423.31 1474.49 Q1423.31 1479.82 1420.16 1483.03 Q1417.02 1486.25 1411.79 1486.25 Q1405.79 1486.25 1402.62 1481.67 Q1399.45 1477.06 1399.45 1468.33 Q1399.45 1460.14 1403.34 1455.28 Q1407.23 1450.39 1413.78 1450.39 Q1415.54 1450.39 1417.32 1450.74 Q1419.12 1451.09 1421.07 1451.78 Z\" fill=\"#000000\" fill-rule=\"evenodd\" fill-opacity=\"1\" /><path clip-path=\"url(#clip650)\" d=\"M1852.31 1469.17 Q1848.97 1469.17 1847.05 1470.95 Q1845.15 1472.73 1845.15 1475.86 Q1845.15 1478.98 1847.05 1480.77 Q1848.97 1482.55 1852.31 1482.55 Q1855.64 1482.55 1857.56 1480.77 Q1859.48 1478.96 1859.48 1475.86 Q1859.48 1472.73 1857.56 1470.95 Q1855.66 1469.17 1852.31 1469.17 M1847.63 1467.18 Q1844.62 1466.44 1842.93 1464.38 Q1841.26 1462.32 1841.26 1459.35 Q1841.26 1455.21 1844.2 1452.8 Q1847.17 1450.39 1852.31 1450.39 Q1857.47 1450.39 1860.41 1452.8 Q1863.35 1455.21 1863.35 1459.35 Q1863.35 1462.32 1861.66 1464.38 Q1859.99 1466.44 1857 1467.18 Q1860.38 1467.96 1862.26 1470.26 Q1864.16 1472.55 1864.16 1475.86 Q1864.16 1480.88 1861.08 1483.57 Q1858.02 1486.25 1852.31 1486.25 Q1846.59 1486.25 1843.51 1483.57 Q1840.45 1480.88 1840.45 1475.86 Q1840.45 1472.55 1842.35 1470.26 Q1844.25 1467.96 1847.63 1467.18 M1845.92 1459.79 Q1845.92 1462.48 1847.58 1463.98 Q1849.27 1465.49 1852.31 1465.49 Q1855.31 1465.49 1857 1463.98 Q1858.72 1462.48 1858.72 1459.79 Q1858.72 1457.11 1857 1455.6 Q1855.31 1454.1 1852.31 1454.1 Q1849.27 1454.1 1847.58 1455.6 Q1845.92 1457.11 1845.92 1459.79 Z\" fill=\"#000000\" fill-rule=\"evenodd\" fill-opacity=\"1\" /><path clip-path=\"url(#clip650)\" d=\"M2267.92 1481.64 L2275.56 1481.64 L2275.56 1455.28 L2267.25 1456.95 L2267.25 1452.69 L2275.51 1451.02 L2280.19 1451.02 L2280.19 1481.64 L2287.83 1481.64 L2287.83 1485.58 L2267.92 1485.58 L2267.92 1481.64 Z\" fill=\"#000000\" fill-rule=\"evenodd\" fill-opacity=\"1\" /><path clip-path=\"url(#clip650)\" d=\"M2307.27 1454.1 Q2303.66 1454.1 2301.83 1457.66 Q2300.02 1461.2 2300.02 1468.33 Q2300.02 1475.44 2301.83 1479.01 Q2303.66 1482.55 2307.27 1482.55 Q2310.9 1482.55 2312.71 1479.01 Q2314.54 1475.44 2314.54 1468.33 Q2314.54 1461.2 2312.71 1457.66 Q2310.9 1454.1 2307.27 1454.1 M2307.27 1450.39 Q2313.08 1450.39 2316.14 1455 Q2319.21 1459.58 2319.21 1468.33 Q2319.21 1477.06 2316.14 1481.67 Q2313.08 1486.25 2307.27 1486.25 Q2301.46 1486.25 2298.38 1481.67 Q2295.33 1477.06 2295.33 1468.33 Q2295.33 1459.58 2298.38 1455 Q2301.46 1450.39 2307.27 1450.39 Z\" fill=\"#000000\" fill-rule=\"evenodd\" fill-opacity=\"1\" /><path clip-path=\"url(#clip650)\" d=\"M986.89 1524.18 L986.89 1530.96 Q983.643 1527.94 979.951 1526.44 Q976.291 1524.95 972.153 1524.95 Q964.005 1524.95 959.677 1529.95 Q955.348 1534.91 955.348 1544.33 Q955.348 1553.72 959.677 1558.72 Q964.005 1563.68 972.153 1563.68 Q976.291 1563.68 979.951 1562.19 Q983.643 1560.69 986.89 1557.67 L986.89 1564.38 Q983.516 1566.68 979.729 1567.82 Q975.973 1568.97 971.771 1568.97 Q960.982 1568.97 954.775 1562.38 Q948.568 1555.76 948.568 1544.33 Q948.568 1532.87 954.775 1526.28 Q960.982 1519.66 971.771 1519.66 Q976.036 1519.66 979.792 1520.81 Q983.58 1521.92 986.89 1524.18 Z\" fill=\"#000000\" fill-rule=\"evenodd\" fill-opacity=\"1\" /><path clip-path=\"url(#clip650)\" d=\"M1010.38 1536.5 Q1005.67 1536.5 1002.93 1540.19 Q1000.19 1543.85 1000.19 1550.25 Q1000.19 1556.65 1002.9 1560.34 Q1005.64 1564 1010.38 1564 Q1015.06 1564 1017.8 1560.31 Q1020.53 1556.62 1020.53 1550.25 Q1020.53 1543.92 1017.8 1540.23 Q1015.06 1536.5 1010.38 1536.5 M1010.38 1531.54 Q1018.02 1531.54 1022.38 1536.5 Q1026.74 1541.47 1026.74 1550.25 Q1026.74 1559 1022.38 1564 Q1018.02 1568.97 1010.38 1568.97 Q1002.71 1568.97 998.348 1564 Q994.02 1559 994.02 1550.25 Q994.02 1541.47 998.348 1536.5 Q1002.71 1531.54 1010.38 1531.54 Z\" fill=\"#000000\" fill-rule=\"evenodd\" fill-opacity=\"1\" /><path clip-path=\"url(#clip650)\" d=\"M1050.26 1536.5 Q1045.55 1536.5 1042.81 1540.19 Q1040.08 1543.85 1040.08 1550.25 Q1040.08 1556.65 1042.78 1560.34 Q1045.52 1564 1050.26 1564 Q1054.94 1564 1057.68 1560.31 Q1060.41 1556.62 1060.41 1550.25 Q1060.41 1543.92 1057.68 1540.23 Q1054.94 1536.5 1050.26 1536.5 M1050.26 1531.54 Q1057.9 1531.54 1062.26 1536.5 Q1066.62 1541.47 1066.62 1550.25 Q1066.62 1559 1062.26 1564 Q1057.9 1568.97 1050.26 1568.97 Q1042.59 1568.97 1038.23 1564 Q1033.9 1559 1033.9 1550.25 Q1033.9 1541.47 1038.23 1536.5 Q1042.59 1531.54 1050.26 1531.54 Z\" fill=\"#000000\" fill-rule=\"evenodd\" fill-opacity=\"1\" /><path clip-path=\"url(#clip650)\" d=\"M1096.98 1537.87 Q1096 1537.3 1094.82 1537.04 Q1093.67 1536.76 1092.27 1536.76 Q1087.31 1536.76 1084.64 1540 Q1081.99 1543.22 1081.99 1549.27 L1081.99 1568.04 L1076.11 1568.04 L1076.11 1532.4 L1081.99 1532.4 L1081.99 1537.93 Q1083.84 1534.69 1086.8 1533.13 Q1089.76 1531.54 1093.99 1531.54 Q1094.6 1531.54 1095.33 1531.63 Q1096.06 1531.7 1096.95 1531.85 L1096.98 1537.87 Z\" fill=\"#000000\" fill-rule=\"evenodd\" fill-opacity=\"1\" /><path clip-path=\"url(#clip650)\" d=\"M1125.44 1537.81 L1125.44 1518.52 L1131.3 1518.52 L1131.3 1568.04 L1125.44 1568.04 L1125.44 1562.7 Q1123.59 1565.88 1120.76 1567.44 Q1117.96 1568.97 1114.01 1568.97 Q1107.55 1568.97 1103.48 1563.81 Q1099.44 1558.65 1099.44 1550.25 Q1099.44 1541.85 1103.48 1536.69 Q1107.55 1531.54 1114.01 1531.54 Q1117.96 1531.54 1120.76 1533.1 Q1123.59 1534.62 1125.44 1537.81 M1105.48 1550.25 Q1105.48 1556.71 1108.12 1560.4 Q1110.8 1564.07 1115.45 1564.07 Q1120.09 1564.07 1122.77 1560.4 Q1125.44 1556.71 1125.44 1550.25 Q1125.44 1543.79 1122.77 1540.13 Q1120.09 1536.44 1115.45 1536.44 Q1110.8 1536.44 1108.12 1540.13 Q1105.48 1543.79 1105.48 1550.25 Z\" fill=\"#000000\" fill-rule=\"evenodd\" fill-opacity=\"1\" /><path clip-path=\"url(#clip650)\" d=\"M1143.36 1532.4 L1149.22 1532.4 L1149.22 1568.04 L1143.36 1568.04 L1143.36 1532.4 M1143.36 1518.52 L1149.22 1518.52 L1149.22 1525.93 L1143.36 1525.93 L1143.36 1518.52 Z\" fill=\"#000000\" fill-rule=\"evenodd\" fill-opacity=\"1\" /><path clip-path=\"url(#clip650)\" d=\"M1191.1 1546.53 L1191.1 1568.04 L1185.25 1568.04 L1185.25 1546.72 Q1185.25 1541.66 1183.27 1539.14 Q1181.3 1536.63 1177.35 1536.63 Q1172.61 1536.63 1169.87 1539.65 Q1167.13 1542.68 1167.13 1547.9 L1167.13 1568.04 L1161.25 1568.04 L1161.25 1532.4 L1167.13 1532.4 L1167.13 1537.93 Q1169.24 1534.72 1172.07 1533.13 Q1174.93 1531.54 1178.66 1531.54 Q1184.8 1531.54 1187.95 1535.36 Q1191.1 1539.14 1191.1 1546.53 Z\" fill=\"#000000\" fill-rule=\"evenodd\" fill-opacity=\"1\" /><path clip-path=\"url(#clip650)\" d=\"M1218.98 1550.12 Q1211.89 1550.12 1209.15 1551.75 Q1206.41 1553.37 1206.41 1557.29 Q1206.41 1560.4 1208.45 1562.25 Q1210.52 1564.07 1214.05 1564.07 Q1218.92 1564.07 1221.85 1560.63 Q1224.81 1557.16 1224.81 1551.43 L1224.81 1550.12 L1218.98 1550.12 M1230.66 1547.71 L1230.66 1568.04 L1224.81 1568.04 L1224.81 1562.63 Q1222.8 1565.88 1219.81 1567.44 Q1216.82 1568.97 1212.49 1568.97 Q1207.02 1568.97 1203.77 1565.91 Q1200.55 1562.82 1200.55 1557.67 Q1200.55 1551.65 1204.57 1548.6 Q1208.61 1545.54 1216.6 1545.54 L1224.81 1545.54 L1224.81 1544.97 Q1224.81 1540.93 1222.13 1538.73 Q1219.49 1536.5 1214.69 1536.5 Q1211.63 1536.5 1208.73 1537.23 Q1205.84 1537.97 1203.16 1539.43 L1203.16 1534.02 Q1206.38 1532.78 1209.4 1532.17 Q1212.43 1531.54 1215.29 1531.54 Q1223.03 1531.54 1226.85 1535.55 Q1230.66 1539.56 1230.66 1547.71 Z\" fill=\"#000000\" fill-rule=\"evenodd\" fill-opacity=\"1\" /><path clip-path=\"url(#clip650)\" d=\"M1248.52 1522.27 L1248.52 1532.4 L1260.58 1532.4 L1260.58 1536.95 L1248.52 1536.95 L1248.52 1556.3 Q1248.52 1560.66 1249.7 1561.9 Q1250.91 1563.14 1254.57 1563.14 L1260.58 1563.14 L1260.58 1568.04 L1254.57 1568.04 Q1247.79 1568.04 1245.21 1565.53 Q1242.63 1562.98 1242.63 1556.3 L1242.63 1536.95 L1238.34 1536.95 L1238.34 1532.4 L1242.63 1532.4 L1242.63 1522.27 L1248.52 1522.27 Z\" fill=\"#000000\" fill-rule=\"evenodd\" fill-opacity=\"1\" /><path clip-path=\"url(#clip650)\" d=\"M1298.78 1548.76 L1298.78 1551.62 L1271.85 1551.62 Q1272.23 1557.67 1275.48 1560.85 Q1278.76 1564 1284.58 1564 Q1287.96 1564 1291.11 1563.17 Q1294.29 1562.35 1297.41 1560.69 L1297.41 1566.23 Q1294.26 1567.57 1290.95 1568.27 Q1287.64 1568.97 1284.23 1568.97 Q1275.7 1568.97 1270.7 1564 Q1265.74 1559.04 1265.74 1550.57 Q1265.74 1541.82 1270.45 1536.69 Q1275.19 1531.54 1283.21 1531.54 Q1290.41 1531.54 1294.58 1536.18 Q1298.78 1540.8 1298.78 1548.76 M1292.92 1547.04 Q1292.86 1542.23 1290.22 1539.37 Q1287.61 1536.5 1283.28 1536.5 Q1278.38 1536.5 1275.42 1539.27 Q1272.49 1542.04 1272.04 1547.07 L1292.92 1547.04 Z\" fill=\"#000000\" fill-rule=\"evenodd\" fill-opacity=\"1\" /><path clip-path=\"url(#clip650)\" d=\"M1329.36 1520.52 L1335.79 1520.52 L1335.79 1568.04 L1329.36 1568.04 L1329.36 1520.52 Z\" fill=\"#000000\" fill-rule=\"evenodd\" fill-opacity=\"1\" /><path clip-path=\"url(#clip650)\" d=\"M1377.97 1546.53 L1377.97 1568.04 L1372.11 1568.04 L1372.11 1546.72 Q1372.11 1541.66 1370.14 1539.14 Q1368.16 1536.63 1364.22 1536.63 Q1359.47 1536.63 1356.74 1539.65 Q1354 1542.68 1354 1547.9 L1354 1568.04 L1348.11 1568.04 L1348.11 1532.4 L1354 1532.4 L1354 1537.93 Q1356.1 1534.72 1358.93 1533.13 Q1361.8 1531.54 1365.52 1531.54 Q1371.67 1531.54 1374.82 1535.36 Q1377.97 1539.14 1377.97 1546.53 Z\" fill=\"#000000\" fill-rule=\"evenodd\" fill-opacity=\"1\" /><path clip-path=\"url(#clip650)\" d=\"M1415.3 1533.76 L1415.3 1539.24 Q1412.82 1537.87 1410.3 1537.2 Q1407.82 1536.5 1405.28 1536.5 Q1399.58 1536.5 1396.43 1540.13 Q1393.28 1543.73 1393.28 1550.25 Q1393.28 1556.78 1396.43 1560.4 Q1399.58 1564 1405.28 1564 Q1407.82 1564 1410.3 1563.33 Q1412.82 1562.63 1415.3 1561.26 L1415.3 1566.68 Q1412.85 1567.82 1410.21 1568.39 Q1407.6 1568.97 1404.64 1568.97 Q1396.59 1568.97 1391.84 1563.91 Q1387.1 1558.85 1387.1 1550.25 Q1387.1 1541.53 1391.88 1536.53 Q1396.68 1531.54 1405.02 1531.54 Q1407.73 1531.54 1410.3 1532.11 Q1412.88 1532.65 1415.3 1533.76 Z\" fill=\"#000000\" fill-rule=\"evenodd\" fill-opacity=\"1\" /><path clip-path=\"url(#clip650)\" d=\"M1446.14 1537.87 Q1445.16 1537.3 1443.98 1537.04 Q1442.83 1536.76 1441.43 1536.76 Q1436.47 1536.76 1433.79 1540 Q1431.15 1543.22 1431.15 1549.27 L1431.15 1568.04 L1425.26 1568.04 L1425.26 1532.4 L1431.15 1532.4 L1431.15 1537.93 Q1433 1534.69 1435.96 1533.13 Q1438.92 1531.54 1443.15 1531.54 Q1443.76 1531.54 1444.49 1531.63 Q1445.22 1531.7 1446.11 1531.85 L1446.14 1537.87 Z\" fill=\"#000000\" fill-rule=\"evenodd\" fill-opacity=\"1\" /><path clip-path=\"url(#clip650)\" d=\"M1481.35 1548.76 L1481.35 1551.62 L1454.42 1551.62 Q1454.8 1557.67 1458.05 1560.85 Q1461.33 1564 1467.15 1564 Q1470.52 1564 1473.68 1563.17 Q1476.86 1562.35 1479.98 1560.69 L1479.98 1566.23 Q1476.83 1567.57 1473.52 1568.27 Q1470.21 1568.97 1466.8 1568.97 Q1458.27 1568.97 1453.27 1564 Q1448.31 1559.04 1448.31 1550.57 Q1448.31 1541.82 1453.02 1536.69 Q1457.76 1531.54 1465.78 1531.54 Q1472.98 1531.54 1477.14 1536.18 Q1481.35 1540.8 1481.35 1548.76 M1475.49 1547.04 Q1475.43 1542.23 1472.78 1539.37 Q1470.17 1536.5 1465.85 1536.5 Q1460.94 1536.5 1457.98 1539.27 Q1455.06 1542.04 1454.61 1547.07 L1475.49 1547.04 Z\" fill=\"#000000\" fill-rule=\"evenodd\" fill-opacity=\"1\" /><path clip-path=\"url(#clip650)\" d=\"M1518.71 1539.24 Q1520.91 1535.29 1523.96 1533.41 Q1527.02 1531.54 1531.16 1531.54 Q1536.73 1531.54 1539.75 1535.45 Q1542.78 1539.33 1542.78 1546.53 L1542.78 1568.04 L1536.89 1568.04 L1536.89 1546.72 Q1536.89 1541.59 1535.07 1539.11 Q1533.26 1536.63 1529.53 1536.63 Q1524.98 1536.63 1522.34 1539.65 Q1519.7 1542.68 1519.7 1547.9 L1519.7 1568.04 L1513.81 1568.04 L1513.81 1546.72 Q1513.81 1541.56 1512 1539.11 Q1510.18 1536.63 1506.4 1536.63 Q1501.91 1536.63 1499.27 1539.68 Q1496.62 1542.71 1496.62 1547.9 L1496.62 1568.04 L1490.74 1568.04 L1490.74 1532.4 L1496.62 1532.4 L1496.62 1537.93 Q1498.63 1534.66 1501.43 1533.1 Q1504.23 1531.54 1508.08 1531.54 Q1511.97 1531.54 1514.67 1533.51 Q1517.41 1535.48 1518.71 1539.24 Z\" fill=\"#000000\" fill-rule=\"evenodd\" fill-opacity=\"1\" /><path clip-path=\"url(#clip650)\" d=\"M1584.95 1548.76 L1584.95 1551.62 L1558.02 1551.62 Q1558.4 1557.67 1561.65 1560.85 Q1564.93 1564 1570.75 1564 Q1574.13 1564 1577.28 1563.17 Q1580.46 1562.35 1583.58 1560.69 L1583.58 1566.23 Q1580.43 1567.57 1577.12 1568.27 Q1573.81 1568.97 1570.4 1568.97 Q1561.87 1568.97 1556.88 1564 Q1551.91 1559.04 1551.91 1550.57 Q1551.91 1541.82 1556.62 1536.69 Q1561.36 1531.54 1569.38 1531.54 Q1576.58 1531.54 1580.75 1536.18 Q1584.95 1540.8 1584.95 1548.76 M1579.09 1547.04 Q1579.03 1542.23 1576.39 1539.37 Q1573.78 1536.5 1569.45 1536.5 Q1564.55 1536.5 1561.59 1539.27 Q1558.66 1542.04 1558.21 1547.07 L1579.09 1547.04 Z\" fill=\"#000000\" fill-rule=\"evenodd\" fill-opacity=\"1\" /><path clip-path=\"url(#clip650)\" d=\"M1624.19 1546.53 L1624.19 1568.04 L1618.34 1568.04 L1618.34 1546.72 Q1618.34 1541.66 1616.36 1539.14 Q1614.39 1536.63 1610.44 1536.63 Q1605.7 1536.63 1602.96 1539.65 Q1600.23 1542.68 1600.23 1547.9 L1600.23 1568.04 L1594.34 1568.04 L1594.34 1532.4 L1600.23 1532.4 L1600.23 1537.93 Q1602.33 1534.72 1605.16 1533.13 Q1608.02 1531.54 1611.75 1531.54 Q1617.89 1531.54 1621.04 1535.36 Q1624.19 1539.14 1624.19 1546.53 Z\" fill=\"#000000\" fill-rule=\"evenodd\" fill-opacity=\"1\" /><path clip-path=\"url(#clip650)\" d=\"M1641.67 1522.27 L1641.67 1532.4 L1653.73 1532.4 L1653.73 1536.95 L1641.67 1536.95 L1641.67 1556.3 Q1641.67 1560.66 1642.84 1561.9 Q1644.05 1563.14 1647.71 1563.14 L1653.73 1563.14 L1653.73 1568.04 L1647.71 1568.04 Q1640.93 1568.04 1638.36 1565.53 Q1635.78 1562.98 1635.78 1556.3 L1635.78 1536.95 L1631.48 1536.95 L1631.48 1532.4 L1635.78 1532.4 L1635.78 1522.27 L1641.67 1522.27 Z\" fill=\"#000000\" fill-rule=\"evenodd\" fill-opacity=\"1\" /><polyline clip-path=\"url(#clip652)\" style=\"stroke:#000000; stroke-linecap:butt; stroke-linejoin:round; stroke-width:2; stroke-opacity:0.1; fill:none\" points=\"\n",
       "  249.542,1384.24 2352.76,1384.24 \n",
       "  \"/>\n",
       "<polyline clip-path=\"url(#clip652)\" style=\"stroke:#000000; stroke-linecap:butt; stroke-linejoin:round; stroke-width:2; stroke-opacity:0.1; fill:none\" points=\"\n",
       "  249.542,1059.73 2352.76,1059.73 \n",
       "  \"/>\n",
       "<polyline clip-path=\"url(#clip652)\" style=\"stroke:#000000; stroke-linecap:butt; stroke-linejoin:round; stroke-width:2; stroke-opacity:0.1; fill:none\" points=\"\n",
       "  249.542,735.212 2352.76,735.212 \n",
       "  \"/>\n",
       "<polyline clip-path=\"url(#clip652)\" style=\"stroke:#000000; stroke-linecap:butt; stroke-linejoin:round; stroke-width:2; stroke-opacity:0.1; fill:none\" points=\"\n",
       "  249.542,410.699 2352.76,410.699 \n",
       "  \"/>\n",
       "<polyline clip-path=\"url(#clip652)\" style=\"stroke:#000000; stroke-linecap:butt; stroke-linejoin:round; stroke-width:2; stroke-opacity:0.1; fill:none\" points=\"\n",
       "  249.542,86.1857 2352.76,86.1857 \n",
       "  \"/>\n",
       "<polyline clip-path=\"url(#clip650)\" style=\"stroke:#000000; stroke-linecap:butt; stroke-linejoin:round; stroke-width:4; stroke-opacity:1; fill:none\" points=\"\n",
       "  249.542,1423.18 249.542,47.2441 \n",
       "  \"/>\n",
       "<polyline clip-path=\"url(#clip650)\" style=\"stroke:#000000; stroke-linecap:butt; stroke-linejoin:round; stroke-width:4; stroke-opacity:1; fill:none\" points=\"\n",
       "  249.542,1384.24 268.44,1384.24 \n",
       "  \"/>\n",
       "<polyline clip-path=\"url(#clip650)\" style=\"stroke:#000000; stroke-linecap:butt; stroke-linejoin:round; stroke-width:4; stroke-opacity:1; fill:none\" points=\"\n",
       "  249.542,1059.73 268.44,1059.73 \n",
       "  \"/>\n",
       "<polyline clip-path=\"url(#clip650)\" style=\"stroke:#000000; stroke-linecap:butt; stroke-linejoin:round; stroke-width:4; stroke-opacity:1; fill:none\" points=\"\n",
       "  249.542,735.212 268.44,735.212 \n",
       "  \"/>\n",
       "<polyline clip-path=\"url(#clip650)\" style=\"stroke:#000000; stroke-linecap:butt; stroke-linejoin:round; stroke-width:4; stroke-opacity:1; fill:none\" points=\"\n",
       "  249.542,410.699 268.44,410.699 \n",
       "  \"/>\n",
       "<polyline clip-path=\"url(#clip650)\" style=\"stroke:#000000; stroke-linecap:butt; stroke-linejoin:round; stroke-width:4; stroke-opacity:1; fill:none\" points=\"\n",
       "  249.542,86.1857 268.44,86.1857 \n",
       "  \"/>\n",
       "<path clip-path=\"url(#clip650)\" d=\"M126.205 1370.04 Q122.593 1370.04 120.765 1373.6 Q118.959 1377.14 118.959 1384.27 Q118.959 1391.38 120.765 1394.94 Q122.593 1398.49 126.205 1398.49 Q129.839 1398.49 131.644 1394.94 Q133.473 1391.38 133.473 1384.27 Q133.473 1377.14 131.644 1373.6 Q129.839 1370.04 126.205 1370.04 M126.205 1366.33 Q132.015 1366.33 135.07 1370.94 Q138.149 1375.52 138.149 1384.27 Q138.149 1393 135.07 1397.61 Q132.015 1402.19 126.205 1402.19 Q120.394 1402.19 117.316 1397.61 Q114.26 1393 114.26 1384.27 Q114.26 1375.52 117.316 1370.94 Q120.394 1366.33 126.205 1366.33 Z\" fill=\"#000000\" fill-rule=\"evenodd\" fill-opacity=\"1\" /><path clip-path=\"url(#clip650)\" d=\"M146.366 1395.64 L151.251 1395.64 L151.251 1401.52 L146.366 1401.52 L146.366 1395.64 Z\" fill=\"#000000\" fill-rule=\"evenodd\" fill-opacity=\"1\" /><path clip-path=\"url(#clip650)\" d=\"M171.436 1370.04 Q167.825 1370.04 165.996 1373.6 Q164.19 1377.14 164.19 1384.27 Q164.19 1391.38 165.996 1394.94 Q167.825 1398.49 171.436 1398.49 Q175.07 1398.49 176.876 1394.94 Q178.704 1391.38 178.704 1384.27 Q178.704 1377.14 176.876 1373.6 Q175.07 1370.04 171.436 1370.04 M171.436 1366.33 Q177.246 1366.33 180.301 1370.94 Q183.38 1375.52 183.38 1384.27 Q183.38 1393 180.301 1397.61 Q177.246 1402.19 171.436 1402.19 Q165.626 1402.19 162.547 1397.61 Q159.491 1393 159.491 1384.27 Q159.491 1375.52 162.547 1370.94 Q165.626 1366.33 171.436 1366.33 Z\" fill=\"#000000\" fill-rule=\"evenodd\" fill-opacity=\"1\" /><path clip-path=\"url(#clip650)\" d=\"M201.598 1370.04 Q197.987 1370.04 196.158 1373.6 Q194.352 1377.14 194.352 1384.27 Q194.352 1391.38 196.158 1394.94 Q197.987 1398.49 201.598 1398.49 Q205.232 1398.49 207.037 1394.94 Q208.866 1391.38 208.866 1384.27 Q208.866 1377.14 207.037 1373.6 Q205.232 1370.04 201.598 1370.04 M201.598 1366.33 Q207.408 1366.33 210.463 1370.94 Q213.542 1375.52 213.542 1384.27 Q213.542 1393 210.463 1397.61 Q207.408 1402.19 201.598 1402.19 Q195.787 1402.19 192.709 1397.61 Q189.653 1393 189.653 1384.27 Q189.653 1375.52 192.709 1370.94 Q195.787 1366.33 201.598 1366.33 Z\" fill=\"#000000\" fill-rule=\"evenodd\" fill-opacity=\"1\" /><path clip-path=\"url(#clip650)\" d=\"M127.2 1045.52 Q123.589 1045.52 121.76 1049.09 Q119.955 1052.63 119.955 1059.76 Q119.955 1066.87 121.76 1070.43 Q123.589 1073.97 127.2 1073.97 Q130.834 1073.97 132.64 1070.43 Q134.468 1066.87 134.468 1059.76 Q134.468 1052.63 132.64 1049.09 Q130.834 1045.52 127.2 1045.52 M127.2 1041.82 Q133.01 1041.82 136.066 1046.43 Q139.144 1051.01 139.144 1059.76 Q139.144 1068.49 136.066 1073.09 Q133.01 1077.68 127.2 1077.68 Q121.39 1077.68 118.311 1073.09 Q115.256 1068.49 115.256 1059.76 Q115.256 1051.01 118.311 1046.43 Q121.39 1041.82 127.2 1041.82 Z\" fill=\"#000000\" fill-rule=\"evenodd\" fill-opacity=\"1\" /><path clip-path=\"url(#clip650)\" d=\"M147.362 1071.13 L152.246 1071.13 L152.246 1077.01 L147.362 1077.01 L147.362 1071.13 Z\" fill=\"#000000\" fill-rule=\"evenodd\" fill-opacity=\"1\" /><path clip-path=\"url(#clip650)\" d=\"M166.459 1073.07 L182.778 1073.07 L182.778 1077.01 L160.834 1077.01 L160.834 1073.07 Q163.496 1070.32 168.079 1065.69 Q172.686 1061.03 173.866 1059.69 Q176.112 1057.17 176.991 1055.43 Q177.894 1053.67 177.894 1051.98 Q177.894 1049.23 175.95 1047.49 Q174.028 1045.76 170.927 1045.76 Q168.727 1045.76 166.274 1046.52 Q163.843 1047.28 161.065 1048.83 L161.065 1044.11 Q163.89 1042.98 166.343 1042.4 Q168.797 1041.82 170.834 1041.82 Q176.204 1041.82 179.399 1044.51 Q182.593 1047.19 182.593 1051.68 Q182.593 1053.81 181.783 1055.73 Q180.996 1057.63 178.889 1060.22 Q178.311 1060.89 175.209 1064.11 Q172.107 1067.31 166.459 1073.07 Z\" fill=\"#000000\" fill-rule=\"evenodd\" fill-opacity=\"1\" /><path clip-path=\"url(#clip650)\" d=\"M192.639 1042.45 L210.996 1042.45 L210.996 1046.38 L196.922 1046.38 L196.922 1054.85 Q197.94 1054.51 198.959 1054.34 Q199.977 1054.16 200.996 1054.16 Q206.783 1054.16 210.162 1057.33 Q213.542 1060.5 213.542 1065.92 Q213.542 1071.5 210.07 1074.6 Q206.598 1077.68 200.278 1077.68 Q198.102 1077.68 195.834 1077.31 Q193.588 1076.94 191.181 1076.19 L191.181 1071.5 Q193.264 1072.63 195.487 1073.19 Q197.709 1073.74 200.186 1073.74 Q204.19 1073.74 206.528 1071.63 Q208.866 1069.53 208.866 1065.92 Q208.866 1062.31 206.528 1060.2 Q204.19 1058.09 200.186 1058.09 Q198.311 1058.09 196.436 1058.51 Q194.584 1058.93 192.639 1059.81 L192.639 1042.45 Z\" fill=\"#000000\" fill-rule=\"evenodd\" fill-opacity=\"1\" /><path clip-path=\"url(#clip650)\" d=\"M126.205 721.011 Q122.593 721.011 120.765 724.575 Q118.959 728.117 118.959 735.247 Q118.959 742.353 120.765 745.918 Q122.593 749.46 126.205 749.46 Q129.839 749.46 131.644 745.918 Q133.473 742.353 133.473 735.247 Q133.473 728.117 131.644 724.575 Q129.839 721.011 126.205 721.011 M126.205 717.307 Q132.015 717.307 135.07 721.913 Q138.149 726.497 138.149 735.247 Q138.149 743.973 135.07 748.58 Q132.015 753.163 126.205 753.163 Q120.394 753.163 117.316 748.58 Q114.26 743.973 114.26 735.247 Q114.26 726.497 117.316 721.913 Q120.394 717.307 126.205 717.307 Z\" fill=\"#000000\" fill-rule=\"evenodd\" fill-opacity=\"1\" /><path clip-path=\"url(#clip650)\" d=\"M146.366 746.612 L151.251 746.612 L151.251 752.492 L146.366 752.492 L146.366 746.612 Z\" fill=\"#000000\" fill-rule=\"evenodd\" fill-opacity=\"1\" /><path clip-path=\"url(#clip650)\" d=\"M161.482 717.932 L179.839 717.932 L179.839 721.867 L165.765 721.867 L165.765 730.339 Q166.783 729.992 167.802 729.83 Q168.82 729.645 169.839 729.645 Q175.626 729.645 179.005 732.816 Q182.385 735.987 182.385 741.404 Q182.385 746.983 178.913 750.085 Q175.44 753.163 169.121 753.163 Q166.945 753.163 164.677 752.793 Q162.431 752.423 160.024 751.682 L160.024 746.983 Q162.107 748.117 164.329 748.673 Q166.552 749.228 169.028 749.228 Q173.033 749.228 175.371 747.122 Q177.709 745.015 177.709 741.404 Q177.709 737.793 175.371 735.687 Q173.033 733.58 169.028 733.58 Q167.153 733.58 165.278 733.997 Q163.427 734.413 161.482 735.293 L161.482 717.932 Z\" fill=\"#000000\" fill-rule=\"evenodd\" fill-opacity=\"1\" /><path clip-path=\"url(#clip650)\" d=\"M201.598 721.011 Q197.987 721.011 196.158 724.575 Q194.352 728.117 194.352 735.247 Q194.352 742.353 196.158 745.918 Q197.987 749.46 201.598 749.46 Q205.232 749.46 207.037 745.918 Q208.866 742.353 208.866 735.247 Q208.866 728.117 207.037 724.575 Q205.232 721.011 201.598 721.011 M201.598 717.307 Q207.408 717.307 210.463 721.913 Q213.542 726.497 213.542 735.247 Q213.542 743.973 210.463 748.58 Q207.408 753.163 201.598 753.163 Q195.787 753.163 192.709 748.58 Q189.653 743.973 189.653 735.247 Q189.653 726.497 192.709 721.913 Q195.787 717.307 201.598 717.307 Z\" fill=\"#000000\" fill-rule=\"evenodd\" fill-opacity=\"1\" /><path clip-path=\"url(#clip650)\" d=\"M127.2 396.498 Q123.589 396.498 121.76 400.062 Q119.955 403.604 119.955 410.734 Q119.955 417.84 121.76 421.405 Q123.589 424.946 127.2 424.946 Q130.834 424.946 132.64 421.405 Q134.468 417.84 134.468 410.734 Q134.468 403.604 132.64 400.062 Q130.834 396.498 127.2 396.498 M127.2 392.794 Q133.01 392.794 136.066 397.4 Q139.144 401.984 139.144 410.734 Q139.144 419.46 136.066 424.067 Q133.01 428.65 127.2 428.65 Q121.39 428.65 118.311 424.067 Q115.256 419.46 115.256 410.734 Q115.256 401.984 118.311 397.4 Q121.39 392.794 127.2 392.794 Z\" fill=\"#000000\" fill-rule=\"evenodd\" fill-opacity=\"1\" /><path clip-path=\"url(#clip650)\" d=\"M147.362 422.099 L152.246 422.099 L152.246 427.979 L147.362 427.979 L147.362 422.099 Z\" fill=\"#000000\" fill-rule=\"evenodd\" fill-opacity=\"1\" /><path clip-path=\"url(#clip650)\" d=\"M161.251 393.419 L183.473 393.419 L183.473 395.41 L170.927 427.979 L166.042 427.979 L177.848 397.354 L161.251 397.354 L161.251 393.419 Z\" fill=\"#000000\" fill-rule=\"evenodd\" fill-opacity=\"1\" /><path clip-path=\"url(#clip650)\" d=\"M192.639 393.419 L210.996 393.419 L210.996 397.354 L196.922 397.354 L196.922 405.826 Q197.94 405.479 198.959 405.317 Q199.977 405.132 200.996 405.132 Q206.783 405.132 210.162 408.303 Q213.542 411.474 213.542 416.891 Q213.542 422.47 210.07 425.571 Q206.598 428.65 200.278 428.65 Q198.102 428.65 195.834 428.28 Q193.588 427.909 191.181 427.169 L191.181 422.47 Q193.264 423.604 195.487 424.159 Q197.709 424.715 200.186 424.715 Q204.19 424.715 206.528 422.608 Q208.866 420.502 208.866 416.891 Q208.866 413.28 206.528 411.173 Q204.19 409.067 200.186 409.067 Q198.311 409.067 196.436 409.484 Q194.584 409.9 192.639 410.78 L192.639 393.419 Z\" fill=\"#000000\" fill-rule=\"evenodd\" fill-opacity=\"1\" /><path clip-path=\"url(#clip650)\" d=\"M117.015 99.5305 L124.654 99.5305 L124.654 73.1649 L116.343 74.8316 L116.343 70.5723 L124.607 68.9057 L129.283 68.9057 L129.283 99.5305 L136.922 99.5305 L136.922 103.466 L117.015 103.466 L117.015 99.5305 Z\" fill=\"#000000\" fill-rule=\"evenodd\" fill-opacity=\"1\" /><path clip-path=\"url(#clip650)\" d=\"M146.366 97.5861 L151.251 97.5861 L151.251 103.466 L146.366 103.466 L146.366 97.5861 Z\" fill=\"#000000\" fill-rule=\"evenodd\" fill-opacity=\"1\" /><path clip-path=\"url(#clip650)\" d=\"M171.436 71.9844 Q167.825 71.9844 165.996 75.5492 Q164.19 79.0908 164.19 86.2204 Q164.19 93.3268 165.996 96.8916 Q167.825 100.433 171.436 100.433 Q175.07 100.433 176.876 96.8916 Q178.704 93.3268 178.704 86.2204 Q178.704 79.0908 176.876 75.5492 Q175.07 71.9844 171.436 71.9844 M171.436 68.2807 Q177.246 68.2807 180.301 72.8871 Q183.38 77.4704 183.38 86.2204 Q183.38 94.9472 180.301 99.5537 Q177.246 104.137 171.436 104.137 Q165.626 104.137 162.547 99.5537 Q159.491 94.9472 159.491 86.2204 Q159.491 77.4704 162.547 72.8871 Q165.626 68.2807 171.436 68.2807 Z\" fill=\"#000000\" fill-rule=\"evenodd\" fill-opacity=\"1\" /><path clip-path=\"url(#clip650)\" d=\"M201.598 71.9844 Q197.987 71.9844 196.158 75.5492 Q194.352 79.0908 194.352 86.2204 Q194.352 93.3268 196.158 96.8916 Q197.987 100.433 201.598 100.433 Q205.232 100.433 207.037 96.8916 Q208.866 93.3268 208.866 86.2204 Q208.866 79.0908 207.037 75.5492 Q205.232 71.9844 201.598 71.9844 M201.598 68.2807 Q207.408 68.2807 210.463 72.8871 Q213.542 77.4704 213.542 86.2204 Q213.542 94.9472 210.463 99.5537 Q207.408 104.137 201.598 104.137 Q195.787 104.137 192.709 99.5537 Q189.653 94.9472 189.653 86.2204 Q189.653 77.4704 192.709 72.8871 Q195.787 68.2807 201.598 68.2807 Z\" fill=\"#000000\" fill-rule=\"evenodd\" fill-opacity=\"1\" /><path clip-path=\"url(#clip650)\" d=\"M57.2247 866.218 L44.4614 866.218 L44.4614 876.722 L39.1779 876.722 L39.1779 859.853 L59.58 859.853 Q62.2218 863.576 63.5904 868.064 Q64.9272 872.552 64.9272 877.645 Q64.9272 888.785 58.4342 895.087 Q51.9093 901.357 40.2919 901.357 Q28.6427 901.357 22.1496 895.087 Q15.6248 888.785 15.6248 877.645 Q15.6248 872.998 16.7706 868.828 Q17.9164 864.627 20.1444 861.094 L26.9876 861.094 Q23.9639 864.659 22.4361 868.669 Q20.9083 872.679 20.9083 877.104 Q20.9083 885.825 25.7781 890.217 Q30.6479 894.577 40.2919 894.577 Q49.9041 894.577 54.7739 890.217 Q59.6436 885.825 59.6436 877.104 Q59.6436 873.698 59.0707 871.024 Q58.466 868.351 57.2247 866.218 Z\" fill=\"#000000\" fill-rule=\"evenodd\" fill-opacity=\"1\" /><path clip-path=\"url(#clip650)\" d=\"M16.4842 848.108 L16.4842 820.799 L21.895 820.799 L21.895 841.678 L35.8996 841.678 L35.8996 822.836 L41.3104 822.836 L41.3104 841.678 L64.0042 841.678 L64.0042 848.108 L16.4842 848.108 Z\" fill=\"#000000\" fill-rule=\"evenodd\" fill-opacity=\"1\" /><path clip-path=\"url(#clip650)\" d=\"M16.4842 810.614 L16.4842 780.568 L21.895 780.568 L21.895 804.184 L35.9632 804.184 L35.9632 781.554 L41.3741 781.554 L41.3741 804.184 L58.5933 804.184 L58.5933 779.995 L64.0042 779.995 L64.0042 810.614 L16.4842 810.614 Z\" fill=\"#000000\" fill-rule=\"evenodd\" fill-opacity=\"1\" /><path clip-path=\"url(#clip650)\" d=\"M14.479 749.503 L14.479 736.008 L19.0304 736.008 L19.0304 743.647 L68.0464 743.647 L68.0464 736.008 L72.5979 736.008 L72.5979 749.503 L14.479 749.503 Z\" fill=\"#000000\" fill-rule=\"evenodd\" fill-opacity=\"1\" /><path clip-path=\"url(#clip650)\" d=\"M42.4881 693.899 L64.0042 693.899 L64.0042 699.755 L42.679 699.755 Q37.6183 699.755 35.1038 701.728 Q32.5894 703.702 32.5894 707.648 Q32.5894 712.391 35.6131 715.128 Q38.6368 717.865 43.8567 717.865 L64.0042 717.865 L64.0042 723.754 L28.3562 723.754 L28.3562 717.865 L33.8944 717.865 Q30.6797 715.765 29.0883 712.932 Q27.4968 710.067 27.4968 706.343 Q27.4968 700.201 31.3163 697.05 Q35.1038 693.899 42.4881 693.899 Z\" fill=\"#000000\" fill-rule=\"evenodd\" fill-opacity=\"1\" /><path clip-path=\"url(#clip650)\" d=\"M46.0847 666.017 Q46.0847 673.115 47.7079 675.852 Q49.3312 678.589 53.2461 678.589 Q56.3653 678.589 58.2114 676.552 Q60.0256 674.483 60.0256 670.95 Q60.0256 666.08 56.5881 663.152 Q53.1188 660.192 47.3897 660.192 L46.0847 660.192 L46.0847 666.017 M43.6657 654.336 L64.0042 654.336 L64.0042 660.192 L58.5933 660.192 Q61.8398 662.197 63.3994 665.189 Q64.9272 668.181 64.9272 672.51 Q64.9272 677.984 61.8716 681.231 Q58.7843 684.445 53.6281 684.445 Q47.6125 684.445 44.5569 680.435 Q41.5014 676.393 41.5014 668.404 L41.5014 660.192 L40.9285 660.192 Q36.8862 660.192 34.6901 662.866 Q32.4621 665.507 32.4621 670.314 Q32.4621 673.369 33.1941 676.266 Q33.9262 679.162 35.3903 681.836 L29.9795 681.836 Q28.7381 678.621 28.1334 675.597 Q27.4968 672.573 27.4968 669.709 Q27.4968 661.975 31.5072 658.155 Q35.5176 654.336 43.6657 654.336 Z\" fill=\"#000000\" fill-rule=\"evenodd\" fill-opacity=\"1\" /><path clip-path=\"url(#clip650)\" d=\"M18.2347 636.48 L28.3562 636.48 L28.3562 624.417 L32.9077 624.417 L32.9077 636.48 L52.2594 636.48 Q56.6199 636.48 57.8613 635.302 Q59.1026 634.093 59.1026 630.432 L59.1026 624.417 L64.0042 624.417 L64.0042 630.432 Q64.0042 637.212 61.4897 639.79 Q58.9434 642.368 52.2594 642.368 L32.9077 642.368 L32.9077 646.665 L28.3562 646.665 L28.3562 642.368 L18.2347 642.368 L18.2347 636.48 Z\" fill=\"#000000\" fill-rule=\"evenodd\" fill-opacity=\"1\" /><path clip-path=\"url(#clip650)\" d=\"M29.4065 593.989 L34.9447 593.989 Q33.6716 596.471 33.035 599.145 Q32.3984 601.819 32.3984 604.683 Q32.3984 609.044 33.7352 611.24 Q35.072 613.404 37.7456 613.404 Q39.7826 613.404 40.9603 611.845 Q42.1061 610.285 43.1565 605.574 L43.6021 603.569 Q44.9389 597.331 47.3897 594.721 Q49.8086 592.079 54.1691 592.079 Q59.1344 592.079 62.0308 596.026 Q64.9272 599.941 64.9272 606.816 Q64.9272 609.68 64.3543 612.799 Q63.8132 615.887 62.6992 619.324 L56.6518 619.324 Q58.3387 616.078 59.198 612.927 Q60.0256 609.776 60.0256 606.688 Q60.0256 602.551 58.6251 600.323 Q57.1929 598.095 54.6147 598.095 Q52.2276 598.095 50.9545 599.718 Q49.6813 601.309 48.5037 606.752 L48.0262 608.789 Q46.8804 614.232 44.5251 616.651 Q42.138 619.07 38.0002 619.07 Q32.9713 619.07 30.2341 615.505 Q27.4968 611.94 27.4968 605.383 Q27.4968 602.137 27.9743 599.272 Q28.4517 596.408 29.4065 593.989 Z\" fill=\"#000000\" fill-rule=\"evenodd\" fill-opacity=\"1\" /><path clip-path=\"url(#clip650)\" d=\"M14.479 569.067 L72.5979 569.067 L72.5979 582.562 L68.0464 582.562 L68.0464 574.955 L19.0304 574.955 L19.0304 582.562 L14.479 582.562 L14.479 569.067 Z\" fill=\"#000000\" fill-rule=\"evenodd\" fill-opacity=\"1\" /><polyline clip-path=\"url(#clip652)\" style=\"stroke:#000000; stroke-linecap:butt; stroke-linejoin:round; stroke-width:8; stroke-opacity:1; fill:none\" points=\"\n",
       "  309.067,1384.24 529.53,1384.24 749.992,1384.24 970.455,1384.24 1190.92,1384.24 1411.38,1384.24 1631.84,1384.24 1852.31,1384.24 2072.77,1384.24 2293.23,1384.24 \n",
       "  \n",
       "  \"/>\n",
       "</svg>\n"
      ]
     },
     "metadata": {},
     "output_type": "display_data"
    }
   ],
   "source": [
    "plot(1:n_its*2, G, color=:black, grid=true, linewidth=2, legend=false, xlabel=\"Coordinate Increment\", ylabel=\"GFE [nats]\")"
   ]
  },
  {
   "cell_type": "markdown",
   "metadata": {},
   "source": [
    "# Landscape"
   ]
  },
  {
   "cell_type": "code",
   "execution_count": 7,
   "metadata": {},
   "outputs": [],
   "source": [
    "xs_1 = 0.0:0.1:1.0\n",
    "m = length(xs_1)\n",
    "xs_2 = 0.0:0.1:1.0\n",
    "n = length(xs_2)\n",
    "Gs = zeros(m, n)\n",
    "for i = 1:m\n",
    "    for j = 1:n\n",
    "        data = Dict()\n",
    "\n",
    "        p_x_1 = [xs_1[i], 1.0 - xs_1[i]]\n",
    "        m_x_1 = Distribution(Univariate, Categorical, p=p_x_1)\n",
    "        p_x_2 = [xs_2[j], 1.0 - xs_2[j]]\n",
    "        m_x_2 = Distribution(Univariate, Categorical, p=p_x_2)\n",
    "        marginals = Dict{Symbol, ProbabilityDistribution}(:x_1 => m_x_1, :x_2 => m_x_2)\n",
    "        Gs[i, j] = freeEnergy(data, marginals)\n",
    "    end\n",
    "end"
   ]
  },
  {
   "cell_type": "code",
   "execution_count": 8,
   "metadata": {},
   "outputs": [
    {
     "ename": "UndefRefError",
     "evalue": "UndefRefError: access to undefined reference",
     "output_type": "error",
     "traceback": [
      "UndefRefError: access to undefined reference\n",
      "\n",
      "Stacktrace:\n",
      " [1] getindex\n",
      "   @ .\\array.jl:805 [inlined]\n",
      " [2] iterate (repeats 2 times)\n",
      "   @ .\\array.jl:781 [inlined]\n",
      " [3] top-level scope\n",
      "   @ d:\\Articles\\EpistemicMessagePassing\\src\\FLSimulations\\simple_planning.ipynb:16"
     ]
    }
   ],
   "source": [
    "plt = plot(xs_1,\n",
    "           xs_2,\n",
    "           Gs',\n",
    "           st=:contour,\n",
    "           fill=true,\n",
    "           dpi=100,\n",
    "           aspect_ratio=:equal, \n",
    "           xlim=(-0.01,1.01), \n",
    "           ylim=(-0.01,1.01), \n",
    "           xlabel=\"x_1\",\n",
    "           ylabel=\"x_2\",\n",
    "           title=\"GFE [nats]\")\n",
    "\n",
    "p_1 = [p_0[1]]\n",
    "p_2 = [p_0[2]]\n",
    "for p_k in p\n",
    "    push!(p_1, p_k[1])\n",
    "    push!(p_2, p_k[2])\n",
    "end\n",
    "plot!(p_1, p_2, color=:green, marker=:o, linewidth=2, legend=false)\n",
    "\n",
    "for k=1:n_its*2+1\n",
    "    ann = (p_1[k], p_2[k], text(k-1, 12, :red, :center))\n",
    "    annotate!(ann, linecolor=:red)\n",
    "end\n",
    "\n",
    "plt"
   ]
  }
 ],
 "metadata": {
  "@webio": {
   "lastCommId": "a2bcb982c5944cd58b530bf08df4f47d",
   "lastKernelId": "24c0452e-5458-464f-9023-95b2e0fcac7e"
  },
  "kernelspec": {
   "display_name": "Julia 1.6.4",
   "language": "julia",
   "name": "julia-1.6"
  },
  "language_info": {
   "file_extension": ".jl",
   "mimetype": "application/julia",
   "name": "julia",
   "version": "1.6.4"
  }
 },
 "nbformat": 4,
 "nbformat_minor": 2
}
