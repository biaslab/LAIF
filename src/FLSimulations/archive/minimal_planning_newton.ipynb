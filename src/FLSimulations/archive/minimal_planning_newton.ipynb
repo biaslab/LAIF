{
 "cells": [
  {
   "cell_type": "markdown",
   "metadata": {},
   "source": [
    "# GFE Optimization by Newton's Method"
   ]
  },
  {
   "cell_type": "code",
   "execution_count": 1,
   "metadata": {},
   "outputs": [
    {
     "name": "stderr",
     "output_type": "stream",
     "text": [
      "\u001b[33m\u001b[1m┌ \u001b[22m\u001b[39m\u001b[33m\u001b[1mWarning: \u001b[22m\u001b[39mPackage Compat does not have Base64 in its dependencies:\n",
      "\u001b[33m\u001b[1m│ \u001b[22m\u001b[39m- If you have Compat checked out for development and have\n",
      "\u001b[33m\u001b[1m│ \u001b[22m\u001b[39m  added Base64 as a dependency but haven't updated your primary\n",
      "\u001b[33m\u001b[1m│ \u001b[22m\u001b[39m  environment's manifest file, try `Pkg.resolve()`.\n",
      "\u001b[33m\u001b[1m│ \u001b[22m\u001b[39m- Otherwise you may need to report an issue with Compat\n",
      "\u001b[33m\u001b[1m└ \u001b[22m\u001b[39mLoading Base64 into Compat from project dependency, future warnings for Compat are suppressed.\n"
     ]
    },
    {
     "name": "stderr",
     "output_type": "stream",
     "text": [
      "\u001b[33m\u001b[1m┌ \u001b[22m\u001b[39m\u001b[33m\u001b[1mWarning: \u001b[22m\u001b[39mThe call to compilecache failed to create a usable precompiled cache file for ChainRulesCore [d360d2e6-b24c-11e9-a2a3-2a2ae2dbcce4]\n",
      "\u001b[33m\u001b[1m│ \u001b[22m\u001b[39m  exception = Required dependency Compat [34da2185-b29b-5c13-b0c7-acf172513d20] failed to load from a cache file.\n",
      "\u001b[33m\u001b[1m└ \u001b[22m\u001b[39m\u001b[90m@ Base loading.jl:1055\u001b[39m\n"
     ]
    },
    {
     "name": "stderr",
     "output_type": "stream",
     "text": [
      "\u001b[33m\u001b[1m┌ \u001b[22m\u001b[39m\u001b[33m\u001b[1mWarning: \u001b[22m\u001b[39mPackage Compat does not have Base64 in its dependencies:\n",
      "\u001b[33m\u001b[1m│ \u001b[22m\u001b[39m- If you have Compat checked out for development and have\n",
      "\u001b[33m\u001b[1m│ \u001b[22m\u001b[39m  added Base64 as a dependency but haven't updated your primary\n",
      "\u001b[33m\u001b[1m│ \u001b[22m\u001b[39m  environment's manifest file, try `Pkg.resolve()`.\n",
      "\u001b[33m\u001b[1m│ \u001b[22m\u001b[39m- Otherwise you may need to report an issue with Compat\n",
      "\u001b[33m\u001b[1m└ \u001b[22m\u001b[39mLoading Base64 into Compat from project dependency, future warnings for Compat are suppressed.\n"
     ]
    },
    {
     "name": "stderr",
     "output_type": "stream",
     "text": [
      "\u001b[33m\u001b[1m┌ \u001b[22m\u001b[39m\u001b[33m\u001b[1mWarning: \u001b[22m\u001b[39mModule ChainRulesCore with build ID 17649988584003 is missing from the cache.\n",
      "\u001b[33m\u001b[1m│ \u001b[22m\u001b[39mThis may mean ChainRulesCore [d360d2e6-b24c-11e9-a2a3-2a2ae2dbcce4] does not support precompilation but is imported by a module that does.\n",
      "\u001b[33m\u001b[1m└ \u001b[22m\u001b[39m\u001b[90m@ Base loading.jl:1030\u001b[39m\n"
     ]
    },
    {
     "name": "stderr",
     "output_type": "stream",
     "text": [
      "\u001b[33m\u001b[1m┌ \u001b[22m\u001b[39m\u001b[33m\u001b[1mWarning: \u001b[22m\u001b[39mModule ChainRulesCore with build ID 17649988584003 is missing from the cache.\n",
      "\u001b[33m\u001b[1m│ \u001b[22m\u001b[39mThis may mean ChainRulesCore [d360d2e6-b24c-11e9-a2a3-2a2ae2dbcce4] does not support precompilation but is imported by a module that does.\n",
      "\u001b[33m\u001b[1m└ \u001b[22m\u001b[39m\u001b[90m@ Base loading.jl:1030\u001b[39m\n"
     ]
    },
    {
     "name": "stderr",
     "output_type": "stream",
     "text": [
      "\u001b[33m\u001b[1m┌ \u001b[22m\u001b[39m\u001b[33m\u001b[1mWarning: \u001b[22m\u001b[39mThe call to compilecache failed to create a usable precompiled cache file for SpecialFunctions [276daf66-3868-5448-9aa4-cd146d93841b]\n",
      "\u001b[33m\u001b[1m│ \u001b[22m\u001b[39m  exception = Required dependency Compat [34da2185-b29b-5c13-b0c7-acf172513d20] failed to load from a cache file.\n",
      "\u001b[33m\u001b[1m└ \u001b[22m\u001b[39m\u001b[90m@ Base loading.jl:1055\u001b[39m\n"
     ]
    },
    {
     "name": "stderr",
     "output_type": "stream",
     "text": [
      "\u001b[33m\u001b[1m┌ \u001b[22m\u001b[39m\u001b[33m\u001b[1mWarning: \u001b[22m\u001b[39mPackage Compat does not have Base64 in its dependencies:\n",
      "\u001b[33m\u001b[1m│ \u001b[22m\u001b[39m- If you have Compat checked out for development and have\n",
      "\u001b[33m\u001b[1m│ \u001b[22m\u001b[39m  added Base64 as a dependency but haven't updated your primary\n",
      "\u001b[33m\u001b[1m│ \u001b[22m\u001b[39m  environment's manifest file, try `Pkg.resolve()`.\n",
      "\u001b[33m\u001b[1m│ \u001b[22m\u001b[39m- Otherwise you may need to report an issue with Compat\n",
      "\u001b[33m\u001b[1m└ \u001b[22m\u001b[39mLoading Base64 into Compat from project dependency, future warnings for Compat are suppressed.\n"
     ]
    },
    {
     "name": "stderr",
     "output_type": "stream",
     "text": [
      "\u001b[33m\u001b[1m┌ \u001b[22m\u001b[39m\u001b[33m\u001b[1mWarning: \u001b[22m\u001b[39mThe call to compilecache failed to create a usable precompiled cache file for ChainRulesCore [d360d2e6-b24c-11e9-a2a3-2a2ae2dbcce4]\n",
      "\u001b[33m\u001b[1m│ \u001b[22m\u001b[39m  exception = Required dependency Compat [34da2185-b29b-5c13-b0c7-acf172513d20] failed to load from a cache file.\n",
      "\u001b[33m\u001b[1m└ \u001b[22m\u001b[39m\u001b[90m@ Base loading.jl:1055\u001b[39m\n"
     ]
    },
    {
     "name": "stderr",
     "output_type": "stream",
     "text": [
      "\u001b[33m\u001b[1m┌ \u001b[22m\u001b[39m\u001b[33m\u001b[1mWarning: \u001b[22m\u001b[39mPackage Compat does not have Base64 in its dependencies:\n",
      "\u001b[33m\u001b[1m│ \u001b[22m\u001b[39m- If you have Compat checked out for development and have\n",
      "\u001b[33m\u001b[1m│ \u001b[22m\u001b[39m  added Base64 as a dependency but haven't updated your primary\n",
      "\u001b[33m\u001b[1m│ \u001b[22m\u001b[39m  environment's manifest file, try `Pkg.resolve()`.\n",
      "\u001b[33m\u001b[1m│ \u001b[22m\u001b[39m- Otherwise you may need to report an issue with Compat\n",
      "\u001b[33m\u001b[1m└ \u001b[22m\u001b[39mLoading Base64 into Compat from project dependency, future warnings for Compat are suppressed.\n"
     ]
    },
    {
     "name": "stderr",
     "output_type": "stream",
     "text": [
      "\u001b[33m\u001b[1m┌ \u001b[22m\u001b[39m\u001b[33m\u001b[1mWarning: \u001b[22m\u001b[39mModule ChainRulesCore with build ID 17672661040814 is missing from the cache.\n",
      "\u001b[33m\u001b[1m│ \u001b[22m\u001b[39mThis may mean ChainRulesCore [d360d2e6-b24c-11e9-a2a3-2a2ae2dbcce4] does not support precompilation but is imported by a module that does.\n",
      "\u001b[33m\u001b[1m└ \u001b[22m\u001b[39m\u001b[90m@ Base loading.jl:1030\u001b[39m\n"
     ]
    },
    {
     "name": "stderr",
     "output_type": "stream",
     "text": [
      "\u001b[33m\u001b[1m┌ \u001b[22m\u001b[39m\u001b[33m\u001b[1mWarning: \u001b[22m\u001b[39mModule ChainRulesCore with build ID 17672661040814 is missing from the cache.\n",
      "\u001b[33m\u001b[1m│ \u001b[22m\u001b[39mThis may mean ChainRulesCore [d360d2e6-b24c-11e9-a2a3-2a2ae2dbcce4] does not support precompilation but is imported by a module that does.\n",
      "\u001b[33m\u001b[1m└ \u001b[22m\u001b[39m\u001b[90m@ Base loading.jl:1030\u001b[39m\n"
     ]
    },
    {
     "name": "stderr",
     "output_type": "stream",
     "text": [
      "┌ Warning: The call to compilecache failed to create a usable precompiled cache file for ForwardDiff [f6369f11-7733-5829-9624-2563aa707210]\n",
      "│   exception = ErrorException(\"Required dependency Compat [34da2185-b29b-5c13-b0c7-acf172513d20] failed to load from a cache file.\")\n",
      "└ @ Base loading.jl:1055\n"
     ]
    },
    {
     "name": "stderr",
     "output_type": "stream",
     "text": [
      "\u001b[33m\u001b[1m┌ \u001b[22m\u001b[39m\u001b[33m\u001b[1mWarning: \u001b[22m\u001b[39mPackage Compat does not have Base64 in its dependencies:\n",
      "\u001b[33m\u001b[1m│ \u001b[22m\u001b[39m- If you have Compat checked out for development and have\n",
      "\u001b[33m\u001b[1m│ \u001b[22m\u001b[39m  added Base64 as a dependency but haven't updated your primary\n",
      "\u001b[33m\u001b[1m│ \u001b[22m\u001b[39m  environment's manifest file, try `Pkg.resolve()`.\n",
      "\u001b[33m\u001b[1m│ \u001b[22m\u001b[39m- Otherwise you may need to report an issue with Compat\n",
      "\u001b[33m\u001b[1m└ \u001b[22m\u001b[39mLoading Base64 into Compat from project dependency, future warnings for Compat are suppressed.\n"
     ]
    }
   ],
   "source": [
    "using LinearAlgebra\n",
    "using PositiveFactorizations\n",
    "using ForwardDiff: jacobian\n",
    "using Plots\n",
    "\n",
    "function softmax(v::Vector)\n",
    "    r = v .- maximum(v)\n",
    "    clamp!(r, -100.0, 0.0)\n",
    "    exp.(r)./sum(exp.(r))\n",
    "end\n",
    "\n",
    "tiny = 1e-12\n",
    ";"
   ]
  },
  {
   "cell_type": "markdown",
   "metadata": {},
   "source": [
    "# Model"
   ]
  },
  {
   "cell_type": "code",
   "execution_count": null,
   "metadata": {},
   "outputs": [],
   "source": [
    "A = [0.99 0.01; \n",
    "     0.01 0.99]\n",
    "\n",
    "c = [0.5, 0.5]\n",
    "\n",
    "d = [0.01, 0.99]\n",
    "\n",
    "s_0 = [0.9, 0.1] # Initial coordinate\n",
    "\n",
    "g(s) = s - softmax(log.(d .+ tiny) + diag(A'*log.(A) .+ tiny) + A'*log.(c .+ tiny) - A'*log.(A*s .+ tiny)) # Convert fixed-point equation to root-finding problem\n",
    "F(s) = -s'*log.(d .+ tiny) + s'*log.(s .+ tiny) - s'*diag(A'*log.(A) .+ tiny) - (A*s)'*log.(c .+ tiny) + (A*s)'*log.(A*s .+ tiny)\n",
    ";"
   ]
  },
  {
   "cell_type": "markdown",
   "metadata": {},
   "source": [
    "# Results"
   ]
  },
  {
   "cell_type": "code",
   "execution_count": null,
   "metadata": {},
   "outputs": [],
   "source": [
    "n_its = 5\n",
    "G = zeros(n_its)\n",
    "p = Vector{Float64}(undef, n_its) # Coordinates\n",
    "\n",
    "G_0 = F(s_0)\n",
    "s_k_min = s_0\n",
    "for k=1:n_its\n",
    "    s_k = s_k_min - inv(jacobian(g, s_k_min))*g(s_k_min) # Newton step for multivariate root finding\n",
    "\n",
    "    p[k] = s_k[1]\n",
    "    G[k] = F(s_k)\n",
    "\n",
    "    s_k_min = s_k\n",
    "end"
   ]
  },
  {
   "cell_type": "code",
   "execution_count": null,
   "metadata": {},
   "outputs": [],
   "source": [
    "plot(0:n_its, [G_0; G], color=:black, grid=true, linewidth=2, legend=false, xlabel=\"Coordinate Increment\", ylabel=\"GFE [nats]\")"
   ]
  },
  {
   "cell_type": "markdown",
   "metadata": {},
   "source": [
    "# Landscape"
   ]
  },
  {
   "cell_type": "code",
   "execution_count": null,
   "metadata": {},
   "outputs": [],
   "source": [
    "ps = 0.0:0.05:1.0\n",
    "m = length(ps)\n",
    "Gs = zeros(m)\n",
    "for i = 1:m\n",
    "    Gs[i] = F([ps[i], 1.0-ps[i]])\n",
    "end"
   ]
  },
  {
   "cell_type": "code",
   "execution_count": null,
   "metadata": {},
   "outputs": [],
   "source": [
    "plt = plot(ps,\n",
    "           Gs,\n",
    "           dpi=100,\n",
    "           xlabel=\"s\",\n",
    "           ylabel=\"GFE [nats]\", color=:black, linewidth=2)\n",
    "\n",
    "p_0 = s_0[1]\n",
    "plot!([p_0; p], [G_0; G], color=:green, marker=:o, linewidth=2, legend=false)\n",
    "\n",
    "for k=1:n_its+1\n",
    "    ann = ([p_0; p][k], [G_0; G][k], text(k-1, 12, :red, :center))\n",
    "    annotate!(ann, linecolor=:red)\n",
    "end\n",
    "\n",
    "plt"
   ]
  }
 ],
 "metadata": {
  "@webio": {
   "lastCommId": "a2bcb982c5944cd58b530bf08df4f47d",
   "lastKernelId": "24c0452e-5458-464f-9023-95b2e0fcac7e"
  },
  "kernelspec": {
   "display_name": "Julia 1.6.4",
   "language": "julia",
   "name": "julia-1.6"
  },
  "language_info": {
   "file_extension": ".jl",
   "mimetype": "application/julia",
   "name": "julia",
   "version": "1.6.4"
  },
  "vscode": {
   "interpreter": {
    "hash": "31b90ea2ee662646d8e5466ef4be593ab702f85e022a25e857ef13a3c4d04a00"
   }
  }
 },
 "nbformat": 4,
 "nbformat_minor": 2
}
