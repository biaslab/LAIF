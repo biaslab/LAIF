{
 "cells": [
  {
   "cell_type": "markdown",
   "metadata": {},
   "source": [
    "# T-Maze Inference for Planning with GFE\n",
    "\n",
    "This notebook reports the GFE for all policies for a variety of scenarios."
   ]
  },
  {
   "cell_type": "code",
   "execution_count": 43,
   "metadata": {},
   "outputs": [],
   "source": [
    "using LinearAlgebra\n",
    "using ForneyLab\n",
    "using Plots\n",
    "\n",
    "import ForneyLab: collectNaiveVariationalNodeInbounds\n",
    "\n",
    "# T-maze layout\n",
    "# [2| |3]\n",
    "#   | |\n",
    "#   |1|\n",
    "#   |4|\n",
    "\n",
    "include(\"factor_nodes/GFECategorical.jl\")\n",
    "include(\"update_rules/GFECategorical.jl\")"
   ]
  },
  {
   "cell_type": "markdown",
   "metadata": {},
   "source": [
    "# Model"
   ]
  },
  {
   "cell_type": "code",
   "execution_count": 44,
   "metadata": {},
   "outputs": [],
   "source": [
    "T = 2\n",
    "\n",
    "fg = FactorGraph()\n",
    "\n",
    "u = Vector{Variable}(undef, T)\n",
    "x = Vector{Variable}(undef, T)\n",
    "\n",
    "@RV x_t_min ~ Categorical(placeholder(:D_t_min, dims=(8,)))\n",
    "\n",
    "x_k_min = x_t_min\n",
    "for k=1:T\n",
    "    @RV u[k]\n",
    "    @RV x[k] ~ Transition(x_k_min, u[k])\n",
    "\n",
    "    placeholder(u[k], :u, index=k, dims=(8,8))\n",
    "    GFECategorical(x[k], \n",
    "                   placeholder(:A, dims=(16,8), var_id=:A_*k), \n",
    "                   placeholder(:C, dims=(16,), index=k, var_id=:C_*k))\n",
    "    \n",
    "    x_k_min = x[k]\n",
    "end\n",
    ";"
   ]
  },
  {
   "cell_type": "code",
   "execution_count": 45,
   "metadata": {},
   "outputs": [],
   "source": [
    "q = PosteriorFactorization(fg)\n",
    "algo = messagePassingAlgorithm(q, free_energy=true)\n",
    "code = algorithmSourceCode(algo, free_energy=true)\n",
    "eval(Meta.parse(code))\n",
    ";"
   ]
  },
  {
   "cell_type": "markdown",
   "metadata": {},
   "source": [
    "# Results"
   ]
  },
  {
   "cell_type": "code",
   "execution_count": 48,
   "metadata": {},
   "outputs": [],
   "source": [
    "# Reward probability and utility, uncomment scenario of interest\n",
    "α = 0.9; c = 2.0\n",
    "# α = 0.5; c = 2.0\n",
    "# α = 0.9; c = 0.0\n",
    "# α = 1.0; c = 2.0\n",
    "\n",
    "include(\"environment.jl\")\n",
    "include(\"agent.jl\")\n",
    "include(\"helpers.jl\")\n",
    "\n",
    "(A, B, C, D) = constructABCD(α, c)\n",
    ";"
   ]
  },
  {
   "cell_type": "markdown",
   "metadata": {},
   "source": [
    "## Constrained results"
   ]
  },
  {
   "cell_type": "code",
   "execution_count": 49,
   "metadata": {},
   "outputs": [],
   "source": [
    "GFE = evaluatePolicies(A, B, C, D)\n",
    "plotResults(CBFE, clim=(7.0,12.0), dpi=300, highlight=minimum)\n",
    "savefig(\"figures/GFE_c_$(c)_a_$(α).png\")"
   ]
  }
 ],
 "metadata": {
  "@webio": {
   "lastCommId": "a2bcb982c5944cd58b530bf08df4f47d",
   "lastKernelId": "24c0452e-5458-464f-9023-95b2e0fcac7e"
  },
  "kernelspec": {
   "display_name": "Julia 1.6.4",
   "language": "julia",
   "name": "julia-1.6"
  },
  "language_info": {
   "file_extension": ".jl",
   "mimetype": "application/julia",
   "name": "julia",
   "version": "1.6.4"
  }
 },
 "nbformat": 4,
 "nbformat_minor": 2
}
