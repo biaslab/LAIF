{
 "cells": [
  {
   "attachments": {},
   "cell_type": "markdown",
   "metadata": {},
   "source": [
    "# T-Maze Interactive Simulation\n",
    "\n",
    "This notebook executes the action-perception loop for a discrete SSM."
   ]
  },
  {
   "cell_type": "code",
   "execution_count": 1,
   "metadata": {},
   "outputs": [
    {
     "name": "stderr",
     "output_type": "stream",
     "text": [
      "\u001b[32m\u001b[1m  Activating\u001b[22m\u001b[39m project at `c:\\Simulations\\EpistemicMessagePassing`\n"
     ]
    }
   ],
   "source": [
    "using Pkg\n",
    "Pkg.activate(\"../..\")\n",
    "# Pkg.instantiate()"
   ]
  },
  {
   "cell_type": "code",
   "execution_count": 2,
   "metadata": {},
   "outputs": [],
   "source": [
    "using LinearAlgebra\n",
    "using ForneyLab\n",
    "using Plots\n",
    "using ForwardDiff: hessian\n",
    "using ProgressMeter\n",
    "\n",
    "# T-maze layout\n",
    "# [2| |3]\n",
    "#   | |\n",
    "#   |1|\n",
    "#   |4|\n",
    "\n",
    "include(\"factor_nodes/discrete_observation.jl\")\n",
    "include(\"update_rules/discrete_observation.jl\")\n",
    ";"
   ]
  },
  {
   "attachments": {},
   "cell_type": "markdown",
   "metadata": {},
   "source": [
    "# Generative Model"
   ]
  },
  {
   "cell_type": "code",
   "execution_count": 3,
   "metadata": {},
   "outputs": [],
   "source": [
    "fg = FactorGraph()\n",
    "\n",
    "u = Vector{Variable}(undef, 2)\n",
    "x = Vector{Variable}(undef, 2)\n",
    "y = Vector{Variable}(undef, 2)\n",
    "\n",
    "@RV x_0 ~ Categorical(placeholder(:D_s, dims=(8,)))\n",
    "@RV A ~ Dirichlet(placeholder(:A_s, dims=(16,8)))\n",
    "\n",
    "x_k_min = x_0\n",
    "for k=1:2\n",
    "    @RV u[k]\n",
    "    @RV x[k] ~ Transition(x_k_min, u[k])\n",
    "    placeholder(u[k], :u, index=k, dims=(8,8))\n",
    "    @RV y[k] ~ DiscreteObservation{Generalized}(x[k], A, # Choose Generalized or Bethe constraint\n",
    "                   placeholder(:C, dims=(16,), var_id=:C_*k),\n",
    "                   n_factors=8)\n",
    "    \n",
    "    x_k_min = x[k] # For next slice\n",
    "end\n",
    ";"
   ]
  },
  {
   "cell_type": "markdown",
   "metadata": {},
   "source": [
    "# Algorithm"
   ]
  },
  {
   "cell_type": "code",
   "execution_count": 4,
   "metadata": {},
   "outputs": [],
   "source": [
    "q = PosteriorFactorization(y, [x_0; x], A, ids=[:Y, :X, :A])\n",
    "algo = messagePassingAlgorithm(q, free_energy=true)\n",
    "code = algorithmSourceCode(algo, free_energy=true)\n",
    "initX() = Array{Message}(undef, 9) # Predefine\n",
    "eval(Meta.parse(code)) # Overwrites initX for Generalized constraint\n",
    ";"
   ]
  },
  {
   "cell_type": "code",
   "execution_count": 5,
   "metadata": {},
   "outputs": [],
   "source": [
    "# println(code)"
   ]
  },
  {
   "attachments": {},
   "cell_type": "markdown",
   "metadata": {},
   "source": [
    "## Action-Perception Loop"
   ]
  },
  {
   "cell_type": "code",
   "execution_count": 6,
   "metadata": {},
   "outputs": [
    {
     "name": "stderr",
     "output_type": "stream",
     "text": [
      "\u001b[32mProgress: 100%|█████████████████████████████████████████| Time: 0:58:53\u001b[39m\n"
     ]
    }
   ],
   "source": [
    "α = 0.9; c = 2.0 # Reward probability and utility\n",
    "S = 30 # Number of trials\n",
    "R = 100 # Number of runs\n",
    "seed = 1234 # Randomizer seed\n",
    "\n",
    "include(\"helpers.jl\")\n",
    "include(\"environment.jl\")\n",
    "include(\"agent.jl\")\n",
    "include(\"visualizations.jl\")\n",
    "\n",
    "(A, B, C, D) = constructABCD(α, c)\n",
    "(A_0, D_0) = constructPriors() # Construct prior statistics for A and D\n",
    "\n",
    "wins = [Vector{Float64}(undef, S) for ri=1:R]\n",
    "\n",
    "@showprogress for ri=1:R\n",
    "    rs = generateGoalSequence(S) # Returns random goal sequence\n",
    "    (reset, execute, observe) = initializeWorld(A, B, C, D, rs) # Let there be a world\n",
    "    (infer, act) = initializeAgent(A_0, B, C, D_0) # Let there be a constrained agent\n",
    "\n",
    "    # Step through the experimental protocol\n",
    "    As = Vector{Matrix}(undef, S) # Posterior statistics for A\n",
    "    Gs = [Vector{Matrix}(undef, 3) for s=1:S] # Free energy values per time\n",
    "    as = [Vector{Int64}(undef, 2) for s=1:S] # Actions per time\n",
    "    os = [Vector{Vector}(undef, 2) for s=1:S] # Observations (one-hot) per time\n",
    "    for s = 1:S\n",
    "        reset(s) # Reset world\n",
    "        for t=1:2\n",
    "            (Gs[s][t], _) = infer(t, as[s], os[s])\n",
    "                 as[s][t] = act(t, Gs[s][t])\n",
    "                            execute(as[s][t])\n",
    "                 os[s][t] = observe()\n",
    "        end\n",
    "        (Gs[s][3], As[s]) = infer(3, as[s], os[s]) # Learn at t=3\n",
    "    end\n",
    "    wins[ri] = extractWins(os)\n",
    "end\n",
    ";"
   ]
  },
  {
   "cell_type": "code",
   "execution_count": 7,
   "metadata": {},
   "outputs": [],
   "source": [
    "using FileIO, JLD2\n",
    "FileIO.save(\"figures/wins.jld2\",\"wins\",wins,\"R\",R,\"S\",S)"
   ]
  },
  {
   "cell_type": "markdown",
   "metadata": {},
   "source": [
    "# Results"
   ]
  },
  {
   "cell_type": "code",
   "execution_count": 10,
   "metadata": {},
   "outputs": [],
   "source": [
    "# Load data from file\n",
    "using FileIO, JLD2\n",
    "pairs = FileIO.load(\"figures/wins.jld2\")\n",
    "wins = pairs[\"wins\"]\n",
    "R = pairs[\"R\"]\n",
    "S = pairs[\"S\"]\n",
    ";"
   ]
  },
  {
   "cell_type": "code",
   "execution_count": 25,
   "metadata": {},
   "outputs": [],
   "source": [
    "# Plot average wins per trial\n",
    "ms = mean(wins)\n",
    "\n",
    "plot(1:S, ms, ylim=(0,1),\n",
    "     dpi=300,\n",
    "     size=(400,250),\n",
    "     color=:black, \n",
    "     lw=2, \n",
    "     legend=false, \n",
    "     xlabel=\"Simulation Trial (s)\", \n",
    "     ylabel=\"Win Average\")\n",
    "\n",
    "savefig(\"figures/GFE_wins.png\")"
   ]
  },
  {
   "cell_type": "code",
   "execution_count": 24,
   "metadata": {},
   "outputs": [],
   "source": [
    "# Plot histogram for number of wins per run\n",
    "histogram(sum.(wins), bins=0:3:30, \n",
    "          dpi=300,\n",
    "          size=(400,250),\n",
    "          color=:gray, \n",
    "          legend=false, \n",
    "          xlabel=\"Wins per Run\", \n",
    "          ylabel=\"Run Count\")\n",
    "\n",
    "savefig(\"figures/GFE_hist.png\")"
   ]
  },
  {
   "cell_type": "code",
   "execution_count": null,
   "metadata": {},
   "outputs": [],
   "source": []
  }
 ],
 "metadata": {
  "@webio": {
   "lastCommId": null,
   "lastKernelId": null
  },
  "kernelspec": {
   "display_name": "Julia 1.8.2",
   "language": "julia",
   "name": "julia-1.8"
  },
  "language_info": {
   "file_extension": ".jl",
   "mimetype": "application/julia",
   "name": "julia",
   "version": "1.8.2"
  }
 },
 "nbformat": 4,
 "nbformat_minor": 2
}
